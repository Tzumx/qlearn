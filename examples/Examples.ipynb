{
 "cells": [
  {
   "cell_type": "code",
   "execution_count": 1,
   "metadata": {},
   "outputs": [
    {
     "name": "stdout",
     "output_type": "stream",
     "text": [
      "Reloaded /usr/local/envs/ira_p36/lib/python3.6/site-packages/ira/experimental/c_simulator_core.pyx\n"
     ]
    },
    {
     "data": {
      "text/html": [
       "<pre style=\"white-space:pre;overflow-x:auto;line-height:normal;font-family:Menlo,'DejaVu Sans Mono',consolas,'Courier New',monospace\"><span style=\"font-weight: bold\">(</span>c<span style=\"font-weight: bold\">)</span> <span style=\"color: #008000; font-weight: bold\">2017</span>, AppliedAlpha Infrastructure for Quantitative Research and Analysis, ver. master: \n",
       "<span style=\"color: #008000; font-weight: bold\">0.1433</span>\n",
       "</pre>\n"
      ],
      "text/plain": [
       "<rich.jupyter.JupyterRenderable at 0x7f1d3da64278>"
      ]
     },
     "metadata": {},
     "output_type": "display_data"
    }
   ],
   "source": [
    "import ira\n",
    "from sklearn.model_selection import TimeSeriesSplit, StratifiedKFold, GridSearchCV, GroupKFold\n",
    "from sklearn.base import TransformerMixin\n",
    "from sklearn.pipeline import make_pipeline\n",
    "\n",
    "%alphalab dark\n",
    "\n",
    "from alpha.utils.data_helpers import FriendlyFxLoader, make_forward_returns_matrix\n",
    "\n",
    "from qlearn.core.pickers import SingleInstrumentPicker, PortfolioPicker\n",
    "from qlearn.core.forward_returns import ForwardReturns, ForwardReturnsDirection, ForwardReturns3Classes\n",
    "from qlearn.core.base import BasicMarketEstimator, MarketDataComposer\n",
    "from qlearn.core.utils import crossup, crossdown, permutate_params"
   ]
  },
  {
   "cell_type": "code",
   "execution_count": 2,
   "metadata": {},
   "outputs": [],
   "source": [
    "fxl = FriendlyFxLoader('dukas @ 5Min')\n",
    "data = fxl.ohlcs(['EURUSD', 'GBPUSD', 'USDCHF'])\n",
    "ext = fxl.externals(['EURUSD', 'GBPUSD'])\n",
    "\n",
    "df1 = scols(*data.values(), keys=data.keys())\n",
    "df2 = data\n",
    "df3 = data['EURUSD']"
   ]
  },
  {
   "cell_type": "code",
   "execution_count": 3,
   "metadata": {},
   "outputs": [],
   "source": [
    "with DataSource('databank_ads::quotes') as ds:\n",
    "    ticks = ds.load_data(['MT5_PROXY:NDXM', 'MT5_PROXY:ENQ', 'MT5_PROXY:EP'], '2020-11-19 00:00', '2020-12-03 12:00')"
   ]
  },
  {
   "cell_type": "markdown",
   "metadata": {},
   "source": [
    "<hr/>\n",
    "How to iterate through every symbol in market data\n",
    "<hr/>"
   ]
  },
  {
   "cell_type": "code",
   "execution_count": 4,
   "metadata": {},
   "outputs": [
    {
     "data": {
      "text/html": [
       "<pre style=\"white-space:pre;overflow-x:auto;line-height:normal;font-family:Menlo,'DejaVu Sans Mono',consolas,'Courier New',monospace\">GBPUSD                 open      high       low     close    volume\n",
       "time                                                        \n",
       "<span style=\"color: #008000; font-weight: bold\">2014</span>-<span style=\"color: #008000; font-weight: bold\">01</span>-<span style=\"color: #008000; font-weight: bold\">01</span>  <span style=\"color: #008000; font-weight: bold\">1.656550</span>  <span style=\"color: #008000; font-weight: bold\">1.659245</span>  <span style=\"color: #008000; font-weight: bold\">1.655980</span>  <span style=\"color: #008000; font-weight: bold\">1.657745</span>    <span style=\"color: #008000; font-weight: bold\">1561.0</span>\n",
       "<span style=\"color: #008000; font-weight: bold\">2014</span>-<span style=\"color: #008000; font-weight: bold\">01</span>-<span style=\"color: #008000; font-weight: bold\">02</span>  <span style=\"color: #008000; font-weight: bold\">1.657720</span>  <span style=\"color: #008000; font-weight: bold\">1.660340</span>  <span style=\"color: #008000; font-weight: bold\">1.641165</span>  <span style=\"color: #008000; font-weight: bold\">1.644900</span>   <span style=\"color: #008000; font-weight: bold\">71502.0</span>\n",
       "<span style=\"color: #008000; font-weight: bold\">2014</span>-<span style=\"color: #008000; font-weight: bold\">01</span>-<span style=\"color: #008000; font-weight: bold\">03</span>  <span style=\"color: #008000; font-weight: bold\">1.644910</span>  <span style=\"color: #008000; font-weight: bold\">1.647395</span>  <span style=\"color: #008000; font-weight: bold\">1.639545</span>  <span style=\"color: #008000; font-weight: bold\">1.641865</span>   <span style=\"color: #008000; font-weight: bold\">58463.0</span>\n",
       "<span style=\"color: #008000; font-weight: bold\">2014</span>-<span style=\"color: #008000; font-weight: bold\">01</span>-<span style=\"color: #008000; font-weight: bold\">05</span>  <span style=\"color: #008000; font-weight: bold\">1.640405</span>  <span style=\"color: #008000; font-weight: bold\">1.641650</span>  <span style=\"color: #008000; font-weight: bold\">1.639955</span>  <span style=\"color: #008000; font-weight: bold\">1.641155</span>    <span style=\"color: #008000; font-weight: bold\">1981.0</span>\n",
       "<span style=\"color: #008000; font-weight: bold\">2014</span>-<span style=\"color: #008000; font-weight: bold\">01</span>-<span style=\"color: #008000; font-weight: bold\">06</span>  <span style=\"color: #008000; font-weight: bold\">1.641170</span>  <span style=\"color: #008000; font-weight: bold\">1.643390</span>  <span style=\"color: #008000; font-weight: bold\">1.633760</span>  <span style=\"color: #008000; font-weight: bold\">1.641350</span>   <span style=\"color: #008000; font-weight: bold\">59532.0</span>\n",
       "<span style=\"color: #808000\">...</span>              <span style=\"color: #808000\">...</span>       <span style=\"color: #808000\">...</span>       <span style=\"color: #808000\">...</span>       <span style=\"color: #808000\">...</span>       <span style=\"color: #808000\">...</span>\n",
       "<span style=\"color: #008000; font-weight: bold\">2020</span>-<span style=\"color: #008000; font-weight: bold\">11</span>-<span style=\"color: #008000; font-weight: bold\">22</span>  <span style=\"color: #008000; font-weight: bold\">1.329490</span>  <span style=\"color: #008000; font-weight: bold\">1.330490</span>  <span style=\"color: #008000; font-weight: bold\">1.328105</span>  <span style=\"color: #008000; font-weight: bold\">1.330370</span>    <span style=\"color: #008000; font-weight: bold\">4302.0</span>\n",
       "<span style=\"color: #008000; font-weight: bold\">2020</span>-<span style=\"color: #008000; font-weight: bold\">11</span>-<span style=\"color: #008000; font-weight: bold\">23</span>  <span style=\"color: #008000; font-weight: bold\">1.330350</span>  <span style=\"color: #008000; font-weight: bold\">1.339780</span>  <span style=\"color: #008000; font-weight: bold\">1.326390</span>  <span style=\"color: #008000; font-weight: bold\">1.332640</span>   <span style=\"color: #008000; font-weight: bold\">97513.0</span>\n",
       "<span style=\"color: #008000; font-weight: bold\">2020</span>-<span style=\"color: #008000; font-weight: bold\">11</span>-<span style=\"color: #008000; font-weight: bold\">24</span>  <span style=\"color: #008000; font-weight: bold\">1.332635</span>  <span style=\"color: #008000; font-weight: bold\">1.338050</span>  <span style=\"color: #008000; font-weight: bold\">1.329310</span>  <span style=\"color: #008000; font-weight: bold\">1.336175</span>  <span style=\"color: #008000; font-weight: bold\">100896.0</span>\n",
       "<span style=\"color: #008000; font-weight: bold\">2020</span>-<span style=\"color: #008000; font-weight: bold\">11</span>-<span style=\"color: #008000; font-weight: bold\">25</span>  <span style=\"color: #008000; font-weight: bold\">1.336185</span>  <span style=\"color: #008000; font-weight: bold\">1.339350</span>  <span style=\"color: #008000; font-weight: bold\">1.330415</span>  <span style=\"color: #008000; font-weight: bold\">1.338340</span>  <span style=\"color: #008000; font-weight: bold\">102676.0</span>\n",
       "<span style=\"color: #008000; font-weight: bold\">2020</span>-<span style=\"color: #008000; font-weight: bold\">11</span>-<span style=\"color: #008000; font-weight: bold\">26</span>  <span style=\"color: #008000; font-weight: bold\">1.338355</span>  <span style=\"color: #008000; font-weight: bold\">1.339795</span>  <span style=\"color: #008000; font-weight: bold\">1.332215</span>  <span style=\"color: #008000; font-weight: bold\">1.335360</span>   <span style=\"color: #008000; font-weight: bold\">70479.0</span>\n",
       "\n",
       "<span style=\"font-weight: bold\">[</span><span style=\"color: #008000; font-weight: bold\">2155</span> rows x <span style=\"color: #008000; font-weight: bold\">5</span> columns<span style=\"font-weight: bold\">]</span>\n",
       "</pre>\n"
      ],
      "text/plain": [
       "<rich.jupyter.JupyterRenderable at 0x7f1d3c207f98>"
      ]
     },
     "metadata": {},
     "output_type": "display_data"
    },
    {
     "data": {
      "text/html": [
       "<pre style=\"white-space:pre;overflow-x:auto;line-height:normal;font-family:Menlo,'DejaVu Sans Mono',consolas,'Courier New',monospace\"><span style=\"color: #800000\">===================</span>\n",
       "</pre>\n"
      ],
      "text/plain": [
       "<rich.jupyter.JupyterRenderable at 0x7f1d3c2077f0>"
      ]
     },
     "metadata": {},
     "output_type": "display_data"
    },
    {
     "data": {
      "text/html": [
       "<pre style=\"white-space:pre;overflow-x:auto;line-height:normal;font-family:Menlo,'DejaVu Sans Mono',consolas,'Courier New',monospace\">USDCHF                 open      high       low     close   volume\n",
       "time                                                       \n",
       "<span style=\"color: #008000; font-weight: bold\">2014</span>-<span style=\"color: #008000; font-weight: bold\">01</span>-<span style=\"color: #008000; font-weight: bold\">01</span>  <span style=\"color: #008000; font-weight: bold\">0.891710</span>  <span style=\"color: #008000; font-weight: bold\">0.892855</span>  <span style=\"color: #008000; font-weight: bold\">0.891315</span>  <span style=\"color: #008000; font-weight: bold\">0.891575</span>   <span style=\"color: #008000; font-weight: bold\">1690.0</span>\n",
       "<span style=\"color: #008000; font-weight: bold\">2014</span>-<span style=\"color: #008000; font-weight: bold\">01</span>-<span style=\"color: #008000; font-weight: bold\">02</span>  <span style=\"color: #008000; font-weight: bold\">0.891595</span>  <span style=\"color: #008000; font-weight: bold\">0.902870</span>  <span style=\"color: #008000; font-weight: bold\">0.890875</span>  <span style=\"color: #008000; font-weight: bold\">0.899275</span>  <span style=\"color: #008000; font-weight: bold\">67356.0</span>\n",
       "<span style=\"color: #008000; font-weight: bold\">2014</span>-<span style=\"color: #008000; font-weight: bold\">01</span>-<span style=\"color: #008000; font-weight: bold\">03</span>  <span style=\"color: #008000; font-weight: bold\">0.899285</span>  <span style=\"color: #008000; font-weight: bold\">0.905785</span>  <span style=\"color: #008000; font-weight: bold\">0.898945</span>  <span style=\"color: #008000; font-weight: bold\">0.905170</span>  <span style=\"color: #008000; font-weight: bold\">49271.0</span>\n",
       "<span style=\"color: #008000; font-weight: bold\">2014</span>-<span style=\"color: #008000; font-weight: bold\">01</span>-<span style=\"color: #008000; font-weight: bold\">05</span>  <span style=\"color: #008000; font-weight: bold\">0.904975</span>  <span style=\"color: #008000; font-weight: bold\">0.905530</span>  <span style=\"color: #008000; font-weight: bold\">0.904295</span>  <span style=\"color: #008000; font-weight: bold\">0.905325</span>   <span style=\"color: #008000; font-weight: bold\">1597.0</span>\n",
       "<span style=\"color: #008000; font-weight: bold\">2014</span>-<span style=\"color: #008000; font-weight: bold\">01</span>-<span style=\"color: #008000; font-weight: bold\">06</span>  <span style=\"color: #008000; font-weight: bold\">0.905320</span>  <span style=\"color: #008000; font-weight: bold\">0.907040</span>  <span style=\"color: #008000; font-weight: bold\">0.902025</span>  <span style=\"color: #008000; font-weight: bold\">0.903935</span>  <span style=\"color: #008000; font-weight: bold\">49053.0</span>\n",
       "<span style=\"color: #808000\">...</span>              <span style=\"color: #808000\">...</span>       <span style=\"color: #808000\">...</span>       <span style=\"color: #808000\">...</span>       <span style=\"color: #808000\">...</span>      <span style=\"color: #808000\">...</span>\n",
       "<span style=\"color: #008000; font-weight: bold\">2020</span>-<span style=\"color: #008000; font-weight: bold\">11</span>-<span style=\"color: #008000; font-weight: bold\">22</span>  <span style=\"color: #008000; font-weight: bold\">0.911250</span>  <span style=\"color: #008000; font-weight: bold\">0.911515</span>  <span style=\"color: #008000; font-weight: bold\">0.910615</span>  <span style=\"color: #008000; font-weight: bold\">0.910655</span>   <span style=\"color: #008000; font-weight: bold\">2576.0</span>\n",
       "<span style=\"color: #008000; font-weight: bold\">2020</span>-<span style=\"color: #008000; font-weight: bold\">11</span>-<span style=\"color: #008000; font-weight: bold\">23</span>  <span style=\"color: #008000; font-weight: bold\">0.910660</span>  <span style=\"color: #008000; font-weight: bold\">0.914805</span>  <span style=\"color: #008000; font-weight: bold\">0.907630</span>  <span style=\"color: #008000; font-weight: bold\">0.912490</span>  <span style=\"color: #008000; font-weight: bold\">48958.0</span>\n",
       "<span style=\"color: #008000; font-weight: bold\">2020</span>-<span style=\"color: #008000; font-weight: bold\">11</span>-<span style=\"color: #008000; font-weight: bold\">24</span>  <span style=\"color: #008000; font-weight: bold\">0.912445</span>  <span style=\"color: #008000; font-weight: bold\">0.913660</span>  <span style=\"color: #008000; font-weight: bold\">0.909790</span>  <span style=\"color: #008000; font-weight: bold\">0.910955</span>  <span style=\"color: #008000; font-weight: bold\">49340.0</span>\n",
       "<span style=\"color: #008000; font-weight: bold\">2020</span>-<span style=\"color: #008000; font-weight: bold\">11</span>-<span style=\"color: #008000; font-weight: bold\">25</span>  <span style=\"color: #008000; font-weight: bold\">0.910950</span>  <span style=\"color: #008000; font-weight: bold\">0.913915</span>  <span style=\"color: #008000; font-weight: bold\">0.907805</span>  <span style=\"color: #008000; font-weight: bold\">0.908235</span>  <span style=\"color: #008000; font-weight: bold\">57301.0</span>\n",
       "<span style=\"color: #008000; font-weight: bold\">2020</span>-<span style=\"color: #008000; font-weight: bold\">11</span>-<span style=\"color: #008000; font-weight: bold\">26</span>  <span style=\"color: #008000; font-weight: bold\">0.908200</span>  <span style=\"color: #008000; font-weight: bold\">0.909355</span>  <span style=\"color: #008000; font-weight: bold\">0.906040</span>  <span style=\"color: #008000; font-weight: bold\">0.906550</span>  <span style=\"color: #008000; font-weight: bold\">39572.0</span>\n",
       "\n",
       "<span style=\"font-weight: bold\">[</span><span style=\"color: #008000; font-weight: bold\">2155</span> rows x <span style=\"color: #008000; font-weight: bold\">5</span> columns<span style=\"font-weight: bold\">]</span>\n",
       "</pre>\n"
      ],
      "text/plain": [
       "<rich.jupyter.JupyterRenderable at 0x7f1d3c207748>"
      ]
     },
     "metadata": {},
     "output_type": "display_data"
    },
    {
     "data": {
      "text/html": [
       "<pre style=\"white-space:pre;overflow-x:auto;line-height:normal;font-family:Menlo,'DejaVu Sans Mono',consolas,'Courier New',monospace\"><span style=\"color: #800000\">===================</span>\n",
       "</pre>\n"
      ],
      "text/plain": [
       "<rich.jupyter.JupyterRenderable at 0x7f1d3c219940>"
      ]
     },
     "metadata": {},
     "output_type": "display_data"
    },
    {
     "data": {
      "text/html": [
       "<pre style=\"white-space:pre;overflow-x:auto;line-height:normal;font-family:Menlo,'DejaVu Sans Mono',consolas,'Courier New',monospace\">EURUSD                 open      high       low     close   volume\n",
       "time                                                       \n",
       "<span style=\"color: #008000; font-weight: bold\">2014</span>-<span style=\"color: #008000; font-weight: bold\">01</span>-<span style=\"color: #008000; font-weight: bold\">01</span>  <span style=\"color: #008000; font-weight: bold\">1.375950</span>  <span style=\"color: #008000; font-weight: bold\">1.377350</span>  <span style=\"color: #008000; font-weight: bold\">1.374065</span>  <span style=\"color: #008000; font-weight: bold\">1.376600</span>   <span style=\"color: #008000; font-weight: bold\">2079.0</span>\n",
       "<span style=\"color: #008000; font-weight: bold\">2014</span>-<span style=\"color: #008000; font-weight: bold\">01</span>-<span style=\"color: #008000; font-weight: bold\">02</span>  <span style=\"color: #008000; font-weight: bold\">1.376600</span>  <span style=\"color: #008000; font-weight: bold\">1.377505</span>  <span style=\"color: #008000; font-weight: bold\">1.362975</span>  <span style=\"color: #008000; font-weight: bold\">1.366545</span>  <span style=\"color: #008000; font-weight: bold\">77624.0</span>\n",
       "<span style=\"color: #008000; font-weight: bold\">2014</span>-<span style=\"color: #008000; font-weight: bold\">01</span>-<span style=\"color: #008000; font-weight: bold\">03</span>  <span style=\"color: #008000; font-weight: bold\">1.366545</span>  <span style=\"color: #008000; font-weight: bold\">1.367215</span>  <span style=\"color: #008000; font-weight: bold\">1.358240</span>  <span style=\"color: #008000; font-weight: bold\">1.358870</span>  <span style=\"color: #008000; font-weight: bold\">65606.0</span>\n",
       "<span style=\"color: #008000; font-weight: bold\">2014</span>-<span style=\"color: #008000; font-weight: bold\">01</span>-<span style=\"color: #008000; font-weight: bold\">05</span>  <span style=\"color: #008000; font-weight: bold\">1.359455</span>  <span style=\"color: #008000; font-weight: bold\">1.360060</span>  <span style=\"color: #008000; font-weight: bold\">1.358920</span>  <span style=\"color: #008000; font-weight: bold\">1.359570</span>   <span style=\"color: #008000; font-weight: bold\">1927.0</span>\n",
       "<span style=\"color: #008000; font-weight: bold\">2014</span>-<span style=\"color: #008000; font-weight: bold\">01</span>-<span style=\"color: #008000; font-weight: bold\">06</span>  <span style=\"color: #008000; font-weight: bold\">1.359575</span>  <span style=\"color: #008000; font-weight: bold\">1.365300</span>  <span style=\"color: #008000; font-weight: bold\">1.357160</span>  <span style=\"color: #008000; font-weight: bold\">1.362975</span>  <span style=\"color: #008000; font-weight: bold\">66351.0</span>\n",
       "<span style=\"color: #808000\">...</span>              <span style=\"color: #808000\">...</span>       <span style=\"color: #808000\">...</span>       <span style=\"color: #808000\">...</span>       <span style=\"color: #808000\">...</span>      <span style=\"color: #808000\">...</span>\n",
       "<span style=\"color: #008000; font-weight: bold\">2020</span>-<span style=\"color: #008000; font-weight: bold\">11</span>-<span style=\"color: #008000; font-weight: bold\">22</span>  <span style=\"color: #008000; font-weight: bold\">1.185510</span>  <span style=\"color: #008000; font-weight: bold\">1.186615</span>  <span style=\"color: #008000; font-weight: bold\">1.185445</span>  <span style=\"color: #008000; font-weight: bold\">1.186565</span>   <span style=\"color: #008000; font-weight: bold\">3002.0</span>\n",
       "<span style=\"color: #008000; font-weight: bold\">2020</span>-<span style=\"color: #008000; font-weight: bold\">11</span>-<span style=\"color: #008000; font-weight: bold\">23</span>  <span style=\"color: #008000; font-weight: bold\">1.186570</span>  <span style=\"color: #008000; font-weight: bold\">1.190610</span>  <span style=\"color: #008000; font-weight: bold\">1.179990</span>  <span style=\"color: #008000; font-weight: bold\">1.184240</span>  <span style=\"color: #008000; font-weight: bold\">90178.0</span>\n",
       "<span style=\"color: #008000; font-weight: bold\">2020</span>-<span style=\"color: #008000; font-weight: bold\">11</span>-<span style=\"color: #008000; font-weight: bold\">24</span>  <span style=\"color: #008000; font-weight: bold\">1.184245</span>  <span style=\"color: #008000; font-weight: bold\">1.189795</span>  <span style=\"color: #008000; font-weight: bold\">1.183855</span>  <span style=\"color: #008000; font-weight: bold\">1.189755</span>  <span style=\"color: #008000; font-weight: bold\">96170.0</span>\n",
       "<span style=\"color: #008000; font-weight: bold\">2020</span>-<span style=\"color: #008000; font-weight: bold\">11</span>-<span style=\"color: #008000; font-weight: bold\">25</span>  <span style=\"color: #008000; font-weight: bold\">1.189775</span>  <span style=\"color: #008000; font-weight: bold\">1.192980</span>  <span style=\"color: #008000; font-weight: bold\">1.188190</span>  <span style=\"color: #008000; font-weight: bold\">1.191645</span>  <span style=\"color: #008000; font-weight: bold\">99708.0</span>\n",
       "<span style=\"color: #008000; font-weight: bold\">2020</span>-<span style=\"color: #008000; font-weight: bold\">11</span>-<span style=\"color: #008000; font-weight: bold\">26</span>  <span style=\"color: #008000; font-weight: bold\">1.191655</span>  <span style=\"color: #008000; font-weight: bold\">1.194095</span>  <span style=\"color: #008000; font-weight: bold\">1.188535</span>  <span style=\"color: #008000; font-weight: bold\">1.191105</span>  <span style=\"color: #008000; font-weight: bold\">63984.0</span>\n",
       "\n",
       "<span style=\"font-weight: bold\">[</span><span style=\"color: #008000; font-weight: bold\">2155</span> rows x <span style=\"color: #008000; font-weight: bold\">5</span> columns<span style=\"font-weight: bold\">]</span>\n",
       "</pre>\n"
      ],
      "text/plain": [
       "<rich.jupyter.JupyterRenderable at 0x7f1d3c219a58>"
      ]
     },
     "metadata": {},
     "output_type": "display_data"
    },
    {
     "data": {
      "text/html": [
       "<pre style=\"white-space:pre;overflow-x:auto;line-height:normal;font-family:Menlo,'DejaVu Sans Mono',consolas,'Courier New',monospace\"><span style=\"color: #800000\">===================</span>\n",
       "</pre>\n"
      ],
      "text/plain": [
       "<rich.jupyter.JupyterRenderable at 0x7f1d3c207748>"
      ]
     },
     "metadata": {},
     "output_type": "display_data"
    }
   ],
   "source": [
    "for s, v in SingleInstrumentPicker(timeframe='1d').iterate(df1):\n",
    "    print(s, v)\n",
    "    print('[red]===================')"
   ]
  },
  {
   "cell_type": "markdown",
   "metadata": {},
   "source": [
    "<hr/>\n",
    "How to iterate through whole portfolio of symbols\n",
    "<hr/>"
   ]
  },
  {
   "cell_type": "code",
   "execution_count": null,
   "metadata": {},
   "outputs": [],
   "source": [
    "for s, v in PortfolioPicker(timeframe='1d').iterate(df1):\n",
    "    print(s)\n",
    "    print(v)"
   ]
  },
  {
   "cell_type": "code",
   "execution_count": 7,
   "metadata": {},
   "outputs": [
    {
     "data": {
      "text/html": [
       "<div>\n",
       "<style scoped>\n",
       "    .dataframe tbody tr th:only-of-type {\n",
       "        vertical-align: middle;\n",
       "    }\n",
       "\n",
       "    .dataframe tbody tr th {\n",
       "        vertical-align: top;\n",
       "    }\n",
       "\n",
       "    .dataframe thead tr th {\n",
       "        text-align: left;\n",
       "    }\n",
       "\n",
       "    .dataframe thead tr:last-of-type th {\n",
       "        text-align: right;\n",
       "    }\n",
       "</style>\n",
       "<table border=\"1\" class=\"dataframe\">\n",
       "  <thead>\n",
       "    <tr>\n",
       "      <th></th>\n",
       "      <th colspan=\"5\" halign=\"left\">GBPUSD</th>\n",
       "      <th colspan=\"5\" halign=\"left\">USDCHF</th>\n",
       "      <th colspan=\"5\" halign=\"left\">EURUSD</th>\n",
       "    </tr>\n",
       "    <tr>\n",
       "      <th></th>\n",
       "      <th>open</th>\n",
       "      <th>high</th>\n",
       "      <th>low</th>\n",
       "      <th>close</th>\n",
       "      <th>volume</th>\n",
       "      <th>open</th>\n",
       "      <th>high</th>\n",
       "      <th>low</th>\n",
       "      <th>close</th>\n",
       "      <th>volume</th>\n",
       "      <th>open</th>\n",
       "      <th>high</th>\n",
       "      <th>low</th>\n",
       "      <th>close</th>\n",
       "      <th>volume</th>\n",
       "    </tr>\n",
       "    <tr>\n",
       "      <th>time</th>\n",
       "      <th></th>\n",
       "      <th></th>\n",
       "      <th></th>\n",
       "      <th></th>\n",
       "      <th></th>\n",
       "      <th></th>\n",
       "      <th></th>\n",
       "      <th></th>\n",
       "      <th></th>\n",
       "      <th></th>\n",
       "      <th></th>\n",
       "      <th></th>\n",
       "      <th></th>\n",
       "      <th></th>\n",
       "      <th></th>\n",
       "    </tr>\n",
       "  </thead>\n",
       "  <tbody>\n",
       "    <tr>\n",
       "      <th>2014-01-01</th>\n",
       "      <td>1.656550</td>\n",
       "      <td>1.659245</td>\n",
       "      <td>1.655980</td>\n",
       "      <td>1.657745</td>\n",
       "      <td>1561.0</td>\n",
       "      <td>0.891710</td>\n",
       "      <td>0.892855</td>\n",
       "      <td>0.891315</td>\n",
       "      <td>0.891575</td>\n",
       "      <td>1690.0</td>\n",
       "      <td>1.375950</td>\n",
       "      <td>1.377350</td>\n",
       "      <td>1.374065</td>\n",
       "      <td>1.376600</td>\n",
       "      <td>2079.0</td>\n",
       "    </tr>\n",
       "    <tr>\n",
       "      <th>2014-01-02</th>\n",
       "      <td>1.657720</td>\n",
       "      <td>1.660340</td>\n",
       "      <td>1.641165</td>\n",
       "      <td>1.644900</td>\n",
       "      <td>71502.0</td>\n",
       "      <td>0.891595</td>\n",
       "      <td>0.902870</td>\n",
       "      <td>0.890875</td>\n",
       "      <td>0.899275</td>\n",
       "      <td>67356.0</td>\n",
       "      <td>1.376600</td>\n",
       "      <td>1.377505</td>\n",
       "      <td>1.362975</td>\n",
       "      <td>1.366545</td>\n",
       "      <td>77624.0</td>\n",
       "    </tr>\n",
       "    <tr>\n",
       "      <th>2014-01-03</th>\n",
       "      <td>1.644910</td>\n",
       "      <td>1.647395</td>\n",
       "      <td>1.639545</td>\n",
       "      <td>1.641865</td>\n",
       "      <td>58463.0</td>\n",
       "      <td>0.899285</td>\n",
       "      <td>0.905785</td>\n",
       "      <td>0.898945</td>\n",
       "      <td>0.905170</td>\n",
       "      <td>49271.0</td>\n",
       "      <td>1.366545</td>\n",
       "      <td>1.367215</td>\n",
       "      <td>1.358240</td>\n",
       "      <td>1.358870</td>\n",
       "      <td>65606.0</td>\n",
       "    </tr>\n",
       "    <tr>\n",
       "      <th>2014-01-05</th>\n",
       "      <td>1.640405</td>\n",
       "      <td>1.641650</td>\n",
       "      <td>1.639955</td>\n",
       "      <td>1.641155</td>\n",
       "      <td>1981.0</td>\n",
       "      <td>0.904975</td>\n",
       "      <td>0.905530</td>\n",
       "      <td>0.904295</td>\n",
       "      <td>0.905325</td>\n",
       "      <td>1597.0</td>\n",
       "      <td>1.359455</td>\n",
       "      <td>1.360060</td>\n",
       "      <td>1.358920</td>\n",
       "      <td>1.359570</td>\n",
       "      <td>1927.0</td>\n",
       "    </tr>\n",
       "    <tr>\n",
       "      <th>2014-01-06</th>\n",
       "      <td>1.641170</td>\n",
       "      <td>1.643390</td>\n",
       "      <td>1.633760</td>\n",
       "      <td>1.641350</td>\n",
       "      <td>59532.0</td>\n",
       "      <td>0.905320</td>\n",
       "      <td>0.907040</td>\n",
       "      <td>0.902025</td>\n",
       "      <td>0.903935</td>\n",
       "      <td>49053.0</td>\n",
       "      <td>1.359575</td>\n",
       "      <td>1.365300</td>\n",
       "      <td>1.357160</td>\n",
       "      <td>1.362975</td>\n",
       "      <td>66351.0</td>\n",
       "    </tr>\n",
       "    <tr>\n",
       "      <th>...</th>\n",
       "      <td>...</td>\n",
       "      <td>...</td>\n",
       "      <td>...</td>\n",
       "      <td>...</td>\n",
       "      <td>...</td>\n",
       "      <td>...</td>\n",
       "      <td>...</td>\n",
       "      <td>...</td>\n",
       "      <td>...</td>\n",
       "      <td>...</td>\n",
       "      <td>...</td>\n",
       "      <td>...</td>\n",
       "      <td>...</td>\n",
       "      <td>...</td>\n",
       "      <td>...</td>\n",
       "    </tr>\n",
       "    <tr>\n",
       "      <th>2020-11-22</th>\n",
       "      <td>1.329490</td>\n",
       "      <td>1.330490</td>\n",
       "      <td>1.328105</td>\n",
       "      <td>1.330370</td>\n",
       "      <td>4302.0</td>\n",
       "      <td>0.911250</td>\n",
       "      <td>0.911515</td>\n",
       "      <td>0.910615</td>\n",
       "      <td>0.910655</td>\n",
       "      <td>2576.0</td>\n",
       "      <td>1.185510</td>\n",
       "      <td>1.186615</td>\n",
       "      <td>1.185445</td>\n",
       "      <td>1.186565</td>\n",
       "      <td>3002.0</td>\n",
       "    </tr>\n",
       "    <tr>\n",
       "      <th>2020-11-23</th>\n",
       "      <td>1.330350</td>\n",
       "      <td>1.339780</td>\n",
       "      <td>1.326390</td>\n",
       "      <td>1.332640</td>\n",
       "      <td>97513.0</td>\n",
       "      <td>0.910660</td>\n",
       "      <td>0.914805</td>\n",
       "      <td>0.907630</td>\n",
       "      <td>0.912490</td>\n",
       "      <td>48958.0</td>\n",
       "      <td>1.186570</td>\n",
       "      <td>1.190610</td>\n",
       "      <td>1.179990</td>\n",
       "      <td>1.184240</td>\n",
       "      <td>90178.0</td>\n",
       "    </tr>\n",
       "    <tr>\n",
       "      <th>2020-11-24</th>\n",
       "      <td>1.332635</td>\n",
       "      <td>1.338050</td>\n",
       "      <td>1.329310</td>\n",
       "      <td>1.336175</td>\n",
       "      <td>100896.0</td>\n",
       "      <td>0.912445</td>\n",
       "      <td>0.913660</td>\n",
       "      <td>0.909790</td>\n",
       "      <td>0.910955</td>\n",
       "      <td>49340.0</td>\n",
       "      <td>1.184245</td>\n",
       "      <td>1.189795</td>\n",
       "      <td>1.183855</td>\n",
       "      <td>1.189755</td>\n",
       "      <td>96170.0</td>\n",
       "    </tr>\n",
       "    <tr>\n",
       "      <th>2020-11-25</th>\n",
       "      <td>1.336185</td>\n",
       "      <td>1.339350</td>\n",
       "      <td>1.330415</td>\n",
       "      <td>1.338340</td>\n",
       "      <td>102676.0</td>\n",
       "      <td>0.910950</td>\n",
       "      <td>0.913915</td>\n",
       "      <td>0.907805</td>\n",
       "      <td>0.908235</td>\n",
       "      <td>57301.0</td>\n",
       "      <td>1.189775</td>\n",
       "      <td>1.192980</td>\n",
       "      <td>1.188190</td>\n",
       "      <td>1.191645</td>\n",
       "      <td>99708.0</td>\n",
       "    </tr>\n",
       "    <tr>\n",
       "      <th>2020-11-26</th>\n",
       "      <td>1.338355</td>\n",
       "      <td>1.339795</td>\n",
       "      <td>1.332215</td>\n",
       "      <td>1.335360</td>\n",
       "      <td>70479.0</td>\n",
       "      <td>0.908200</td>\n",
       "      <td>0.909355</td>\n",
       "      <td>0.906040</td>\n",
       "      <td>0.906550</td>\n",
       "      <td>39572.0</td>\n",
       "      <td>1.191655</td>\n",
       "      <td>1.194095</td>\n",
       "      <td>1.188535</td>\n",
       "      <td>1.191105</td>\n",
       "      <td>63984.0</td>\n",
       "    </tr>\n",
       "  </tbody>\n",
       "</table>\n",
       "<p>2155 rows × 15 columns</p>\n",
       "</div>"
      ],
      "text/plain": [
       "              GBPUSD                                            USDCHF  \\\n",
       "                open      high       low     close    volume      open   \n",
       "time                                                                     \n",
       "2014-01-01  1.656550  1.659245  1.655980  1.657745    1561.0  0.891710   \n",
       "2014-01-02  1.657720  1.660340  1.641165  1.644900   71502.0  0.891595   \n",
       "2014-01-03  1.644910  1.647395  1.639545  1.641865   58463.0  0.899285   \n",
       "2014-01-05  1.640405  1.641650  1.639955  1.641155    1981.0  0.904975   \n",
       "2014-01-06  1.641170  1.643390  1.633760  1.641350   59532.0  0.905320   \n",
       "...              ...       ...       ...       ...       ...       ...   \n",
       "2020-11-22  1.329490  1.330490  1.328105  1.330370    4302.0  0.911250   \n",
       "2020-11-23  1.330350  1.339780  1.326390  1.332640   97513.0  0.910660   \n",
       "2020-11-24  1.332635  1.338050  1.329310  1.336175  100896.0  0.912445   \n",
       "2020-11-25  1.336185  1.339350  1.330415  1.338340  102676.0  0.910950   \n",
       "2020-11-26  1.338355  1.339795  1.332215  1.335360   70479.0  0.908200   \n",
       "\n",
       "                                                     EURUSD            \\\n",
       "                high       low     close   volume      open      high   \n",
       "time                                                                    \n",
       "2014-01-01  0.892855  0.891315  0.891575   1690.0  1.375950  1.377350   \n",
       "2014-01-02  0.902870  0.890875  0.899275  67356.0  1.376600  1.377505   \n",
       "2014-01-03  0.905785  0.898945  0.905170  49271.0  1.366545  1.367215   \n",
       "2014-01-05  0.905530  0.904295  0.905325   1597.0  1.359455  1.360060   \n",
       "2014-01-06  0.907040  0.902025  0.903935  49053.0  1.359575  1.365300   \n",
       "...              ...       ...       ...      ...       ...       ...   \n",
       "2020-11-22  0.911515  0.910615  0.910655   2576.0  1.185510  1.186615   \n",
       "2020-11-23  0.914805  0.907630  0.912490  48958.0  1.186570  1.190610   \n",
       "2020-11-24  0.913660  0.909790  0.910955  49340.0  1.184245  1.189795   \n",
       "2020-11-25  0.913915  0.907805  0.908235  57301.0  1.189775  1.192980   \n",
       "2020-11-26  0.909355  0.906040  0.906550  39572.0  1.191655  1.194095   \n",
       "\n",
       "                                         \n",
       "                 low     close   volume  \n",
       "time                                     \n",
       "2014-01-01  1.374065  1.376600   2079.0  \n",
       "2014-01-02  1.362975  1.366545  77624.0  \n",
       "2014-01-03  1.358240  1.358870  65606.0  \n",
       "2014-01-05  1.358920  1.359570   1927.0  \n",
       "2014-01-06  1.357160  1.362975  66351.0  \n",
       "...              ...       ...      ...  \n",
       "2020-11-22  1.185445  1.186565   3002.0  \n",
       "2020-11-23  1.179990  1.184240  90178.0  \n",
       "2020-11-24  1.183855  1.189755  96170.0  \n",
       "2020-11-25  1.188190  1.191645  99708.0  \n",
       "2020-11-26  1.188535  1.191105  63984.0  \n",
       "\n",
       "[2155 rows x 15 columns]"
      ]
     },
     "execution_count": 7,
     "metadata": {},
     "output_type": "execute_result"
    }
   ],
   "source": [
    "v"
   ]
  },
  {
   "cell_type": "markdown",
   "metadata": {},
   "source": [
    "<hr/>\n",
    "Forward returns producers\n",
    "<hr/>"
   ]
  },
  {
   "cell_type": "code",
   "execution_count": 8,
   "metadata": {},
   "outputs": [
    {
     "data": {
      "text/html": [
       "<pre style=\"white-space:pre;overflow-x:auto;line-height:normal;font-family:Menlo,'DejaVu Sans Mono',consolas,'Courier New',monospace\">time\n",
       "<span style=\"color: #008000; font-weight: bold\">2014</span>-<span style=\"color: #008000; font-weight: bold\">01</span>-<span style=\"color: #008000; font-weight: bold\">01</span>    <span style=\"color: #008000; font-weight: bold\">1005.5</span>\n",
       "<span style=\"color: #008000; font-weight: bold\">2014</span>-<span style=\"color: #008000; font-weight: bold\">01</span>-<span style=\"color: #008000; font-weight: bold\">02</span>     <span style=\"color: #008000; font-weight: bold\">767.5</span>\n",
       "<span style=\"color: #008000; font-weight: bold\">2014</span>-<span style=\"color: #008000; font-weight: bold\">01</span>-<span style=\"color: #008000; font-weight: bold\">03</span>     <span style=\"color: #008000; font-weight: bold\">-70.0</span>\n",
       "<span style=\"color: #008000; font-weight: bold\">2014</span>-<span style=\"color: #008000; font-weight: bold\">01</span>-<span style=\"color: #008000; font-weight: bold\">05</span>    <span style=\"color: #008000; font-weight: bold\">-340.5</span>\n",
       "<span style=\"color: #008000; font-weight: bold\">2014</span>-<span style=\"color: #008000; font-weight: bold\">01</span>-<span style=\"color: #008000; font-weight: bold\">06</span>     <span style=\"color: #008000; font-weight: bold\">125.5</span>\n",
       "               <span style=\"color: #808000\">...</span>  \n",
       "<span style=\"color: #008000; font-weight: bold\">2020</span>-<span style=\"color: #008000; font-weight: bold\">11</span>-<span style=\"color: #008000; font-weight: bold\">22</span>     <span style=\"color: #008000; font-weight: bold\">232.5</span>\n",
       "<span style=\"color: #008000; font-weight: bold\">2020</span>-<span style=\"color: #008000; font-weight: bold\">11</span>-<span style=\"color: #008000; font-weight: bold\">23</span>    <span style=\"color: #008000; font-weight: bold\">-551.5</span>\n",
       "<span style=\"color: #008000; font-weight: bold\">2020</span>-<span style=\"color: #008000; font-weight: bold\">11</span>-<span style=\"color: #008000; font-weight: bold\">24</span>    <span style=\"color: #008000; font-weight: bold\">-189.0</span>\n",
       "<span style=\"color: #008000; font-weight: bold\">2020</span>-<span style=\"color: #008000; font-weight: bold\">11</span>-<span style=\"color: #008000; font-weight: bold\">25</span>      <span style=\"color: #008000; font-weight: bold\">54.0</span>\n",
       "<span style=\"color: #008000; font-weight: bold\">2020</span>-<span style=\"color: #008000; font-weight: bold\">11</span>-<span style=\"color: #008000; font-weight: bold\">26</span>       <span style=\"color: #008000; font-weight: bold\">0.0</span>\n",
       "Name: returns, Length: <span style=\"color: #008000; font-weight: bold\">2155</span>, dtype: float64\n",
       "</pre>\n"
      ],
      "text/plain": [
       "<rich.jupyter.JupyterRenderable at 0x7f1d3c1c1c88>"
      ]
     },
     "metadata": {},
     "output_type": "display_data"
    },
    {
     "data": {
      "text/html": [
       "<pre style=\"white-space:pre;overflow-x:auto;line-height:normal;font-family:Menlo,'DejaVu Sans Mono',consolas,'Courier New',monospace\">time\n",
       "<span style=\"color: #008000; font-weight: bold\">2014</span>-<span style=\"color: #008000; font-weight: bold\">01</span>-<span style=\"color: #008000; font-weight: bold\">01</span>    <span style=\"color: #008000; font-weight: bold\">1</span>\n",
       "<span style=\"color: #008000; font-weight: bold\">2014</span>-<span style=\"color: #008000; font-weight: bold\">01</span>-<span style=\"color: #008000; font-weight: bold\">02</span>    <span style=\"color: #008000; font-weight: bold\">1</span>\n",
       "<span style=\"color: #008000; font-weight: bold\">2014</span>-<span style=\"color: #008000; font-weight: bold\">01</span>-<span style=\"color: #008000; font-weight: bold\">03</span>    <span style=\"color: #008000; font-weight: bold\">0</span>\n",
       "<span style=\"color: #008000; font-weight: bold\">2014</span>-<span style=\"color: #008000; font-weight: bold\">01</span>-<span style=\"color: #008000; font-weight: bold\">05</span>    <span style=\"color: #008000; font-weight: bold\">0</span>\n",
       "<span style=\"color: #008000; font-weight: bold\">2014</span>-<span style=\"color: #008000; font-weight: bold\">01</span>-<span style=\"color: #008000; font-weight: bold\">06</span>    <span style=\"color: #008000; font-weight: bold\">0</span>\n",
       "             ..\n",
       "<span style=\"color: #008000; font-weight: bold\">2020</span>-<span style=\"color: #008000; font-weight: bold\">11</span>-<span style=\"color: #008000; font-weight: bold\">22</span>    <span style=\"color: #008000; font-weight: bold\">0</span>\n",
       "<span style=\"color: #008000; font-weight: bold\">2020</span>-<span style=\"color: #008000; font-weight: bold\">11</span>-<span style=\"color: #008000; font-weight: bold\">23</span>   <span style=\"color: #008000; font-weight: bold\">-1</span>\n",
       "<span style=\"color: #008000; font-weight: bold\">2020</span>-<span style=\"color: #008000; font-weight: bold\">11</span>-<span style=\"color: #008000; font-weight: bold\">24</span>    <span style=\"color: #008000; font-weight: bold\">0</span>\n",
       "<span style=\"color: #008000; font-weight: bold\">2020</span>-<span style=\"color: #008000; font-weight: bold\">11</span>-<span style=\"color: #008000; font-weight: bold\">25</span>    <span style=\"color: #008000; font-weight: bold\">0</span>\n",
       "<span style=\"color: #008000; font-weight: bold\">2020</span>-<span style=\"color: #008000; font-weight: bold\">11</span>-<span style=\"color: #008000; font-weight: bold\">26</span>    <span style=\"color: #008000; font-weight: bold\">0</span>\n",
       "Name: returns, Length: <span style=\"color: #008000; font-weight: bold\">2155</span>, dtype: int64\n",
       "</pre>\n"
      ],
      "text/plain": [
       "<rich.jupyter.JupyterRenderable at 0x7f1d3c207940>"
      ]
     },
     "metadata": {},
     "output_type": "display_data"
    }
   ],
   "source": [
    "print(ForwardReturns(horizon=1, returns_type='pips', tick_size=1e-5).transform(ohlc_resample(df3, '1d'), None))\n",
    "print(ForwardReturns3Classes(horizon=1, tick_size=1e-5, tick_tolerance=500).transform(ohlc_resample(df3, '1d'), None))"
   ]
  },
  {
   "cell_type": "markdown",
   "metadata": {},
   "source": [
    "<hr/>\n",
    "Simple entry (rsi indicator)\n",
    "<hr/>"
   ]
  },
  {
   "cell_type": "code",
   "execution_count": 13,
   "metadata": {},
   "outputs": [],
   "source": [
    "class RsiEntry(BasicMarketEstimator):\n",
    "    def __init__(self, period, low=15, up=85):\n",
    "        self.period = period\n",
    "        self.low = low\n",
    "        self.up = up\n",
    "\n",
    "    def fit(self, X, y, **fit_params):\n",
    "        return self\n",
    "\n",
    "    def predict(self, X):\n",
    "        meta = self.metadata()\n",
    "        r = rsi(X[meta.column], self.period)\n",
    "        sigs = pd.Series(0, r.index)\n",
    "        sigs.loc[crossup(r, self.low)] = +1\n",
    "        sigs.loc[crossdown(r, self.up)] = -1\n",
    "        return sigs.astype(int)"
   ]
  },
  {
   "cell_type": "code",
   "execution_count": 17,
   "metadata": {},
   "outputs": [
    {
     "data": {
      "text/html": [
       "<pre style=\"white-space:pre;overflow-x:auto;line-height:normal;font-family:Menlo,'DejaVu Sans Mono',consolas,'Courier New',monospace\">time\n",
       "<span style=\"color: #008000; font-weight: bold\">2014</span>-<span style=\"color: #008000; font-weight: bold\">01</span>-<span style=\"color: #008000; font-weight: bold\">01</span> <span style=\"color: #00ff00; font-weight: bold\">22:00:00</span>    <span style=\"color: #008000; font-weight: bold\">0</span>\n",
       "<span style=\"color: #008000; font-weight: bold\">2014</span>-<span style=\"color: #008000; font-weight: bold\">01</span>-<span style=\"color: #008000; font-weight: bold\">01</span> <span style=\"color: #00ff00; font-weight: bold\">22:05:00</span>    <span style=\"color: #008000; font-weight: bold\">0</span>\n",
       "<span style=\"color: #008000; font-weight: bold\">2014</span>-<span style=\"color: #008000; font-weight: bold\">01</span>-<span style=\"color: #008000; font-weight: bold\">01</span> <span style=\"color: #00ff00; font-weight: bold\">22:10:00</span>    <span style=\"color: #008000; font-weight: bold\">0</span>\n",
       "<span style=\"color: #008000; font-weight: bold\">2014</span>-<span style=\"color: #008000; font-weight: bold\">01</span>-<span style=\"color: #008000; font-weight: bold\">01</span> <span style=\"color: #00ff00; font-weight: bold\">22:15:00</span>    <span style=\"color: #008000; font-weight: bold\">0</span>\n",
       "<span style=\"color: #008000; font-weight: bold\">2014</span>-<span style=\"color: #008000; font-weight: bold\">01</span>-<span style=\"color: #008000; font-weight: bold\">01</span> <span style=\"color: #00ff00; font-weight: bold\">22:20:00</span>    <span style=\"color: #008000; font-weight: bold\">0</span>\n",
       "                      ..\n",
       "<span style=\"color: #008000; font-weight: bold\">2020</span>-<span style=\"color: #008000; font-weight: bold\">11</span>-<span style=\"color: #008000; font-weight: bold\">26</span> <span style=\"color: #00ff00; font-weight: bold\">23:35:00</span>    <span style=\"color: #008000; font-weight: bold\">0</span>\n",
       "<span style=\"color: #008000; font-weight: bold\">2020</span>-<span style=\"color: #008000; font-weight: bold\">11</span>-<span style=\"color: #008000; font-weight: bold\">26</span> <span style=\"color: #00ff00; font-weight: bold\">23:40:00</span>    <span style=\"color: #008000; font-weight: bold\">0</span>\n",
       "<span style=\"color: #008000; font-weight: bold\">2020</span>-<span style=\"color: #008000; font-weight: bold\">11</span>-<span style=\"color: #008000; font-weight: bold\">26</span> <span style=\"color: #00ff00; font-weight: bold\">23:45:00</span>    <span style=\"color: #008000; font-weight: bold\">0</span>\n",
       "<span style=\"color: #008000; font-weight: bold\">2020</span>-<span style=\"color: #008000; font-weight: bold\">11</span>-<span style=\"color: #008000; font-weight: bold\">26</span> <span style=\"color: #00ff00; font-weight: bold\">23:50:00</span>    <span style=\"color: #008000; font-weight: bold\">0</span>\n",
       "<span style=\"color: #008000; font-weight: bold\">2020</span>-<span style=\"color: #008000; font-weight: bold\">11</span>-<span style=\"color: #008000; font-weight: bold\">26</span> <span style=\"color: #00ff00; font-weight: bold\">23:55:00</span>    <span style=\"color: #008000; font-weight: bold\">0</span>\n",
       "Length: <span style=\"color: #008000; font-weight: bold\">515246</span>, dtype: int64\n",
       "</pre>\n"
      ],
      "text/plain": [
       "<rich.jupyter.JupyterRenderable at 0x7f1d351dba90>"
      ]
     },
     "metadata": {},
     "output_type": "display_data"
    }
   ],
   "source": [
    "m1 = RsiEntry(14, 25, 75)\n",
    "print(m1.predict(df1.GBPUSD))"
   ]
  },
  {
   "cell_type": "markdown",
   "metadata": {},
   "source": [
    "<hr/>\n",
    "How to attach additional data\n",
    "<hr/>"
   ]
  },
  {
   "cell_type": "code",
   "execution_count": 37,
   "metadata": {},
   "outputs": [],
   "source": [
    "class MidDayCalculator(TransformerMixin):\n",
    "    def fit(self, x, y, **kwargs):\n",
    "        return self\n",
    "    \n",
    "    def transform(self, x):\n",
    "        return x.assign(middle = 0.5*(x.low + x.high)).shift(1)"
   ]
  },
  {
   "cell_type": "code",
   "execution_count": 38,
   "metadata": {},
   "outputs": [
    {
     "data": {
      "text/html": [
       "<pre style=\"white-space:pre;overflow-x:auto;line-height:normal;font-family:Menlo,'DejaVu Sans Mono',consolas,'Courier New',monospace\">time\n",
       "<span style=\"color: #008000; font-weight: bold\">2014</span>-<span style=\"color: #008000; font-weight: bold\">01</span>-<span style=\"color: #008000; font-weight: bold\">01</span> <span style=\"color: #00ff00; font-weight: bold\">22:00:00</span>    <span style=\"color: #008000; font-weight: bold\">0</span>\n",
       "<span style=\"color: #008000; font-weight: bold\">2014</span>-<span style=\"color: #008000; font-weight: bold\">01</span>-<span style=\"color: #008000; font-weight: bold\">01</span> <span style=\"color: #00ff00; font-weight: bold\">22:05:00</span>    <span style=\"color: #008000; font-weight: bold\">0</span>\n",
       "<span style=\"color: #008000; font-weight: bold\">2014</span>-<span style=\"color: #008000; font-weight: bold\">01</span>-<span style=\"color: #008000; font-weight: bold\">01</span> <span style=\"color: #00ff00; font-weight: bold\">22:10:00</span>    <span style=\"color: #008000; font-weight: bold\">0</span>\n",
       "<span style=\"color: #008000; font-weight: bold\">2014</span>-<span style=\"color: #008000; font-weight: bold\">01</span>-<span style=\"color: #008000; font-weight: bold\">01</span> <span style=\"color: #00ff00; font-weight: bold\">22:15:00</span>    <span style=\"color: #008000; font-weight: bold\">0</span>\n",
       "<span style=\"color: #008000; font-weight: bold\">2014</span>-<span style=\"color: #008000; font-weight: bold\">01</span>-<span style=\"color: #008000; font-weight: bold\">01</span> <span style=\"color: #00ff00; font-weight: bold\">22:20:00</span>    <span style=\"color: #008000; font-weight: bold\">0</span>\n",
       "                      ..\n",
       "<span style=\"color: #008000; font-weight: bold\">2020</span>-<span style=\"color: #008000; font-weight: bold\">11</span>-<span style=\"color: #008000; font-weight: bold\">26</span> <span style=\"color: #00ff00; font-weight: bold\">23:35:00</span>    <span style=\"color: #008000; font-weight: bold\">0</span>\n",
       "<span style=\"color: #008000; font-weight: bold\">2020</span>-<span style=\"color: #008000; font-weight: bold\">11</span>-<span style=\"color: #008000; font-weight: bold\">26</span> <span style=\"color: #00ff00; font-weight: bold\">23:40:00</span>    <span style=\"color: #008000; font-weight: bold\">0</span>\n",
       "<span style=\"color: #008000; font-weight: bold\">2020</span>-<span style=\"color: #008000; font-weight: bold\">11</span>-<span style=\"color: #008000; font-weight: bold\">26</span> <span style=\"color: #00ff00; font-weight: bold\">23:45:00</span>    <span style=\"color: #008000; font-weight: bold\">0</span>\n",
       "<span style=\"color: #008000; font-weight: bold\">2020</span>-<span style=\"color: #008000; font-weight: bold\">11</span>-<span style=\"color: #008000; font-weight: bold\">26</span> <span style=\"color: #00ff00; font-weight: bold\">23:50:00</span>    <span style=\"color: #008000; font-weight: bold\">0</span>\n",
       "<span style=\"color: #008000; font-weight: bold\">2020</span>-<span style=\"color: #008000; font-weight: bold\">11</span>-<span style=\"color: #008000; font-weight: bold\">26</span> <span style=\"color: #00ff00; font-weight: bold\">23:55:00</span>    <span style=\"color: #008000; font-weight: bold\">0</span>\n",
       "Length: <span style=\"color: #008000; font-weight: bold\">515246</span>, dtype: int64\n",
       "</pre>\n"
      ],
      "text/plain": [
       "<rich.jupyter.JupyterRenderable at 0x7f1d3c7e9128>"
      ]
     },
     "metadata": {},
     "output_type": "display_data"
    }
   ],
   "source": [
    "m1 = make_pipeline(MidDayCalculator(), RsiEntry(16, 20, 80))\n",
    "print(m1.predict(df1.EURUSD))"
   ]
  },
  {
   "cell_type": "code",
   "execution_count": null,
   "metadata": {},
   "outputs": [],
   "source": []
  },
  {
   "cell_type": "code",
   "execution_count": null,
   "metadata": {},
   "outputs": [],
   "source": []
  },
  {
   "cell_type": "markdown",
   "metadata": {},
   "source": [
    "<hr/>\n",
    "Market data composer\n",
    "<hr/>"
   ]
  },
  {
   "cell_type": "code",
   "execution_count": 39,
   "metadata": {},
   "outputs": [
    {
     "data": {
      "text/html": [
       "<pre style=\"white-space:pre;overflow-x:auto;line-height:normal;font-family:Menlo,'DejaVu Sans Mono',consolas,'Courier New',monospace\">                     EURUSD  GBPUSD  USDCHF\n",
       "time                                       \n",
       "<span style=\"color: #008000; font-weight: bold\">2014</span>-<span style=\"color: #008000; font-weight: bold\">01</span>-<span style=\"color: #008000; font-weight: bold\">01</span> <span style=\"color: #00ff00; font-weight: bold\">22:00:00</span>     <span style=\"color: #008000; font-weight: bold\">0.0</span>     <span style=\"color: #008000; font-weight: bold\">0.0</span>       <span style=\"color: #008000; font-weight: bold\">0</span>\n",
       "<span style=\"color: #008000; font-weight: bold\">2014</span>-<span style=\"color: #008000; font-weight: bold\">01</span>-<span style=\"color: #008000; font-weight: bold\">02</span> <span style=\"color: #00ff00; font-weight: bold\">22:00:00</span>     <span style=\"color: #008000; font-weight: bold\">0.0</span>     <span style=\"color: #008000; font-weight: bold\">0.0</span>       <span style=\"color: #008000; font-weight: bold\">0</span>\n",
       "<span style=\"color: #008000; font-weight: bold\">2014</span>-<span style=\"color: #008000; font-weight: bold\">01</span>-<span style=\"color: #008000; font-weight: bold\">05</span> <span style=\"color: #00ff00; font-weight: bold\">22:00:00</span>     <span style=\"color: #008000; font-weight: bold\">0.0</span>     <span style=\"color: #008000; font-weight: bold\">0.0</span>       <span style=\"color: #008000; font-weight: bold\">0</span>\n",
       "<span style=\"color: #008000; font-weight: bold\">2014</span>-<span style=\"color: #008000; font-weight: bold\">01</span>-<span style=\"color: #008000; font-weight: bold\">06</span> <span style=\"color: #00ff00; font-weight: bold\">22:00:00</span>     <span style=\"color: #008000; font-weight: bold\">0.0</span>     <span style=\"color: #008000; font-weight: bold\">0.0</span>       <span style=\"color: #008000; font-weight: bold\">0</span>\n",
       "<span style=\"color: #008000; font-weight: bold\">2014</span>-<span style=\"color: #008000; font-weight: bold\">01</span>-<span style=\"color: #008000; font-weight: bold\">07</span> <span style=\"color: #00ff00; font-weight: bold\">22:00:00</span>     <span style=\"color: #008000; font-weight: bold\">0.0</span>     <span style=\"color: #008000; font-weight: bold\">0.0</span>       <span style=\"color: #008000; font-weight: bold\">0</span>\n",
       "<span style=\"color: #808000\">...</span>                     <span style=\"color: #808000\">...</span>     <span style=\"color: #808000\">...</span>     <span style=\"color: #808000\">...</span>\n",
       "<span style=\"color: #008000; font-weight: bold\">2020</span>-<span style=\"color: #008000; font-weight: bold\">11</span>-<span style=\"color: #008000; font-weight: bold\">22</span> <span style=\"color: #00ff00; font-weight: bold\">22:00:00</span>     <span style=\"color: #008000; font-weight: bold\">0.0</span>     <span style=\"color: #008000; font-weight: bold\">0.0</span>       <span style=\"color: #008000; font-weight: bold\">0</span>\n",
       "<span style=\"color: #008000; font-weight: bold\">2020</span>-<span style=\"color: #008000; font-weight: bold\">11</span>-<span style=\"color: #008000; font-weight: bold\">23</span> <span style=\"color: #00ff00; font-weight: bold\">22:00:00</span>     <span style=\"color: #008000; font-weight: bold\">0.0</span>     <span style=\"color: #008000; font-weight: bold\">0.0</span>       <span style=\"color: #008000; font-weight: bold\">0</span>\n",
       "<span style=\"color: #008000; font-weight: bold\">2020</span>-<span style=\"color: #008000; font-weight: bold\">11</span>-<span style=\"color: #008000; font-weight: bold\">24</span> <span style=\"color: #00ff00; font-weight: bold\">22:00:00</span>     <span style=\"color: #008000; font-weight: bold\">0.0</span>     <span style=\"color: #008000; font-weight: bold\">0.0</span>       <span style=\"color: #008000; font-weight: bold\">0</span>\n",
       "<span style=\"color: #008000; font-weight: bold\">2020</span>-<span style=\"color: #008000; font-weight: bold\">11</span>-<span style=\"color: #008000; font-weight: bold\">25</span> <span style=\"color: #00ff00; font-weight: bold\">22:00:00</span>    <span style=\"color: #008000; font-weight: bold\">-1.0</span>     <span style=\"color: #008000; font-weight: bold\">0.0</span>       <span style=\"color: #008000; font-weight: bold\">0</span>\n",
       "<span style=\"color: #008000; font-weight: bold\">2020</span>-<span style=\"color: #008000; font-weight: bold\">11</span>-<span style=\"color: #008000; font-weight: bold\">26</span> <span style=\"color: #00ff00; font-weight: bold\">22:00:00</span>     <span style=\"color: #008000; font-weight: bold\">0.0</span>     <span style=\"color: #008000; font-weight: bold\">0.0</span>       <span style=\"color: #008000; font-weight: bold\">1</span>\n",
       "\n",
       "<span style=\"font-weight: bold\">[</span><span style=\"color: #008000; font-weight: bold\">1822</span> rows x <span style=\"color: #008000; font-weight: bold\">3</span> columns<span style=\"font-weight: bold\">]</span>\n",
       "</pre>\n"
      ],
      "text/plain": [
       "<rich.jupyter.JupyterRenderable at 0x7f1d3c7ed780>"
      ]
     },
     "metadata": {},
     "output_type": "display_data"
    }
   ],
   "source": [
    "m1 = RsiEntry(10, 20, 80)\n",
    "c1 = MarketDataComposer(m1, SingleInstrumentPicker(tz='EET'), None, 'close', '1D')\n",
    "\n",
    "print(c1.fit(df2, None).predict(df2))"
   ]
  },
  {
   "cell_type": "code",
   "execution_count": 40,
   "metadata": {},
   "outputs": [],
   "source": [
    "m1 = make_pipeline(MidDayCalculator(), RsiEntry(10, 10, 90).as_classifier())\n",
    "\n",
    "g1 = GridSearchCV(\n",
    "    cv=TimeSeriesSplit(3),\n",
    "    estimator = m1,\n",
    "    param_grid={ \n",
    "#         'testcomplex__period': np.arange(2, 4)\n",
    "        'rsientry__period': np.arange(7, 16), \n",
    "        'rsientry__low': [10, 20, 25], \n",
    "        'rsientry__up': [90, 80, 75], \n",
    "    },\n",
    ")\n",
    "\n",
    "mds = MarketDataComposer(g1, \n",
    "                         SingleInstrumentPicker(tz='EET'), \n",
    "                         ForwardReturns3Classes(horizon=1, tick_size=1e-5, tick_tolerance=25), \n",
    "                         'close', '5Min', debug=False\n",
    "                        )"
   ]
  },
  {
   "cell_type": "code",
   "execution_count": 41,
   "metadata": {},
   "outputs": [],
   "source": [
    "b = mds.fit(df1, None)"
   ]
  },
  {
   "cell_type": "code",
   "execution_count": 42,
   "metadata": {},
   "outputs": [
    {
     "data": {
      "text/plain": [
       "{'GBPUSD': {'rsientry__low': 10, 'rsientry__period': 15, 'rsientry__up': 90},\n",
       " 'USDCHF': {'rsientry__low': 10, 'rsientry__period': 15, 'rsientry__up': 90},\n",
       " 'EURUSD': {'rsientry__low': 10, 'rsientry__period': 15, 'rsientry__up': 90}}"
      ]
     },
     "execution_count": 42,
     "metadata": {},
     "output_type": "execute_result"
    }
   ],
   "source": [
    "b.best_params_"
   ]
  },
  {
   "cell_type": "code",
   "execution_count": 43,
   "metadata": {},
   "outputs": [
    {
     "data": {
      "text/plain": [
       "{'GBPUSD': 0.6004638005243638,\n",
       " 'USDCHF': 0.7636150945544798,\n",
       " 'EURUSD': 0.7209429313789427}"
      ]
     },
     "execution_count": 43,
     "metadata": {},
     "output_type": "execute_result"
    }
   ],
   "source": [
    "b.best_score_"
   ]
  },
  {
   "cell_type": "code",
   "execution_count": null,
   "metadata": {},
   "outputs": [],
   "source": [
    "b.picker.rules = []\n",
    "b.predict(df1)\n",
    "# b.predict(df1[['GBPUSD']])"
   ]
  },
  {
   "cell_type": "code",
   "execution_count": null,
   "metadata": {},
   "outputs": [],
   "source": [
    "b.picker.rules = []\n",
    "b.predict(df1)\n",
    "# b.predict(df1[['GBPUSD']])"
   ]
  },
  {
   "cell_type": "markdown",
   "metadata": {},
   "source": []
  },
  {
   "cell_type": "code",
   "execution_count": 47,
   "metadata": {},
   "outputs": [],
   "source": [
    "class TestComplex(BasicMarketEstimator):\n",
    "    def __init__(self, period, adx_threshold=15, s1=RsiEntry(10, 20, 80)):\n",
    "        self.period = period\n",
    "        self.adx_threshold = adx_threshold\n",
    "        self.s1 = s1\n",
    "\n",
    "    def fit(self, X, y, **fit_params):\n",
    "        meta = self.metadata()\n",
    "        return self\n",
    "\n",
    "    def predict(self, X):\n",
    "        d = adx(X, self.period, smoother='sma', as_frame=True)\n",
    "        p = self.s1.predict(X)\n",
    "        \n",
    "        p[d.ADX < self.adx_threshold] = 0\n",
    "        p[(p > 0) & (X.middle < X.close)] = 0\n",
    "        p[(p < 0) & (X.middle > X.close)] = 0\n",
    "        return p\n",
    "    \n",
    "g1 = GridSearchCV(\n",
    "        n_jobs=5,\n",
    "        cv=TimeSeriesSplit(3),\n",
    "        estimator = make_pipeline(make_pipeline(MidDayCalculator()), TestComplex(10).as_classifier()),\n",
    "        param_grid = permutate_params({ \n",
    "            'testcomplex__period': np.arange(25, 150, 10), \n",
    "            'testcomplex__adx_threshold': [10, 15, 20, 25], \n",
    "            'testcomplex__s1__period': np.arange(3, 15), \n",
    "            'testcomplex__s1__low': [10, 15, 20, 25], \n",
    "            'testcomplex__s1__up': [90, 85, 80, 75],\n",
    "        }, conditions=lambda testcomplex__s1__low, testcomplex__s1__up: testcomplex__s1__low + testcomplex__s1__up==100),\n",
    "        verbose=1\n",
    "    )\n",
    "\n",
    "ms1 = MarketDataComposer(g1, \n",
    "                         SingleInstrumentPicker(tz='EET'), \n",
    "                         ForwardReturnsDirection(horizon=1), \n",
    "                         'close', '1D', debug=False\n",
    "                        )"
   ]
  },
  {
   "cell_type": "code",
   "execution_count": 48,
   "metadata": {},
   "outputs": [
    {
     "name": "stdout",
     "output_type": "stream",
     "text": [
      "Fitting 3 folds for each of 2496 candidates, totalling 7488 fits\n"
     ]
    },
    {
     "name": "stderr",
     "output_type": "stream",
     "text": [
      "[Parallel(n_jobs=5)]: Using backend LokyBackend with 5 concurrent workers.\n",
      "[Parallel(n_jobs=5)]: Done  48 tasks      | elapsed:    3.7s\n",
      "[Parallel(n_jobs=5)]: Done 635 tasks      | elapsed:    7.5s\n",
      "[Parallel(n_jobs=5)]: Done 1635 tasks      | elapsed:   13.4s\n",
      "[Parallel(n_jobs=5)]: Done 3035 tasks      | elapsed:   21.5s\n",
      "[Parallel(n_jobs=5)]: Done 4835 tasks      | elapsed:   32.1s\n",
      "[Parallel(n_jobs=5)]: Done 7035 tasks      | elapsed:   45.0s\n",
      "[Parallel(n_jobs=5)]: Done 7488 out of 7488 | elapsed:   47.6s finished\n",
      "[Parallel(n_jobs=5)]: Using backend LokyBackend with 5 concurrent workers.\n"
     ]
    },
    {
     "name": "stdout",
     "output_type": "stream",
     "text": [
      "Fitting 3 folds for each of 2496 candidates, totalling 7488 fits\n"
     ]
    },
    {
     "name": "stderr",
     "output_type": "stream",
     "text": [
      "[Parallel(n_jobs=5)]: Done 150 tasks      | elapsed:    1.0s\n",
      "[Parallel(n_jobs=5)]: Done 1350 tasks      | elapsed:    7.8s\n",
      "[Parallel(n_jobs=5)]: Done 3350 tasks      | elapsed:   19.1s\n",
      "[Parallel(n_jobs=5)]: Done 6150 tasks      | elapsed:   34.8s\n",
      "[Parallel(n_jobs=5)]: Done 7479 out of 7488 | elapsed:   42.3s remaining:    0.1s\n",
      "[Parallel(n_jobs=5)]: Done 7488 out of 7488 | elapsed:   42.3s finished\n",
      "[Parallel(n_jobs=5)]: Using backend LokyBackend with 5 concurrent workers.\n"
     ]
    },
    {
     "name": "stdout",
     "output_type": "stream",
     "text": [
      "Fitting 3 folds for each of 2496 candidates, totalling 7488 fits\n"
     ]
    },
    {
     "name": "stderr",
     "output_type": "stream",
     "text": [
      "[Parallel(n_jobs=5)]: Done 150 tasks      | elapsed:    1.0s\n",
      "[Parallel(n_jobs=5)]: Done 1350 tasks      | elapsed:    7.8s\n",
      "[Parallel(n_jobs=5)]: Done 3350 tasks      | elapsed:   18.9s\n",
      "[Parallel(n_jobs=5)]: Done 6150 tasks      | elapsed:   34.8s\n",
      "[Parallel(n_jobs=5)]: Done 7479 out of 7488 | elapsed:   42.3s remaining:    0.1s\n",
      "[Parallel(n_jobs=5)]: Done 7488 out of 7488 | elapsed:   42.3s finished\n"
     ]
    }
   ],
   "source": [
    "b1 = ms1.fit(df1, None)"
   ]
  },
  {
   "cell_type": "code",
   "execution_count": 20,
   "metadata": {},
   "outputs": [
    {
     "data": {
      "text/plain": [
       "({'USDCHF': {'testcomplex__adx_threshold': 10,\n",
       "   'testcomplex__period': 25,\n",
       "   'testcomplex__s1__low': 20,\n",
       "   'testcomplex__s1__period': 3,\n",
       "   'testcomplex__s1__up': 80},\n",
       "  'EURUSD': {'testcomplex__adx_threshold': 10,\n",
       "   'testcomplex__period': 25,\n",
       "   'testcomplex__s1__low': 25,\n",
       "   'testcomplex__s1__period': 4,\n",
       "   'testcomplex__s1__up': 75},\n",
       "  'GBPUSD': {'testcomplex__adx_threshold': 10,\n",
       "   'testcomplex__period': 25,\n",
       "   'testcomplex__s1__low': 25,\n",
       "   'testcomplex__s1__period': 3,\n",
       "   'testcomplex__s1__up': 75}},\n",
       " {'USDCHF': 0.273992673992674,\n",
       "  'EURUSD': 0.23223443223443221,\n",
       "  'GBPUSD': 0.1963369963369963})"
      ]
     },
     "execution_count": 20,
     "metadata": {},
     "output_type": "execute_result"
    }
   ],
   "source": [
    "b1.best_params_, b1.best_score_"
   ]
  },
  {
   "cell_type": "code",
   "execution_count": null,
   "metadata": {},
   "outputs": [],
   "source": [
    "p0 = z_test_signals_inplace(shift_signals(b1.predict(df1), hours=23), df2, 'forex', spread=0, verbose=False)\n",
    "tearsheet(p0, 20000)"
   ]
  },
  {
   "cell_type": "code",
   "execution_count": null,
   "metadata": {},
   "outputs": [],
   "source": []
  },
  {
   "cell_type": "code",
   "execution_count": null,
   "metadata": {},
   "outputs": [],
   "source": []
  },
  {
   "cell_type": "code",
   "execution_count": null,
   "metadata": {},
   "outputs": [],
   "source": []
  },
  {
   "cell_type": "code",
   "execution_count": 3,
   "metadata": {},
   "outputs": [],
   "source": [
    "class TestMulti(BasicMarketEstimator):\n",
    "    def __init__(self, period):\n",
    "        self.period = period\n",
    "        self.preselected_symbols_ = []\n",
    "\n",
    "    def fit(self, X, y, **fit_params):\n",
    "        # just picking some instruments here\n",
    "        self.preselected_symbols_ = self.metadata().symbols[:2]\n",
    "        return self\n",
    "\n",
    "    def predict(self, X):\n",
    "        meta = self.metadata()\n",
    "        xp = X[self.preselected_symbols_].xs(meta.column, axis=1, level=1)\n",
    "        w = np.round(10000 * xp.divide(xp.sum(axis=1), axis=0))\n",
    "        return w"
   ]
  }
 ],
 "metadata": {
  "kernelspec": {
   "display_name": "Python 3",
   "language": "python",
   "name": "python3"
  },
  "language_info": {
   "codemirror_mode": {
    "name": "ipython",
    "version": 3
   },
   "file_extension": ".py",
   "mimetype": "text/x-python",
   "name": "python",
   "nbconvert_exporter": "python",
   "pygments_lexer": "ipython3",
   "version": "3.6.9"
  }
 },
 "nbformat": 4,
 "nbformat_minor": 4
}
