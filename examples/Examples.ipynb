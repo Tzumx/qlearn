{
 "cells": [
  {
   "cell_type": "code",
   "execution_count": 1,
   "metadata": {},
   "outputs": [
    {
     "name": "stdout",
     "output_type": "stream",
     "text": [
      "Reloaded /usr/local/envs/ira_p36/lib/python3.6/site-packages/ira/experimental/c_simulator_core.pyx\n"
     ]
    },
    {
     "data": {
      "text/html": [
       "<pre style=\"white-space:pre;overflow-x:auto;line-height:normal;font-family:Menlo,'DejaVu Sans Mono',consolas,'Courier New',monospace\"><span style=\"font-weight: bold\">(</span>c<span style=\"font-weight: bold\">)</span> <span style=\"color: #008000; font-weight: bold\">2017</span>, AppliedAlpha Infrastructure for Quantitative Research and Analysis, ver. master: \n",
       "<span style=\"color: #008000; font-weight: bold\">0.1433</span>\n",
       "</pre>\n"
      ],
      "text/plain": [
       "<rich.jupyter.JupyterRenderable at 0x7fe4e2090390>"
      ]
     },
     "metadata": {},
     "output_type": "display_data"
    }
   ],
   "source": [
    "import ira\n",
    "from sklearn.model_selection import TimeSeriesSplit, StratifiedKFold, GridSearchCV, GroupKFold\n",
    "from sklearn.base import TransformerMixin\n",
    "from sklearn.pipeline import make_pipeline\n",
    "\n",
    "%alphalab dark\n",
    "\n",
    "from alpha.utils.data_helpers import FriendlyFxLoader, make_forward_returns_matrix\n",
    "\n",
    "from qlearn.core.pickers import SingleInstrumentPicker, PortfolioPicker\n",
    "from qlearn.core.forward_returns import ForwardReturns, ForwardReturnsDirection, ForwardReturns3Classes\n",
    "from qlearn.core.base import BasicMarketEstimator, MarketDataComposer\n",
    "from qlearn.core.utils import crossup, crossdown, permutate_params"
   ]
  },
  {
   "cell_type": "code",
   "execution_count": 2,
   "metadata": {},
   "outputs": [],
   "source": [
    "fxl = FriendlyFxLoader('dukas @ 5Min')\n",
    "data = fxl.ohlcs(['EURUSD', 'GBPUSD', 'USDCHF'])\n",
    "ext = fxl.externals(['EURUSD', 'GBPUSD'])\n",
    "\n",
    "df1 = scols(*data.values(), keys=data.keys())\n",
    "df2 = data\n",
    "df3 = data['EURUSD']"
   ]
  },
  {
   "cell_type": "code",
   "execution_count": 3,
   "metadata": {},
   "outputs": [],
   "source": [
    "with DataSource('databank_ads::quotes') as ds:\n",
    "    ticks = ds.load_data(['MT5_PROXY:NDXM', 'MT5_PROXY:ENQ', 'MT5_PROXY:EP'], '2020-11-19 00:00', '2020-12-03 12:00')"
   ]
  },
  {
   "cell_type": "markdown",
   "metadata": {},
   "source": [
    "<hr/>\n",
    "<h3>How to iterate through every symbol in market data</h3>\n",
    "<hr/>"
   ]
  },
  {
   "cell_type": "code",
   "execution_count": 3,
   "metadata": {},
   "outputs": [
    {
     "data": {
      "text/html": [
       "<pre style=\"white-space:pre;overflow-x:auto;line-height:normal;font-family:Menlo,'DejaVu Sans Mono',consolas,'Courier New',monospace\">USDCHF                 open      high       low     close    volume\n",
       "time                                                        \n",
       "<span style=\"color: #008000; font-weight: bold\">2020</span>-<span style=\"color: #008000; font-weight: bold\">03</span>-<span style=\"color: #008000; font-weight: bold\">01</span>  <span style=\"color: #008000; font-weight: bold\">0.963300</span>  <span style=\"color: #008000; font-weight: bold\">0.964550</span>  <span style=\"color: #008000; font-weight: bold\">0.962005</span>  <span style=\"color: #008000; font-weight: bold\">0.963975</span>    <span style=\"color: #008000; font-weight: bold\">4107.0</span>\n",
       "<span style=\"color: #008000; font-weight: bold\">2020</span>-<span style=\"color: #008000; font-weight: bold\">03</span>-<span style=\"color: #008000; font-weight: bold\">02</span>  <span style=\"color: #008000; font-weight: bold\">0.963975</span>  <span style=\"color: #008000; font-weight: bold\">0.965525</span>  <span style=\"color: #008000; font-weight: bold\">0.954375</span>  <span style=\"color: #008000; font-weight: bold\">0.958385</span>  <span style=\"color: #008000; font-weight: bold\">113898.0</span>\n",
       "<span style=\"color: #008000; font-weight: bold\">2020</span>-<span style=\"color: #008000; font-weight: bold\">03</span>-<span style=\"color: #008000; font-weight: bold\">03</span>  <span style=\"color: #008000; font-weight: bold\">0.958395</span>  <span style=\"color: #008000; font-weight: bold\">0.959715</span>  <span style=\"color: #008000; font-weight: bold\">0.951565</span>  <span style=\"color: #008000; font-weight: bold\">0.955795</span>  <span style=\"color: #008000; font-weight: bold\">117846.0</span>\n",
       "<span style=\"color: #008000; font-weight: bold\">2020</span>-<span style=\"color: #008000; font-weight: bold\">03</span>-<span style=\"color: #008000; font-weight: bold\">04</span>  <span style=\"color: #008000; font-weight: bold\">0.955780</span>  <span style=\"color: #008000; font-weight: bold\">0.959725</span>  <span style=\"color: #008000; font-weight: bold\">0.953265</span>  <span style=\"color: #008000; font-weight: bold\">0.956705</span>   <span style=\"color: #008000; font-weight: bold\">72535.0</span>\n",
       "<span style=\"color: #008000; font-weight: bold\">2020</span>-<span style=\"color: #008000; font-weight: bold\">03</span>-<span style=\"color: #008000; font-weight: bold\">05</span>  <span style=\"color: #008000; font-weight: bold\">0.956630</span>  <span style=\"color: #008000; font-weight: bold\">0.957180</span>  <span style=\"color: #008000; font-weight: bold\">0.944680</span>  <span style=\"color: #008000; font-weight: bold\">0.945915</span>   <span style=\"color: #008000; font-weight: bold\">75815.0</span>\n",
       "<span style=\"color: #808000\">...</span>              <span style=\"color: #808000\">...</span>       <span style=\"color: #808000\">...</span>       <span style=\"color: #808000\">...</span>       <span style=\"color: #808000\">...</span>       <span style=\"color: #808000\">...</span>\n",
       "<span style=\"color: #008000; font-weight: bold\">2020</span>-<span style=\"color: #008000; font-weight: bold\">11</span>-<span style=\"color: #008000; font-weight: bold\">22</span>  <span style=\"color: #008000; font-weight: bold\">0.911250</span>  <span style=\"color: #008000; font-weight: bold\">0.911515</span>  <span style=\"color: #008000; font-weight: bold\">0.910615</span>  <span style=\"color: #008000; font-weight: bold\">0.910655</span>    <span style=\"color: #008000; font-weight: bold\">2576.0</span>\n",
       "<span style=\"color: #008000; font-weight: bold\">2020</span>-<span style=\"color: #008000; font-weight: bold\">11</span>-<span style=\"color: #008000; font-weight: bold\">23</span>  <span style=\"color: #008000; font-weight: bold\">0.910660</span>  <span style=\"color: #008000; font-weight: bold\">0.914805</span>  <span style=\"color: #008000; font-weight: bold\">0.907630</span>  <span style=\"color: #008000; font-weight: bold\">0.912490</span>   <span style=\"color: #008000; font-weight: bold\">48958.0</span>\n",
       "<span style=\"color: #008000; font-weight: bold\">2020</span>-<span style=\"color: #008000; font-weight: bold\">11</span>-<span style=\"color: #008000; font-weight: bold\">24</span>  <span style=\"color: #008000; font-weight: bold\">0.912445</span>  <span style=\"color: #008000; font-weight: bold\">0.913660</span>  <span style=\"color: #008000; font-weight: bold\">0.909790</span>  <span style=\"color: #008000; font-weight: bold\">0.910955</span>   <span style=\"color: #008000; font-weight: bold\">49340.0</span>\n",
       "<span style=\"color: #008000; font-weight: bold\">2020</span>-<span style=\"color: #008000; font-weight: bold\">11</span>-<span style=\"color: #008000; font-weight: bold\">25</span>  <span style=\"color: #008000; font-weight: bold\">0.910950</span>  <span style=\"color: #008000; font-weight: bold\">0.913915</span>  <span style=\"color: #008000; font-weight: bold\">0.907805</span>  <span style=\"color: #008000; font-weight: bold\">0.908235</span>   <span style=\"color: #008000; font-weight: bold\">57301.0</span>\n",
       "<span style=\"color: #008000; font-weight: bold\">2020</span>-<span style=\"color: #008000; font-weight: bold\">11</span>-<span style=\"color: #008000; font-weight: bold\">26</span>  <span style=\"color: #008000; font-weight: bold\">0.908200</span>  <span style=\"color: #008000; font-weight: bold\">0.909355</span>  <span style=\"color: #008000; font-weight: bold\">0.906040</span>  <span style=\"color: #008000; font-weight: bold\">0.906550</span>   <span style=\"color: #008000; font-weight: bold\">39572.0</span>\n",
       "\n",
       "<span style=\"font-weight: bold\">[</span><span style=\"color: #008000; font-weight: bold\">233</span> rows x <span style=\"color: #008000; font-weight: bold\">5</span> columns<span style=\"font-weight: bold\">]</span>\n",
       "</pre>\n"
      ],
      "text/plain": [
       "<rich.jupyter.JupyterRenderable at 0x7fe4e1444128>"
      ]
     },
     "metadata": {},
     "output_type": "display_data"
    },
    {
     "data": {
      "text/html": [
       "<pre style=\"white-space:pre;overflow-x:auto;line-height:normal;font-family:Menlo,'DejaVu Sans Mono',consolas,'Courier New',monospace\"><span style=\"color: #800000\">===================</span>\n",
       "</pre>\n"
      ],
      "text/plain": [
       "<rich.jupyter.JupyterRenderable at 0x7fe4e12a4748>"
      ]
     },
     "metadata": {},
     "output_type": "display_data"
    },
    {
     "data": {
      "text/html": [
       "<pre style=\"white-space:pre;overflow-x:auto;line-height:normal;font-family:Menlo,'DejaVu Sans Mono',consolas,'Courier New',monospace\">EURUSD                 open      high       low     close    volume\n",
       "time                                                        \n",
       "<span style=\"color: #008000; font-weight: bold\">2020</span>-<span style=\"color: #008000; font-weight: bold\">03</span>-<span style=\"color: #008000; font-weight: bold\">01</span>  <span style=\"color: #008000; font-weight: bold\">1.104525</span>  <span style=\"color: #008000; font-weight: bold\">1.107395</span>  <span style=\"color: #008000; font-weight: bold\">1.104000</span>  <span style=\"color: #008000; font-weight: bold\">1.105175</span>    <span style=\"color: #008000; font-weight: bold\">7014.0</span>\n",
       "<span style=\"color: #008000; font-weight: bold\">2020</span>-<span style=\"color: #008000; font-weight: bold\">03</span>-<span style=\"color: #008000; font-weight: bold\">02</span>  <span style=\"color: #008000; font-weight: bold\">1.105210</span>  <span style=\"color: #008000; font-weight: bold\">1.118465</span>  <span style=\"color: #008000; font-weight: bold\">1.103640</span>  <span style=\"color: #008000; font-weight: bold\">1.114450</span>  <span style=\"color: #008000; font-weight: bold\">176525.0</span>\n",
       "<span style=\"color: #008000; font-weight: bold\">2020</span>-<span style=\"color: #008000; font-weight: bold\">03</span>-<span style=\"color: #008000; font-weight: bold\">03</span>  <span style=\"color: #008000; font-weight: bold\">1.114445</span>  <span style=\"color: #008000; font-weight: bold\">1.121375</span>  <span style=\"color: #008000; font-weight: bold\">1.109545</span>  <span style=\"color: #008000; font-weight: bold\">1.117660</span>  <span style=\"color: #008000; font-weight: bold\">166207.0</span>\n",
       "<span style=\"color: #008000; font-weight: bold\">2020</span>-<span style=\"color: #008000; font-weight: bold\">03</span>-<span style=\"color: #008000; font-weight: bold\">04</span>  <span style=\"color: #008000; font-weight: bold\">1.117695</span>  <span style=\"color: #008000; font-weight: bold\">1.118760</span>  <span style=\"color: #008000; font-weight: bold\">1.109565</span>  <span style=\"color: #008000; font-weight: bold\">1.113830</span>  <span style=\"color: #008000; font-weight: bold\">120667.0</span>\n",
       "<span style=\"color: #008000; font-weight: bold\">2020</span>-<span style=\"color: #008000; font-weight: bold\">03</span>-<span style=\"color: #008000; font-weight: bold\">05</span>  <span style=\"color: #008000; font-weight: bold\">1.113840</span>  <span style=\"color: #008000; font-weight: bold\">1.124485</span>  <span style=\"color: #008000; font-weight: bold\">1.111965</span>  <span style=\"color: #008000; font-weight: bold\">1.122260</span>  <span style=\"color: #008000; font-weight: bold\">117774.0</span>\n",
       "<span style=\"color: #808000\">...</span>              <span style=\"color: #808000\">...</span>       <span style=\"color: #808000\">...</span>       <span style=\"color: #808000\">...</span>       <span style=\"color: #808000\">...</span>       <span style=\"color: #808000\">...</span>\n",
       "<span style=\"color: #008000; font-weight: bold\">2020</span>-<span style=\"color: #008000; font-weight: bold\">11</span>-<span style=\"color: #008000; font-weight: bold\">22</span>  <span style=\"color: #008000; font-weight: bold\">1.185510</span>  <span style=\"color: #008000; font-weight: bold\">1.186615</span>  <span style=\"color: #008000; font-weight: bold\">1.185445</span>  <span style=\"color: #008000; font-weight: bold\">1.186565</span>    <span style=\"color: #008000; font-weight: bold\">3002.0</span>\n",
       "<span style=\"color: #008000; font-weight: bold\">2020</span>-<span style=\"color: #008000; font-weight: bold\">11</span>-<span style=\"color: #008000; font-weight: bold\">23</span>  <span style=\"color: #008000; font-weight: bold\">1.186570</span>  <span style=\"color: #008000; font-weight: bold\">1.190610</span>  <span style=\"color: #008000; font-weight: bold\">1.179990</span>  <span style=\"color: #008000; font-weight: bold\">1.184240</span>   <span style=\"color: #008000; font-weight: bold\">90178.0</span>\n",
       "<span style=\"color: #008000; font-weight: bold\">2020</span>-<span style=\"color: #008000; font-weight: bold\">11</span>-<span style=\"color: #008000; font-weight: bold\">24</span>  <span style=\"color: #008000; font-weight: bold\">1.184245</span>  <span style=\"color: #008000; font-weight: bold\">1.189795</span>  <span style=\"color: #008000; font-weight: bold\">1.183855</span>  <span style=\"color: #008000; font-weight: bold\">1.189755</span>   <span style=\"color: #008000; font-weight: bold\">96170.0</span>\n",
       "<span style=\"color: #008000; font-weight: bold\">2020</span>-<span style=\"color: #008000; font-weight: bold\">11</span>-<span style=\"color: #008000; font-weight: bold\">25</span>  <span style=\"color: #008000; font-weight: bold\">1.189775</span>  <span style=\"color: #008000; font-weight: bold\">1.192980</span>  <span style=\"color: #008000; font-weight: bold\">1.188190</span>  <span style=\"color: #008000; font-weight: bold\">1.191645</span>   <span style=\"color: #008000; font-weight: bold\">99708.0</span>\n",
       "<span style=\"color: #008000; font-weight: bold\">2020</span>-<span style=\"color: #008000; font-weight: bold\">11</span>-<span style=\"color: #008000; font-weight: bold\">26</span>  <span style=\"color: #008000; font-weight: bold\">1.191655</span>  <span style=\"color: #008000; font-weight: bold\">1.194095</span>  <span style=\"color: #008000; font-weight: bold\">1.188535</span>  <span style=\"color: #008000; font-weight: bold\">1.191105</span>   <span style=\"color: #008000; font-weight: bold\">63984.0</span>\n",
       "\n",
       "<span style=\"font-weight: bold\">[</span><span style=\"color: #008000; font-weight: bold\">233</span> rows x <span style=\"color: #008000; font-weight: bold\">5</span> columns<span style=\"font-weight: bold\">]</span>\n",
       "</pre>\n"
      ],
      "text/plain": [
       "<rich.jupyter.JupyterRenderable at 0x7fe4e12a4518>"
      ]
     },
     "metadata": {},
     "output_type": "display_data"
    },
    {
     "data": {
      "text/html": [
       "<pre style=\"white-space:pre;overflow-x:auto;line-height:normal;font-family:Menlo,'DejaVu Sans Mono',consolas,'Courier New',monospace\"><span style=\"color: #800000\">===================</span>\n",
       "</pre>\n"
      ],
      "text/plain": [
       "<rich.jupyter.JupyterRenderable at 0x7fe4e1436c50>"
      ]
     },
     "metadata": {},
     "output_type": "display_data"
    },
    {
     "data": {
      "text/html": [
       "<pre style=\"white-space:pre;overflow-x:auto;line-height:normal;font-family:Menlo,'DejaVu Sans Mono',consolas,'Courier New',monospace\">GBPUSD                 open      high       low     close    volume\n",
       "time                                                        \n",
       "<span style=\"color: #008000; font-weight: bold\">2020</span>-<span style=\"color: #008000; font-weight: bold\">03</span>-<span style=\"color: #008000; font-weight: bold\">01</span>  <span style=\"color: #008000; font-weight: bold\">1.279115</span>  <span style=\"color: #008000; font-weight: bold\">1.282495</span>  <span style=\"color: #008000; font-weight: bold\">1.279110</span>  <span style=\"color: #008000; font-weight: bold\">1.280440</span>    <span style=\"color: #008000; font-weight: bold\">7570.0</span>\n",
       "<span style=\"color: #008000; font-weight: bold\">2020</span>-<span style=\"color: #008000; font-weight: bold\">03</span>-<span style=\"color: #008000; font-weight: bold\">02</span>  <span style=\"color: #008000; font-weight: bold\">1.280450</span>  <span style=\"color: #008000; font-weight: bold\">1.285090</span>  <span style=\"color: #008000; font-weight: bold\">1.273985</span>  <span style=\"color: #008000; font-weight: bold\">1.276675</span>  <span style=\"color: #008000; font-weight: bold\">177445.0</span>\n",
       "<span style=\"color: #008000; font-weight: bold\">2020</span>-<span style=\"color: #008000; font-weight: bold\">03</span>-<span style=\"color: #008000; font-weight: bold\">03</span>  <span style=\"color: #008000; font-weight: bold\">1.276675</span>  <span style=\"color: #008000; font-weight: bold\">1.284400</span>  <span style=\"color: #008000; font-weight: bold\">1.275855</span>  <span style=\"color: #008000; font-weight: bold\">1.282000</span>  <span style=\"color: #008000; font-weight: bold\">180221.0</span>\n",
       "<span style=\"color: #008000; font-weight: bold\">2020</span>-<span style=\"color: #008000; font-weight: bold\">03</span>-<span style=\"color: #008000; font-weight: bold\">04</span>  <span style=\"color: #008000; font-weight: bold\">1.282000</span>  <span style=\"color: #008000; font-weight: bold\">1.287310</span>  <span style=\"color: #008000; font-weight: bold\">1.277025</span>  <span style=\"color: #008000; font-weight: bold\">1.287135</span>  <span style=\"color: #008000; font-weight: bold\">123342.0</span>\n",
       "<span style=\"color: #008000; font-weight: bold\">2020</span>-<span style=\"color: #008000; font-weight: bold\">03</span>-<span style=\"color: #008000; font-weight: bold\">05</span>  <span style=\"color: #008000; font-weight: bold\">1.287135</span>  <span style=\"color: #008000; font-weight: bold\">1.296870</span>  <span style=\"color: #008000; font-weight: bold\">1.286100</span>  <span style=\"color: #008000; font-weight: bold\">1.294940</span>  <span style=\"color: #008000; font-weight: bold\">112024.0</span>\n",
       "<span style=\"color: #808000\">...</span>              <span style=\"color: #808000\">...</span>       <span style=\"color: #808000\">...</span>       <span style=\"color: #808000\">...</span>       <span style=\"color: #808000\">...</span>       <span style=\"color: #808000\">...</span>\n",
       "<span style=\"color: #008000; font-weight: bold\">2020</span>-<span style=\"color: #008000; font-weight: bold\">11</span>-<span style=\"color: #008000; font-weight: bold\">22</span>  <span style=\"color: #008000; font-weight: bold\">1.329490</span>  <span style=\"color: #008000; font-weight: bold\">1.330490</span>  <span style=\"color: #008000; font-weight: bold\">1.328105</span>  <span style=\"color: #008000; font-weight: bold\">1.330370</span>    <span style=\"color: #008000; font-weight: bold\">4302.0</span>\n",
       "<span style=\"color: #008000; font-weight: bold\">2020</span>-<span style=\"color: #008000; font-weight: bold\">11</span>-<span style=\"color: #008000; font-weight: bold\">23</span>  <span style=\"color: #008000; font-weight: bold\">1.330350</span>  <span style=\"color: #008000; font-weight: bold\">1.339780</span>  <span style=\"color: #008000; font-weight: bold\">1.326390</span>  <span style=\"color: #008000; font-weight: bold\">1.332640</span>   <span style=\"color: #008000; font-weight: bold\">97513.0</span>\n",
       "<span style=\"color: #008000; font-weight: bold\">2020</span>-<span style=\"color: #008000; font-weight: bold\">11</span>-<span style=\"color: #008000; font-weight: bold\">24</span>  <span style=\"color: #008000; font-weight: bold\">1.332635</span>  <span style=\"color: #008000; font-weight: bold\">1.338050</span>  <span style=\"color: #008000; font-weight: bold\">1.329310</span>  <span style=\"color: #008000; font-weight: bold\">1.336175</span>  <span style=\"color: #008000; font-weight: bold\">100896.0</span>\n",
       "<span style=\"color: #008000; font-weight: bold\">2020</span>-<span style=\"color: #008000; font-weight: bold\">11</span>-<span style=\"color: #008000; font-weight: bold\">25</span>  <span style=\"color: #008000; font-weight: bold\">1.336185</span>  <span style=\"color: #008000; font-weight: bold\">1.339350</span>  <span style=\"color: #008000; font-weight: bold\">1.330415</span>  <span style=\"color: #008000; font-weight: bold\">1.338340</span>  <span style=\"color: #008000; font-weight: bold\">102676.0</span>\n",
       "<span style=\"color: #008000; font-weight: bold\">2020</span>-<span style=\"color: #008000; font-weight: bold\">11</span>-<span style=\"color: #008000; font-weight: bold\">26</span>  <span style=\"color: #008000; font-weight: bold\">1.338355</span>  <span style=\"color: #008000; font-weight: bold\">1.339795</span>  <span style=\"color: #008000; font-weight: bold\">1.332215</span>  <span style=\"color: #008000; font-weight: bold\">1.335360</span>   <span style=\"color: #008000; font-weight: bold\">70479.0</span>\n",
       "\n",
       "<span style=\"font-weight: bold\">[</span><span style=\"color: #008000; font-weight: bold\">233</span> rows x <span style=\"color: #008000; font-weight: bold\">5</span> columns<span style=\"font-weight: bold\">]</span>\n",
       "</pre>\n"
      ],
      "text/plain": [
       "<rich.jupyter.JupyterRenderable at 0x7fe4e1436dd8>"
      ]
     },
     "metadata": {},
     "output_type": "display_data"
    },
    {
     "data": {
      "text/html": [
       "<pre style=\"white-space:pre;overflow-x:auto;line-height:normal;font-family:Menlo,'DejaVu Sans Mono',consolas,'Courier New',monospace\"><span style=\"color: #800000\">===================</span>\n",
       "</pre>\n"
      ],
      "text/plain": [
       "<rich.jupyter.JupyterRenderable at 0x7fe4e12a4630>"
      ]
     },
     "metadata": {},
     "output_type": "display_data"
    }
   ],
   "source": [
    "for s, v in SingleInstrumentPicker(timeframe='1d').for_range('2020-03-01').iterate(df1):\n",
    "    print(s, v)\n",
    "    print('[red]===================')"
   ]
  },
  {
   "cell_type": "markdown",
   "metadata": {},
   "source": [
    "<hr/>\n",
    "<h3>How to iterate through whole portfolio of symbols</h3>\n",
    "<hr/>"
   ]
  },
  {
   "cell_type": "code",
   "execution_count": null,
   "metadata": {},
   "outputs": [],
   "source": [
    "for s, v in PortfolioPicker(timeframe='1d').iterate(df1):\n",
    "    print(s)\n",
    "    print(v)"
   ]
  },
  {
   "cell_type": "code",
   "execution_count": 7,
   "metadata": {},
   "outputs": [
    {
     "data": {
      "text/html": [
       "<div>\n",
       "<style scoped>\n",
       "    .dataframe tbody tr th:only-of-type {\n",
       "        vertical-align: middle;\n",
       "    }\n",
       "\n",
       "    .dataframe tbody tr th {\n",
       "        vertical-align: top;\n",
       "    }\n",
       "\n",
       "    .dataframe thead tr th {\n",
       "        text-align: left;\n",
       "    }\n",
       "\n",
       "    .dataframe thead tr:last-of-type th {\n",
       "        text-align: right;\n",
       "    }\n",
       "</style>\n",
       "<table border=\"1\" class=\"dataframe\">\n",
       "  <thead>\n",
       "    <tr>\n",
       "      <th></th>\n",
       "      <th colspan=\"5\" halign=\"left\">GBPUSD</th>\n",
       "      <th colspan=\"5\" halign=\"left\">USDCHF</th>\n",
       "      <th colspan=\"5\" halign=\"left\">EURUSD</th>\n",
       "    </tr>\n",
       "    <tr>\n",
       "      <th></th>\n",
       "      <th>open</th>\n",
       "      <th>high</th>\n",
       "      <th>low</th>\n",
       "      <th>close</th>\n",
       "      <th>volume</th>\n",
       "      <th>open</th>\n",
       "      <th>high</th>\n",
       "      <th>low</th>\n",
       "      <th>close</th>\n",
       "      <th>volume</th>\n",
       "      <th>open</th>\n",
       "      <th>high</th>\n",
       "      <th>low</th>\n",
       "      <th>close</th>\n",
       "      <th>volume</th>\n",
       "    </tr>\n",
       "    <tr>\n",
       "      <th>time</th>\n",
       "      <th></th>\n",
       "      <th></th>\n",
       "      <th></th>\n",
       "      <th></th>\n",
       "      <th></th>\n",
       "      <th></th>\n",
       "      <th></th>\n",
       "      <th></th>\n",
       "      <th></th>\n",
       "      <th></th>\n",
       "      <th></th>\n",
       "      <th></th>\n",
       "      <th></th>\n",
       "      <th></th>\n",
       "      <th></th>\n",
       "    </tr>\n",
       "  </thead>\n",
       "  <tbody>\n",
       "    <tr>\n",
       "      <th>2014-01-01</th>\n",
       "      <td>1.656550</td>\n",
       "      <td>1.659245</td>\n",
       "      <td>1.655980</td>\n",
       "      <td>1.657745</td>\n",
       "      <td>1561.0</td>\n",
       "      <td>0.891710</td>\n",
       "      <td>0.892855</td>\n",
       "      <td>0.891315</td>\n",
       "      <td>0.891575</td>\n",
       "      <td>1690.0</td>\n",
       "      <td>1.375950</td>\n",
       "      <td>1.377350</td>\n",
       "      <td>1.374065</td>\n",
       "      <td>1.376600</td>\n",
       "      <td>2079.0</td>\n",
       "    </tr>\n",
       "    <tr>\n",
       "      <th>2014-01-02</th>\n",
       "      <td>1.657720</td>\n",
       "      <td>1.660340</td>\n",
       "      <td>1.641165</td>\n",
       "      <td>1.644900</td>\n",
       "      <td>71502.0</td>\n",
       "      <td>0.891595</td>\n",
       "      <td>0.902870</td>\n",
       "      <td>0.890875</td>\n",
       "      <td>0.899275</td>\n",
       "      <td>67356.0</td>\n",
       "      <td>1.376600</td>\n",
       "      <td>1.377505</td>\n",
       "      <td>1.362975</td>\n",
       "      <td>1.366545</td>\n",
       "      <td>77624.0</td>\n",
       "    </tr>\n",
       "    <tr>\n",
       "      <th>2014-01-03</th>\n",
       "      <td>1.644910</td>\n",
       "      <td>1.647395</td>\n",
       "      <td>1.639545</td>\n",
       "      <td>1.641865</td>\n",
       "      <td>58463.0</td>\n",
       "      <td>0.899285</td>\n",
       "      <td>0.905785</td>\n",
       "      <td>0.898945</td>\n",
       "      <td>0.905170</td>\n",
       "      <td>49271.0</td>\n",
       "      <td>1.366545</td>\n",
       "      <td>1.367215</td>\n",
       "      <td>1.358240</td>\n",
       "      <td>1.358870</td>\n",
       "      <td>65606.0</td>\n",
       "    </tr>\n",
       "    <tr>\n",
       "      <th>2014-01-05</th>\n",
       "      <td>1.640405</td>\n",
       "      <td>1.641650</td>\n",
       "      <td>1.639955</td>\n",
       "      <td>1.641155</td>\n",
       "      <td>1981.0</td>\n",
       "      <td>0.904975</td>\n",
       "      <td>0.905530</td>\n",
       "      <td>0.904295</td>\n",
       "      <td>0.905325</td>\n",
       "      <td>1597.0</td>\n",
       "      <td>1.359455</td>\n",
       "      <td>1.360060</td>\n",
       "      <td>1.358920</td>\n",
       "      <td>1.359570</td>\n",
       "      <td>1927.0</td>\n",
       "    </tr>\n",
       "    <tr>\n",
       "      <th>2014-01-06</th>\n",
       "      <td>1.641170</td>\n",
       "      <td>1.643390</td>\n",
       "      <td>1.633760</td>\n",
       "      <td>1.641350</td>\n",
       "      <td>59532.0</td>\n",
       "      <td>0.905320</td>\n",
       "      <td>0.907040</td>\n",
       "      <td>0.902025</td>\n",
       "      <td>0.903935</td>\n",
       "      <td>49053.0</td>\n",
       "      <td>1.359575</td>\n",
       "      <td>1.365300</td>\n",
       "      <td>1.357160</td>\n",
       "      <td>1.362975</td>\n",
       "      <td>66351.0</td>\n",
       "    </tr>\n",
       "    <tr>\n",
       "      <th>...</th>\n",
       "      <td>...</td>\n",
       "      <td>...</td>\n",
       "      <td>...</td>\n",
       "      <td>...</td>\n",
       "      <td>...</td>\n",
       "      <td>...</td>\n",
       "      <td>...</td>\n",
       "      <td>...</td>\n",
       "      <td>...</td>\n",
       "      <td>...</td>\n",
       "      <td>...</td>\n",
       "      <td>...</td>\n",
       "      <td>...</td>\n",
       "      <td>...</td>\n",
       "      <td>...</td>\n",
       "    </tr>\n",
       "    <tr>\n",
       "      <th>2020-11-22</th>\n",
       "      <td>1.329490</td>\n",
       "      <td>1.330490</td>\n",
       "      <td>1.328105</td>\n",
       "      <td>1.330370</td>\n",
       "      <td>4302.0</td>\n",
       "      <td>0.911250</td>\n",
       "      <td>0.911515</td>\n",
       "      <td>0.910615</td>\n",
       "      <td>0.910655</td>\n",
       "      <td>2576.0</td>\n",
       "      <td>1.185510</td>\n",
       "      <td>1.186615</td>\n",
       "      <td>1.185445</td>\n",
       "      <td>1.186565</td>\n",
       "      <td>3002.0</td>\n",
       "    </tr>\n",
       "    <tr>\n",
       "      <th>2020-11-23</th>\n",
       "      <td>1.330350</td>\n",
       "      <td>1.339780</td>\n",
       "      <td>1.326390</td>\n",
       "      <td>1.332640</td>\n",
       "      <td>97513.0</td>\n",
       "      <td>0.910660</td>\n",
       "      <td>0.914805</td>\n",
       "      <td>0.907630</td>\n",
       "      <td>0.912490</td>\n",
       "      <td>48958.0</td>\n",
       "      <td>1.186570</td>\n",
       "      <td>1.190610</td>\n",
       "      <td>1.179990</td>\n",
       "      <td>1.184240</td>\n",
       "      <td>90178.0</td>\n",
       "    </tr>\n",
       "    <tr>\n",
       "      <th>2020-11-24</th>\n",
       "      <td>1.332635</td>\n",
       "      <td>1.338050</td>\n",
       "      <td>1.329310</td>\n",
       "      <td>1.336175</td>\n",
       "      <td>100896.0</td>\n",
       "      <td>0.912445</td>\n",
       "      <td>0.913660</td>\n",
       "      <td>0.909790</td>\n",
       "      <td>0.910955</td>\n",
       "      <td>49340.0</td>\n",
       "      <td>1.184245</td>\n",
       "      <td>1.189795</td>\n",
       "      <td>1.183855</td>\n",
       "      <td>1.189755</td>\n",
       "      <td>96170.0</td>\n",
       "    </tr>\n",
       "    <tr>\n",
       "      <th>2020-11-25</th>\n",
       "      <td>1.336185</td>\n",
       "      <td>1.339350</td>\n",
       "      <td>1.330415</td>\n",
       "      <td>1.338340</td>\n",
       "      <td>102676.0</td>\n",
       "      <td>0.910950</td>\n",
       "      <td>0.913915</td>\n",
       "      <td>0.907805</td>\n",
       "      <td>0.908235</td>\n",
       "      <td>57301.0</td>\n",
       "      <td>1.189775</td>\n",
       "      <td>1.192980</td>\n",
       "      <td>1.188190</td>\n",
       "      <td>1.191645</td>\n",
       "      <td>99708.0</td>\n",
       "    </tr>\n",
       "    <tr>\n",
       "      <th>2020-11-26</th>\n",
       "      <td>1.338355</td>\n",
       "      <td>1.339795</td>\n",
       "      <td>1.332215</td>\n",
       "      <td>1.335360</td>\n",
       "      <td>70479.0</td>\n",
       "      <td>0.908200</td>\n",
       "      <td>0.909355</td>\n",
       "      <td>0.906040</td>\n",
       "      <td>0.906550</td>\n",
       "      <td>39572.0</td>\n",
       "      <td>1.191655</td>\n",
       "      <td>1.194095</td>\n",
       "      <td>1.188535</td>\n",
       "      <td>1.191105</td>\n",
       "      <td>63984.0</td>\n",
       "    </tr>\n",
       "  </tbody>\n",
       "</table>\n",
       "<p>2155 rows × 15 columns</p>\n",
       "</div>"
      ],
      "text/plain": [
       "              GBPUSD                                            USDCHF  \\\n",
       "                open      high       low     close    volume      open   \n",
       "time                                                                     \n",
       "2014-01-01  1.656550  1.659245  1.655980  1.657745    1561.0  0.891710   \n",
       "2014-01-02  1.657720  1.660340  1.641165  1.644900   71502.0  0.891595   \n",
       "2014-01-03  1.644910  1.647395  1.639545  1.641865   58463.0  0.899285   \n",
       "2014-01-05  1.640405  1.641650  1.639955  1.641155    1981.0  0.904975   \n",
       "2014-01-06  1.641170  1.643390  1.633760  1.641350   59532.0  0.905320   \n",
       "...              ...       ...       ...       ...       ...       ...   \n",
       "2020-11-22  1.329490  1.330490  1.328105  1.330370    4302.0  0.911250   \n",
       "2020-11-23  1.330350  1.339780  1.326390  1.332640   97513.0  0.910660   \n",
       "2020-11-24  1.332635  1.338050  1.329310  1.336175  100896.0  0.912445   \n",
       "2020-11-25  1.336185  1.339350  1.330415  1.338340  102676.0  0.910950   \n",
       "2020-11-26  1.338355  1.339795  1.332215  1.335360   70479.0  0.908200   \n",
       "\n",
       "                                                     EURUSD            \\\n",
       "                high       low     close   volume      open      high   \n",
       "time                                                                    \n",
       "2014-01-01  0.892855  0.891315  0.891575   1690.0  1.375950  1.377350   \n",
       "2014-01-02  0.902870  0.890875  0.899275  67356.0  1.376600  1.377505   \n",
       "2014-01-03  0.905785  0.898945  0.905170  49271.0  1.366545  1.367215   \n",
       "2014-01-05  0.905530  0.904295  0.905325   1597.0  1.359455  1.360060   \n",
       "2014-01-06  0.907040  0.902025  0.903935  49053.0  1.359575  1.365300   \n",
       "...              ...       ...       ...      ...       ...       ...   \n",
       "2020-11-22  0.911515  0.910615  0.910655   2576.0  1.185510  1.186615   \n",
       "2020-11-23  0.914805  0.907630  0.912490  48958.0  1.186570  1.190610   \n",
       "2020-11-24  0.913660  0.909790  0.910955  49340.0  1.184245  1.189795   \n",
       "2020-11-25  0.913915  0.907805  0.908235  57301.0  1.189775  1.192980   \n",
       "2020-11-26  0.909355  0.906040  0.906550  39572.0  1.191655  1.194095   \n",
       "\n",
       "                                         \n",
       "                 low     close   volume  \n",
       "time                                     \n",
       "2014-01-01  1.374065  1.376600   2079.0  \n",
       "2014-01-02  1.362975  1.366545  77624.0  \n",
       "2014-01-03  1.358240  1.358870  65606.0  \n",
       "2014-01-05  1.358920  1.359570   1927.0  \n",
       "2014-01-06  1.357160  1.362975  66351.0  \n",
       "...              ...       ...      ...  \n",
       "2020-11-22  1.185445  1.186565   3002.0  \n",
       "2020-11-23  1.179990  1.184240  90178.0  \n",
       "2020-11-24  1.183855  1.189755  96170.0  \n",
       "2020-11-25  1.188190  1.191645  99708.0  \n",
       "2020-11-26  1.188535  1.191105  63984.0  \n",
       "\n",
       "[2155 rows x 15 columns]"
      ]
     },
     "execution_count": 7,
     "metadata": {},
     "output_type": "execute_result"
    }
   ],
   "source": [
    "v"
   ]
  },
  {
   "cell_type": "markdown",
   "metadata": {},
   "source": [
    "<hr/>\n",
    "<h3>Forward returns producers</h3>\n",
    "<hr/>"
   ]
  },
  {
   "cell_type": "code",
   "execution_count": 4,
   "metadata": {},
   "outputs": [
    {
     "data": {
      "text/html": [
       "<pre style=\"white-space:pre;overflow-x:auto;line-height:normal;font-family:Menlo,'DejaVu Sans Mono',consolas,'Courier New',monospace\">time\n",
       "<span style=\"color: #008000; font-weight: bold\">2014</span>-<span style=\"color: #008000; font-weight: bold\">01</span>-<span style=\"color: #008000; font-weight: bold\">01</span>    <span style=\"color: #008000; font-weight: bold\">1005.5</span>\n",
       "<span style=\"color: #008000; font-weight: bold\">2014</span>-<span style=\"color: #008000; font-weight: bold\">01</span>-<span style=\"color: #008000; font-weight: bold\">02</span>     <span style=\"color: #008000; font-weight: bold\">767.5</span>\n",
       "<span style=\"color: #008000; font-weight: bold\">2014</span>-<span style=\"color: #008000; font-weight: bold\">01</span>-<span style=\"color: #008000; font-weight: bold\">03</span>     <span style=\"color: #008000; font-weight: bold\">-70.0</span>\n",
       "<span style=\"color: #008000; font-weight: bold\">2014</span>-<span style=\"color: #008000; font-weight: bold\">01</span>-<span style=\"color: #008000; font-weight: bold\">05</span>    <span style=\"color: #008000; font-weight: bold\">-340.5</span>\n",
       "<span style=\"color: #008000; font-weight: bold\">2014</span>-<span style=\"color: #008000; font-weight: bold\">01</span>-<span style=\"color: #008000; font-weight: bold\">06</span>     <span style=\"color: #008000; font-weight: bold\">125.5</span>\n",
       "               <span style=\"color: #808000\">...</span>  \n",
       "<span style=\"color: #008000; font-weight: bold\">2020</span>-<span style=\"color: #008000; font-weight: bold\">11</span>-<span style=\"color: #008000; font-weight: bold\">22</span>     <span style=\"color: #008000; font-weight: bold\">232.5</span>\n",
       "<span style=\"color: #008000; font-weight: bold\">2020</span>-<span style=\"color: #008000; font-weight: bold\">11</span>-<span style=\"color: #008000; font-weight: bold\">23</span>    <span style=\"color: #008000; font-weight: bold\">-551.5</span>\n",
       "<span style=\"color: #008000; font-weight: bold\">2020</span>-<span style=\"color: #008000; font-weight: bold\">11</span>-<span style=\"color: #008000; font-weight: bold\">24</span>    <span style=\"color: #008000; font-weight: bold\">-189.0</span>\n",
       "<span style=\"color: #008000; font-weight: bold\">2020</span>-<span style=\"color: #008000; font-weight: bold\">11</span>-<span style=\"color: #008000; font-weight: bold\">25</span>      <span style=\"color: #008000; font-weight: bold\">54.0</span>\n",
       "<span style=\"color: #008000; font-weight: bold\">2020</span>-<span style=\"color: #008000; font-weight: bold\">11</span>-<span style=\"color: #008000; font-weight: bold\">26</span>       <span style=\"color: #008000; font-weight: bold\">0.0</span>\n",
       "Name: returns, Length: <span style=\"color: #008000; font-weight: bold\">2155</span>, dtype: float64\n",
       "</pre>\n"
      ],
      "text/plain": [
       "<rich.jupyter.JupyterRenderable at 0x7fe4e1436b70>"
      ]
     },
     "metadata": {},
     "output_type": "display_data"
    },
    {
     "data": {
      "text/html": [
       "<pre style=\"white-space:pre;overflow-x:auto;line-height:normal;font-family:Menlo,'DejaVu Sans Mono',consolas,'Courier New',monospace\">time\n",
       "<span style=\"color: #008000; font-weight: bold\">2014</span>-<span style=\"color: #008000; font-weight: bold\">01</span>-<span style=\"color: #008000; font-weight: bold\">01</span>    <span style=\"color: #008000; font-weight: bold\">1</span>\n",
       "<span style=\"color: #008000; font-weight: bold\">2014</span>-<span style=\"color: #008000; font-weight: bold\">01</span>-<span style=\"color: #008000; font-weight: bold\">02</span>    <span style=\"color: #008000; font-weight: bold\">1</span>\n",
       "<span style=\"color: #008000; font-weight: bold\">2014</span>-<span style=\"color: #008000; font-weight: bold\">01</span>-<span style=\"color: #008000; font-weight: bold\">03</span>    <span style=\"color: #008000; font-weight: bold\">0</span>\n",
       "<span style=\"color: #008000; font-weight: bold\">2014</span>-<span style=\"color: #008000; font-weight: bold\">01</span>-<span style=\"color: #008000; font-weight: bold\">05</span>    <span style=\"color: #008000; font-weight: bold\">0</span>\n",
       "<span style=\"color: #008000; font-weight: bold\">2014</span>-<span style=\"color: #008000; font-weight: bold\">01</span>-<span style=\"color: #008000; font-weight: bold\">06</span>    <span style=\"color: #008000; font-weight: bold\">0</span>\n",
       "             ..\n",
       "<span style=\"color: #008000; font-weight: bold\">2020</span>-<span style=\"color: #008000; font-weight: bold\">11</span>-<span style=\"color: #008000; font-weight: bold\">22</span>    <span style=\"color: #008000; font-weight: bold\">0</span>\n",
       "<span style=\"color: #008000; font-weight: bold\">2020</span>-<span style=\"color: #008000; font-weight: bold\">11</span>-<span style=\"color: #008000; font-weight: bold\">23</span>   <span style=\"color: #008000; font-weight: bold\">-1</span>\n",
       "<span style=\"color: #008000; font-weight: bold\">2020</span>-<span style=\"color: #008000; font-weight: bold\">11</span>-<span style=\"color: #008000; font-weight: bold\">24</span>    <span style=\"color: #008000; font-weight: bold\">0</span>\n",
       "<span style=\"color: #008000; font-weight: bold\">2020</span>-<span style=\"color: #008000; font-weight: bold\">11</span>-<span style=\"color: #008000; font-weight: bold\">25</span>    <span style=\"color: #008000; font-weight: bold\">0</span>\n",
       "<span style=\"color: #008000; font-weight: bold\">2020</span>-<span style=\"color: #008000; font-weight: bold\">11</span>-<span style=\"color: #008000; font-weight: bold\">26</span>    <span style=\"color: #008000; font-weight: bold\">0</span>\n",
       "Name: returns, Length: <span style=\"color: #008000; font-weight: bold\">2155</span>, dtype: int64\n",
       "</pre>\n"
      ],
      "text/plain": [
       "<rich.jupyter.JupyterRenderable at 0x7fe4d84039b0>"
      ]
     },
     "metadata": {},
     "output_type": "display_data"
    }
   ],
   "source": [
    "print(ForwardReturns(horizon=1, returns_type='pips', tick_size=1e-5).transform(ohlc_resample(df3, '1d'), None))\n",
    "print(ForwardReturns3Classes(horizon=1, tick_size=1e-5, tick_tolerance=500).transform(ohlc_resample(df3, '1d'), None))"
   ]
  },
  {
   "cell_type": "markdown",
   "metadata": {},
   "source": [
    "<hr/>\n",
    "<h3>Simple entry (rsi indicator)</h3>\n",
    "<hr/>"
   ]
  },
  {
   "cell_type": "code",
   "execution_count": 5,
   "metadata": {},
   "outputs": [],
   "source": [
    "class RsiEntry(BasicMarketEstimator):\n",
    "    def __init__(self, period, low=15, up=85):\n",
    "        self.period = period\n",
    "        self.low = low\n",
    "        self.up = up\n",
    "\n",
    "    def fit(self, X, y, **fit_params):\n",
    "        return self\n",
    "\n",
    "    def predict(self, X):\n",
    "        meta = self.metadata()\n",
    "        r = rsi(X[meta.column], self.period)\n",
    "        sigs = pd.Series(0, r.index)\n",
    "        sigs.loc[crossup(r, self.low)] = +1\n",
    "        sigs.loc[crossdown(r, self.up)] = -1\n",
    "        return sigs.astype(int)"
   ]
  },
  {
   "cell_type": "code",
   "execution_count": 6,
   "metadata": {},
   "outputs": [
    {
     "data": {
      "text/html": [
       "<pre style=\"white-space:pre;overflow-x:auto;line-height:normal;font-family:Menlo,'DejaVu Sans Mono',consolas,'Courier New',monospace\">time\n",
       "<span style=\"color: #008000; font-weight: bold\">2014</span>-<span style=\"color: #008000; font-weight: bold\">01</span>-<span style=\"color: #008000; font-weight: bold\">01</span> <span style=\"color: #00ff00; font-weight: bold\">22:00:00</span>    <span style=\"color: #008000; font-weight: bold\">0</span>\n",
       "<span style=\"color: #008000; font-weight: bold\">2014</span>-<span style=\"color: #008000; font-weight: bold\">01</span>-<span style=\"color: #008000; font-weight: bold\">01</span> <span style=\"color: #00ff00; font-weight: bold\">22:05:00</span>    <span style=\"color: #008000; font-weight: bold\">0</span>\n",
       "<span style=\"color: #008000; font-weight: bold\">2014</span>-<span style=\"color: #008000; font-weight: bold\">01</span>-<span style=\"color: #008000; font-weight: bold\">01</span> <span style=\"color: #00ff00; font-weight: bold\">22:10:00</span>    <span style=\"color: #008000; font-weight: bold\">0</span>\n",
       "<span style=\"color: #008000; font-weight: bold\">2014</span>-<span style=\"color: #008000; font-weight: bold\">01</span>-<span style=\"color: #008000; font-weight: bold\">01</span> <span style=\"color: #00ff00; font-weight: bold\">22:15:00</span>    <span style=\"color: #008000; font-weight: bold\">0</span>\n",
       "<span style=\"color: #008000; font-weight: bold\">2014</span>-<span style=\"color: #008000; font-weight: bold\">01</span>-<span style=\"color: #008000; font-weight: bold\">01</span> <span style=\"color: #00ff00; font-weight: bold\">22:20:00</span>    <span style=\"color: #008000; font-weight: bold\">0</span>\n",
       "                      ..\n",
       "<span style=\"color: #008000; font-weight: bold\">2020</span>-<span style=\"color: #008000; font-weight: bold\">11</span>-<span style=\"color: #008000; font-weight: bold\">26</span> <span style=\"color: #00ff00; font-weight: bold\">23:35:00</span>    <span style=\"color: #008000; font-weight: bold\">0</span>\n",
       "<span style=\"color: #008000; font-weight: bold\">2020</span>-<span style=\"color: #008000; font-weight: bold\">11</span>-<span style=\"color: #008000; font-weight: bold\">26</span> <span style=\"color: #00ff00; font-weight: bold\">23:40:00</span>    <span style=\"color: #008000; font-weight: bold\">0</span>\n",
       "<span style=\"color: #008000; font-weight: bold\">2020</span>-<span style=\"color: #008000; font-weight: bold\">11</span>-<span style=\"color: #008000; font-weight: bold\">26</span> <span style=\"color: #00ff00; font-weight: bold\">23:45:00</span>    <span style=\"color: #008000; font-weight: bold\">0</span>\n",
       "<span style=\"color: #008000; font-weight: bold\">2020</span>-<span style=\"color: #008000; font-weight: bold\">11</span>-<span style=\"color: #008000; font-weight: bold\">26</span> <span style=\"color: #00ff00; font-weight: bold\">23:50:00</span>    <span style=\"color: #008000; font-weight: bold\">0</span>\n",
       "<span style=\"color: #008000; font-weight: bold\">2020</span>-<span style=\"color: #008000; font-weight: bold\">11</span>-<span style=\"color: #008000; font-weight: bold\">26</span> <span style=\"color: #00ff00; font-weight: bold\">23:55:00</span>    <span style=\"color: #008000; font-weight: bold\">0</span>\n",
       "Length: <span style=\"color: #008000; font-weight: bold\">515246</span>, dtype: int64\n",
       "</pre>\n"
      ],
      "text/plain": [
       "<rich.jupyter.JupyterRenderable at 0x7fe4e4f82b00>"
      ]
     },
     "metadata": {},
     "output_type": "display_data"
    }
   ],
   "source": [
    "m1 = RsiEntry(14, 25, 75)\n",
    "print(m1.predict(df1.GBPUSD))"
   ]
  },
  {
   "cell_type": "markdown",
   "metadata": {},
   "source": [
    "<hr/>\n",
    "<h3>How to attach additional data</h3>\n",
    "<hr/>"
   ]
  },
  {
   "cell_type": "code",
   "execution_count": 7,
   "metadata": {},
   "outputs": [],
   "source": [
    "class MidDayCalculator(TransformerMixin):\n",
    "    def fit(self, x, y, **kwargs):\n",
    "        return self\n",
    "    \n",
    "    def transform(self, x):\n",
    "        return x.assign(middle = 0.5*(x.low + x.high)).shift(1)"
   ]
  },
  {
   "cell_type": "code",
   "execution_count": 8,
   "metadata": {},
   "outputs": [
    {
     "data": {
      "text/html": [
       "<pre style=\"white-space:pre;overflow-x:auto;line-height:normal;font-family:Menlo,'DejaVu Sans Mono',consolas,'Courier New',monospace\">time\n",
       "<span style=\"color: #008000; font-weight: bold\">2014</span>-<span style=\"color: #008000; font-weight: bold\">01</span>-<span style=\"color: #008000; font-weight: bold\">01</span> <span style=\"color: #00ff00; font-weight: bold\">22:00:00</span>    <span style=\"color: #008000; font-weight: bold\">0</span>\n",
       "<span style=\"color: #008000; font-weight: bold\">2014</span>-<span style=\"color: #008000; font-weight: bold\">01</span>-<span style=\"color: #008000; font-weight: bold\">01</span> <span style=\"color: #00ff00; font-weight: bold\">22:05:00</span>    <span style=\"color: #008000; font-weight: bold\">0</span>\n",
       "<span style=\"color: #008000; font-weight: bold\">2014</span>-<span style=\"color: #008000; font-weight: bold\">01</span>-<span style=\"color: #008000; font-weight: bold\">01</span> <span style=\"color: #00ff00; font-weight: bold\">22:10:00</span>    <span style=\"color: #008000; font-weight: bold\">0</span>\n",
       "<span style=\"color: #008000; font-weight: bold\">2014</span>-<span style=\"color: #008000; font-weight: bold\">01</span>-<span style=\"color: #008000; font-weight: bold\">01</span> <span style=\"color: #00ff00; font-weight: bold\">22:15:00</span>    <span style=\"color: #008000; font-weight: bold\">0</span>\n",
       "<span style=\"color: #008000; font-weight: bold\">2014</span>-<span style=\"color: #008000; font-weight: bold\">01</span>-<span style=\"color: #008000; font-weight: bold\">01</span> <span style=\"color: #00ff00; font-weight: bold\">22:20:00</span>    <span style=\"color: #008000; font-weight: bold\">0</span>\n",
       "                      ..\n",
       "<span style=\"color: #008000; font-weight: bold\">2020</span>-<span style=\"color: #008000; font-weight: bold\">11</span>-<span style=\"color: #008000; font-weight: bold\">26</span> <span style=\"color: #00ff00; font-weight: bold\">23:35:00</span>    <span style=\"color: #008000; font-weight: bold\">0</span>\n",
       "<span style=\"color: #008000; font-weight: bold\">2020</span>-<span style=\"color: #008000; font-weight: bold\">11</span>-<span style=\"color: #008000; font-weight: bold\">26</span> <span style=\"color: #00ff00; font-weight: bold\">23:40:00</span>    <span style=\"color: #008000; font-weight: bold\">0</span>\n",
       "<span style=\"color: #008000; font-weight: bold\">2020</span>-<span style=\"color: #008000; font-weight: bold\">11</span>-<span style=\"color: #008000; font-weight: bold\">26</span> <span style=\"color: #00ff00; font-weight: bold\">23:45:00</span>    <span style=\"color: #008000; font-weight: bold\">0</span>\n",
       "<span style=\"color: #008000; font-weight: bold\">2020</span>-<span style=\"color: #008000; font-weight: bold\">11</span>-<span style=\"color: #008000; font-weight: bold\">26</span> <span style=\"color: #00ff00; font-weight: bold\">23:50:00</span>    <span style=\"color: #008000; font-weight: bold\">0</span>\n",
       "<span style=\"color: #008000; font-weight: bold\">2020</span>-<span style=\"color: #008000; font-weight: bold\">11</span>-<span style=\"color: #008000; font-weight: bold\">26</span> <span style=\"color: #00ff00; font-weight: bold\">23:55:00</span>    <span style=\"color: #008000; font-weight: bold\">0</span>\n",
       "Length: <span style=\"color: #008000; font-weight: bold\">515246</span>, dtype: int64\n",
       "</pre>\n"
      ],
      "text/plain": [
       "<rich.jupyter.JupyterRenderable at 0x7fe4e09fd5f8>"
      ]
     },
     "metadata": {},
     "output_type": "display_data"
    }
   ],
   "source": [
    "m1 = make_pipeline(MidDayCalculator(), RsiEntry(16, 20, 80))\n",
    "print(m1.predict(df1.EURUSD))"
   ]
  },
  {
   "cell_type": "markdown",
   "metadata": {},
   "source": [
    "<hr/>\n",
    "<h3>Market data composer</h3>\n",
    "<hr/>"
   ]
  },
  {
   "cell_type": "code",
   "execution_count": 11,
   "metadata": {},
   "outputs": [
    {
     "data": {
      "text/html": [
       "<pre style=\"white-space:pre;overflow-x:auto;line-height:normal;font-family:Menlo,'DejaVu Sans Mono',consolas,'Courier New',monospace\">                     EURUSD  GBPUSD  USDCHF\n",
       "time                                       \n",
       "<span style=\"color: #008000; font-weight: bold\">2014</span>-<span style=\"color: #008000; font-weight: bold\">01</span>-<span style=\"color: #008000; font-weight: bold\">01</span> <span style=\"color: #00ff00; font-weight: bold\">22:00:00</span>     <span style=\"color: #008000; font-weight: bold\">0.0</span>     <span style=\"color: #008000; font-weight: bold\">0.0</span>       <span style=\"color: #008000; font-weight: bold\">0</span>\n",
       "<span style=\"color: #008000; font-weight: bold\">2014</span>-<span style=\"color: #008000; font-weight: bold\">01</span>-<span style=\"color: #008000; font-weight: bold\">02</span> <span style=\"color: #00ff00; font-weight: bold\">22:00:00</span>     <span style=\"color: #008000; font-weight: bold\">0.0</span>     <span style=\"color: #008000; font-weight: bold\">0.0</span>       <span style=\"color: #008000; font-weight: bold\">0</span>\n",
       "<span style=\"color: #008000; font-weight: bold\">2014</span>-<span style=\"color: #008000; font-weight: bold\">01</span>-<span style=\"color: #008000; font-weight: bold\">05</span> <span style=\"color: #00ff00; font-weight: bold\">22:00:00</span>     <span style=\"color: #008000; font-weight: bold\">0.0</span>     <span style=\"color: #008000; font-weight: bold\">0.0</span>       <span style=\"color: #008000; font-weight: bold\">0</span>\n",
       "<span style=\"color: #008000; font-weight: bold\">2014</span>-<span style=\"color: #008000; font-weight: bold\">01</span>-<span style=\"color: #008000; font-weight: bold\">06</span> <span style=\"color: #00ff00; font-weight: bold\">22:00:00</span>     <span style=\"color: #008000; font-weight: bold\">0.0</span>     <span style=\"color: #008000; font-weight: bold\">0.0</span>       <span style=\"color: #008000; font-weight: bold\">0</span>\n",
       "<span style=\"color: #008000; font-weight: bold\">2014</span>-<span style=\"color: #008000; font-weight: bold\">01</span>-<span style=\"color: #008000; font-weight: bold\">07</span> <span style=\"color: #00ff00; font-weight: bold\">22:00:00</span>     <span style=\"color: #008000; font-weight: bold\">0.0</span>     <span style=\"color: #008000; font-weight: bold\">0.0</span>       <span style=\"color: #008000; font-weight: bold\">0</span>\n",
       "<span style=\"color: #808000\">...</span>                     <span style=\"color: #808000\">...</span>     <span style=\"color: #808000\">...</span>     <span style=\"color: #808000\">...</span>\n",
       "<span style=\"color: #008000; font-weight: bold\">2020</span>-<span style=\"color: #008000; font-weight: bold\">11</span>-<span style=\"color: #008000; font-weight: bold\">22</span> <span style=\"color: #00ff00; font-weight: bold\">22:00:00</span>     <span style=\"color: #008000; font-weight: bold\">0.0</span>     <span style=\"color: #008000; font-weight: bold\">0.0</span>       <span style=\"color: #008000; font-weight: bold\">0</span>\n",
       "<span style=\"color: #008000; font-weight: bold\">2020</span>-<span style=\"color: #008000; font-weight: bold\">11</span>-<span style=\"color: #008000; font-weight: bold\">23</span> <span style=\"color: #00ff00; font-weight: bold\">22:00:00</span>     <span style=\"color: #008000; font-weight: bold\">0.0</span>     <span style=\"color: #008000; font-weight: bold\">0.0</span>       <span style=\"color: #008000; font-weight: bold\">0</span>\n",
       "<span style=\"color: #008000; font-weight: bold\">2020</span>-<span style=\"color: #008000; font-weight: bold\">11</span>-<span style=\"color: #008000; font-weight: bold\">24</span> <span style=\"color: #00ff00; font-weight: bold\">22:00:00</span>     <span style=\"color: #008000; font-weight: bold\">0.0</span>     <span style=\"color: #008000; font-weight: bold\">0.0</span>       <span style=\"color: #008000; font-weight: bold\">0</span>\n",
       "<span style=\"color: #008000; font-weight: bold\">2020</span>-<span style=\"color: #008000; font-weight: bold\">11</span>-<span style=\"color: #008000; font-weight: bold\">25</span> <span style=\"color: #00ff00; font-weight: bold\">22:00:00</span>    <span style=\"color: #008000; font-weight: bold\">-1.0</span>     <span style=\"color: #008000; font-weight: bold\">0.0</span>       <span style=\"color: #008000; font-weight: bold\">0</span>\n",
       "<span style=\"color: #008000; font-weight: bold\">2020</span>-<span style=\"color: #008000; font-weight: bold\">11</span>-<span style=\"color: #008000; font-weight: bold\">26</span> <span style=\"color: #00ff00; font-weight: bold\">22:00:00</span>     <span style=\"color: #008000; font-weight: bold\">0.0</span>     <span style=\"color: #008000; font-weight: bold\">0.0</span>       <span style=\"color: #008000; font-weight: bold\">1</span>\n",
       "\n",
       "<span style=\"font-weight: bold\">[</span><span style=\"color: #008000; font-weight: bold\">1822</span> rows x <span style=\"color: #008000; font-weight: bold\">3</span> columns<span style=\"font-weight: bold\">]</span>\n",
       "</pre>\n"
      ],
      "text/plain": [
       "<rich.jupyter.JupyterRenderable at 0x7fe4e0c7e470>"
      ]
     },
     "metadata": {},
     "output_type": "display_data"
    }
   ],
   "source": [
    "m1 = RsiEntry(10, 20, 80)\n",
    "c1 = MarketDataComposer(m1, SingleInstrumentPicker(tz='EET'), None, 'close', '1D')\n",
    "\n",
    "print(c1.fit(df2, None).predict(df2))"
   ]
  },
  {
   "cell_type": "code",
   "execution_count": 40,
   "metadata": {},
   "outputs": [],
   "source": [
    "m1 = make_pipeline(MidDayCalculator(), RsiEntry(10, 10, 90).as_classifier())\n",
    "\n",
    "g1 = GridSearchCV(\n",
    "    cv=TimeSeriesSplit(3),\n",
    "    estimator = m1,\n",
    "    param_grid={ \n",
    "        'rsientry__period': np.arange(7, 16), \n",
    "        'rsientry__low': [10, 20, 25], \n",
    "        'rsientry__up': [90, 80, 75], \n",
    "    },\n",
    ")\n",
    "\n",
    "mds = MarketDataComposer(g1, \n",
    "                         SingleInstrumentPicker(tz='EET'), \n",
    "                         ForwardReturns3Classes(horizon=1, tick_size=1e-5, tick_tolerance=25), \n",
    "                         'close', '5Min', debug=False\n",
    "                        )"
   ]
  },
  {
   "cell_type": "code",
   "execution_count": 41,
   "metadata": {},
   "outputs": [],
   "source": [
    "b = mds.fit(df1, None)"
   ]
  },
  {
   "cell_type": "code",
   "execution_count": 42,
   "metadata": {},
   "outputs": [
    {
     "data": {
      "text/plain": [
       "{'GBPUSD': {'rsientry__low': 10, 'rsientry__period': 15, 'rsientry__up': 90},\n",
       " 'USDCHF': {'rsientry__low': 10, 'rsientry__period': 15, 'rsientry__up': 90},\n",
       " 'EURUSD': {'rsientry__low': 10, 'rsientry__period': 15, 'rsientry__up': 90}}"
      ]
     },
     "execution_count": 42,
     "metadata": {},
     "output_type": "execute_result"
    }
   ],
   "source": [
    "b.best_params_"
   ]
  },
  {
   "cell_type": "code",
   "execution_count": 43,
   "metadata": {},
   "outputs": [
    {
     "data": {
      "text/plain": [
       "{'GBPUSD': 0.6004638005243638,\n",
       " 'USDCHF': 0.7636150945544798,\n",
       " 'EURUSD': 0.7209429313789427}"
      ]
     },
     "execution_count": 43,
     "metadata": {},
     "output_type": "execute_result"
    }
   ],
   "source": [
    "b.best_score_"
   ]
  },
  {
   "cell_type": "code",
   "execution_count": null,
   "metadata": {},
   "outputs": [],
   "source": [
    "b.picker.rules = []\n",
    "b.predict(df1)\n",
    "# b.predict(df1[['GBPUSD']])"
   ]
  },
  {
   "cell_type": "code",
   "execution_count": null,
   "metadata": {},
   "outputs": [],
   "source": [
    "b.picker.rules = []\n",
    "b.predict(df1)\n",
    "# b.predict(df1[['GBPUSD']])"
   ]
  },
  {
   "cell_type": "markdown",
   "metadata": {},
   "source": [
    "<hr/>\n",
    "<h3>Complex strategy with predictors</h3>\n",
    "<hr/>"
   ]
  },
  {
   "cell_type": "code",
   "execution_count": 49,
   "metadata": {},
   "outputs": [],
   "source": [
    "class TestComplex(BasicMarketEstimator):\n",
    "    def __init__(self, period, adx_threshold=15, s1=RsiEntry(10, 20, 80)):\n",
    "        self.period = period\n",
    "        self.adx_threshold = adx_threshold\n",
    "        self.s1 = s1\n",
    "\n",
    "    def fit(self, X, y, **fit_params):\n",
    "        meta = self.metadata()\n",
    "        return self\n",
    "\n",
    "    def predict(self, X):\n",
    "        d = adx(X, self.period, smoother='sma', as_frame=True)\n",
    "        p = self.s1.predict(X)\n",
    "        \n",
    "        p[d.ADX < self.adx_threshold] = 0\n",
    "        p[(p > 0) & (X.middle < X.close)] = 0\n",
    "        p[(p < 0) & (X.middle > X.close)] = 0\n",
    "        return p\n",
    "\n",
    "\n",
    "g1 = GridSearchCV(\n",
    "        n_jobs=5,\n",
    "        cv=TimeSeriesSplit(3),\n",
    "        estimator = make_pipeline(make_pipeline(MidDayCalculator()), TestComplex(10).as_classifier()),\n",
    "        param_grid = permutate_params({ \n",
    "            'testcomplex__period': np.arange(25, 150, 10), \n",
    "            'testcomplex__adx_threshold': [10, 15, 20, 25], \n",
    "            'testcomplex__s1__period': np.arange(3, 15), \n",
    "            'testcomplex__s1__low': [10, 15, 20, 25], \n",
    "            'testcomplex__s1__up': [90, 85, 80, 75],\n",
    "        }, conditions=lambda testcomplex__s1__low, testcomplex__s1__up: testcomplex__s1__low + testcomplex__s1__up==100),\n",
    "        verbose=1\n",
    "    )\n",
    "\n",
    "ms1 = MarketDataComposer(g1, \n",
    "                         SingleInstrumentPicker(tz='EET'), \n",
    "                         ForwardReturnsDirection(horizon=1), \n",
    "                         'close', '1D', debug=False\n",
    "                        )"
   ]
  },
  {
   "cell_type": "code",
   "execution_count": 48,
   "metadata": {},
   "outputs": [
    {
     "name": "stdout",
     "output_type": "stream",
     "text": [
      "Fitting 3 folds for each of 2496 candidates, totalling 7488 fits\n"
     ]
    },
    {
     "name": "stderr",
     "output_type": "stream",
     "text": [
      "[Parallel(n_jobs=5)]: Using backend LokyBackend with 5 concurrent workers.\n",
      "[Parallel(n_jobs=5)]: Done  48 tasks      | elapsed:    3.7s\n",
      "[Parallel(n_jobs=5)]: Done 635 tasks      | elapsed:    7.5s\n",
      "[Parallel(n_jobs=5)]: Done 1635 tasks      | elapsed:   13.4s\n",
      "[Parallel(n_jobs=5)]: Done 3035 tasks      | elapsed:   21.5s\n",
      "[Parallel(n_jobs=5)]: Done 4835 tasks      | elapsed:   32.1s\n",
      "[Parallel(n_jobs=5)]: Done 7035 tasks      | elapsed:   45.0s\n",
      "[Parallel(n_jobs=5)]: Done 7488 out of 7488 | elapsed:   47.6s finished\n",
      "[Parallel(n_jobs=5)]: Using backend LokyBackend with 5 concurrent workers.\n"
     ]
    },
    {
     "name": "stdout",
     "output_type": "stream",
     "text": [
      "Fitting 3 folds for each of 2496 candidates, totalling 7488 fits\n"
     ]
    },
    {
     "name": "stderr",
     "output_type": "stream",
     "text": [
      "[Parallel(n_jobs=5)]: Done 150 tasks      | elapsed:    1.0s\n",
      "[Parallel(n_jobs=5)]: Done 1350 tasks      | elapsed:    7.8s\n",
      "[Parallel(n_jobs=5)]: Done 3350 tasks      | elapsed:   19.1s\n",
      "[Parallel(n_jobs=5)]: Done 6150 tasks      | elapsed:   34.8s\n",
      "[Parallel(n_jobs=5)]: Done 7479 out of 7488 | elapsed:   42.3s remaining:    0.1s\n",
      "[Parallel(n_jobs=5)]: Done 7488 out of 7488 | elapsed:   42.3s finished\n",
      "[Parallel(n_jobs=5)]: Using backend LokyBackend with 5 concurrent workers.\n"
     ]
    },
    {
     "name": "stdout",
     "output_type": "stream",
     "text": [
      "Fitting 3 folds for each of 2496 candidates, totalling 7488 fits\n"
     ]
    },
    {
     "name": "stderr",
     "output_type": "stream",
     "text": [
      "[Parallel(n_jobs=5)]: Done 150 tasks      | elapsed:    1.0s\n",
      "[Parallel(n_jobs=5)]: Done 1350 tasks      | elapsed:    7.8s\n",
      "[Parallel(n_jobs=5)]: Done 3350 tasks      | elapsed:   18.9s\n",
      "[Parallel(n_jobs=5)]: Done 6150 tasks      | elapsed:   34.8s\n",
      "[Parallel(n_jobs=5)]: Done 7479 out of 7488 | elapsed:   42.3s remaining:    0.1s\n",
      "[Parallel(n_jobs=5)]: Done 7488 out of 7488 | elapsed:   42.3s finished\n"
     ]
    }
   ],
   "source": [
    "b1 = ms1.fit(df1, None)"
   ]
  },
  {
   "cell_type": "code",
   "execution_count": 50,
   "metadata": {},
   "outputs": [
    {
     "data": {
      "text/plain": [
       "({'GBPUSD': {'testcomplex__adx_threshold': 10,\n",
       "   'testcomplex__period': 25,\n",
       "   'testcomplex__s1__low': 25,\n",
       "   'testcomplex__s1__period': 3,\n",
       "   'testcomplex__s1__up': 75},\n",
       "  'USDCHF': {'testcomplex__adx_threshold': 10,\n",
       "   'testcomplex__period': 25,\n",
       "   'testcomplex__s1__low': 25,\n",
       "   'testcomplex__s1__period': 5,\n",
       "   'testcomplex__s1__up': 75},\n",
       "  'EURUSD': {'testcomplex__adx_threshold': 10,\n",
       "   'testcomplex__period': 25,\n",
       "   'testcomplex__s1__low': 20,\n",
       "   'testcomplex__s1__period': 3,\n",
       "   'testcomplex__s1__up': 80}},\n",
       " {'GBPUSD': 0.018315018315018316,\n",
       "  'USDCHF': 0.01391941391941392,\n",
       "  'EURUSD': 0.011721611721611722})"
      ]
     },
     "execution_count": 50,
     "metadata": {},
     "output_type": "execute_result"
    }
   ],
   "source": [
    "b1.best_params_, b1.best_score_"
   ]
  },
  {
   "cell_type": "code",
   "execution_count": null,
   "metadata": {},
   "outputs": [],
   "source": [
    "p0 = z_test_signals_inplace(shift_signals(b1.predict(df1), hours=23), df2, 'forex', spread=0, verbose=False)\n",
    "tearsheet(p0, 20000)"
   ]
  },
  {
   "cell_type": "code",
   "execution_count": null,
   "metadata": {},
   "outputs": [],
   "source": []
  },
  {
   "cell_type": "code",
   "execution_count": null,
   "metadata": {},
   "outputs": [],
   "source": []
  },
  {
   "cell_type": "markdown",
   "metadata": {},
   "source": [
    "<hr/>\n",
    "<h3>Multi instrument strategy (portfolio)</h3>\n",
    "<hr/>"
   ]
  },
  {
   "cell_type": "code",
   "execution_count": 6,
   "metadata": {},
   "outputs": [],
   "source": [
    "import seaborn as sns"
   ]
  },
  {
   "cell_type": "code",
   "execution_count": 7,
   "metadata": {},
   "outputs": [],
   "source": [
    "sxl = FriendlyFxLoader('nyse @ daily')\n",
    "md = sxl.ohlcs(sxl.symbols())"
   ]
  },
  {
   "cell_type": "code",
   "execution_count": 50,
   "metadata": {},
   "outputs": [],
   "source": [
    "class PairsTrader(BasicMarketEstimator):\n",
    "    def __init__(self, period, z_period, pctls=5, nstd=None):\n",
    "        self.period = period\n",
    "        self.z_period = z_period\n",
    "        self.pctls = pctls\n",
    "        self.nstd = nstd\n",
    "        \n",
    "    def calc_z(self, x, y):\n",
    "        s = x - y\n",
    "        m = apply_to_frame(sma, s, self.period)\n",
    "        ds = s - apply_to_frame(sma, s, self.period)\n",
    "        return ds / ds.rolling(window=self.z_period, min_periods=self.z_period).std()\n",
    "\n",
    "    def fit(self, X, y, **fit_params):\n",
    "        s1, s2, *_ = self.metadata().symbols\n",
    "        closes = X.xs('close', axis=1, level=1)\n",
    "        zs = self.calc_z(closes[s1], closes[s2])\n",
    "        if self.nstd is None:\n",
    "            self.zb_, self.zt_ = np.percentile(zs.dropna(), sorted([self.pctls, 100-self.pctls]))\n",
    "        else:\n",
    "            self.zb_, self.zt_ = self.nstd, -self.nstd\n",
    "        print(self.zb_, self.zt_)\n",
    "        \n",
    "        return self\n",
    "\n",
    "    def predict(self, X):\n",
    "        s1, s2, *_ = self.metadata().symbols\n",
    "        closes = X.xs('close', axis=1, level=1)\n",
    "        \n",
    "        zs = self.calc_z(closes[s1], closes[s2])\n",
    "        s_entries = crossdown(zs, self.zt_)\n",
    "        l_entries = crossup(zs, self.zb_)\n",
    "        \n",
    "        short_spread = pd.DataFrame({s1: -1, s2: +1 }, s_entries)\n",
    "        short_ex = None #pd.DataFrame({s1: 0, s2: 0 }, crossdown(zs, 0.5))\n",
    "        \n",
    "        long_spread = pd.DataFrame({s1: +1, s2: -1 }, l_entries)\n",
    "        long_ex = None #pd.DataFrame({s1: 0, s2: 0 }, crossup(zs, -0.5))\n",
    "        \n",
    "        plt.plot(zs); plt.plot(zs.loc[s_entries], 'r.', ms=4);  plt.plot(zs.loc[l_entries], 'g.', ms=4)\n",
    "        plt.axhline(self.zt_); plt.axhline(self.zb_)\n",
    "        \n",
    "        return srows(long_spread, long_ex, short_spread, short_ex).sort_index()"
   ]
  },
  {
   "cell_type": "code",
   "execution_count": 62,
   "metadata": {},
   "outputs": [
    {
     "data": {
      "text/html": [
       "<pre style=\"white-space:pre;overflow-x:auto;line-height:normal;font-family:Menlo,'DejaVu Sans Mono',consolas,'Courier New',monospace\"><span style=\"color: #008000; font-weight: bold\">-1.9093525829123157</span> <span style=\"color: #008000; font-weight: bold\">1.7066156921924631</span>\n",
       "</pre>\n"
      ],
      "text/plain": [
       "<rich.jupyter.JupyterRenderable at 0x7f9f760ed550>"
      ]
     },
     "metadata": {},
     "output_type": "display_data"
    }
   ],
   "source": [
    "p_trader = PairsTrader(5, 20, 5)\n",
    "\n",
    "fm = MarketDataComposer(p_trader, PortfolioPicker(['DHI$', 'PHM$']).for_range('2006'), None, 'close').fit(md, pd.Series(0))"
   ]
  },
  {
   "cell_type": "code",
   "execution_count": 63,
   "metadata": {},
   "outputs": [
    {
     "data": {
      "application/vnd.jupyter.widget-view+json": {
       "model_id": "59b0b65a785a476ab5203b9aa846ebe2",
       "version_major": 2,
       "version_minor": 0
      },
      "text/plain": [
       "VBox(children=(HTML(value=''), IntProgress(value=0, bar_style='success')))"
      ]
     },
     "metadata": {},
     "output_type": "display_data"
    },
    {
     "data": {
      "text/html": [
       "\n",
       "\n",
       "\n",
       "\n",
       "\n",
       "<style>\n",
       ".report_table td, .report_table th {\n",
       "    text-align:left !important;\n",
       "}\n",
       "\n",
       ".flex-container {\n",
       "   display: flex;\n",
       "  align-items: flex-start;\n",
       "    }\n",
       "\n",
       "  .table_block {\n",
       "  width:30%;\n",
       "  }\n",
       "\n",
       "</style>\n",
       "\n",
       "\n",
       "\n",
       "<div class=\"flex-container\"><div class=\"\">\n",
       "<img src='data:image/png;base64,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'>\n",
       "</div>\n",
       "<div class=\"table_block\">\n",
       "<table class=\"report_table\" width=100%>\n",
       "<tr>\n",
       "<th>\n",
       "Statistic\n",
       "</th>\n",
       "<th>\n",
       "Model\n",
       "</th>\n",
       "</tr>\n",
       "<tr><td>Gain (USD):</td><td>65630.00</td></tr>\n",
       "<tr><td>CAGR (%):</td><td>10.161</td></tr>\n",
       "<tr><td>Sharpe:</td><td>0.782</td></tr>\n",
       "<tr><td>Sortino:</td><td>1.195</td></tr>\n",
       "<tr><td>Calmar: </td><td>0.495</td></tr>\n",
       "<tr><td>MaxDD (%):</td><td>17.313</td></tr>\n",
       "<tr><td>MaxDD On Init BP (%):</td><td>47.100</td></tr>\n",
       "<tr><td>MaxDD (USD):</td><td>9420.000</td></tr>\n",
       "<tr><td>MaxDD days:</td><td>220 days</td></tr>\n",
       "<tr><td>MaxDD start:</td><td>2017-09-12</td></tr>\n",
       "<tr><td>MaxDD peak:</td><td>2018-01-29</td></tr>\n",
       "<tr><td>MaxDD recover:</td><td>2018-04-20</td></tr>\n",
       "<tr><td>Tail Ratio:</td><td>1.154</td></tr>\n",
       "<tr><td>Stability: </td><td>0.845</td></tr>\n",
       "<tr><td>Alpha:</td><td></td></tr>\n",
       "<tr><td>Beta:</td><td></td></tr>\n",
       "<tr><td>Ann.Volatility (%):</td><td>13.55</td></tr>\n",
       "<tr><td>VAR_95 (USD):</td><td>272.44</td></tr>\n",
       "<tr><td>Mean return (%)</td><td>0.042</td></tr>\n",
       "<tr><td>Broker's Commissions:</td><td></td></tr>\n",
       "</table>\n",
       "</div>\n",
       "</div></div>\n"
      ],
      "text/plain": [
       "<IPython.core.display.HTML object>"
      ]
     },
     "metadata": {},
     "output_type": "display_data"
    },
    {
     "data": {
      "image/png": "[encoded data removed]",
      "text/plain": [
       "<Figure size 640x400 with 1 Axes>"
      ]
     },
     "metadata": {},
     "output_type": "display_data"
    },
    {
     "data": {
      "text/plain": [
       "<Figure size 720x640 with 0 Axes>"
      ]
     },
     "metadata": {},
     "output_type": "display_data"
    }
   ],
   "source": [
    "p0 = z_test_signals_inplace(1000*fm.predict(md), md, 'stock', spread=0.1, verbose=False)\n",
    "tearsheet(p0, 20000)"
   ]
  },
  {
   "cell_type": "code",
   "execution_count": null,
   "metadata": {},
   "outputs": [],
   "source": []
  },
  {
   "cell_type": "code",
   "execution_count": 307,
   "metadata": {},
   "outputs": [],
   "source": [
    "c_table = mc.corr()"
   ]
  },
  {
   "cell_type": "code",
   "execution_count": null,
   "metadata": {},
   "outputs": [],
   "source": []
  }
 ],
 "metadata": {
  "kernelspec": {
   "display_name": "Python 3",
   "language": "python",
   "name": "python3"
  },
  "language_info": {
   "codemirror_mode": {
    "name": "ipython",
    "version": 3
   },
   "file_extension": ".py",
   "mimetype": "text/x-python",
   "name": "python",
   "nbconvert_exporter": "python",
   "pygments_lexer": "ipython3",
   "version": "3.6.9"
  }
 },
 "nbformat": 4,
 "nbformat_minor": 4
}
