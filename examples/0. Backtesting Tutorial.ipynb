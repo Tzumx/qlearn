{
 "cells": [
  {
   "cell_type": "code",
   "execution_count": 1,
   "metadata": {},
   "outputs": [
    {
     "data": {
      "text/html": [
       "<pre style=\"white-space:pre;overflow-x:auto;line-height:normal;font-family:Menlo,'DejaVu Sans Mono',consolas,'Courier New',monospace\"><span style=\"font-weight: bold\">(</span>c<span style=\"font-weight: bold\">)</span> <span style=\"color: #008000; font-weight: bold\">2017</span>, AppliedAlpha Infrastructure for Quantitative Research and Analysis, ver. master: \n",
       "<span style=\"color: #008000; font-weight: bold\">0.1536</span>\n",
       "</pre>\n"
      ],
      "text/plain": [
       "<rich.jupyter.JupyterRenderable at 0x7fba09495898>"
      ]
     },
     "metadata": {},
     "output_type": "display_data"
    }
   ],
   "source": [
    "import ira\n",
    "%alphalab dark\n",
    "import qlearn as q\n",
    "from sklearn.base import TransformerMixin, BaseEstimator\n",
    "\n",
    "from alpha.utils.tick_loaders import load_data, ls_data\n",
    "from tqdm.auto import tqdm\n",
    "import seaborn as sns"
   ]
  },
  {
   "cell_type": "markdown",
   "metadata": {},
   "source": [
    "# Testing basics\n",
    "\n",
    "<hr/>"
   ]
  },
  {
   "cell_type": "markdown",
   "metadata": {},
   "source": [
    "QLearn gives possibility to backtest any type of signals even some manual cases. For example we could test manual portfolio trades"
   ]
  },
  {
   "cell_type": "code",
   "execution_count": 72,
   "metadata": {},
   "outputs": [],
   "source": [
    "data = load_data(\n",
    "    'NYSED:XOM', 'NYSED:BAC', 'NYSED:CL', 'NYSED:TGT', 'NYSED:RL', 'NASDAQD:MSFT'\n",
    ") "
   ]
  },
  {
   "cell_type": "code",
   "execution_count": 73,
   "metadata": {},
   "outputs": [
    {
     "data": {
      "text/plain": [
       "XOM (2005-01-03 00:00:00 / 2020-08-17 00:00:00 [4076] records)\n",
       "BAC (2005-01-03 00:00:00 / 2020-08-17 00:00:00 [4076] records)\n",
       "CL (2005-01-03 00:00:00 / 2020-08-17 00:00:00 [4076] records)\n",
       "TGT (2005-01-03 00:00:00 / 2020-08-17 00:00:00 [4076] records)\n",
       "RL (2005-01-03 00:00:00 / 2020-08-17 00:00:00 [4076] records)\n",
       "MSFT (2005-01-03 00:00:00 / 2020-08-17 00:00:00 [4076] records)"
      ]
     },
     "execution_count": 73,
     "metadata": {},
     "output_type": "execute_result"
    }
   ],
   "source": [
    "data"
   ]
  },
  {
   "cell_type": "code",
   "execution_count": null,
   "metadata": {},
   "outputs": [],
   "source": [
    "fig(18, 5)\n",
    "plt.plot(retain_columns_and_join(data.ticks('XOM','BAC','CL', 'TGT', 'RL', 'MSFT'), 'close'));"
   ]
  },
  {
   "cell_type": "markdown",
   "metadata": {},
   "source": [
    "\n",
    "<hr/>\n",
    "Make manual entries"
   ]
  },
  {
   "cell_type": "code",
   "execution_count": null,
   "metadata": {},
   "outputs": [],
   "source": [
    "manual_signals = pd.DataFrame.from_dict({\n",
    "    '2015-01-02':  [+100, +100, +100, +100, +100, +100],\n",
    "    '2020-01-01':  [   0,    0,    0,    0,    0,    0],\n",
    "}, orient='index', columns=['XOM', 'BAC', 'CL', 'TGT', 'RL', 'MSFT'])\n",
    "manual_signals.index = pd.DatetimeIndex(manual_signals.index)\n",
    "\n",
    "manual_signals"
   ]
  },
  {
   "cell_type": "code",
   "execution_count": null,
   "metadata": {},
   "outputs": [],
   "source": [
    "manual_signals_2 = pd.DataFrame.from_dict({\n",
    "    '2015-01-02':  [-100, -100, +100, +100, -100, +100],\n",
    "    '2018-01-01':  [-200, -200, +200, +200, -200, +200],\n",
    "    '2020-01-01':  [   0,    0,    0,    0,    0,    0],\n",
    "}, orient='index', columns=['XOM', 'BAC', 'CL', 'TGT', 'RL', 'MSFT'])\n",
    "manual_signals_2.index = pd.DatetimeIndex(manual_signals_2.index)\n",
    "\n",
    "manual_signals_2"
   ]
  },
  {
   "cell_type": "markdown",
   "metadata": {},
   "source": [
    "\n",
    "<hr/>\n",
    "Run portfolio backtest"
   ]
  },
  {
   "cell_type": "code",
   "execution_count": 78,
   "metadata": {},
   "outputs": [
    {
     "data": {
      "application/vnd.jupyter.widget-view+json": {
       "model_id": "e09c4756423840029f5684362e7cf4ec",
       "version_major": 2,
       "version_minor": 0
      },
      "text/plain": [
       "HBox(children=(HTML(value='backtest'), FloatProgress(value=0.0, max=200.0), HTML(value='')))"
      ]
     },
     "metadata": {},
     "output_type": "display_data"
    },
    {
     "name": "stdout",
     "output_type": "stream",
     "text": [
      "\n"
     ]
    }
   ],
   "source": [
    "r = q.simulation({\n",
    "        'Manual 1': manual_signals,\n",
    "        'Manual 2': manual_signals_2,\n",
    "    }, \n",
    "    data.ticks(), 'stock' )"
   ]
  },
  {
   "cell_type": "markdown",
   "metadata": {},
   "source": [
    "Fast reports viewing"
   ]
  },
  {
   "cell_type": "code",
   "execution_count": null,
   "metadata": {},
   "outputs": [],
   "source": [
    "fig(16, 8)\n",
    "r.report(5000)"
   ]
  },
  {
   "cell_type": "markdown",
   "metadata": {},
   "source": [
    "More detailed reports statistics"
   ]
  },
  {
   "cell_type": "code",
   "execution_count": null,
   "metadata": {},
   "outputs": [],
   "source": [
    "tearsheet(r.results[0], 5000)"
   ]
  },
  {
   "cell_type": "code",
   "execution_count": null,
   "metadata": {},
   "outputs": [],
   "source": [
    "tearsheet(r.results[1], 5000)"
   ]
  },
  {
   "cell_type": "code",
   "execution_count": null,
   "metadata": {},
   "outputs": [],
   "source": [
    "r.results[1].portfolio"
   ]
  },
  {
   "cell_type": "code",
   "execution_count": null,
   "metadata": {},
   "outputs": [],
   "source": [
    "r.results[1].executions"
   ]
  },
  {
   "cell_type": "markdown",
   "metadata": {},
   "source": [
    "# Automatic signals generation  \n",
    "\n",
    "<hr/>"
   ]
  },
  {
   "cell_type": "code",
   "execution_count": 84,
   "metadata": {},
   "outputs": [],
   "source": [
    "btc = load_data('BINANCEF:BTCUSDT')"
   ]
  },
  {
   "cell_type": "code",
   "execution_count": 86,
   "metadata": {},
   "outputs": [],
   "source": [
    "ohlc1H = btc.ohlc('60Min')\n",
    "btc1H = ohlc5M['BTCUSDT']"
   ]
  },
  {
   "cell_type": "code",
   "execution_count": null,
   "metadata": {},
   "outputs": [],
   "source": [
    "btc1H"
   ]
  },
  {
   "cell_type": "code",
   "execution_count": 88,
   "metadata": {},
   "outputs": [],
   "source": [
    "ma = smooth(btc1H.close, 'kama', 250)"
   ]
  },
  {
   "cell_type": "code",
   "execution_count": 89,
   "metadata": {},
   "outputs": [],
   "source": [
    "g = LookingGlass([\n",
    "    btc1H, \n",
    "    ma\n",
    "])"
   ]
  },
  {
   "cell_type": "code",
   "execution_count": null,
   "metadata": {},
   "outputs": [],
   "source": [
    "g.look('2022-02-01', '2022-02-10')"
   ]
  },
  {
   "cell_type": "code",
   "execution_count": 91,
   "metadata": {},
   "outputs": [],
   "source": [
    "delta = btc1H.close - ma"
   ]
  },
  {
   "cell_type": "code",
   "execution_count": null,
   "metadata": {},
   "outputs": [],
   "source": [
    "fig(18, 7)\n",
    "plt.plot(delta)"
   ]
  },
  {
   "cell_type": "code",
   "execution_count": null,
   "metadata": {},
   "outputs": [],
   "source": [
    "sns.kdeplot(delta[:'2021-01-01'], cut=1)\n",
    "sns.kdeplot(delta['2021-01-01':], cut=1)"
   ]
  },
  {
   "cell_type": "code",
   "execution_count": null,
   "metadata": {},
   "outputs": [],
   "source": [
    "xd = scols(ma, delta, names=['K', 'd'])\n",
    "fig(16,5)\n",
    "sbp(12,1)\n",
    "sns.kdeplot(xd[xd.K > xd.K.shift(1)].d)\n",
    "sns.kdeplot(xd[xd.K < xd.K.shift(1)].d)\n",
    "plt.xlim(-15000, +15000)\n",
    "\n",
    "# sbp(12,2)\n",
    "# sns.kdeplot(xd[xd.K > 1.001*xd.K.shift(1)].d)\n",
    "# sns.kdeplot(xd[xd.K < 0.999*xd.K.shift(1)].d)\n",
    "# plt.xlim(-15000, +15000)"
   ]
  },
  {
   "cell_type": "code",
   "execution_count": null,
   "metadata": {},
   "outputs": [],
   "source": [
    "xd = scols(ma, delta, names=['K', 'd'])['2021-01-01':]\n",
    "\n",
    "sns.kdeplot(xd[xd.K > 1.001*xd.K.shift(1)].d)\n",
    "sns.kdeplot(xd[xd.K < 0.999*xd.K.shift(1)].d)\n",
    "plt.xlim(-15000, +15000)"
   ]
  },
  {
   "cell_type": "markdown",
   "metadata": {},
   "source": [
    "<hr/>\n",
    "\n",
    "Now let's try to generate signals based on following logic:\n",
    "1. Buy when close price crosses MA up and `MA[t] > (1 + f) * MA[t-1]`\n",
    "2. Sell when close price crosses MA down and `MA[t] < (1 - f) * MA[t-1]`\n",
    "\n",
    "<hr/>"
   ]
  },
  {
   "cell_type": "code",
   "execution_count": 116,
   "metadata": {},
   "outputs": [],
   "source": [
    "F = 0.01\n",
    "PERIOD = 250\n",
    "\n",
    "ma = smooth(btc1H.close, 'kama', PERIOD)\n",
    "\n",
    "delta = btc5M.close - ma\n",
    "\n",
    "xd = scols(ma,  delta,  btc1H.close,  names=['K', 'd', 'close'])\n",
    "\n",
    "longs = pd.Series(\n",
    "    +1, index=xd[(xd.K > (1 + F/100)*xd.K.shift(1)) & (xd.close > xd.K) & (xd.close.shift(1) < xd.K.shift(1))].index\n",
    ")\n",
    "\n",
    "shorts = pd.Series(\n",
    "    -1, index=xd[(xd.K < (1 - F/100)*xd.K.shift(1)) & (xd.close < xd.K) & (xd.close.shift(1) > xd.K.shift(1))].index\n",
    ")\n",
    "\n",
    "# we shift signals to end's of bar\n",
    "signals = shift_signals(\n",
    "    srows(longs, shorts).rename('BTCUSDT'), '59Min59S'\n",
    ")"
   ]
  },
  {
   "cell_type": "code",
   "execution_count": null,
   "metadata": {},
   "outputs": [],
   "source": [
    "signals"
   ]
  },
  {
   "cell_type": "code",
   "execution_count": 118,
   "metadata": {},
   "outputs": [
    {
     "data": {
      "application/vnd.jupyter.widget-view+json": {
       "model_id": "83679f99a6bb4a34b5932891bcad21f3",
       "version_major": 2,
       "version_minor": 0
      },
      "text/plain": [
       "HBox(children=(HTML(value='backtest'), FloatProgress(value=0.0, max=300.0), HTML(value='')))"
      ]
     },
     "metadata": {},
     "output_type": "display_data"
    },
    {
     "name": "stdout",
     "output_type": "stream",
     "text": [
      "\n"
     ]
    }
   ],
   "source": [
    "r_ma = q.simulation({\n",
    "    \n",
    "    # Simple reverse systems\n",
    "    'MA trader': 1000 * signals['2021':],\n",
    "    \n",
    "    # Fixed risk managenement: 3% take and 1.5% lose\n",
    "#     'MA trader RM': [signals['2021':], q.FixedPctTrader(1000, 3/100, 1.5/100) ], \n",
    "    \n",
    "    # Fixed risk managenement + close positions by time (after 3 Hours)\n",
    "#     'MA trader RM + time stop': [signals['2021':], q.PipelineTracker(\n",
    "#         q.FixedPctTrader(1000, 3/100, 1.5/100), q.TimeExpirationTracker('3h'))\n",
    "#     ]\n",
    "    \n",
    "    },\n",
    "    \n",
    "    btc.ohlc('5Min'),  # data for testing (we use 5Min frame)\n",
    "    'binance_um_vip0', # broker - it allows to calculate commissions etc\n",
    ")"
   ]
  },
  {
   "cell_type": "code",
   "execution_count": null,
   "metadata": {},
   "outputs": [],
   "source": [
    "r_ma.results[1].trackers_stat"
   ]
  },
  {
   "cell_type": "code",
   "execution_count": null,
   "metadata": {},
   "outputs": [],
   "source": [
    "fig(18, 6)\n",
    "sbp(21,1); r_ma.report(1000)\n",
    "sbp(21,2); \n",
    "plt.plot(btc1H.close['2021':])"
   ]
  },
  {
   "cell_type": "code",
   "execution_count": null,
   "metadata": {},
   "outputs": [],
   "source": [
    "tearsheet(r_ma.results[0], 1000)"
   ]
  },
  {
   "cell_type": "markdown",
   "metadata": {},
   "source": [
    "## Make generator"
   ]
  },
  {
   "cell_type": "markdown",
   "metadata": {},
   "source": [
    "Now we put all code we wrote above into signal generator."
   ]
  },
  {
   "cell_type": "code",
   "execution_count": 126,
   "metadata": {},
   "outputs": [],
   "source": [
    "@q.signal_generator                     # - 1: class must be decorated as signal_generator\n",
    "class CrossMovingEntry(BaseEstimator):  # - 2: class extends BaseEstimator\n",
    "    \n",
    "    def __init__(self, timeframe, period, step):\n",
    "        self.timeframe = timeframe\n",
    "        self.period = period\n",
    "        self.step = step\n",
    "\n",
    "    def fit(self, X, y, **fit_params):   # - 3: class override fit method (for ML applications)\n",
    "        return self\n",
    "\n",
    "    def predict(self, x):                # - 4: class override predict method (contains signal generation logic)\n",
    "        # get price\n",
    "        # self.market_info_.column - contains applicated price column (close by default)\n",
    "        applied_column = self.market_info_.column\n",
    "        price = ohlc_resample(x, self.timeframe)[applied_column]\n",
    "        \n",
    "        # price moving average\n",
    "        ma = smooth(price, 'kama', self.period)\n",
    "       \n",
    "        # delta\n",
    "        delta = price - ma\n",
    "\n",
    "        # combined frame\n",
    "        xd = scols(ma, delta, price, names=['K', 'd', 'price'])\n",
    "        \n",
    "        # longs signals \n",
    "        longs = pd.Series(\n",
    "            +1, index=xd[(xd.K > (1 + self.step/100)*xd.K.shift(1)) & (xd.price > xd.K) & (xd.price.shift(1) < xd.K.shift(1))].index\n",
    "        )\n",
    "\n",
    "        # shorts signals \n",
    "        shorts = pd.Series(\n",
    "            -1, index=xd[(xd.K < (1 - self.step/100)*xd.K.shift(1)) & (xd.price < xd.K) & (xd.price.shift(1) > xd.K.shift(1))].index\n",
    "        )\n",
    "\n",
    "        # collect signals into single series\n",
    "        signals = srows(longs, shorts)\n",
    "        \n",
    "        # adjust to bar's end for 'close' case\n",
    "        if applied_column == 'close':\n",
    "            signals = q.shift_for_timeframe(signals, x, self.timeframe)\n",
    "        \n",
    "        return signals"
   ]
  },
  {
   "cell_type": "markdown",
   "metadata": {},
   "source": [
    "Make generator: here we use single instrument selector (each instrument in data would be processed one by one)"
   ]
  },
  {
   "cell_type": "code",
   "execution_count": 128,
   "metadata": {},
   "outputs": [],
   "source": [
    "gen = q.SingleInstrumentComposer( CrossMovingEntry('1H', 250, 0.01) ).fit(btc.ticks())"
   ]
  },
  {
   "cell_type": "code",
   "execution_count": null,
   "metadata": {},
   "outputs": [],
   "source": [
    "r_ma_gen = q.simulation({\n",
    "    \n",
    "    'MA trader': [gen, q.FixedTrader(1000, 0, 0)],\n",
    "    \n",
    "    'MA trader RM': [gen, q.FixedPctTrader(1000, 3/100, 1.5/100) ], \n",
    "    \n",
    "    'MA trader RM + time stop': [gen, q.PipelineTracker(\n",
    "        q.FixedPctTrader(1000, 3/100, 1.5/100), q.TimeExpirationTracker('3h'))\n",
    "    ]\n",
    "    \n",
    "    },\n",
    "    btc.ohlc('5Min'), 'binance_um_vip0',\n",
    "    start='2021-01-01'\n",
    ")"
   ]
  },
  {
   "cell_type": "code",
   "execution_count": null,
   "metadata": {},
   "outputs": [],
   "source": [
    "r_ma_gen.report(1000)"
   ]
  },
  {
   "cell_type": "markdown",
   "metadata": {},
   "source": [
    "# Custom tracker"
   ]
  },
  {
   "cell_type": "code",
   "execution_count": 5,
   "metadata": {},
   "outputs": [],
   "source": [
    "from ira.simulator.SignalTester import Tracker "
   ]
  },
  {
   "cell_type": "code",
   "execution_count": 65,
   "metadata": {},
   "outputs": [],
   "source": [
    "class SimpleFixedRiskManagementTracker(Tracker):\n",
    "    \n",
    "    def __init__(self, trading_size, risk_change_step):\n",
    "        self.trading_size = trading_size\n",
    "        self.risk_change_step = risk_change_step\n",
    "        self.prev_pl = 0\n",
    "        \n",
    "        # just a statistics\n",
    "        self.pos_increased = 0\n",
    "        self.pos_decreased = 0\n",
    "        \n",
    "    def initialize(self):\n",
    "        \"\"\"\n",
    "        Init method is called on tracker start\n",
    "        \"\"\"\n",
    "        self.pos_increased = 0\n",
    "        self.pos_decreased = 0\n",
    "        # self.ohlc = self.get_ohlc_series(self.timeframe)\n",
    "\n",
    "    def on_signal(self, signal_time, signal_qty, quote_time, bid, ask, bid_size, ask_size):\n",
    "        \"\"\"\n",
    "        This method is called on new signal from signal's generator\n",
    "    \n",
    "        We can adjust position size and if signal is processed or cancelled\n",
    "        \"\"\"\n",
    "        current_pnl = self._position.pnl - self.prev_pl\n",
    "        \n",
    "        n_x_factor = abs(current_pnl) // self.risk_change_step + 1\n",
    "        position_size = self.trading_size\n",
    "        \n",
    "        if current_pnl < 0:\n",
    "            position_size = position_size / n_x_factor\n",
    "            self.pos_decreased += 1\n",
    "            \n",
    "        elif current_pnl > 0:\n",
    "            position_size = position_size * n_x_factor\n",
    "            self.pos_increased += 1\n",
    "            \n",
    "        # previous PnL\n",
    "        self.prev_pl = self._position.pnl\n",
    "        \n",
    "        return np.sign(signal_qty) * position_size\n",
    "\n",
    "    def update_market_data(self, instrument: str, quote_time, bid, ask, bid_size, ask_size, is_service_quote, **kwargs):\n",
    "        # New market data update\n",
    "        super().update_market_data(instrument, quote_time, bid, ask, bid_size, ask_size, is_service_quote, **kwargs)\n",
    "\n",
    "    def statistics(self) -> Dict:\n",
    "        return {\n",
    "            'positions_incr': self.pos_increased,\n",
    "            'positions_decr': self.pos_decreased,\n",
    "        }"
   ]
  },
  {
   "cell_type": "code",
   "execution_count": null,
   "metadata": {},
   "outputs": [],
   "source": [
    "gen = q.SingleInstrumentComposer(CrossMovingEntry('1H', 250, 0.01)).fit(btc.ticks())\n",
    "\n",
    "r_ma_gen_track = q.simulation({\n",
    "    \n",
    "    'Raw signals': [gen, q.FixedTrader(1000, 0, 0)],\n",
    "    \n",
    "    'My Tracker': [gen, SimpleFixedRiskManagementTracker(1000, 50)],\n",
    "    \n",
    "    },\n",
    "    btc.ohlc('5Min'), 'binance_um_vip0',\n",
    "    start='2021-01-01'\n",
    ")"
   ]
  },
  {
   "cell_type": "code",
   "execution_count": null,
   "metadata": {},
   "outputs": [],
   "source": [
    "r_ma_gen_track.report(2000)"
   ]
  },
  {
   "cell_type": "code",
   "execution_count": null,
   "metadata": {},
   "outputs": [],
   "source": [
    "tearsheet(r_ma_gen_track.results[0], 2000)"
   ]
  },
  {
   "cell_type": "code",
   "execution_count": null,
   "metadata": {},
   "outputs": [],
   "source": [
    "r_ma_gen_track.results[1].trackers_stat"
   ]
  },
  {
   "cell_type": "code",
   "execution_count": null,
   "metadata": {},
   "outputs": [],
   "source": []
  },
  {
   "cell_type": "code",
   "execution_count": null,
   "metadata": {},
   "outputs": [],
   "source": []
  },
  {
   "cell_type": "code",
   "execution_count": null,
   "metadata": {},
   "outputs": [],
   "source": []
  },
  {
   "cell_type": "code",
   "execution_count": null,
   "metadata": {},
   "outputs": [],
   "source": []
  }
 ],
 "metadata": {
  "kernelspec": {
   "display_name": "Python 3",
   "language": "python",
   "name": "python3"
  },
  "language_info": {
   "codemirror_mode": {
    "name": "ipython",
    "version": 3
   },
   "file_extension": ".py",
   "mimetype": "text/x-python",
   "name": "python",
   "nbconvert_exporter": "python",
   "pygments_lexer": "ipython3",
   "version": "3.6.9"
  },
  "widgets": {
   "application/vnd.jupyter.widget-state+json": {
    "state": {
     "002fb245a48740ff889343d23083ae7a": {
      "model_module": "@jupyter-widgets/controls",
      "model_module_version": "1.5.0",
      "model_name": "FloatProgressModel",
      "state": {
       "bar_style": "success",
       "layout": "IPY_MODEL_a12f918200d548378999bec02c2669c7",
       "max": 200,
       "style": "IPY_MODEL_a8148200391748e49a312fb3a8cf0798",
       "value": 200
      }
     },
     "00a87d00c5684c49a1bcdc34c51a2db1": {
      "model_module": "@jupyter-widgets/base",
      "model_module_version": "1.2.0",
      "model_name": "LayoutModel",
      "state": {}
     },
     "01915919d5d44bc7808f0a73c17b4a85": {
      "model_module": "@jupyter-widgets/base",
      "model_module_version": "1.2.0",
      "model_name": "LayoutModel",
      "state": {}
     },
     "01ed867ff1a54f8eacf4355e48aa4093": {
      "model_module": "@jupyter-widgets/controls",
      "model_module_version": "1.5.0",
      "model_name": "HBoxModel",
      "state": {
       "children": [
        "IPY_MODEL_1cf886be20a64469889839fc1486c7da",
        "IPY_MODEL_7dbda64717df4d58ac17b122a0125c8b",
        "IPY_MODEL_385bb2808c964681bde07957c37ef0b9"
       ],
       "layout": "IPY_MODEL_d95bce19df3d4531b4a4d4ad5c2d1932"
      }
     },
     "022b5e585cef438aa7dfc1a2c94267f1": {
      "model_module": "@jupyter-widgets/controls",
      "model_module_version": "1.5.0",
      "model_name": "HTMLModel",
      "state": {
       "layout": "IPY_MODEL_320628ce030d449690da630537b29df7",
       "style": "IPY_MODEL_0dfcd78215834d39ac2415aad290247a",
       "value": "Backtest : 100%"
      }
     },
     "0394d2b21e344da388b4ee9ca70e56c9": {
      "model_module": "@jupyter-widgets/controls",
      "model_module_version": "1.5.0",
      "model_name": "FloatProgressModel",
      "state": {
       "bar_style": "success",
       "layout": "IPY_MODEL_c2666d9599824beab1493bd2996492cf",
       "max": 200,
       "style": "IPY_MODEL_4b34f2e037cc43288aa9d7e44ea77675",
       "value": 200
      }
     },
     "043447c0f09f46a4907c82030aa6fdd9": {
      "model_module": "@jupyter-widgets/controls",
      "model_module_version": "1.5.0",
      "model_name": "DescriptionStyleModel",
      "state": {
       "description_width": ""
      }
     },
     "049e156d88af4f49a964f503bb831787": {
      "model_module": "@jupyter-widgets/base",
      "model_module_version": "1.2.0",
      "model_name": "LayoutModel",
      "state": {}
     },
     "060236f8c3104e8c9f8bbf7e4cca7fe7": {
      "model_module": "@jupyter-widgets/controls",
      "model_module_version": "1.5.0",
      "model_name": "HBoxModel",
      "state": {
       "children": [
        "IPY_MODEL_2f2fd234414b4d32830ad23696ab5206",
        "IPY_MODEL_4e82e993879e4671ad8d352e078bc9ae",
        "IPY_MODEL_9ec6291b9fe241cdbb8e1420a9f98236"
       ],
       "layout": "IPY_MODEL_8a66b710f9ff4adf828fce175392eacc"
      }
     },
     "06625a122cbb4fb9b874b072db06b55b": {
      "model_module": "@jupyter-widgets/controls",
      "model_module_version": "1.5.0",
      "model_name": "DescriptionStyleModel",
      "state": {
       "description_width": ""
      }
     },
     "077fce28123c486b828891957bb9e931": {
      "model_module": "@jupyter-widgets/controls",
      "model_module_version": "1.5.0",
      "model_name": "FloatProgressModel",
      "state": {
       "bar_style": "success",
       "layout": "IPY_MODEL_8237378111bf47a4911cab1b7fee7bd8",
       "max": 200,
       "style": "IPY_MODEL_8ceab6b8894e487dabde88f06555112d",
       "value": 200
      }
     },
     "096290d6a41044448b6d2fadad5bffbf": {
      "model_module": "@jupyter-widgets/controls",
      "model_module_version": "1.5.0",
      "model_name": "HBoxModel",
      "state": {
       "children": [
        "IPY_MODEL_4fd930958d4b4bf3a01a9d2de487e72f",
        "IPY_MODEL_077fce28123c486b828891957bb9e931",
        "IPY_MODEL_be3d6d05af5a40edbce8fef93e13a09d"
       ],
       "layout": "IPY_MODEL_448ceb61327e421884487a97e6a6cd1c"
      }
     },
     "09b412caacf444e58262d6a5f7e93f62": {
      "model_module": "@jupyter-widgets/controls",
      "model_module_version": "1.5.0",
      "model_name": "DescriptionStyleModel",
      "state": {
       "description_width": ""
      }
     },
     "0a809e3eb884471c97fcf911f7e56bb2": {
      "model_module": "@jupyter-widgets/base",
      "model_module_version": "1.2.0",
      "model_name": "LayoutModel",
      "state": {}
     },
     "0b0aa2638e6c4ddb9379d8932f883710": {
      "model_module": "@jupyter-widgets/controls",
      "model_module_version": "1.5.0",
      "model_name": "HBoxModel",
      "state": {
       "children": [
        "IPY_MODEL_d76fe1e629bd48c6bbe4854fb5a502d2",
        "IPY_MODEL_bda981b56f654dea8c0332204e42c122",
        "IPY_MODEL_5816c038eaa04b02a278e0879c66e5cb"
       ],
       "layout": "IPY_MODEL_1bcd892e59bc48ecb4536ebf5f15aab4"
      }
     },
     "0b43d077176842ea9c6f30add577bbfe": {
      "model_module": "@jupyter-widgets/base",
      "model_module_version": "1.2.0",
      "model_name": "LayoutModel",
      "state": {}
     },
     "0c1bd29567994810b30d36b96fa06e62": {
      "model_module": "@jupyter-widgets/controls",
      "model_module_version": "1.5.0",
      "model_name": "HTMLModel",
      "state": {
       "layout": "IPY_MODEL_83e3c096581843eb83dffa9e9f113565",
       "style": "IPY_MODEL_883e3d2dbb874d80952fde95402c8a32",
       "value": "Backtest : 100%"
      }
     },
     "0c3faf8e0e6543638a0c4e145b88e2d2": {
      "model_module": "@jupyter-widgets/controls",
      "model_module_version": "1.5.0",
      "model_name": "DescriptionStyleModel",
      "state": {
       "description_width": ""
      }
     },
     "0d5f3008a07a40c08405d8e27c3b9f0e": {
      "model_module": "@jupyter-widgets/base",
      "model_module_version": "1.2.0",
      "model_name": "LayoutModel",
      "state": {}
     },
     "0dfcd78215834d39ac2415aad290247a": {
      "model_module": "@jupyter-widgets/controls",
      "model_module_version": "1.5.0",
      "model_name": "DescriptionStyleModel",
      "state": {
       "description_width": ""
      }
     },
     "0f3ebfb196674469bcb1dbe4641456b1": {
      "model_module": "@jupyter-widgets/controls",
      "model_module_version": "1.5.0",
      "model_name": "HBoxModel",
      "state": {
       "children": [
        "IPY_MODEL_4de94871e8c24cb7a7137bd888a000ed",
        "IPY_MODEL_c03efa2ed56e49d6b33daf55e8511ea5",
        "IPY_MODEL_0f5c5aa82174406d967cfbad3273b6fe"
       ],
       "layout": "IPY_MODEL_aedb2b3f00854e2099f3d04f9ac9a05f"
      }
     },
     "0f5c5aa82174406d967cfbad3273b6fe": {
      "model_module": "@jupyter-widgets/controls",
      "model_module_version": "1.5.0",
      "model_name": "HTMLModel",
      "state": {
       "layout": "IPY_MODEL_e47bd8a7e27f4f00ad38399cab668a18",
       "style": "IPY_MODEL_93913e0c974649eb97ab0ba5c032b3f3",
       "value": " 200/200 [00:47&lt;00:00, 4.23 signals/s]"
      }
     },
     "0fd1e8056f4c4e9f9b9bdc9dc4b1746c": {
      "model_module": "@jupyter-widgets/controls",
      "model_module_version": "1.5.0",
      "model_name": "HTMLModel",
      "state": {
       "layout": "IPY_MODEL_5eb25111e0264765a78ffefc6cdbba50",
       "style": "IPY_MODEL_f8a32ca23c6a473399208b6fa2aa0321",
       "value": "Backtest : 100%"
      }
     },
     "12fc9138663b4708a4413b20ad205057": {
      "model_module": "@jupyter-widgets/controls",
      "model_module_version": "1.5.0",
      "model_name": "ProgressStyleModel",
      "state": {
       "description_width": ""
      }
     },
     "13b810ebe58c4fb1bff70a6e9d1bd951": {
      "model_module": "@jupyter-widgets/controls",
      "model_module_version": "1.5.0",
      "model_name": "ProgressStyleModel",
      "state": {
       "description_width": ""
      }
     },
     "1420d16812604e4d8c17c5430c442388": {
      "model_module": "@jupyter-widgets/base",
      "model_module_version": "1.2.0",
      "model_name": "LayoutModel",
      "state": {}
     },
     "147baed6f93249659cf9b840e6c0af30": {
      "model_module": "@jupyter-widgets/controls",
      "model_module_version": "1.5.0",
      "model_name": "HBoxModel",
      "state": {
       "children": [
        "IPY_MODEL_9a7efee8ab7c48eb9491623a126807cc",
        "IPY_MODEL_e1383ce2a0a64cc18a27dcb724cbdcd4",
        "IPY_MODEL_290a13f731bf4860bd43ba15ecea2de5"
       ],
       "layout": "IPY_MODEL_e8aa0854b8ed41b6ae55b6947775a014"
      }
     },
     "153d43e519c84fe6a940736ecc1ce692": {
      "model_module": "@jupyter-widgets/controls",
      "model_module_version": "1.5.0",
      "model_name": "DescriptionStyleModel",
      "state": {
       "description_width": ""
      }
     },
     "1594cdd4a16b42dc906e03b8ffdb38c3": {
      "model_module": "@jupyter-widgets/base",
      "model_module_version": "1.2.0",
      "model_name": "LayoutModel",
      "state": {}
     },
     "163099361aa94a96978422b4e1370ac2": {
      "model_module": "@jupyter-widgets/base",
      "model_module_version": "1.2.0",
      "model_name": "LayoutModel",
      "state": {}
     },
     "183e8975fdab47509c121491bc50985b": {
      "model_module": "@jupyter-widgets/base",
      "model_module_version": "1.2.0",
      "model_name": "LayoutModel",
      "state": {}
     },
     "18e5072ddaa1438ebcae908043da9dcb": {
      "model_module": "@jupyter-widgets/controls",
      "model_module_version": "1.5.0",
      "model_name": "ProgressStyleModel",
      "state": {
       "description_width": ""
      }
     },
     "18fb77c11e764468b1882f4acc00e587": {
      "model_module": "@jupyter-widgets/base",
      "model_module_version": "1.2.0",
      "model_name": "LayoutModel",
      "state": {}
     },
     "1935f5427bfb42bd986e5f3d265981fb": {
      "model_module": "@jupyter-widgets/controls",
      "model_module_version": "1.5.0",
      "model_name": "HTMLModel",
      "state": {
       "layout": "IPY_MODEL_57f1b6e1c6324691922b11cf0cee9bd1",
       "style": "IPY_MODEL_cc3a0decc3704792849aa1cc42a65004",
       "value": " 24.6/100 [03:03&lt;09:23, 7.47s/ signals]"
      }
     },
     "1a9288cff8d14f9eba3ab1bee959e937": {
      "model_module": "@jupyter-widgets/controls",
      "model_module_version": "1.5.0",
      "model_name": "ProgressStyleModel",
      "state": {
       "description_width": ""
      }
     },
     "1bcd892e59bc48ecb4536ebf5f15aab4": {
      "model_module": "@jupyter-widgets/base",
      "model_module_version": "1.2.0",
      "model_name": "LayoutModel",
      "state": {}
     },
     "1beb464ec7584fc6b9b2280fa9f18a03": {
      "model_module": "@jupyter-widgets/base",
      "model_module_version": "1.2.0",
      "model_name": "LayoutModel",
      "state": {}
     },
     "1cf886be20a64469889839fc1486c7da": {
      "model_module": "@jupyter-widgets/controls",
      "model_module_version": "1.5.0",
      "model_name": "HTMLModel",
      "state": {
       "layout": "IPY_MODEL_1420d16812604e4d8c17c5430c442388",
       "style": "IPY_MODEL_68c75a5212f848218b84878857bc8d03",
       "value": "Backtest : 100%"
      }
     },
     "1cfd250424474657bcc5ef0968f07650": {
      "model_module": "@jupyter-widgets/controls",
      "model_module_version": "1.5.0",
      "model_name": "ProgressStyleModel",
      "state": {
       "description_width": ""
      }
     },
     "1d911b385ace4114b0faad27a07a9b54": {
      "model_module": "@jupyter-widgets/base",
      "model_module_version": "1.2.0",
      "model_name": "LayoutModel",
      "state": {}
     },
     "1da8eee4577b407a87648bfca4f90d74": {
      "model_module": "@jupyter-widgets/controls",
      "model_module_version": "1.5.0",
      "model_name": "HTMLModel",
      "state": {
       "layout": "IPY_MODEL_f8bd0156874b4f888e8c7cb66d57213b",
       "style": "IPY_MODEL_32486b2e9fff440f982c576d62338b6b",
       "value": " 200/200 [00:49&lt;00:00, 4.08 signals/s]"
      }
     },
     "2398f4e0a03c4817867637b08d3aedd0": {
      "model_module": "@jupyter-widgets/controls",
      "model_module_version": "1.5.0",
      "model_name": "HBoxModel",
      "state": {
       "children": [
        "IPY_MODEL_8d70bb8d7c0c4326ba90a34604a12bca",
        "IPY_MODEL_f2043a5e970f4cd6af5f5a48de66214c",
        "IPY_MODEL_a361490af52c4b2c83da853deba71b60"
       ],
       "layout": "IPY_MODEL_eab456330f864d3faaca8ae6524a103d"
      }
     },
     "241c2fd2aba049488c40654fe9296ac7": {
      "model_module": "@jupyter-widgets/base",
      "model_module_version": "1.2.0",
      "model_name": "LayoutModel",
      "state": {}
     },
     "280056cd2e8c4522855d95dccc271399": {
      "model_module": "@jupyter-widgets/base",
      "model_module_version": "1.2.0",
      "model_name": "LayoutModel",
      "state": {}
     },
     "290a13f731bf4860bd43ba15ecea2de5": {
      "model_module": "@jupyter-widgets/controls",
      "model_module_version": "1.5.0",
      "model_name": "HTMLModel",
      "state": {
       "layout": "IPY_MODEL_2d94a188d0fe465385bcb1c014677119",
       "style": "IPY_MODEL_5f34172e2ba54670b3aee48af4e42d7f",
       "value": " 200/200 [02:40&lt;00:00, 1.25 signals/s]"
      }
     },
     "2aa15b30d0a64d408abd14bf2385994c": {
      "model_module": "@jupyter-widgets/controls",
      "model_module_version": "1.5.0",
      "model_name": "FloatProgressModel",
      "state": {
       "bar_style": "success",
       "layout": "IPY_MODEL_5a3969b3b9274ca89a5fad343b895348",
       "max": 200,
       "style": "IPY_MODEL_12fc9138663b4708a4413b20ad205057",
       "value": 200
      }
     },
     "2c8cbfb1579c4a8fb0f5c397b8240f9a": {
      "model_module": "@jupyter-widgets/controls",
      "model_module_version": "1.5.0",
      "model_name": "FloatProgressModel",
      "state": {
       "bar_style": "success",
       "layout": "IPY_MODEL_8021aa75e692472ca9fc2adbab112dd4",
       "max": 200,
       "style": "IPY_MODEL_d3da27e521ac4d09bbf0cfa9a42ef968",
       "value": 200
      }
     },
     "2d94a188d0fe465385bcb1c014677119": {
      "model_module": "@jupyter-widgets/base",
      "model_module_version": "1.2.0",
      "model_name": "LayoutModel",
      "state": {}
     },
     "2da98c6204ba47ff9875283bebb8ae77": {
      "model_module": "@jupyter-widgets/controls",
      "model_module_version": "1.5.0",
      "model_name": "HTMLModel",
      "state": {
       "layout": "IPY_MODEL_0b43d077176842ea9c6f30add577bbfe",
       "style": "IPY_MODEL_3295c27ee5114467be77ca334efd0f69",
       "value": "/My Tracker:  25%"
      }
     },
     "2db21486ca7f418e8928e68e65d19f83": {
      "model_module": "@jupyter-widgets/controls",
      "model_module_version": "1.5.0",
      "model_name": "ProgressStyleModel",
      "state": {
       "description_width": ""
      }
     },
     "2e0541dc6ded4f79b5f82935e4778fb8": {
      "model_module": "@jupyter-widgets/controls",
      "model_module_version": "1.5.0",
      "model_name": "HBoxModel",
      "state": {
       "children": [
        "IPY_MODEL_908c501d83324f9094d6e18893d608db",
        "IPY_MODEL_4fc359fb023d478ab0c6d09f1037d8ad",
        "IPY_MODEL_93c42af4051144a2af15b55968286e30"
       ],
       "layout": "IPY_MODEL_bedeee3f10af4bd0821cb27d13efd903"
      }
     },
     "2e2afe8686104a0e9a897fefc0296973": {
      "model_module": "@jupyter-widgets/controls",
      "model_module_version": "1.5.0",
      "model_name": "DescriptionStyleModel",
      "state": {
       "description_width": ""
      }
     },
     "2f2fd234414b4d32830ad23696ab5206": {
      "model_module": "@jupyter-widgets/controls",
      "model_module_version": "1.5.0",
      "model_name": "HTMLModel",
      "state": {
       "layout": "IPY_MODEL_aa669df0425b4d4ba194171f885604cc",
       "style": "IPY_MODEL_57f311ae750d44dfad0d946b295afa4f",
       "value": "Backtest : 100%"
      }
     },
     "2f6160d9b8fe424c84737158cb249182": {
      "model_module": "@jupyter-widgets/controls",
      "model_module_version": "1.5.0",
      "model_name": "DescriptionStyleModel",
      "state": {
       "description_width": ""
      }
     },
     "318905f53627484c96a776f46b2509e8": {
      "model_module": "@jupyter-widgets/controls",
      "model_module_version": "1.5.0",
      "model_name": "ProgressStyleModel",
      "state": {
       "description_width": ""
      }
     },
     "31de84ecb8974d72a86f63a6a159ce90": {
      "model_module": "@jupyter-widgets/base",
      "model_module_version": "1.2.0",
      "model_name": "LayoutModel",
      "state": {}
     },
     "320628ce030d449690da630537b29df7": {
      "model_module": "@jupyter-widgets/base",
      "model_module_version": "1.2.0",
      "model_name": "LayoutModel",
      "state": {}
     },
     "32486b2e9fff440f982c576d62338b6b": {
      "model_module": "@jupyter-widgets/controls",
      "model_module_version": "1.5.0",
      "model_name": "DescriptionStyleModel",
      "state": {
       "description_width": ""
      }
     },
     "3295c27ee5114467be77ca334efd0f69": {
      "model_module": "@jupyter-widgets/controls",
      "model_module_version": "1.5.0",
      "model_name": "DescriptionStyleModel",
      "state": {
       "description_width": ""
      }
     },
     "329e3e26aaae4e5997023cd06191f6a0": {
      "model_module": "@jupyter-widgets/base",
      "model_module_version": "1.2.0",
      "model_name": "LayoutModel",
      "state": {}
     },
     "32f605a65ea34e96ac1102d410e39a5a": {
      "model_module": "@jupyter-widgets/controls",
      "model_module_version": "1.5.0",
      "model_name": "HBoxModel",
      "state": {
       "children": [
        "IPY_MODEL_992ca64531d9404aa05673bdeab404a9",
        "IPY_MODEL_39bb0cac280f42b6bdd8ff94c34c0730",
        "IPY_MODEL_4ef6e3cbb61b467c8aba7d1d937740f9"
       ],
       "layout": "IPY_MODEL_163099361aa94a96978422b4e1370ac2"
      }
     },
     "3660e9ceabc34fc09294469d9234f03c": {
      "model_module": "@jupyter-widgets/controls",
      "model_module_version": "1.5.0",
      "model_name": "DescriptionStyleModel",
      "state": {
       "description_width": ""
      }
     },
     "385bb2808c964681bde07957c37ef0b9": {
      "model_module": "@jupyter-widgets/controls",
      "model_module_version": "1.5.0",
      "model_name": "HTMLModel",
      "state": {
       "layout": "IPY_MODEL_a3d4184c030f444494f39c6c54c481fc",
       "style": "IPY_MODEL_9506d25aba6d49f78d293aa6e18e43d2",
       "value": " 200/200 [00:47&lt;00:00, 4.18 signals/s]"
      }
     },
     "3995ddbb206e4baebe7c0ec86934b015": {
      "model_module": "@jupyter-widgets/controls",
      "model_module_version": "1.5.0",
      "model_name": "ProgressStyleModel",
      "state": {
       "description_width": ""
      }
     },
     "39bb0cac280f42b6bdd8ff94c34c0730": {
      "model_module": "@jupyter-widgets/controls",
      "model_module_version": "1.5.0",
      "model_name": "FloatProgressModel",
      "state": {
       "bar_style": "success",
       "layout": "IPY_MODEL_1d911b385ace4114b0faad27a07a9b54",
       "max": 200,
       "style": "IPY_MODEL_f8775295882b447782ad4e58f0a5f19e",
       "value": 200
      }
     },
     "3abfe92bea4a40f19f7b0c72b8189a87": {
      "model_module": "@jupyter-widgets/controls",
      "model_module_version": "1.5.0",
      "model_name": "DescriptionStyleModel",
      "state": {
       "description_width": ""
      }
     },
     "3db8ea2d41d04ea79d5188de54ab1ee3": {
      "model_module": "@jupyter-widgets/base",
      "model_module_version": "1.2.0",
      "model_name": "LayoutModel",
      "state": {}
     },
     "3e7aa497f1b244608610707e77cecac5": {
      "model_module": "@jupyter-widgets/controls",
      "model_module_version": "1.5.0",
      "model_name": "DescriptionStyleModel",
      "state": {
       "description_width": ""
      }
     },
     "43a5dfd09c164046a87da43e5c872ad9": {
      "model_module": "@jupyter-widgets/base",
      "model_module_version": "1.2.0",
      "model_name": "LayoutModel",
      "state": {}
     },
     "441310f3d3f2404ebd58da661e7ac11e": {
      "model_module": "@jupyter-widgets/controls",
      "model_module_version": "1.5.0",
      "model_name": "HTMLModel",
      "state": {
       "layout": "IPY_MODEL_f8be617309a548bea195c9e847ea3ba8",
       "style": "IPY_MODEL_d2e9ae4486e249ae812ade3ae6836907",
       "value": " 300/300 [00:36&lt;00:00, 8.32 signals/s]"
      }
     },
     "443b28a939384010abe0fdd4bf2875fa": {
      "model_module": "@jupyter-widgets/base",
      "model_module_version": "1.2.0",
      "model_name": "LayoutModel",
      "state": {}
     },
     "448ceb61327e421884487a97e6a6cd1c": {
      "model_module": "@jupyter-widgets/base",
      "model_module_version": "1.2.0",
      "model_name": "LayoutModel",
      "state": {}
     },
     "472587cdc8fb45f4adaa19919ea36550": {
      "model_module": "@jupyter-widgets/base",
      "model_module_version": "1.2.0",
      "model_name": "LayoutModel",
      "state": {}
     },
     "49511c2cb0ce4809911f4d736992bb6f": {
      "model_module": "@jupyter-widgets/controls",
      "model_module_version": "1.5.0",
      "model_name": "DescriptionStyleModel",
      "state": {
       "description_width": ""
      }
     },
     "49dedd23d63441efa5e0a17b0fe8345e": {
      "model_module": "@jupyter-widgets/controls",
      "model_module_version": "1.5.0",
      "model_name": "HTMLModel",
      "state": {
       "layout": "IPY_MODEL_5bcf93e398094d4d8ad9763106717b95",
       "style": "IPY_MODEL_c6584eb77297448c80069196ad1f6d15",
       "value": " 200/200 [03:58&lt;00:00, 1.19s/ signals]"
      }
     },
     "4a36864eff174cb9ad4630665ff5cbe6": {
      "model_module": "@jupyter-widgets/base",
      "model_module_version": "1.2.0",
      "model_name": "LayoutModel",
      "state": {}
     },
     "4b34f2e037cc43288aa9d7e44ea77675": {
      "model_module": "@jupyter-widgets/controls",
      "model_module_version": "1.5.0",
      "model_name": "ProgressStyleModel",
      "state": {
       "description_width": ""
      }
     },
     "4cc4d28d5512497bbad8cff3f34f3038": {
      "model_module": "@jupyter-widgets/controls",
      "model_module_version": "1.5.0",
      "model_name": "HTMLModel",
      "state": {
       "layout": "IPY_MODEL_049e156d88af4f49a964f503bb831787",
       "style": "IPY_MODEL_d511d61b53a84a9f9210cdcfc8013bdf",
       "value": "Backtest : 100%"
      }
     },
     "4de94871e8c24cb7a7137bd888a000ed": {
      "model_module": "@jupyter-widgets/controls",
      "model_module_version": "1.5.0",
      "model_name": "HTMLModel",
      "state": {
       "layout": "IPY_MODEL_329e3e26aaae4e5997023cd06191f6a0",
       "style": "IPY_MODEL_706c67b6327043e2b61d287ba2d417dc",
       "value": "Backtest : 100%"
      }
     },
     "4e82e993879e4671ad8d352e078bc9ae": {
      "model_module": "@jupyter-widgets/controls",
      "model_module_version": "1.5.0",
      "model_name": "FloatProgressModel",
      "state": {
       "bar_style": "success",
       "layout": "IPY_MODEL_241c2fd2aba049488c40654fe9296ac7",
       "style": "IPY_MODEL_8ef0ea8b3ca44f3e9d91ff73ac90031f",
       "value": 100
      }
     },
     "4ef6e3cbb61b467c8aba7d1d937740f9": {
      "model_module": "@jupyter-widgets/controls",
      "model_module_version": "1.5.0",
      "model_name": "HTMLModel",
      "state": {
       "layout": "IPY_MODEL_8a0f234d0ed44bfcbddc240e32fb2fde",
       "style": "IPY_MODEL_72c610fb955a4dea96bafef80530cec4",
       "value": " 200/200 [01:17&lt;00:00, 2.59 signals/s]"
      }
     },
     "4f4b13ac3fb644b3b877fe56af39ab27": {
      "model_module": "@jupyter-widgets/controls",
      "model_module_version": "1.5.0",
      "model_name": "HBoxModel",
      "state": {
       "children": [
        "IPY_MODEL_0c1bd29567994810b30d36b96fa06e62",
        "IPY_MODEL_e0c7eb9e19c34e63bdaebd1a3d114bce",
        "IPY_MODEL_5ac55fcdd69d44e6940cd5584a8e0cff"
       ],
       "layout": "IPY_MODEL_673d96cf447748b2b9e3517e557b8131"
      }
     },
     "4fc359fb023d478ab0c6d09f1037d8ad": {
      "model_module": "@jupyter-widgets/controls",
      "model_module_version": "1.5.0",
      "model_name": "FloatProgressModel",
      "state": {
       "bar_style": "success",
       "layout": "IPY_MODEL_bb114aa14bce4bf8bab977f1f4bd3dd3",
       "max": 200,
       "style": "IPY_MODEL_9e6028f0c0f44cae817fc257da9f1e28",
       "value": 200
      }
     },
     "4fd930958d4b4bf3a01a9d2de487e72f": {
      "model_module": "@jupyter-widgets/controls",
      "model_module_version": "1.5.0",
      "model_name": "HTMLModel",
      "state": {
       "layout": "IPY_MODEL_9a2824765cdc4a909176cf6dd7e9d927",
       "style": "IPY_MODEL_3660e9ceabc34fc09294469d9234f03c",
       "value": "Backtest : 100%"
      }
     },
     "5014949a058544a297b1a566023be813": {
      "model_module": "@jupyter-widgets/base",
      "model_module_version": "1.2.0",
      "model_name": "LayoutModel",
      "state": {}
     },
     "5062c9c2c06d494fa5177f0e46c9fc82": {
      "model_module": "@jupyter-widgets/base",
      "model_module_version": "1.2.0",
      "model_name": "LayoutModel",
      "state": {}
     },
     "533df83f863d43328c7eef624dd98cbf": {
      "model_module": "@jupyter-widgets/controls",
      "model_module_version": "1.5.0",
      "model_name": "HBoxModel",
      "state": {
       "children": [
        "IPY_MODEL_4cc4d28d5512497bbad8cff3f34f3038",
        "IPY_MODEL_2aa15b30d0a64d408abd14bf2385994c",
        "IPY_MODEL_53bdcab75a1d4cb69839d5c4c758c88f"
       ],
       "layout": "IPY_MODEL_9fc041b014224aa795a8f579b77c9a45"
      }
     },
     "53bdcab75a1d4cb69839d5c4c758c88f": {
      "model_module": "@jupyter-widgets/controls",
      "model_module_version": "1.5.0",
      "model_name": "HTMLModel",
      "state": {
       "layout": "IPY_MODEL_d2c359bff1bf47438e697178a3b28d3b",
       "style": "IPY_MODEL_bf06b0c7f2fe4f9e9a5f985ff4cbab05",
       "value": " 200/200 [01:06&lt;00:00, 3.03 signals/s]"
      }
     },
     "56d6cc8ce0764e1a9fad95aefec3431e": {
      "model_module": "@jupyter-widgets/controls",
      "model_module_version": "1.5.0",
      "model_name": "FloatProgressModel",
      "state": {
       "bar_style": "success",
       "layout": "IPY_MODEL_60aa0c8b330641ab90393f7dfb901dd7",
       "max": 200,
       "style": "IPY_MODEL_7b46febd2329471aae8e784f0c9bcc21",
       "value": 200
      }
     },
     "5709dc1f6ced42159ed5339589074a9e": {
      "model_module": "@jupyter-widgets/controls",
      "model_module_version": "1.5.0",
      "model_name": "HBoxModel",
      "state": {
       "children": [
        "IPY_MODEL_a73c7d1076024a1ea25591d939c07f1d",
        "IPY_MODEL_cfd13ef283df46fd9554110e137cd6b9",
        "IPY_MODEL_dc7c6b538a1449e197e4b9bcb445dc65"
       ],
       "layout": "IPY_MODEL_5014949a058544a297b1a566023be813"
      }
     },
     "57f1b6e1c6324691922b11cf0cee9bd1": {
      "model_module": "@jupyter-widgets/base",
      "model_module_version": "1.2.0",
      "model_name": "LayoutModel",
      "state": {}
     },
     "57f311ae750d44dfad0d946b295afa4f": {
      "model_module": "@jupyter-widgets/controls",
      "model_module_version": "1.5.0",
      "model_name": "DescriptionStyleModel",
      "state": {
       "description_width": ""
      }
     },
     "57f4e29f2d9d40cfa7c96f9b9a759427": {
      "model_module": "@jupyter-widgets/base",
      "model_module_version": "1.2.0",
      "model_name": "LayoutModel",
      "state": {}
     },
     "5816c038eaa04b02a278e0879c66e5cb": {
      "model_module": "@jupyter-widgets/controls",
      "model_module_version": "1.5.0",
      "model_name": "HTMLModel",
      "state": {
       "layout": "IPY_MODEL_85e891f58fac449792e137ecc161eb1b",
       "style": "IPY_MODEL_3e7aa497f1b244608610707e77cecac5",
       "value": " 200/200 [00:58&lt;00:00, 3.42 signals/s]"
      }
     },
     "58e44f1e10d84dc19fa58fa18f072b91": {
      "model_module": "@jupyter-widgets/controls",
      "model_module_version": "1.5.0",
      "model_name": "HTMLModel",
      "state": {
       "layout": "IPY_MODEL_a0cb1b4aea494da3bc8ae7520563dc52",
       "style": "IPY_MODEL_ec835fa2f12a420a8653a1496e52055d",
       "value": " 200/200 [00:01&lt;00:00, 112 signals/s]"
      }
     },
     "59955c3f7bad40ee9a130e1bb5adf2c7": {
      "model_module": "@jupyter-widgets/controls",
      "model_module_version": "1.5.0",
      "model_name": "DescriptionStyleModel",
      "state": {
       "description_width": ""
      }
     },
     "59f58be9071a4271882c3bfd64929043": {
      "model_module": "@jupyter-widgets/base",
      "model_module_version": "1.2.0",
      "model_name": "LayoutModel",
      "state": {}
     },
     "5a3969b3b9274ca89a5fad343b895348": {
      "model_module": "@jupyter-widgets/base",
      "model_module_version": "1.2.0",
      "model_name": "LayoutModel",
      "state": {}
     },
     "5abbfcfa16c648108b678bcede5f714a": {
      "model_module": "@jupyter-widgets/controls",
      "model_module_version": "1.5.0",
      "model_name": "HBoxModel",
      "state": {
       "children": [
        "IPY_MODEL_6a2b9319fcac4290896ee0e649646bdf",
        "IPY_MODEL_a7284627a25542cf9958d6580b9f4f9b",
        "IPY_MODEL_d8470eb80c6e426ea1559aa2a612db47"
       ],
       "layout": "IPY_MODEL_1594cdd4a16b42dc906e03b8ffdb38c3"
      }
     },
     "5ac55fcdd69d44e6940cd5584a8e0cff": {
      "model_module": "@jupyter-widgets/controls",
      "model_module_version": "1.5.0",
      "model_name": "HTMLModel",
      "state": {
       "layout": "IPY_MODEL_3db8ea2d41d04ea79d5188de54ab1ee3",
       "style": "IPY_MODEL_d74482ce971748aa9aa4d311e23f397a",
       "value": " 200/200 [20:33&lt;00:00, 6.17s/ signals]"
      }
     },
     "5bcf93e398094d4d8ad9763106717b95": {
      "model_module": "@jupyter-widgets/base",
      "model_module_version": "1.2.0",
      "model_name": "LayoutModel",
      "state": {}
     },
     "5cdea8cbd3de43d996e4e2e0d3619d10": {
      "model_module": "@jupyter-widgets/controls",
      "model_module_version": "1.5.0",
      "model_name": "HTMLModel",
      "state": {
       "layout": "IPY_MODEL_f8c5ba50e2c74c8cbbb52625adc94c5e",
       "style": "IPY_MODEL_6c6b1e598f6b47509a303bdc82abccc4",
       "value": " 200/200 [02:34&lt;00:00, 1.30 signals/s]"
      }
     },
     "5dab995f709e43c6aacf13d27737ccbd": {
      "model_module": "@jupyter-widgets/controls",
      "model_module_version": "1.5.0",
      "model_name": "DescriptionStyleModel",
      "state": {
       "description_width": ""
      }
     },
     "5eb25111e0264765a78ffefc6cdbba50": {
      "model_module": "@jupyter-widgets/base",
      "model_module_version": "1.2.0",
      "model_name": "LayoutModel",
      "state": {}
     },
     "5f34172e2ba54670b3aee48af4e42d7f": {
      "model_module": "@jupyter-widgets/controls",
      "model_module_version": "1.5.0",
      "model_name": "DescriptionStyleModel",
      "state": {
       "description_width": ""
      }
     },
     "60aa0c8b330641ab90393f7dfb901dd7": {
      "model_module": "@jupyter-widgets/base",
      "model_module_version": "1.2.0",
      "model_name": "LayoutModel",
      "state": {}
     },
     "62c06255f285428c82c11f69ce28d325": {
      "model_module": "@jupyter-widgets/controls",
      "model_module_version": "1.5.0",
      "model_name": "HBoxModel",
      "state": {
       "children": [
        "IPY_MODEL_d0fcb5221db441f88f7812b045f457db",
        "IPY_MODEL_718cf1ab2f2e4dddb811b30969a47832",
        "IPY_MODEL_5cdea8cbd3de43d996e4e2e0d3619d10"
       ],
       "layout": "IPY_MODEL_f7c5f8fa831540e88586d72c917e191e"
      }
     },
     "673d96cf447748b2b9e3517e557b8131": {
      "model_module": "@jupyter-widgets/base",
      "model_module_version": "1.2.0",
      "model_name": "LayoutModel",
      "state": {}
     },
     "68c75a5212f848218b84878857bc8d03": {
      "model_module": "@jupyter-widgets/controls",
      "model_module_version": "1.5.0",
      "model_name": "DescriptionStyleModel",
      "state": {
       "description_width": ""
      }
     },
     "6a2b9319fcac4290896ee0e649646bdf": {
      "model_module": "@jupyter-widgets/controls",
      "model_module_version": "1.5.0",
      "model_name": "HTMLModel",
      "state": {
       "layout": "IPY_MODEL_a5e59ee299ce4fc48cf00b886ba2559e",
       "style": "IPY_MODEL_7681731468cf409bb98485417a721649",
       "value": "Backtest : 100%"
      }
     },
     "6c6b1e598f6b47509a303bdc82abccc4": {
      "model_module": "@jupyter-widgets/controls",
      "model_module_version": "1.5.0",
      "model_name": "DescriptionStyleModel",
      "state": {
       "description_width": ""
      }
     },
     "6c9d3de9d59048819ae273d874741821": {
      "model_module": "@jupyter-widgets/controls",
      "model_module_version": "1.5.0",
      "model_name": "HBoxModel",
      "state": {
       "children": [
        "IPY_MODEL_ca121cefe78a450d97ed78095ff80a65",
        "IPY_MODEL_6edf2665deee46e19be5f2e8050bf5a2",
        "IPY_MODEL_6cdd8b50c8694c6a8a8a1e997895ca2d"
       ],
       "layout": "IPY_MODEL_4a36864eff174cb9ad4630665ff5cbe6"
      }
     },
     "6cdd8b50c8694c6a8a8a1e997895ca2d": {
      "model_module": "@jupyter-widgets/controls",
      "model_module_version": "1.5.0",
      "model_name": "HTMLModel",
      "state": {
       "layout": "IPY_MODEL_c646660737744505b4a9f6de263d55db",
       "style": "IPY_MODEL_789b345a81f647e384cfb403ad494625",
       "value": " 200/200 [01:11&lt;00:00, 2.81 signals/s]"
      }
     },
     "6edf2665deee46e19be5f2e8050bf5a2": {
      "model_module": "@jupyter-widgets/controls",
      "model_module_version": "1.5.0",
      "model_name": "FloatProgressModel",
      "state": {
       "bar_style": "success",
       "layout": "IPY_MODEL_01915919d5d44bc7808f0a73c17b4a85",
       "max": 200,
       "style": "IPY_MODEL_d729ecf34e654f6ba7df0926a35f268e",
       "value": 200
      }
     },
     "6f0c5036427740f083264c54a188c8fd": {
      "model_module": "@jupyter-widgets/controls",
      "model_module_version": "1.5.0",
      "model_name": "FloatProgressModel",
      "state": {
       "bar_style": "success",
       "layout": "IPY_MODEL_9ca613b68cef4c7191b64ea206f96a47",
       "max": 300,
       "style": "IPY_MODEL_ae0049c76d0a4ea7a1a97c96487fea97",
       "value": 300
      }
     },
     "706c67b6327043e2b61d287ba2d417dc": {
      "model_module": "@jupyter-widgets/controls",
      "model_module_version": "1.5.0",
      "model_name": "DescriptionStyleModel",
      "state": {
       "description_width": ""
      }
     },
     "70eb1ac534704ae38231a11cb78467d5": {
      "model_module": "@jupyter-widgets/controls",
      "model_module_version": "1.5.0",
      "model_name": "DescriptionStyleModel",
      "state": {
       "description_width": ""
      }
     },
     "7145f035e9c245cf80277c87920336f4": {
      "model_module": "@jupyter-widgets/base",
      "model_module_version": "1.2.0",
      "model_name": "LayoutModel",
      "state": {}
     },
     "718cf1ab2f2e4dddb811b30969a47832": {
      "model_module": "@jupyter-widgets/controls",
      "model_module_version": "1.5.0",
      "model_name": "FloatProgressModel",
      "state": {
       "bar_style": "success",
       "layout": "IPY_MODEL_472587cdc8fb45f4adaa19919ea36550",
       "max": 200,
       "style": "IPY_MODEL_2db21486ca7f418e8928e68e65d19f83",
       "value": 200
      }
     },
     "71f306fc351d4aff9371f1df95053e7e": {
      "model_module": "@jupyter-widgets/controls",
      "model_module_version": "1.5.0",
      "model_name": "HTMLModel",
      "state": {
       "layout": "IPY_MODEL_833b111023674d09975e5d10cb2cd3da",
       "style": "IPY_MODEL_856de622b93d41d19d6617d573868201",
       "value": "Backtest : 100%"
      }
     },
     "72c610fb955a4dea96bafef80530cec4": {
      "model_module": "@jupyter-widgets/controls",
      "model_module_version": "1.5.0",
      "model_name": "DescriptionStyleModel",
      "state": {
       "description_width": ""
      }
     },
     "73526cc90f0245f7a9450fb717b258b8": {
      "model_module": "@jupyter-widgets/controls",
      "model_module_version": "1.5.0",
      "model_name": "HTMLModel",
      "state": {
       "layout": "IPY_MODEL_eed0c8f09b8d4714ab46e21116077e75",
       "style": "IPY_MODEL_3abfe92bea4a40f19f7b0c72b8189a87",
       "value": "Backtest : 100%"
      }
     },
     "74a6e7f461a44a19a05f9d960f19f831": {
      "model_module": "@jupyter-widgets/controls",
      "model_module_version": "1.5.0",
      "model_name": "ProgressStyleModel",
      "state": {
       "description_width": ""
      }
     },
     "7560243cae864a4b921eb85942b716ff": {
      "model_module": "@jupyter-widgets/base",
      "model_module_version": "1.2.0",
      "model_name": "LayoutModel",
      "state": {}
     },
     "7681731468cf409bb98485417a721649": {
      "model_module": "@jupyter-widgets/controls",
      "model_module_version": "1.5.0",
      "model_name": "DescriptionStyleModel",
      "state": {
       "description_width": ""
      }
     },
     "789b345a81f647e384cfb403ad494625": {
      "model_module": "@jupyter-widgets/controls",
      "model_module_version": "1.5.0",
      "model_name": "DescriptionStyleModel",
      "state": {
       "description_width": ""
      }
     },
     "798e591ee1cf4791a12a1ce5669cacfa": {
      "model_module": "@jupyter-widgets/controls",
      "model_module_version": "1.5.0",
      "model_name": "DescriptionStyleModel",
      "state": {
       "description_width": ""
      }
     },
     "7afc40018c0d468d89ee8fa400f62a74": {
      "model_module": "@jupyter-widgets/controls",
      "model_module_version": "1.5.0",
      "model_name": "HBoxModel",
      "state": {
       "children": [
        "IPY_MODEL_91901f9635234e7fbe87e5e773ab7b4c",
        "IPY_MODEL_7f9e3db8373045c599eed23e36415770",
        "IPY_MODEL_985eb376264f493eb6c6f1e956a31a56"
       ],
       "layout": "IPY_MODEL_e72724bc208142039dfde94383db3260"
      }
     },
     "7b46febd2329471aae8e784f0c9bcc21": {
      "model_module": "@jupyter-widgets/controls",
      "model_module_version": "1.5.0",
      "model_name": "ProgressStyleModel",
      "state": {
       "description_width": ""
      }
     },
     "7b7bd6f35961477bb2953ede42a5cda0": {
      "model_module": "@jupyter-widgets/controls",
      "model_module_version": "1.5.0",
      "model_name": "DescriptionStyleModel",
      "state": {
       "description_width": ""
      }
     },
     "7b8c5a88c53f4317a2a228b260719804": {
      "model_module": "@jupyter-widgets/base",
      "model_module_version": "1.2.0",
      "model_name": "LayoutModel",
      "state": {}
     },
     "7ba3c431a7b8418ab1501396488ddcbc": {
      "model_module": "@jupyter-widgets/controls",
      "model_module_version": "1.5.0",
      "model_name": "ProgressStyleModel",
      "state": {
       "description_width": ""
      }
     },
     "7d34eac9eb594d91abfc4a969dca18dd": {
      "model_module": "@jupyter-widgets/base",
      "model_module_version": "1.2.0",
      "model_name": "LayoutModel",
      "state": {}
     },
     "7dbda64717df4d58ac17b122a0125c8b": {
      "model_module": "@jupyter-widgets/controls",
      "model_module_version": "1.5.0",
      "model_name": "FloatProgressModel",
      "state": {
       "bar_style": "success",
       "layout": "IPY_MODEL_5062c9c2c06d494fa5177f0e46c9fc82",
       "max": 200,
       "style": "IPY_MODEL_c91428a413d741d2956dfdda224c6a79",
       "value": 200
      }
     },
     "7e07a75c7ef54cb9b0fca9ba0292b5e2": {
      "model_module": "@jupyter-widgets/base",
      "model_module_version": "1.2.0",
      "model_name": "LayoutModel",
      "state": {}
     },
     "7f36b859aa7a43eda6983a850f13ff4a": {
      "model_module": "@jupyter-widgets/controls",
      "model_module_version": "1.5.0",
      "model_name": "FloatProgressModel",
      "state": {
       "bar_style": "success",
       "layout": "IPY_MODEL_1beb464ec7584fc6b9b2280fa9f18a03",
       "max": 200,
       "style": "IPY_MODEL_1a9288cff8d14f9eba3ab1bee959e937",
       "value": 200
      }
     },
     "7f9e3db8373045c599eed23e36415770": {
      "model_module": "@jupyter-widgets/controls",
      "model_module_version": "1.5.0",
      "model_name": "FloatProgressModel",
      "state": {
       "bar_style": "success",
       "layout": "IPY_MODEL_ed894398a5914a87ab7d611af75d4832",
       "style": "IPY_MODEL_318905f53627484c96a776f46b2509e8",
       "value": 100
      }
     },
     "80040466109e484c911ccc6b1eded67e": {
      "model_module": "@jupyter-widgets/controls",
      "model_module_version": "1.5.0",
      "model_name": "HTMLModel",
      "state": {
       "layout": "IPY_MODEL_864a989aa9214a07a6d45464f7834b84",
       "style": "IPY_MODEL_49511c2cb0ce4809911f4d736992bb6f",
       "value": "Backtest : 100%"
      }
     },
     "8021aa75e692472ca9fc2adbab112dd4": {
      "model_module": "@jupyter-widgets/base",
      "model_module_version": "1.2.0",
      "model_name": "LayoutModel",
      "state": {}
     },
     "80855cb1487745458ca2417f24c06431": {
      "model_module": "@jupyter-widgets/base",
      "model_module_version": "1.2.0",
      "model_name": "LayoutModel",
      "state": {}
     },
     "81ef27ee1c8b498a8dab771148de2cb3": {
      "model_module": "@jupyter-widgets/base",
      "model_module_version": "1.2.0",
      "model_name": "LayoutModel",
      "state": {}
     },
     "8237378111bf47a4911cab1b7fee7bd8": {
      "model_module": "@jupyter-widgets/base",
      "model_module_version": "1.2.0",
      "model_name": "LayoutModel",
      "state": {}
     },
     "833b111023674d09975e5d10cb2cd3da": {
      "model_module": "@jupyter-widgets/base",
      "model_module_version": "1.2.0",
      "model_name": "LayoutModel",
      "state": {}
     },
     "83679f99a6bb4a34b5932891bcad21f3": {
      "model_module": "@jupyter-widgets/controls",
      "model_module_version": "1.5.0",
      "model_name": "HBoxModel",
      "state": {
       "children": [
        "IPY_MODEL_73526cc90f0245f7a9450fb717b258b8",
        "IPY_MODEL_c689c17c6dc849e8b004ee26ae41a5b1",
        "IPY_MODEL_f4753667b602414b96db808373885ac6"
       ],
       "layout": "IPY_MODEL_ba915f1888df4a68a510af45b24f198d"
      }
     },
     "83e3c096581843eb83dffa9e9f113565": {
      "model_module": "@jupyter-widgets/base",
      "model_module_version": "1.2.0",
      "model_name": "LayoutModel",
      "state": {}
     },
     "856de622b93d41d19d6617d573868201": {
      "model_module": "@jupyter-widgets/controls",
      "model_module_version": "1.5.0",
      "model_name": "DescriptionStyleModel",
      "state": {
       "description_width": ""
      }
     },
     "85e891f58fac449792e137ecc161eb1b": {
      "model_module": "@jupyter-widgets/base",
      "model_module_version": "1.2.0",
      "model_name": "LayoutModel",
      "state": {}
     },
     "864a989aa9214a07a6d45464f7834b84": {
      "model_module": "@jupyter-widgets/base",
      "model_module_version": "1.2.0",
      "model_name": "LayoutModel",
      "state": {}
     },
     "865626aceb894fad929b9ebc7334ff7e": {
      "model_module": "@jupyter-widgets/base",
      "model_module_version": "1.2.0",
      "model_name": "LayoutModel",
      "state": {}
     },
     "86bdc80479244549b89afe2b78fc6b9b": {
      "model_module": "@jupyter-widgets/base",
      "model_module_version": "1.2.0",
      "model_name": "LayoutModel",
      "state": {}
     },
     "86db6ebffe6449f890c25556569276f1": {
      "model_module": "@jupyter-widgets/controls",
      "model_module_version": "1.5.0",
      "model_name": "DescriptionStyleModel",
      "state": {
       "description_width": ""
      }
     },
     "883e3d2dbb874d80952fde95402c8a32": {
      "model_module": "@jupyter-widgets/controls",
      "model_module_version": "1.5.0",
      "model_name": "DescriptionStyleModel",
      "state": {
       "description_width": ""
      }
     },
     "8931436f69f64043a7729b2a97428706": {
      "model_module": "@jupyter-widgets/controls",
      "model_module_version": "1.5.0",
      "model_name": "HBoxModel",
      "state": {
       "children": [
        "IPY_MODEL_ab743703a0984f76aa291722cc468ce7",
        "IPY_MODEL_6f0c5036427740f083264c54a188c8fd",
        "IPY_MODEL_441310f3d3f2404ebd58da661e7ac11e"
       ],
       "layout": "IPY_MODEL_c281d5a4cb2e492ea3c2b3335a775eb0"
      }
     },
     "8a0f234d0ed44bfcbddc240e32fb2fde": {
      "model_module": "@jupyter-widgets/base",
      "model_module_version": "1.2.0",
      "model_name": "LayoutModel",
      "state": {}
     },
     "8a66af7b0ff843a893fe9f3f26bd8564": {
      "model_module": "@jupyter-widgets/base",
      "model_module_version": "1.2.0",
      "model_name": "LayoutModel",
      "state": {}
     },
     "8a66b710f9ff4adf828fce175392eacc": {
      "model_module": "@jupyter-widgets/base",
      "model_module_version": "1.2.0",
      "model_name": "LayoutModel",
      "state": {}
     },
     "8cdafcc4f9fc475ea69785bd38ff15dc": {
      "model_module": "@jupyter-widgets/controls",
      "model_module_version": "1.5.0",
      "model_name": "FloatProgressModel",
      "state": {
       "bar_style": "success",
       "layout": "IPY_MODEL_280056cd2e8c4522855d95dccc271399",
       "max": 200,
       "style": "IPY_MODEL_d682d5fb07ea4833ab3ddb3ab86c8320",
       "value": 200
      }
     },
     "8ceab6b8894e487dabde88f06555112d": {
      "model_module": "@jupyter-widgets/controls",
      "model_module_version": "1.5.0",
      "model_name": "ProgressStyleModel",
      "state": {
       "description_width": ""
      }
     },
     "8d70bb8d7c0c4326ba90a34604a12bca": {
      "model_module": "@jupyter-widgets/controls",
      "model_module_version": "1.5.0",
      "model_name": "HTMLModel",
      "state": {
       "layout": "IPY_MODEL_7145f035e9c245cf80277c87920336f4",
       "style": "IPY_MODEL_ba13f61a11b84ae48f139ee0ea1911b8",
       "value": "/MA trader:  11%"
      }
     },
     "8ebda2d504c24efb885f86c6cddc761d": {
      "model_module": "@jupyter-widgets/base",
      "model_module_version": "1.2.0",
      "model_name": "LayoutModel",
      "state": {}
     },
     "8ef0ea8b3ca44f3e9d91ff73ac90031f": {
      "model_module": "@jupyter-widgets/controls",
      "model_module_version": "1.5.0",
      "model_name": "ProgressStyleModel",
      "state": {
       "description_width": ""
      }
     },
     "908c501d83324f9094d6e18893d608db": {
      "model_module": "@jupyter-widgets/controls",
      "model_module_version": "1.5.0",
      "model_name": "HTMLModel",
      "state": {
       "layout": "IPY_MODEL_c3593fd513354da79b9e610ae2ae301a",
       "style": "IPY_MODEL_09b412caacf444e58262d6a5f7e93f62",
       "value": "Backtest : 100%"
      }
     },
     "91901f9635234e7fbe87e5e773ab7b4c": {
      "model_module": "@jupyter-widgets/controls",
      "model_module_version": "1.5.0",
      "model_name": "HTMLModel",
      "state": {
       "layout": "IPY_MODEL_59f58be9071a4271882c3bfd64929043",
       "style": "IPY_MODEL_da30e64dfe2e4b339f50a0986b42431b",
       "value": "Backtest : 100%"
      }
     },
     "93913e0c974649eb97ab0ba5c032b3f3": {
      "model_module": "@jupyter-widgets/controls",
      "model_module_version": "1.5.0",
      "model_name": "DescriptionStyleModel",
      "state": {
       "description_width": ""
      }
     },
     "93c42af4051144a2af15b55968286e30": {
      "model_module": "@jupyter-widgets/controls",
      "model_module_version": "1.5.0",
      "model_name": "HTMLModel",
      "state": {
       "layout": "IPY_MODEL_ee009c9dd4834ace864b006deb748f3a",
       "style": "IPY_MODEL_153d43e519c84fe6a940736ecc1ce692",
       "value": " 200/200 [02:21&lt;00:00, 1.41 signals/s]"
      }
     },
     "9506d25aba6d49f78d293aa6e18e43d2": {
      "model_module": "@jupyter-widgets/controls",
      "model_module_version": "1.5.0",
      "model_name": "DescriptionStyleModel",
      "state": {
       "description_width": ""
      }
     },
     "96d7856b4f8547fc8491067ecf2a109f": {
      "model_module": "@jupyter-widgets/controls",
      "model_module_version": "1.5.0",
      "model_name": "DescriptionStyleModel",
      "state": {
       "description_width": ""
      }
     },
     "985eb376264f493eb6c6f1e956a31a56": {
      "model_module": "@jupyter-widgets/controls",
      "model_module_version": "1.5.0",
      "model_name": "HTMLModel",
      "state": {
       "layout": "IPY_MODEL_dc56056462f146aab84d470c1dea6993",
       "style": "IPY_MODEL_dba593a9279f40b1823dd9e5018412ec",
       "value": " 100/100 [02:35&lt;00:00, 1.55s/ signals]"
      }
     },
     "9908411729864c5386708ce1eab328b5": {
      "model_module": "@jupyter-widgets/controls",
      "model_module_version": "1.5.0",
      "model_name": "FloatProgressModel",
      "state": {
       "bar_style": "danger",
       "layout": "IPY_MODEL_c40eaaa512e948aaa0ab877749fc6a8f",
       "style": "IPY_MODEL_acaf6fae4ec24e1b9aa55f8aaf30d4e6",
       "value": 24.56140350877193
      }
     },
     "992ca64531d9404aa05673bdeab404a9": {
      "model_module": "@jupyter-widgets/controls",
      "model_module_version": "1.5.0",
      "model_name": "HTMLModel",
      "state": {
       "layout": "IPY_MODEL_57f4e29f2d9d40cfa7c96f9b9a759427",
       "style": "IPY_MODEL_06625a122cbb4fb9b874b072db06b55b",
       "value": "Backtest : 100%"
      }
     },
     "9a2824765cdc4a909176cf6dd7e9d927": {
      "model_module": "@jupyter-widgets/base",
      "model_module_version": "1.2.0",
      "model_name": "LayoutModel",
      "state": {}
     },
     "9a7efee8ab7c48eb9491623a126807cc": {
      "model_module": "@jupyter-widgets/controls",
      "model_module_version": "1.5.0",
      "model_name": "HTMLModel",
      "state": {
       "layout": "IPY_MODEL_ca30c38c42604d5eac555efcd334de15",
       "style": "IPY_MODEL_96d7856b4f8547fc8491067ecf2a109f",
       "value": "Backtest : 100%"
      }
     },
     "9b20b7cdd00846f5a35dfe8411c50012": {
      "model_module": "@jupyter-widgets/base",
      "model_module_version": "1.2.0",
      "model_name": "LayoutModel",
      "state": {}
     },
     "9c99864d5d524f4ba900785a025367b8": {
      "model_module": "@jupyter-widgets/base",
      "model_module_version": "1.2.0",
      "model_name": "LayoutModel",
      "state": {}
     },
     "9ca613b68cef4c7191b64ea206f96a47": {
      "model_module": "@jupyter-widgets/base",
      "model_module_version": "1.2.0",
      "model_name": "LayoutModel",
      "state": {}
     },
     "9e537c4c96284b52b48665955ddbac9d": {
      "model_module": "@jupyter-widgets/controls",
      "model_module_version": "1.5.0",
      "model_name": "HTMLModel",
      "state": {
       "layout": "IPY_MODEL_183e8975fdab47509c121491bc50985b",
       "style": "IPY_MODEL_043447c0f09f46a4907c82030aa6fdd9",
       "value": "Backtest : 100%"
      }
     },
     "9e6028f0c0f44cae817fc257da9f1e28": {
      "model_module": "@jupyter-widgets/controls",
      "model_module_version": "1.5.0",
      "model_name": "ProgressStyleModel",
      "state": {
       "description_width": ""
      }
     },
     "9ec6291b9fe241cdbb8e1420a9f98236": {
      "model_module": "@jupyter-widgets/controls",
      "model_module_version": "1.5.0",
      "model_name": "HTMLModel",
      "state": {
       "layout": "IPY_MODEL_e9174ce7f19f42ae8a78ac2e86d9f7ad",
       "style": "IPY_MODEL_b1c7708d64094c0c9433c6be61f93209",
       "value": " 100/100 [02:17&lt;00:00, 1.37s/ signals]"
      }
     },
     "9f1fd52beed944f08fa8bee0973e96e4": {
      "model_module": "@jupyter-widgets/base",
      "model_module_version": "1.2.0",
      "model_name": "LayoutModel",
      "state": {}
     },
     "9fc041b014224aa795a8f579b77c9a45": {
      "model_module": "@jupyter-widgets/base",
      "model_module_version": "1.2.0",
      "model_name": "LayoutModel",
      "state": {}
     },
     "a0cb1b4aea494da3bc8ae7520563dc52": {
      "model_module": "@jupyter-widgets/base",
      "model_module_version": "1.2.0",
      "model_name": "LayoutModel",
      "state": {}
     },
     "a12f918200d548378999bec02c2669c7": {
      "model_module": "@jupyter-widgets/base",
      "model_module_version": "1.2.0",
      "model_name": "LayoutModel",
      "state": {}
     },
     "a208137cfe36449388fa07d9ce07d16b": {
      "model_module": "@jupyter-widgets/controls",
      "model_module_version": "1.5.0",
      "model_name": "HBoxModel",
      "state": {
       "children": [
        "IPY_MODEL_80040466109e484c911ccc6b1eded67e",
        "IPY_MODEL_002fb245a48740ff889343d23083ae7a",
        "IPY_MODEL_49dedd23d63441efa5e0a17b0fe8345e"
       ],
       "layout": "IPY_MODEL_f69a086e7b6c4b58959b0935242b9f86"
      }
     },
     "a361490af52c4b2c83da853deba71b60": {
      "model_module": "@jupyter-widgets/controls",
      "model_module_version": "1.5.0",
      "model_name": "HTMLModel",
      "state": {
       "layout": "IPY_MODEL_ad6844ef9551466aa1adfebcedef87f3",
       "style": "IPY_MODEL_70eb1ac534704ae38231a11cb78467d5",
       "value": " 33.3/300 [00:14&lt;03:26, 1.29 signals/s]"
      }
     },
     "a3d4184c030f444494f39c6c54c481fc": {
      "model_module": "@jupyter-widgets/base",
      "model_module_version": "1.2.0",
      "model_name": "LayoutModel",
      "state": {}
     },
     "a464f2cca696427992ea624cb5e926fb": {
      "model_module": "@jupyter-widgets/base",
      "model_module_version": "1.2.0",
      "model_name": "LayoutModel",
      "state": {}
     },
     "a5d0ef95ce2b42dbaff7ebbeb144abfa": {
      "model_module": "@jupyter-widgets/controls",
      "model_module_version": "1.5.0",
      "model_name": "HTMLModel",
      "state": {
       "layout": "IPY_MODEL_86bdc80479244549b89afe2b78fc6b9b",
       "style": "IPY_MODEL_5dab995f709e43c6aacf13d27737ccbd",
       "value": " 200/200 [01:28&lt;00:00, 2.27 signals/s]"
      }
     },
     "a5e59ee299ce4fc48cf00b886ba2559e": {
      "model_module": "@jupyter-widgets/base",
      "model_module_version": "1.2.0",
      "model_name": "LayoutModel",
      "state": {}
     },
     "a62e85edf523497093e2400b950bdba7": {
      "model_module": "@jupyter-widgets/controls",
      "model_module_version": "1.5.0",
      "model_name": "HBoxModel",
      "state": {
       "children": [
        "IPY_MODEL_cd26caca83d7487d8e3ccafe02df36a0",
        "IPY_MODEL_2c8cbfb1579c4a8fb0f5c397b8240f9a",
        "IPY_MODEL_c21b779ef9784e61810a694d3f3fd987"
       ],
       "layout": "IPY_MODEL_a464f2cca696427992ea624cb5e926fb"
      }
     },
     "a7284627a25542cf9958d6580b9f4f9b": {
      "model_module": "@jupyter-widgets/controls",
      "model_module_version": "1.5.0",
      "model_name": "FloatProgressModel",
      "state": {
       "bar_style": "success",
       "layout": "IPY_MODEL_7d34eac9eb594d91abfc4a969dca18dd",
       "max": 200,
       "style": "IPY_MODEL_74a6e7f461a44a19a05f9d960f19f831",
       "value": 200
      }
     },
     "a73c7d1076024a1ea25591d939c07f1d": {
      "model_module": "@jupyter-widgets/controls",
      "model_module_version": "1.5.0",
      "model_name": "HTMLModel",
      "state": {
       "layout": "IPY_MODEL_9c99864d5d524f4ba900785a025367b8",
       "style": "IPY_MODEL_d8d8afbae5e8405aa705edfe9fb6a5ba",
       "value": "/My Tracker:  33%"
      }
     },
     "a8148200391748e49a312fb3a8cf0798": {
      "model_module": "@jupyter-widgets/controls",
      "model_module_version": "1.5.0",
      "model_name": "ProgressStyleModel",
      "state": {
       "description_width": ""
      }
     },
     "aa669df0425b4d4ba194171f885604cc": {
      "model_module": "@jupyter-widgets/base",
      "model_module_version": "1.2.0",
      "model_name": "LayoutModel",
      "state": {}
     },
     "ab743703a0984f76aa291722cc468ce7": {
      "model_module": "@jupyter-widgets/controls",
      "model_module_version": "1.5.0",
      "model_name": "HTMLModel",
      "state": {
       "layout": "IPY_MODEL_31de84ecb8974d72a86f63a6a159ce90",
       "style": "IPY_MODEL_b34bf6c3031f46e99989a1752024504c",
       "value": "Backtest : 100%"
      }
     },
     "acaf6fae4ec24e1b9aa55f8aaf30d4e6": {
      "model_module": "@jupyter-widgets/controls",
      "model_module_version": "1.5.0",
      "model_name": "ProgressStyleModel",
      "state": {
       "description_width": ""
      }
     },
     "ad3b818379d14d6294e99f8643b25c73": {
      "model_module": "@jupyter-widgets/controls",
      "model_module_version": "1.5.0",
      "model_name": "ProgressStyleModel",
      "state": {
       "description_width": ""
      }
     },
     "ad6844ef9551466aa1adfebcedef87f3": {
      "model_module": "@jupyter-widgets/base",
      "model_module_version": "1.2.0",
      "model_name": "LayoutModel",
      "state": {}
     },
     "ae0049c76d0a4ea7a1a97c96487fea97": {
      "model_module": "@jupyter-widgets/controls",
      "model_module_version": "1.5.0",
      "model_name": "ProgressStyleModel",
      "state": {
       "description_width": ""
      }
     },
     "aedb2b3f00854e2099f3d04f9ac9a05f": {
      "model_module": "@jupyter-widgets/base",
      "model_module_version": "1.2.0",
      "model_name": "LayoutModel",
      "state": {}
     },
     "af26c2ca7b4a49d387bcfb50085d1977": {
      "model_module": "@jupyter-widgets/controls",
      "model_module_version": "1.5.0",
      "model_name": "DescriptionStyleModel",
      "state": {
       "description_width": ""
      }
     },
     "b11cf615f9d246f5a584662cfbedd25d": {
      "model_module": "@jupyter-widgets/base",
      "model_module_version": "1.2.0",
      "model_name": "LayoutModel",
      "state": {}
     },
     "b1c7708d64094c0c9433c6be61f93209": {
      "model_module": "@jupyter-widgets/controls",
      "model_module_version": "1.5.0",
      "model_name": "DescriptionStyleModel",
      "state": {
       "description_width": ""
      }
     },
     "b34bf6c3031f46e99989a1752024504c": {
      "model_module": "@jupyter-widgets/controls",
      "model_module_version": "1.5.0",
      "model_name": "DescriptionStyleModel",
      "state": {
       "description_width": ""
      }
     },
     "b3daed4d4534426fb3ad16d1650b0110": {
      "model_module": "@jupyter-widgets/controls",
      "model_module_version": "1.5.0",
      "model_name": "HBoxModel",
      "state": {
       "children": [
        "IPY_MODEL_2da98c6204ba47ff9875283bebb8ae77",
        "IPY_MODEL_9908411729864c5386708ce1eab328b5",
        "IPY_MODEL_1935f5427bfb42bd986e5f3d265981fb"
       ],
       "layout": "IPY_MODEL_18fb77c11e764468b1882f4acc00e587"
      }
     },
     "ba13f61a11b84ae48f139ee0ea1911b8": {
      "model_module": "@jupyter-widgets/controls",
      "model_module_version": "1.5.0",
      "model_name": "DescriptionStyleModel",
      "state": {
       "description_width": ""
      }
     },
     "ba915f1888df4a68a510af45b24f198d": {
      "model_module": "@jupyter-widgets/base",
      "model_module_version": "1.2.0",
      "model_name": "LayoutModel",
      "state": {}
     },
     "bb114aa14bce4bf8bab977f1f4bd3dd3": {
      "model_module": "@jupyter-widgets/base",
      "model_module_version": "1.2.0",
      "model_name": "LayoutModel",
      "state": {}
     },
     "bd6dc75840db40208deb9ac8ae8e9fde": {
      "model_module": "@jupyter-widgets/controls",
      "model_module_version": "1.5.0",
      "model_name": "HBoxModel",
      "state": {
       "children": [
        "IPY_MODEL_022b5e585cef438aa7dfc1a2c94267f1",
        "IPY_MODEL_0394d2b21e344da388b4ee9ca70e56c9",
        "IPY_MODEL_1da8eee4577b407a87648bfca4f90d74"
       ],
       "layout": "IPY_MODEL_ca5f45f75d354aea85f2193b8d97154c"
      }
     },
     "bda981b56f654dea8c0332204e42c122": {
      "model_module": "@jupyter-widgets/controls",
      "model_module_version": "1.5.0",
      "model_name": "FloatProgressModel",
      "state": {
       "bar_style": "success",
       "layout": "IPY_MODEL_8ebda2d504c24efb885f86c6cddc761d",
       "max": 200,
       "style": "IPY_MODEL_ad3b818379d14d6294e99f8643b25c73",
       "value": 200
      }
     },
     "be3d6d05af5a40edbce8fef93e13a09d": {
      "model_module": "@jupyter-widgets/controls",
      "model_module_version": "1.5.0",
      "model_name": "HTMLModel",
      "state": {
       "layout": "IPY_MODEL_43a5dfd09c164046a87da43e5c872ad9",
       "style": "IPY_MODEL_dab58b66968c4ed8afc2869cac1b8e49",
       "value": " 200/200 [28:09&lt;00:00, 8.45s/ signals]"
      }
     },
     "bedeee3f10af4bd0821cb27d13efd903": {
      "model_module": "@jupyter-widgets/base",
      "model_module_version": "1.2.0",
      "model_name": "LayoutModel",
      "state": {}
     },
     "bf06b0c7f2fe4f9e9a5f985ff4cbab05": {
      "model_module": "@jupyter-widgets/controls",
      "model_module_version": "1.5.0",
      "model_name": "DescriptionStyleModel",
      "state": {
       "description_width": ""
      }
     },
     "c03efa2ed56e49d6b33daf55e8511ea5": {
      "model_module": "@jupyter-widgets/controls",
      "model_module_version": "1.5.0",
      "model_name": "FloatProgressModel",
      "state": {
       "bar_style": "success",
       "layout": "IPY_MODEL_00a87d00c5684c49a1bcdc34c51a2db1",
       "max": 200,
       "style": "IPY_MODEL_3995ddbb206e4baebe7c0ec86934b015",
       "value": 200
      }
     },
     "c21b779ef9784e61810a694d3f3fd987": {
      "model_module": "@jupyter-widgets/controls",
      "model_module_version": "1.5.0",
      "model_name": "HTMLModel",
      "state": {
       "layout": "IPY_MODEL_7560243cae864a4b921eb85942b716ff",
       "style": "IPY_MODEL_59955c3f7bad40ee9a130e1bb5adf2c7",
       "value": " 200/200 [01:00&lt;00:00, 3.30 signals/s]"
      }
     },
     "c22c39bd7ff744f3bbe17e299ef96b14": {
      "buffers": [
       {
        "data": "SOF6FMa24kCkcD0K56niQOxRuB5Nx+JAUrgehUPV4kApXI/CtdHiQM3MzMw8xOJAAAAAAGCw4kDNzMzMlMLiQNejcD0a1uJA16NwPeqr4kBSuB6F66riQFK4HoVbwOJACtejcBXc4kDD9ShcH/fiQDMzMzODy+JApHA9Cp/Z4kB7FK5HgRbjQNejcD3K9+JA4XoUro/O4kB7FK5HgbriQEjhehRmy+JA7FG4Hm3t4kAzMzMzU+PiQB+F61EQ4+JAj8L1KHzR4kAfhetRIMPiQFK4HoXT2OJAexSuR4nR4kAzMzMzg8HiQArXo3CVwOJA16NwPdKu4kDXo3A9iq/iQJqZmZnJw+JAAAAAACDN4kCuR+F6lNHiQAAAAAA4yeJA9ihcj4rk4kDNzMzM1LniQOF6FK7nZ+JAH4XrUXBF4kDNzMzM5DfiQOF6FK4/SeJA16NwPfJK4kDsUbgeXVTiQIXrUbgmVOJAMzMzM1sE4kCkcD0KHxDiQFyPwvWAA+JArkfhenwA4kAzMzMz4/vhQClcj8LVCeJAcT0K1yP44UBI4XoUtgLiQB+F61GADuJAUrgehXsF4kAAAAAAcBDiQMP1KFw/F+JAAAAAAEDe4UApXI/CLcHhQOF6FK5f8uFAhetRuGbn4UCuR+F6bNvhQLgehetp0eFAuB6F65EB4kDXo3A9kufhQM3MzMxU+eFAKVyPwtXw4UAfhetRWNfhQLgehevhwOFA4XoUrj8I4kD2KFyPIgbiQFK4HoU7NeJAUrgehZMk4kDD9ShcryPiQArXo3BFN+JAuB6F61k04kAzMzMz0zLiQArXo3AlUuJAAAAAADCK4kDhehSuX3ziQFyPwvXAheJAw/UoXGeN4kD2KFyPIn7iQD0K16MAdeJAuB6F61mH4kCamZmZ+UTiQNejcD1yhuJApHA9CjdH40CamZmZIafjQMP1KFwvxuNAzczMzJzA40CF61G4tt/jQB+F61EAz+NApHA9Cv/S40BmZmZmJtXjQAAAAADASeRArkfheiQ/5EDXo3A9yiXkQDMzMzPbMORA7FG4HpU65EDsUbgedT3kQOF6FK6/RORAH4XrUaBB5ECuR+F6BDPkQEjhehSOOuRAhetRuP5H5EBmZmZmBkrkQDMzMzN7OuRASOF6FJ4z5EDNzMzM5EPkQHE9Ctd7PORA4XoUrndg5ECuR+F6nCfkQKRwPQr3TORAmpmZmXlX5EAfhetRmEfkQB+F61HgU+RASOF6FKZS5EDD9ShcZ0zkQEjhehTWM+RAcT0K19s+5ECF61G49k7kQClcj8KlReRAuB6F66E65EApXI/CTUbkQPYoXI/SSuRAhetRuD485EAAAAAAgE7kQFK4HoW7UuRAAAAAAMBT5EAAAAAAQEzkQKRwPQrXRORAj8L1KIRQ5EDhehSu/1nkQAAAAACAKuRA4XoUrt9C5ECamZmZWVLkQOF6FK5/UuRAFK5H4dJB5ECamZmZmVvkQFK4HoUTSuRAUrgehRNU5EC4HoXr+UzkQDMzMzMrr+RA4XoUri9p5EAAAAAAeIzkQOxRuB5dqORAKVyPwhXk5EA9Ctej8OPkQFyPwvXQ4+RAH4XrUZDe5ECamZmZGdvkQI/C9SgUy+RAmpmZmSm05EAAAAAAwMTkQAAAAACI2ORAcT0K11PO5EDhehSu9+LkQMP1KFxP6uRA",
        "encoding": "base64",
        "path": [
         "_data",
         0,
         "close",
         "value"
        ]
       },
       {
        "data": "16NwPXLa4kCF61G4hr7iQB+F61GIzOJAAAAAAMDc4kAAAAAAINziQGZmZmam2uJAH4XrUUDJ4kDD9ShcP8biQGZmZma+1+JAAAAAAIAX40AUrkfhurniQAAAAADgx+JAhetRuH7q4kCF61G43gLjQClcj8ItEeNAAAAAAMDc4kAfhetRiCvjQAAAAADAHeNAmpmZmQH+4kBSuB6Fu9biQAAAAABY6OJAAAAAAADy4kCuR+F63PbiQDMzMzOT/OJAKVyPwkX24kCamZmZQeDiQM3MzMy83uJA16NwPUrp4kB7FK5HidHiQIXrUbjuzOJAhetRuD7Q4kCkcD0K973iQOF6FK5fx+JAAAAAAADP4kAAAAAAgNbiQKRwPQo30+JAAAAAAADo4kAAAAAAsOjiQOF6FK5/weJAhetRuF534kBI4XoU5kbiQAAAAADAUuJAw/UoXMdQ4kAUrkfhwmHiQAAAAADAX+JAAAAAAIBZ4kCPwvUovCniQHsUrkdpH+JAAAAAAAAW4kAAAAAAwA/iQFyPwvWICuJAXI/C9YgK4kC4HoXrYQniQHsUrkfhGOJAMzMzMzsQ4kAAAAAAQBriQI/C9SiUG+JAAAAAADAZ4kAAAAAAQOXhQAAAAACA9eFAAAAAAMDz4UAAAAAAAPLhQOxRuB7d9OFAAAAAAGAM4kAAAAAAgB3iQFK4HoULAeJAAAAAAAD94UC4HoXr+fjhQKRwPQo34+FAUrgehWsV4kDhehSuvw/iQAAAAABgQuJA7FG4Hq034kBcj8L1kCniQHsUrkdxR+JAPQrXo9BC4kB7FK5HUTviQAAAAAAAZuJAAAAAAACO4kAAAAAAwKbiQFK4HoWTkOJAAAAAAICa4kAAAAAA4KviQAAAAADAiOJAAAAAAECU4kAAAAAAgKTiQAAAAAAAlOJAPQrXo+h240AAAAAAYOXjQAAAAADAzONAH4XrUWjZ40AAAAAAYPXjQAAAAABA8uNAZmZmZi7V40CkcD0KP9njQB+F61G4YeRAAAAAAEB45EDsUbge7UbkQAAAAABgO+RAMzMzM2M+5ECamZmZkVrkQLgehevZVORAhetRuA5j5EAfhetREELkQK5H4XrMTORAH4XrUThL5EAAAAAAQFjkQAAAAAAgU+RAhetRuCZE5EAfhetRkEjkQAAAAACgYuRAKVyPwm1y5EDD9Shcv23kQAAAAABAWORAFK5H4bJh5EB7FK5HYVjkQB+F61GIW+RAAAAAAKBk5EDXo3A9cmLkQI/C9SikU+RAAAAAAFBG5ED2KFyPIlTkQDMzMzOLUORA4XoUrn9I5EAzMzMzo0fkQIXrUbi+TORAAAAAAKBL5EAAAAAAgFzkQPYoXI+KVuRArkfheqxX5EAAAAAAoFrkQOxRuB59UuRAAAAAACBW5EAAAAAAYG3kQAAAAAAAtORAMzMzMyNH5EAzMzMzK1rkQFK4HoXDYORAAAAAAEBX5EB7FK5HuV7kQArXo3BlX+RA16NwPTpc5ECPwvUoBFvkQJqZmZkZ1ORAPQrXo9i75EAfhetROKHkQAAAAABA0ORA16NwPbr25EAAAAAAQO/kQAAAAACACuVA9ihcj3ro5ECuR+F6DOHkQHE9Ctej4ORAAAAAACDQ5EAAAAAAYM/kQIXrUbie3ORAAAAAAIDj5EAUrkfhIvTkQAAAAABA7ORA",
        "encoding": "base64",
        "path": [
         "_data",
         0,
         "high",
         "value"
        ]
       },
       {
        "data": "j8L1KFSt4kAAAAAAIKDiQGZmZmZGpeJAAAAAAEC84kAAAAAA4MXiQM3MzMxMweJA9ihcj4Kp4kD2KFyPgq/iQOF6FK6vveJApHA9Ck+n4kAAAAAAIIriQAAAAAAgpeJAAAAAAIC44kAK16NwtcLiQGZmZmYWtuJArkfhelyj4kDNzMzMzNTiQAAAAAAA3eJAZmZmZnbF4kAAAAAAQLbiQAAAAAAgueJAH4XrUQDG4kBmZmZm3s3iQD0K16Mg1+JAH4XrUQDA4kAAAAAAwLniQGZmZmamu+JAMzMzM2vP4kAAAAAAwL7iQJqZmZmJsuJAmpmZmamj4kApXI/CVaXiQI/C9Sisp+JASOF6FDa74kAAAAAAoL3iQFyPwvWoweJAMzMzM7vG4kAAAAAAQLbiQOxRuB4lXOJArkfhekQ74kAAAAAAgBfiQAAAAADAL+JAH4XrUSA94kAAAAAAgEDiQK5H4XqUP+JAuB6F6znW4UDD9Shct/jhQAAAAABA+eFAcT0K11Py4UCuR+F6PPHhQAAAAACA6+FAj8L1KMTy4UAAAAAAgPPhQDMzMzP7+uFASOF6FD764UAzMzMzAwTiQM3MzMwUC+JApHA9CpfY4UAfhetR+LPhQAAAAABAs+FAmpmZmYmt4UDXo3A9ssrhQPYoXI+yzeFAw/UoXA/N4UA9CtejiOfhQM3MzMxc1+FAAAAAAADp4UB7FK5H+cnhQAAAAAAAtOFAAAAAABC/4UCuR+F6ZPXhQB+F61EY/+FAAAAAAAAd4kAAAAAAYBLiQFyPwvVwH+JA16NwPRIv4kDsUbgeTS3iQClcj8JdLuJApHA9ChdS4kDsUbge3XfiQNejcD36eOJAUrgehdN+4kCPwvUoXHLiQPYoXI8yc+JAH4XrUQB14kAAAAAAYD3iQClcj8LdM+JAPQrXo8B94kDsUbgeXUDjQLgeheuBm+NAAAAAAICo40CamZmZGbPjQAAAAADAveNAAAAAAEC740B7FK5HobTjQGZmZmbOzONAcT0K16Mw5EBI4XoUnhvkQGZmZmZuGORAj8L1KJQs5EAzMzMzGzHkQIXrUbhmMuRArkfhelQ+5EDNzMzMbDHkQAAAAABgKORAcT0K11Md5EAAAAAAADfkQAAAAADgM+RAAAAAAPgt5EAAAAAAwDDkQAAAAAAAMuRAAAAAAIAq5EAAAAAAgCDkQAAAAAAA++NAAAAAAIBD5ECkcD0KNz7kQM3MzMykMuRAXI/C9cBI5EB7FK5H+UjkQKRwPQqXLORAH4XrUSAs5EBSuB6F2z7kQM3MzMzcPORAcT0K1xM55EAAAAAAgCrkQAAAAADAP+RAAAAAAMA15EAAAAAAYDbkQAAAAAAAQeRAAAAAAMhL5ECamZmZ4UTkQLgehevZO+RAAAAAAABC5EDhehSu9z7kQAAAAAAoHeRAAAAAAIAR5EDhehSujzfkQClcj8KFQ+RAuB6F6zE15EDNzMzM/D7kQGZmZmYGQeRAUrgehetF5EAAAAAAwETkQM3MzMxEPuRAH4XrUThR5ECamZmZeVnkQOF6FK4Hi+RA7FG4Hl2o5EAAAAAA2NPkQFyPwvXg1eRAw/UoXF/T5EDNzMzMlMXkQLgehetpveRAKVyPwjWb5EAAAAAAQKvkQAAAAADAxORArkfhelS65EAK16NwrcrkQHsUrkfJ3+RA",
        "encoding": "base64",
        "path": [
         "_data",
         0,
         "low",
         "value"
        ]
       },
       {
        "data": "exSuR+HE4kApXI/CxbbiQKRwPQrnqeJA7FG4Hk3H4kAzMzMzQ9XiQClcj8K10eJAzczMzDzE4kAfhetRYLDiQM3MzMyUwuJAw/UoXA/W4kBSuB6F66viQFK4HoXrquJAUrgehVvA4kAK16NwFdziQDMzMzOb9+JAUrgehYPL4kAfhetRqNniQJqZmZmBFuNA16NwPcr34kDhehSuj87iQHsUrkeBuuJASOF6FGbL4kDsUbgebe3iQDMzMzNT4+JAH4XrURDj4kCPwvUofNHiQB+F61Egw+JAUrgehdPY4kBcj8L1iNHiQFK4HoWDweJACtejcJXA4kD2KFyP0q7iQAAAAACgr+JAAAAAAMDD4kAAAAAAIM3iQI/C9SiU0eJA4XoUrjfJ4kDXo3A9iuTiQK5H4XrUueJA4XoUrh9o4kBcj8L1cEXiQM3MzMzkN+JAw/UoXD9J4kC4HoXr8UriQM3MzMxcVOJAw/UoXH9U4kAzMzMzWwTiQKRwPQofEOJAmpmZmYED4kDXo3A90gDiQDMzMzPj++FA4XoUrs8J4kBxPQrXI/jhQGZmZma2AuJAH4XrUYAO4kBSuB6FewXiQAAAAABwEOJAw/UoXD8X4kAK16NwPd7hQClcj8ItweFA4XoUrl/y4UCkcD0KZ+fhQK5H4Xps2+FAuB6F62nR4UC4HoXrkQHiQNejcD2S5+FAzczMzFT54UAK16Nw1fDhQB+F61FY1+FA9ihcj9rA4UDhehSuPwjiQArXo3D1BeJA9ihcj+o04kBSuB6FkyTiQMP1KFyvI+JACtejcJU34kCamZmZWTTiQK5H4Xo0M+JAKVyPwiVS4kAfhetRMIriQAAAAABgfOJAXI/C9cCF4kCkcD0KZ43iQPYoXI8ifuJAPQrXowB14kC4HoXrWYfiQLgehev5ROJA9ihcjyKG4kCkcD0KN0fjQHsUrkchp+NAw/UoXC/G40DsUbgencDjQPYoXI/q3+NAH4XrUQDP40CkcD0K/9LjQIXrUbgm1eNAAAAAAMBJ5ECuR+F6JD/kQNejcD3KJeRAUrgehdsw5EAK16NwlTrkQOxRuB51PeRA4XoUrr9E5EAfhetRoEHkQOF6FK73MuRAZmZmZo465EBmZmZm/kfkQGZmZmYGSuRAMzMzM3s65EBmZmZmnjPkQM3MzMzkQ+RAcT0K13s85EDhehSud2DkQM3MzMycJ+RApHA9CvdM5ECamZmZeVfkQB+F61GYR+RAH4XrUeBT5EBI4XoUplLkQKRwPQpnTORAKVyPwtUz5EBSuB6F2z7kQIXrUbj2TuRAKVyPwqVF5EC4HoXroTrkQClcj8JNRuRA9ihcj9JK5ECF61G4PjzkQEjhehReTuRAMzMzM7tS5EAAAAAA4FPkQOF6FK4/TORAhetRuNZE5EBxPQrXg1DkQOF6FK7/WeRAAAAAAIAq5EDhehSu30LkQAAAAACYUuRA4XoUrn9S5EAUrkfh0kHkQJqZmZmZW+RAUrgehRNK5EBSuB6FE1TkQJqZmZn5TORAFK5H4Sqv5EDhehSuL2nkQAAAAAB4jORAPQrXo4Co5EApXI/CFeTkQAAAAADw4+RAPQrXo9Dj5EA9CtejkN7kQHsUrkcZ2+RAj8L1KBTL5EC4HoXrKbTkQB+F61HAxORAAAAAAIjY5ECPwvUodM7kQOF6FK734uRA",
        "encoding": "base64",
        "path": [
         "_data",
         0,
         "open",
         "value"
        ]
       },
       {
        "data": "fvS6s3kk4kAxuZK2JCXiQEwhsD/fJeJAcgQmQqYm4kD9uw+ibSfiQAHnr5wuKOJAjkVhp8Io4kAwPlFm1SniQG8JyapDK+JAnM2Wwiss4kBjeAKKDS3iQF+jcMUeLuJAEeUjR3Qv4kBwXhuqHjHiQJdOINZRMuJAI07h6dUz4kBUnLPiHTbiQNYo/44aOOJAwDY59nk54kBv9fO91DriQHoNLU0yPOJAq2Dlcf894kAmw8CFhz/iQJiIqhIbQeJAZ5l/vKNC4kBoQgcuBkTiQGVAxhiaReJAa0EnszxH4kCLIMwcsUjiQE3pPwMVSuJAbddMkgxL4kD4ejsj/0viQCb8PxNQTeJAQOrxy69O4kA4hV83AlDiQFOF9bw8UeJAdbG/7vZS4kBuJsagClTiQDhyvk42VOJAazUrtRlU4kDMAC8+4lPiQFLbWhzOU+JATF1eaL5T4kClkFOEv1PiQNISvDvAU+JAWtMMbENT4kAcrhJM2lLiQNiVx1lnUuJArCC7K9lR4kBxaRazQ1HiQIXQptDBUOJAnBV4OStQ4kC7c4XFlU/iQBwlENsOT+JA/MB4l4tO4kC4h1AYHE7iQLh4nT28TeJAQihPSjVN4kCGj7dTgUziQPNj+7D2S+JA2XjyN0pL4kBezik7lkriQFJI0Y7LSeJAKI7tXEdJ4kBtKzJAo0jiQIae1c0ISOJAfZ4LhmVH4kDiOGyRhEbiQPVY+boiReJAqyasEHxE4kAqwx0kt0PiQE+z1R+IQ+JAXFp6WCxD4kC3bD7N2kLiQAIf7d+8QuJA34KltZ9C4kBbZFSghkLiQIDOaVGiQuJADLnbewdD4kA/+BluYUPiQIciFz/cQ+JAYItPkltE4kBXA0Ti0ETiQAzAgRAuReJADQWZuqxF4kAI5aukq0XiQPFE3ZU0RuJAs9oiRjtJ4kAR+vD4SU7iQH1w4LXFU+JAB0fbHgRZ4kC+5g5Hi17iQJpUqeOTY+JA1L7HiKho4kCp4rPvmm3iQL/2+wJSdeJAR9c6x+l84kAR4qdYYYPiQDNKEd6vieJAxvyNhJ6P4kDT/+MSeZXiQOKas9jHm+JAmnP7bTSi4kC2J7KJjajiQMJ6o+u6ruJAyhij8fO04kCDp3ablbviQN9Wp4BxweJAFticgRTH4kBzHJQ2acziQHAffXUW0eJA3nwD9bnW4kCTuWZiTNviQHJP2aOV4OJA0AmYdcXl4kAK1G/UeOriQFrzDooV7+JAOGk9Mnvz4kAlI7AqCPjiQAdL/qOi++JAR77jBl//4kCCj3MQngPjQLOsuSNhB+NAEJZ8BxQL40CHAi/tCA/jQOpa4D10E+NAw9NhRhQY40CLht7J5B3jQA7qxgGII+NAfm6VMMwo40AoqijtmC3jQF9JIQ10M+NA+vOnvGU540Byhc8A3D/jQGlH/CaKRONAKe+OHcBJ40CHK89GI0/jQBY/S79iVONA1sy7idNY40CT7UsKxl3jQHSGrLlbYuNAhNgoks5m40ARO7eZAWvjQI6NFpqgceNACtca1Al240DGRs/jiXvjQJ29dDLdgeNA9YTZmlSK40DtDOuIt5LjQPO7QUfkmuNAs9S3Bbaj40Aj7dgPcavjQLfRsQjYseNAx3Eeu/O240CSYw7DarzjQGw45fmxwuNAzUEaRnDI40Ch6RY0P87jQPnoVYFT1ONA",
        "encoding": "base64",
        "path": [
         "_data",
         1,
         "y",
         "value"
        ]
       }
      ],
      "model_module": "plotlywidget",
      "model_module_version": "^4.8.0",
      "model_name": "FigureModel",
      "state": {
       "_config": {
        "plotlyServerURL": "https://plot.ly"
       },
       "_data": [
        {
         "close": {
          "dtype": "float64",
          "shape": [
           159
          ]
         },
         "high": {
          "dtype": "float64",
          "shape": [
           159
          ]
         },
         "line": {
          "width": 1
         },
         "low": {
          "dtype": "float64",
          "shape": [
           159
          ]
         },
         "name": "Master_0",
         "open": {
          "dtype": "float64",
          "shape": [
           159
          ]
         },
         "type": "candlestick",
         "uid": "71654abc-c724-4e71-becf-d74b4d2a86d9",
         "x": [
          "2022-02-01T00:00:00.000000",
          "2022-02-01T01:00:00.000000",
          "2022-02-01T02:00:00.000000",
          "2022-02-01T03:00:00.000000",
          "2022-02-01T04:00:00.000000",
          "2022-02-01T05:00:00.000000",
          "2022-02-01T06:00:00.000000",
          "2022-02-01T07:00:00.000000",
          "2022-02-01T08:00:00.000000",
          "2022-02-01T09:00:00.000000",
          "2022-02-01T10:00:00.000000",
          "2022-02-01T11:00:00.000000",
          "2022-02-01T12:00:00.000000",
          "2022-02-01T13:00:00.000000",
          "2022-02-01T14:00:00.000000",
          "2022-02-01T15:00:00.000000",
          "2022-02-01T16:00:00.000000",
          "2022-02-01T17:00:00.000000",
          "2022-02-01T18:00:00.000000",
          "2022-02-01T19:00:00.000000",
          "2022-02-01T20:00:00.000000",
          "2022-02-01T21:00:00.000000",
          "2022-02-01T22:00:00.000000",
          "2022-02-01T23:00:00.000000",
          "2022-02-02T00:00:00.000000",
          "2022-02-02T01:00:00.000000",
          "2022-02-02T02:00:00.000000",
          "2022-02-02T03:00:00.000000",
          "2022-02-02T04:00:00.000000",
          "2022-02-02T05:00:00.000000",
          "2022-02-02T06:00:00.000000",
          "2022-02-02T07:00:00.000000",
          "2022-02-02T08:00:00.000000",
          "2022-02-02T09:00:00.000000",
          "2022-02-02T10:00:00.000000",
          "2022-02-02T11:00:00.000000",
          "2022-02-02T12:00:00.000000",
          "2022-02-02T13:00:00.000000",
          "2022-02-02T14:00:00.000000",
          "2022-02-02T15:00:00.000000",
          "2022-02-02T16:00:00.000000",
          "2022-02-02T17:00:00.000000",
          "2022-02-02T18:00:00.000000",
          "2022-02-02T19:00:00.000000",
          "2022-02-02T20:00:00.000000",
          "2022-02-02T21:00:00.000000",
          "2022-02-02T22:00:00.000000",
          "2022-02-02T23:00:00.000000",
          "2022-02-03T00:00:00.000000",
          "2022-02-03T01:00:00.000000",
          "2022-02-03T02:00:00.000000",
          "2022-02-03T03:00:00.000000",
          "2022-02-03T04:00:00.000000",
          "2022-02-03T05:00:00.000000",
          "2022-02-03T06:00:00.000000",
          "2022-02-03T07:00:00.000000",
          "2022-02-03T08:00:00.000000",
          "2022-02-03T09:00:00.000000",
          "2022-02-03T10:00:00.000000",
          "2022-02-03T11:00:00.000000",
          "2022-02-03T12:00:00.000000",
          "2022-02-03T13:00:00.000000",
          "2022-02-03T14:00:00.000000",
          "2022-02-03T15:00:00.000000",
          "2022-02-03T16:00:00.000000",
          "2022-02-03T17:00:00.000000",
          "2022-02-03T18:00:00.000000",
          "2022-02-03T19:00:00.000000",
          "2022-02-03T20:00:00.000000",
          "2022-02-03T21:00:00.000000",
          "2022-02-03T22:00:00.000000",
          "2022-02-03T23:00:00.000000",
          "2022-02-04T00:00:00.000000",
          "2022-02-04T01:00:00.000000",
          "2022-02-04T02:00:00.000000",
          "2022-02-04T03:00:00.000000",
          "2022-02-04T04:00:00.000000",
          "2022-02-04T05:00:00.000000",
          "2022-02-04T06:00:00.000000",
          "2022-02-04T07:00:00.000000",
          "2022-02-04T08:00:00.000000",
          "2022-02-04T09:00:00.000000",
          "2022-02-04T10:00:00.000000",
          "2022-02-04T11:00:00.000000",
          "2022-02-04T12:00:00.000000",
          "2022-02-04T13:00:00.000000",
          "2022-02-04T14:00:00.000000",
          "2022-02-04T15:00:00.000000",
          "2022-02-04T16:00:00.000000",
          "2022-02-04T17:00:00.000000",
          "2022-02-04T18:00:00.000000",
          "2022-02-04T19:00:00.000000",
          "2022-02-04T20:00:00.000000",
          "2022-02-04T21:00:00.000000",
          "2022-02-04T22:00:00.000000",
          "2022-02-04T23:00:00.000000",
          "2022-02-05T00:00:00.000000",
          "2022-02-05T01:00:00.000000",
          "2022-02-05T02:00:00.000000",
          "2022-02-05T03:00:00.000000",
          "2022-02-05T04:00:00.000000",
          "2022-02-05T05:00:00.000000",
          "2022-02-05T06:00:00.000000",
          "2022-02-05T07:00:00.000000",
          "2022-02-05T08:00:00.000000",
          "2022-02-05T09:00:00.000000",
          "2022-02-05T10:00:00.000000",
          "2022-02-05T11:00:00.000000",
          "2022-02-05T12:00:00.000000",
          "2022-02-05T13:00:00.000000",
          "2022-02-05T14:00:00.000000",
          "2022-02-05T15:00:00.000000",
          "2022-02-05T16:00:00.000000",
          "2022-02-05T17:00:00.000000",
          "2022-02-05T18:00:00.000000",
          "2022-02-05T19:00:00.000000",
          "2022-02-05T20:00:00.000000",
          "2022-02-05T21:00:00.000000",
          "2022-02-05T22:00:00.000000",
          "2022-02-05T23:00:00.000000",
          "2022-02-06T00:00:00.000000",
          "2022-02-06T01:00:00.000000",
          "2022-02-06T02:00:00.000000",
          "2022-02-06T03:00:00.000000",
          "2022-02-06T04:00:00.000000",
          "2022-02-06T05:00:00.000000",
          "2022-02-06T06:00:00.000000",
          "2022-02-06T07:00:00.000000",
          "2022-02-06T08:00:00.000000",
          "2022-02-06T09:00:00.000000",
          "2022-02-06T10:00:00.000000",
          "2022-02-06T11:00:00.000000",
          "2022-02-06T12:00:00.000000",
          "2022-02-06T13:00:00.000000",
          "2022-02-06T14:00:00.000000",
          "2022-02-06T15:00:00.000000",
          "2022-02-06T16:00:00.000000",
          "2022-02-06T17:00:00.000000",
          "2022-02-06T18:00:00.000000",
          "2022-02-06T19:00:00.000000",
          "2022-02-06T20:00:00.000000",
          "2022-02-06T21:00:00.000000",
          "2022-02-06T22:00:00.000000",
          "2022-02-06T23:00:00.000000",
          "2022-02-07T00:00:00.000000",
          "2022-02-07T01:00:00.000000",
          "2022-02-07T02:00:00.000000",
          "2022-02-07T03:00:00.000000",
          "2022-02-07T04:00:00.000000",
          "2022-02-07T05:00:00.000000",
          "2022-02-07T06:00:00.000000",
          "2022-02-07T07:00:00.000000",
          "2022-02-07T08:00:00.000000",
          "2022-02-07T09:00:00.000000",
          "2022-02-07T10:00:00.000000",
          "2022-02-07T11:00:00.000000",
          "2022-02-07T12:00:00.000000",
          "2022-02-07T13:00:00.000000",
          "2022-02-07T14:00:00.000000"
         ],
         "xaxis": "x",
         "yaxis": "y"
        },
        {
         "line": {
          "dash": "solid",
          "width": 0.5
         },
         "mode": "lines",
         "name": "Master_1",
         "type": "scatter",
         "uid": "1dd6ba0b-649a-482d-a335-411937c48a18",
         "x": [
          "2022-02-01T00:00:00.000000",
          "2022-02-01T01:00:00.000000",
          "2022-02-01T02:00:00.000000",
          "2022-02-01T03:00:00.000000",
          "2022-02-01T04:00:00.000000",
          "2022-02-01T05:00:00.000000",
          "2022-02-01T06:00:00.000000",
          "2022-02-01T07:00:00.000000",
          "2022-02-01T08:00:00.000000",
          "2022-02-01T09:00:00.000000",
          "2022-02-01T10:00:00.000000",
          "2022-02-01T11:00:00.000000",
          "2022-02-01T12:00:00.000000",
          "2022-02-01T13:00:00.000000",
          "2022-02-01T14:00:00.000000",
          "2022-02-01T15:00:00.000000",
          "2022-02-01T16:00:00.000000",
          "2022-02-01T17:00:00.000000",
          "2022-02-01T18:00:00.000000",
          "2022-02-01T19:00:00.000000",
          "2022-02-01T20:00:00.000000",
          "2022-02-01T21:00:00.000000",
          "2022-02-01T22:00:00.000000",
          "2022-02-01T23:00:00.000000",
          "2022-02-02T00:00:00.000000",
          "2022-02-02T01:00:00.000000",
          "2022-02-02T02:00:00.000000",
          "2022-02-02T03:00:00.000000",
          "2022-02-02T04:00:00.000000",
          "2022-02-02T05:00:00.000000",
          "2022-02-02T06:00:00.000000",
          "2022-02-02T07:00:00.000000",
          "2022-02-02T08:00:00.000000",
          "2022-02-02T09:00:00.000000",
          "2022-02-02T10:00:00.000000",
          "2022-02-02T11:00:00.000000",
          "2022-02-02T12:00:00.000000",
          "2022-02-02T13:00:00.000000",
          "2022-02-02T14:00:00.000000",
          "2022-02-02T15:00:00.000000",
          "2022-02-02T16:00:00.000000",
          "2022-02-02T17:00:00.000000",
          "2022-02-02T18:00:00.000000",
          "2022-02-02T19:00:00.000000",
          "2022-02-02T20:00:00.000000",
          "2022-02-02T21:00:00.000000",
          "2022-02-02T22:00:00.000000",
          "2022-02-02T23:00:00.000000",
          "2022-02-03T00:00:00.000000",
          "2022-02-03T01:00:00.000000",
          "2022-02-03T02:00:00.000000",
          "2022-02-03T03:00:00.000000",
          "2022-02-03T04:00:00.000000",
          "2022-02-03T05:00:00.000000",
          "2022-02-03T06:00:00.000000",
          "2022-02-03T07:00:00.000000",
          "2022-02-03T08:00:00.000000",
          "2022-02-03T09:00:00.000000",
          "2022-02-03T10:00:00.000000",
          "2022-02-03T11:00:00.000000",
          "2022-02-03T12:00:00.000000",
          "2022-02-03T13:00:00.000000",
          "2022-02-03T14:00:00.000000",
          "2022-02-03T15:00:00.000000",
          "2022-02-03T16:00:00.000000",
          "2022-02-03T17:00:00.000000",
          "2022-02-03T18:00:00.000000",
          "2022-02-03T19:00:00.000000",
          "2022-02-03T20:00:00.000000",
          "2022-02-03T21:00:00.000000",
          "2022-02-03T22:00:00.000000",
          "2022-02-03T23:00:00.000000",
          "2022-02-04T00:00:00.000000",
          "2022-02-04T01:00:00.000000",
          "2022-02-04T02:00:00.000000",
          "2022-02-04T03:00:00.000000",
          "2022-02-04T04:00:00.000000",
          "2022-02-04T05:00:00.000000",
          "2022-02-04T06:00:00.000000",
          "2022-02-04T07:00:00.000000",
          "2022-02-04T08:00:00.000000",
          "2022-02-04T09:00:00.000000",
          "2022-02-04T10:00:00.000000",
          "2022-02-04T11:00:00.000000",
          "2022-02-04T12:00:00.000000",
          "2022-02-04T13:00:00.000000",
          "2022-02-04T14:00:00.000000",
          "2022-02-04T15:00:00.000000",
          "2022-02-04T16:00:00.000000",
          "2022-02-04T17:00:00.000000",
          "2022-02-04T18:00:00.000000",
          "2022-02-04T19:00:00.000000",
          "2022-02-04T20:00:00.000000",
          "2022-02-04T21:00:00.000000",
          "2022-02-04T22:00:00.000000",
          "2022-02-04T23:00:00.000000",
          "2022-02-05T00:00:00.000000",
          "2022-02-05T01:00:00.000000",
          "2022-02-05T02:00:00.000000",
          "2022-02-05T03:00:00.000000",
          "2022-02-05T04:00:00.000000",
          "2022-02-05T05:00:00.000000",
          "2022-02-05T06:00:00.000000",
          "2022-02-05T07:00:00.000000",
          "2022-02-05T08:00:00.000000",
          "2022-02-05T09:00:00.000000",
          "2022-02-05T10:00:00.000000",
          "2022-02-05T11:00:00.000000",
          "2022-02-05T12:00:00.000000",
          "2022-02-05T13:00:00.000000",
          "2022-02-05T14:00:00.000000",
          "2022-02-05T15:00:00.000000",
          "2022-02-05T16:00:00.000000",
          "2022-02-05T17:00:00.000000",
          "2022-02-05T18:00:00.000000",
          "2022-02-05T19:00:00.000000",
          "2022-02-05T20:00:00.000000",
          "2022-02-05T21:00:00.000000",
          "2022-02-05T22:00:00.000000",
          "2022-02-05T23:00:00.000000",
          "2022-02-06T00:00:00.000000",
          "2022-02-06T01:00:00.000000",
          "2022-02-06T02:00:00.000000",
          "2022-02-06T03:00:00.000000",
          "2022-02-06T04:00:00.000000",
          "2022-02-06T05:00:00.000000",
          "2022-02-06T06:00:00.000000",
          "2022-02-06T07:00:00.000000",
          "2022-02-06T08:00:00.000000",
          "2022-02-06T09:00:00.000000",
          "2022-02-06T10:00:00.000000",
          "2022-02-06T11:00:00.000000",
          "2022-02-06T12:00:00.000000",
          "2022-02-06T13:00:00.000000",
          "2022-02-06T14:00:00.000000",
          "2022-02-06T15:00:00.000000",
          "2022-02-06T16:00:00.000000",
          "2022-02-06T17:00:00.000000",
          "2022-02-06T18:00:00.000000",
          "2022-02-06T19:00:00.000000",
          "2022-02-06T20:00:00.000000",
          "2022-02-06T21:00:00.000000",
          "2022-02-06T22:00:00.000000",
          "2022-02-06T23:00:00.000000",
          "2022-02-07T00:00:00.000000",
          "2022-02-07T01:00:00.000000",
          "2022-02-07T02:00:00.000000",
          "2022-02-07T03:00:00.000000",
          "2022-02-07T04:00:00.000000",
          "2022-02-07T05:00:00.000000",
          "2022-02-07T06:00:00.000000",
          "2022-02-07T07:00:00.000000",
          "2022-02-07T08:00:00.000000",
          "2022-02-07T09:00:00.000000",
          "2022-02-07T10:00:00.000000",
          "2022-02-07T11:00:00.000000",
          "2022-02-07T12:00:00.000000",
          "2022-02-07T13:00:00.000000",
          "2022-02-07T14:00:00.000000"
         ],
         "xaxis": "x",
         "y": {
          "dtype": "float64",
          "shape": [
           159
          ]
         },
         "yaxis": "y"
        }
       ],
       "_js2py_pointsCallback": {},
       "_js2py_relayout": {},
       "_js2py_restyle": {},
       "_js2py_update": {},
       "_layout": {
        "height": 400,
        "margin": {
         "b": 5,
         "l": 5,
         "r": 5,
         "t": 35
        },
        "template": {
         "data": {
          "bar": [
           {
            "error_x": {
             "color": "#f2f5fa"
            },
            "error_y": {
             "color": "#f2f5fa"
            },
            "marker": {
             "line": {
              "color": "rgb(17,17,17)",
              "width": 0.5
             }
            },
            "type": "bar"
           }
          ],
          "barpolar": [
           {
            "marker": {
             "line": {
              "color": "rgb(17,17,17)",
              "width": 0.5
             }
            },
            "type": "barpolar"
           }
          ],
          "carpet": [
           {
            "aaxis": {
             "endlinecolor": "#A2B1C6",
             "gridcolor": "#506784",
             "linecolor": "#506784",
             "minorgridcolor": "#506784",
             "startlinecolor": "#A2B1C6"
            },
            "baxis": {
             "endlinecolor": "#A2B1C6",
             "gridcolor": "#506784",
             "linecolor": "#506784",
             "minorgridcolor": "#506784",
             "startlinecolor": "#A2B1C6"
            },
            "type": "carpet"
           }
          ],
          "choropleth": [
           {
            "colorbar": {
             "outlinewidth": 0,
             "ticks": ""
            },
            "type": "choropleth"
           }
          ],
          "contour": [
           {
            "colorbar": {
             "outlinewidth": 0,
             "ticks": ""
            },
            "colorscale": [
             [
              0,
              "#0d0887"
             ],
             [
              0.1111111111111111,
              "#46039f"
             ],
             [
              0.2222222222222222,
              "#7201a8"
             ],
             [
              0.3333333333333333,
              "#9c179e"
             ],
             [
              0.4444444444444444,
              "#bd3786"
             ],
             [
              0.5555555555555556,
              "#d8576b"
             ],
             [
              0.6666666666666666,
              "#ed7953"
             ],
             [
              0.7777777777777778,
              "#fb9f3a"
             ],
             [
              0.8888888888888888,
              "#fdca26"
             ],
             [
              1,
              "#f0f921"
             ]
            ],
            "type": "contour"
           }
          ],
          "contourcarpet": [
           {
            "colorbar": {
             "outlinewidth": 0,
             "ticks": ""
            },
            "type": "contourcarpet"
           }
          ],
          "heatmap": [
           {
            "colorbar": {
             "outlinewidth": 0,
             "ticks": ""
            },
            "colorscale": [
             [
              0,
              "#0d0887"
             ],
             [
              0.1111111111111111,
              "#46039f"
             ],
             [
              0.2222222222222222,
              "#7201a8"
             ],
             [
              0.3333333333333333,
              "#9c179e"
             ],
             [
              0.4444444444444444,
              "#bd3786"
             ],
             [
              0.5555555555555556,
              "#d8576b"
             ],
             [
              0.6666666666666666,
              "#ed7953"
             ],
             [
              0.7777777777777778,
              "#fb9f3a"
             ],
             [
              0.8888888888888888,
              "#fdca26"
             ],
             [
              1,
              "#f0f921"
             ]
            ],
            "type": "heatmap"
           }
          ],
          "heatmapgl": [
           {
            "colorbar": {
             "outlinewidth": 0,
             "ticks": ""
            },
            "colorscale": [
             [
              0,
              "#0d0887"
             ],
             [
              0.1111111111111111,
              "#46039f"
             ],
             [
              0.2222222222222222,
              "#7201a8"
             ],
             [
              0.3333333333333333,
              "#9c179e"
             ],
             [
              0.4444444444444444,
              "#bd3786"
             ],
             [
              0.5555555555555556,
              "#d8576b"
             ],
             [
              0.6666666666666666,
              "#ed7953"
             ],
             [
              0.7777777777777778,
              "#fb9f3a"
             ],
             [
              0.8888888888888888,
              "#fdca26"
             ],
             [
              1,
              "#f0f921"
             ]
            ],
            "type": "heatmapgl"
           }
          ],
          "histogram": [
           {
            "marker": {
             "colorbar": {
              "outlinewidth": 0,
              "ticks": ""
             }
            },
            "type": "histogram"
           }
          ],
          "histogram2d": [
           {
            "colorbar": {
             "outlinewidth": 0,
             "ticks": ""
            },
            "colorscale": [
             [
              0,
              "#0d0887"
             ],
             [
              0.1111111111111111,
              "#46039f"
             ],
             [
              0.2222222222222222,
              "#7201a8"
             ],
             [
              0.3333333333333333,
              "#9c179e"
             ],
             [
              0.4444444444444444,
              "#bd3786"
             ],
             [
              0.5555555555555556,
              "#d8576b"
             ],
             [
              0.6666666666666666,
              "#ed7953"
             ],
             [
              0.7777777777777778,
              "#fb9f3a"
             ],
             [
              0.8888888888888888,
              "#fdca26"
             ],
             [
              1,
              "#f0f921"
             ]
            ],
            "type": "histogram2d"
           }
          ],
          "histogram2dcontour": [
           {
            "colorbar": {
             "outlinewidth": 0,
             "ticks": ""
            },
            "colorscale": [
             [
              0,
              "#0d0887"
             ],
             [
              0.1111111111111111,
              "#46039f"
             ],
             [
              0.2222222222222222,
              "#7201a8"
             ],
             [
              0.3333333333333333,
              "#9c179e"
             ],
             [
              0.4444444444444444,
              "#bd3786"
             ],
             [
              0.5555555555555556,
              "#d8576b"
             ],
             [
              0.6666666666666666,
              "#ed7953"
             ],
             [
              0.7777777777777778,
              "#fb9f3a"
             ],
             [
              0.8888888888888888,
              "#fdca26"
             ],
             [
              1,
              "#f0f921"
             ]
            ],
            "type": "histogram2dcontour"
           }
          ],
          "mesh3d": [
           {
            "colorbar": {
             "outlinewidth": 0,
             "ticks": ""
            },
            "type": "mesh3d"
           }
          ],
          "parcoords": [
           {
            "line": {
             "colorbar": {
              "outlinewidth": 0,
              "ticks": ""
             }
            },
            "type": "parcoords"
           }
          ],
          "pie": [
           {
            "automargin": true,
            "type": "pie"
           }
          ],
          "scatter": [
           {
            "marker": {
             "line": {
              "color": "#283442"
             }
            },
            "type": "scatter"
           }
          ],
          "scatter3d": [
           {
            "line": {
             "colorbar": {
              "outlinewidth": 0,
              "ticks": ""
             }
            },
            "marker": {
             "colorbar": {
              "outlinewidth": 0,
              "ticks": ""
             }
            },
            "type": "scatter3d"
           }
          ],
          "scattercarpet": [
           {
            "marker": {
             "colorbar": {
              "outlinewidth": 0,
              "ticks": ""
             }
            },
            "type": "scattercarpet"
           }
          ],
          "scattergeo": [
           {
            "marker": {
             "colorbar": {
              "outlinewidth": 0,
              "ticks": ""
             }
            },
            "type": "scattergeo"
           }
          ],
          "scattergl": [
           {
            "marker": {
             "line": {
              "color": "#283442"
             }
            },
            "type": "scattergl"
           }
          ],
          "scattermapbox": [
           {
            "marker": {
             "colorbar": {
              "outlinewidth": 0,
              "ticks": ""
             }
            },
            "type": "scattermapbox"
           }
          ],
          "scatterpolar": [
           {
            "marker": {
             "colorbar": {
              "outlinewidth": 0,
              "ticks": ""
             }
            },
            "type": "scatterpolar"
           }
          ],
          "scatterpolargl": [
           {
            "marker": {
             "colorbar": {
              "outlinewidth": 0,
              "ticks": ""
             }
            },
            "type": "scatterpolargl"
           }
          ],
          "scatterternary": [
           {
            "marker": {
             "colorbar": {
              "outlinewidth": 0,
              "ticks": ""
             }
            },
            "type": "scatterternary"
           }
          ],
          "surface": [
           {
            "colorbar": {
             "outlinewidth": 0,
             "ticks": ""
            },
            "colorscale": [
             [
              0,
              "#0d0887"
             ],
             [
              0.1111111111111111,
              "#46039f"
             ],
             [
              0.2222222222222222,
              "#7201a8"
             ],
             [
              0.3333333333333333,
              "#9c179e"
             ],
             [
              0.4444444444444444,
              "#bd3786"
             ],
             [
              0.5555555555555556,
              "#d8576b"
             ],
             [
              0.6666666666666666,
              "#ed7953"
             ],
             [
              0.7777777777777778,
              "#fb9f3a"
             ],
             [
              0.8888888888888888,
              "#fdca26"
             ],
             [
              1,
              "#f0f921"
             ]
            ],
            "type": "surface"
           }
          ],
          "table": [
           {
            "cells": {
             "fill": {
              "color": "#506784"
             },
             "line": {
              "color": "rgb(17,17,17)"
             }
            },
            "header": {
             "fill": {
              "color": "#2a3f5f"
             },
             "line": {
              "color": "rgb(17,17,17)"
             }
            },
            "type": "table"
           }
          ]
         },
         "layout": {
          "annotationdefaults": {
           "arrowcolor": "#f2f5fa",
           "arrowhead": 0,
           "arrowwidth": 1
          },
          "coloraxis": {
           "colorbar": {
            "outlinewidth": 0,
            "ticks": ""
           }
          },
          "colorscale": {
           "diverging": [
            [
             0,
             "#8e0152"
            ],
            [
             0.1,
             "#c51b7d"
            ],
            [
             0.2,
             "#de77ae"
            ],
            [
             0.3,
             "#f1b6da"
            ],
            [
             0.4,
             "#fde0ef"
            ],
            [
             0.5,
             "#f7f7f7"
            ],
            [
             0.6,
             "#e6f5d0"
            ],
            [
             0.7,
             "#b8e186"
            ],
            [
             0.8,
             "#7fbc41"
            ],
            [
             0.9,
             "#4d9221"
            ],
            [
             1,
             "#276419"
            ]
           ],
           "sequential": [
            [
             0,
             "#0d0887"
            ],
            [
             0.1111111111111111,
             "#46039f"
            ],
            [
             0.2222222222222222,
             "#7201a8"
            ],
            [
             0.3333333333333333,
             "#9c179e"
            ],
            [
             0.4444444444444444,
             "#bd3786"
            ],
            [
             0.5555555555555556,
             "#d8576b"
            ],
            [
             0.6666666666666666,
             "#ed7953"
            ],
            [
             0.7777777777777778,
             "#fb9f3a"
            ],
            [
             0.8888888888888888,
             "#fdca26"
            ],
            [
             1,
             "#f0f921"
            ]
           ],
           "sequentialminus": [
            [
             0,
             "#0d0887"
            ],
            [
             0.1111111111111111,
             "#46039f"
            ],
            [
             0.2222222222222222,
             "#7201a8"
            ],
            [
             0.3333333333333333,
             "#9c179e"
            ],
            [
             0.4444444444444444,
             "#bd3786"
            ],
            [
             0.5555555555555556,
             "#d8576b"
            ],
            [
             0.6666666666666666,
             "#ed7953"
            ],
            [
             0.7777777777777778,
             "#fb9f3a"
            ],
            [
             0.8888888888888888,
             "#fdca26"
            ],
            [
             1,
             "#f0f921"
            ]
           ]
          },
          "colorway": [
           "#636efa",
           "#EF553B",
           "#00cc96",
           "#ab63fa",
           "#FFA15A",
           "#19d3f3",
           "#FF6692",
           "#B6E880",
           "#FF97FF",
           "#FECB52"
          ],
          "font": {
           "color": "#f2f5fa"
          },
          "geo": {
           "bgcolor": "rgb(17,17,17)",
           "lakecolor": "rgb(17,17,17)",
           "landcolor": "rgb(17,17,17)",
           "showlakes": true,
           "showland": true,
           "subunitcolor": "#506784"
          },
          "hoverlabel": {
           "align": "left"
          },
          "hovermode": "closest",
          "mapbox": {
           "style": "dark"
          },
          "paper_bgcolor": "rgb(17,17,17)",
          "plot_bgcolor": "rgb(17,17,17)",
          "polar": {
           "angularaxis": {
            "gridcolor": "#506784",
            "linecolor": "#506784",
            "ticks": ""
           },
           "bgcolor": "rgb(17,17,17)",
           "radialaxis": {
            "gridcolor": "#506784",
            "linecolor": "#506784",
            "ticks": ""
           }
          },
          "scene": {
           "xaxis": {
            "backgroundcolor": "rgb(17,17,17)",
            "gridcolor": "#506784",
            "gridwidth": 2,
            "linecolor": "#506784",
            "showbackground": true,
            "ticks": "",
            "zerolinecolor": "#C8D4E3"
           },
           "yaxis": {
            "backgroundcolor": "rgb(17,17,17)",
            "gridcolor": "#506784",
            "gridwidth": 2,
            "linecolor": "#506784",
            "showbackground": true,
            "ticks": "",
            "zerolinecolor": "#C8D4E3"
           },
           "zaxis": {
            "backgroundcolor": "rgb(17,17,17)",
            "gridcolor": "#506784",
            "gridwidth": 2,
            "linecolor": "#506784",
            "showbackground": true,
            "ticks": "",
            "zerolinecolor": "#C8D4E3"
           }
          },
          "shapedefaults": {
           "line": {
            "color": "#f2f5fa"
           }
          },
          "sliderdefaults": {
           "bgcolor": "#C8D4E3",
           "bordercolor": "rgb(17,17,17)",
           "borderwidth": 1,
           "tickwidth": 0
          },
          "ternary": {
           "aaxis": {
            "gridcolor": "#506784",
            "linecolor": "#506784",
            "ticks": ""
           },
           "baxis": {
            "gridcolor": "#506784",
            "linecolor": "#506784",
            "ticks": ""
           },
           "bgcolor": "rgb(17,17,17)",
           "caxis": {
            "gridcolor": "#506784",
            "linecolor": "#506784",
            "ticks": ""
           }
          },
          "title": {
           "x": 0.05
          },
          "updatemenudefaults": {
           "bgcolor": "#506784",
           "borderwidth": 0
          },
          "xaxis": {
           "automargin": true,
           "gridcolor": "#283442",
           "linecolor": "#506784",
           "ticks": "",
           "title": {
            "standoff": 15
           },
           "zerolinecolor": "#283442",
           "zerolinewidth": 2
          },
          "yaxis": {
           "automargin": true,
           "gridcolor": "#283442",
           "linecolor": "#506784",
           "ticks": "",
           "title": {
            "standoff": 15
           },
           "zerolinecolor": "#283442",
           "zerolinewidth": 2
          }
         }
        },
        "title": {
         "text": " None",
         "x": 0.5,
         "xanchor": "center",
         "y": 0.9,
         "yanchor": "top"
        },
        "xaxis": {
         "anchor": "y",
         "domain": [
          0,
          1
         ],
         "rangeslider": {
          "visible": false
         }
        },
        "yaxis": {
         "anchor": "x",
         "domain": [
          0,
          1
         ]
        }
       },
       "_model_module_version": "^4.8.0",
       "_py2js_addTraces": {},
       "_py2js_animate": {},
       "_py2js_deleteTraces": {},
       "_py2js_moveTraces": {},
       "_py2js_relayout": {},
       "_py2js_removeLayoutProps": {},
       "_py2js_removeTraceProps": {},
       "_py2js_restyle": {},
       "_py2js_update": {},
       "_view_count": 0,
       "_view_module_version": "^4.8.0"
      }
     },
     "c2666d9599824beab1493bd2996492cf": {
      "model_module": "@jupyter-widgets/base",
      "model_module_version": "1.2.0",
      "model_name": "LayoutModel",
      "state": {}
     },
     "c281d5a4cb2e492ea3c2b3335a775eb0": {
      "model_module": "@jupyter-widgets/base",
      "model_module_version": "1.2.0",
      "model_name": "LayoutModel",
      "state": {}
     },
     "c3593fd513354da79b9e610ae2ae301a": {
      "model_module": "@jupyter-widgets/base",
      "model_module_version": "1.2.0",
      "model_name": "LayoutModel",
      "state": {}
     },
     "c40eaaa512e948aaa0ab877749fc6a8f": {
      "model_module": "@jupyter-widgets/base",
      "model_module_version": "1.2.0",
      "model_name": "LayoutModel",
      "state": {}
     },
     "c646660737744505b4a9f6de263d55db": {
      "model_module": "@jupyter-widgets/base",
      "model_module_version": "1.2.0",
      "model_name": "LayoutModel",
      "state": {}
     },
     "c6584eb77297448c80069196ad1f6d15": {
      "model_module": "@jupyter-widgets/controls",
      "model_module_version": "1.5.0",
      "model_name": "DescriptionStyleModel",
      "state": {
       "description_width": ""
      }
     },
     "c689c17c6dc849e8b004ee26ae41a5b1": {
      "model_module": "@jupyter-widgets/controls",
      "model_module_version": "1.5.0",
      "model_name": "FloatProgressModel",
      "state": {
       "bar_style": "success",
       "layout": "IPY_MODEL_80855cb1487745458ca2417f24c06431",
       "max": 300,
       "style": "IPY_MODEL_13b810ebe58c4fb1bff70a6e9d1bd951",
       "value": 300
      }
     },
     "c6eb7d61fae449f3adaa99c8a5be1dfc": {
      "model_module": "@jupyter-widgets/controls",
      "model_module_version": "1.5.0",
      "model_name": "HTMLModel",
      "state": {
       "layout": "IPY_MODEL_d8049cb25ee14082a861aaf7a4d8aa54",
       "style": "IPY_MODEL_2f6160d9b8fe424c84737158cb249182",
       "value": " 200/200 [02:08&lt;00:00, 1.56 signals/s]"
      }
     },
     "c91428a413d741d2956dfdda224c6a79": {
      "model_module": "@jupyter-widgets/controls",
      "model_module_version": "1.5.0",
      "model_name": "ProgressStyleModel",
      "state": {
       "description_width": ""
      }
     },
     "ca121cefe78a450d97ed78095ff80a65": {
      "model_module": "@jupyter-widgets/controls",
      "model_module_version": "1.5.0",
      "model_name": "HTMLModel",
      "state": {
       "layout": "IPY_MODEL_9f1fd52beed944f08fa8bee0973e96e4",
       "style": "IPY_MODEL_7b7bd6f35961477bb2953ede42a5cda0",
       "value": "Backtest : 100%"
      }
     },
     "ca30c38c42604d5eac555efcd334de15": {
      "model_module": "@jupyter-widgets/base",
      "model_module_version": "1.2.0",
      "model_name": "LayoutModel",
      "state": {}
     },
     "ca5f45f75d354aea85f2193b8d97154c": {
      "model_module": "@jupyter-widgets/base",
      "model_module_version": "1.2.0",
      "model_name": "LayoutModel",
      "state": {}
     },
     "caa6ecfe1e104776a81ec57340767b44": {
      "model_module": "@jupyter-widgets/controls",
      "model_module_version": "1.5.0",
      "model_name": "HBoxModel",
      "state": {
       "children": [
        "IPY_MODEL_9e537c4c96284b52b48665955ddbac9d",
        "IPY_MODEL_8cdafcc4f9fc475ea69785bd38ff15dc",
        "IPY_MODEL_a5d0ef95ce2b42dbaff7ebbeb144abfa"
       ],
       "layout": "IPY_MODEL_9b20b7cdd00846f5a35dfe8411c50012"
      }
     },
     "cace0057281b4ebcb8d63d50e9607fef": {
      "model_module": "@jupyter-widgets/controls",
      "model_module_version": "1.5.0",
      "model_name": "HBoxModel",
      "state": {
       "children": [
        "IPY_MODEL_71f306fc351d4aff9371f1df95053e7e",
        "IPY_MODEL_56d6cc8ce0764e1a9fad95aefec3431e",
        "IPY_MODEL_c6eb7d61fae449f3adaa99c8a5be1dfc"
       ],
       "layout": "IPY_MODEL_d7cfb7e06af34397ba377a6c167c98ef"
      }
     },
     "cc3a0decc3704792849aa1cc42a65004": {
      "model_module": "@jupyter-widgets/controls",
      "model_module_version": "1.5.0",
      "model_name": "DescriptionStyleModel",
      "state": {
       "description_width": ""
      }
     },
     "cd26caca83d7487d8e3ccafe02df36a0": {
      "model_module": "@jupyter-widgets/controls",
      "model_module_version": "1.5.0",
      "model_name": "HTMLModel",
      "state": {
       "layout": "IPY_MODEL_0a809e3eb884471c97fcf911f7e56bb2",
       "style": "IPY_MODEL_86db6ebffe6449f890c25556569276f1",
       "value": "Backtest : 100%"
      }
     },
     "cfd13ef283df46fd9554110e137cd6b9": {
      "model_module": "@jupyter-widgets/controls",
      "model_module_version": "1.5.0",
      "model_name": "FloatProgressModel",
      "state": {
       "bar_style": "danger",
       "layout": "IPY_MODEL_8a66af7b0ff843a893fe9f3f26bd8564",
       "style": "IPY_MODEL_f71a794204cb4764b22c45facfbe4b80",
       "value": 33.333333333333336
      }
     },
     "d0fcb5221db441f88f7812b045f457db": {
      "model_module": "@jupyter-widgets/controls",
      "model_module_version": "1.5.0",
      "model_name": "HTMLModel",
      "state": {
       "layout": "IPY_MODEL_443b28a939384010abe0fdd4bf2875fa",
       "style": "IPY_MODEL_0c3faf8e0e6543638a0c4e145b88e2d2",
       "value": "Backtest : 100%"
      }
     },
     "d1722f1c768244c8a441c4ba55a397b0": {
      "model_module": "@jupyter-widgets/base",
      "model_module_version": "1.2.0",
      "model_name": "LayoutModel",
      "state": {}
     },
     "d2c359bff1bf47438e697178a3b28d3b": {
      "model_module": "@jupyter-widgets/base",
      "model_module_version": "1.2.0",
      "model_name": "LayoutModel",
      "state": {}
     },
     "d2e9ae4486e249ae812ade3ae6836907": {
      "model_module": "@jupyter-widgets/controls",
      "model_module_version": "1.5.0",
      "model_name": "DescriptionStyleModel",
      "state": {
       "description_width": ""
      }
     },
     "d3da27e521ac4d09bbf0cfa9a42ef968": {
      "model_module": "@jupyter-widgets/controls",
      "model_module_version": "1.5.0",
      "model_name": "ProgressStyleModel",
      "state": {
       "description_width": ""
      }
     },
     "d511d61b53a84a9f9210cdcfc8013bdf": {
      "model_module": "@jupyter-widgets/controls",
      "model_module_version": "1.5.0",
      "model_name": "DescriptionStyleModel",
      "state": {
       "description_width": ""
      }
     },
     "d682d5fb07ea4833ab3ddb3ab86c8320": {
      "model_module": "@jupyter-widgets/controls",
      "model_module_version": "1.5.0",
      "model_name": "ProgressStyleModel",
      "state": {
       "description_width": ""
      }
     },
     "d729ecf34e654f6ba7df0926a35f268e": {
      "model_module": "@jupyter-widgets/controls",
      "model_module_version": "1.5.0",
      "model_name": "ProgressStyleModel",
      "state": {
       "description_width": ""
      }
     },
     "d74482ce971748aa9aa4d311e23f397a": {
      "model_module": "@jupyter-widgets/controls",
      "model_module_version": "1.5.0",
      "model_name": "DescriptionStyleModel",
      "state": {
       "description_width": ""
      }
     },
     "d76fe1e629bd48c6bbe4854fb5a502d2": {
      "model_module": "@jupyter-widgets/controls",
      "model_module_version": "1.5.0",
      "model_name": "HTMLModel",
      "state": {
       "layout": "IPY_MODEL_7b8c5a88c53f4317a2a228b260719804",
       "style": "IPY_MODEL_af26c2ca7b4a49d387bcfb50085d1977",
       "value": "Backtest : 100%"
      }
     },
     "d7cfb7e06af34397ba377a6c167c98ef": {
      "model_module": "@jupyter-widgets/base",
      "model_module_version": "1.2.0",
      "model_name": "LayoutModel",
      "state": {}
     },
     "d8049cb25ee14082a861aaf7a4d8aa54": {
      "model_module": "@jupyter-widgets/base",
      "model_module_version": "1.2.0",
      "model_name": "LayoutModel",
      "state": {}
     },
     "d8470eb80c6e426ea1559aa2a612db47": {
      "model_module": "@jupyter-widgets/controls",
      "model_module_version": "1.5.0",
      "model_name": "HTMLModel",
      "state": {
       "layout": "IPY_MODEL_7e07a75c7ef54cb9b0fca9ba0292b5e2",
       "style": "IPY_MODEL_da5dc151204449b899b89adead3f0192",
       "value": " 200/200 [00:44&lt;00:00, 4.54 signals/s]"
      }
     },
     "d8d8afbae5e8405aa705edfe9fb6a5ba": {
      "model_module": "@jupyter-widgets/controls",
      "model_module_version": "1.5.0",
      "model_name": "DescriptionStyleModel",
      "state": {
       "description_width": ""
      }
     },
     "d95bce19df3d4531b4a4d4ad5c2d1932": {
      "model_module": "@jupyter-widgets/base",
      "model_module_version": "1.2.0",
      "model_name": "LayoutModel",
      "state": {}
     },
     "da30e64dfe2e4b339f50a0986b42431b": {
      "model_module": "@jupyter-widgets/controls",
      "model_module_version": "1.5.0",
      "model_name": "DescriptionStyleModel",
      "state": {
       "description_width": ""
      }
     },
     "da5dc151204449b899b89adead3f0192": {
      "model_module": "@jupyter-widgets/controls",
      "model_module_version": "1.5.0",
      "model_name": "DescriptionStyleModel",
      "state": {
       "description_width": ""
      }
     },
     "dab58b66968c4ed8afc2869cac1b8e49": {
      "model_module": "@jupyter-widgets/controls",
      "model_module_version": "1.5.0",
      "model_name": "DescriptionStyleModel",
      "state": {
       "description_width": ""
      }
     },
     "dba593a9279f40b1823dd9e5018412ec": {
      "model_module": "@jupyter-widgets/controls",
      "model_module_version": "1.5.0",
      "model_name": "DescriptionStyleModel",
      "state": {
       "description_width": ""
      }
     },
     "dc56056462f146aab84d470c1dea6993": {
      "model_module": "@jupyter-widgets/base",
      "model_module_version": "1.2.0",
      "model_name": "LayoutModel",
      "state": {}
     },
     "dc7c6b538a1449e197e4b9bcb445dc65": {
      "model_module": "@jupyter-widgets/controls",
      "model_module_version": "1.5.0",
      "model_name": "HTMLModel",
      "state": {
       "layout": "IPY_MODEL_f5889f3efd7b468fa2c2d4d0b7609f0f",
       "style": "IPY_MODEL_798e591ee1cf4791a12a1ce5669cacfa",
       "value": " 33.3/100 [1:00:30&lt;2:01:01, 109s/ signals]"
      }
     },
     "e09c4756423840029f5684362e7cf4ec": {
      "model_module": "@jupyter-widgets/controls",
      "model_module_version": "1.5.0",
      "model_name": "HBoxModel",
      "state": {
       "children": [
        "IPY_MODEL_0fd1e8056f4c4e9f9b9bdc9dc4b1746c",
        "IPY_MODEL_7f36b859aa7a43eda6983a850f13ff4a",
        "IPY_MODEL_58e44f1e10d84dc19fa58fa18f072b91"
       ],
       "layout": "IPY_MODEL_0d5f3008a07a40c08405d8e27c3b9f0e"
      }
     },
     "e0c7eb9e19c34e63bdaebd1a3d114bce": {
      "model_module": "@jupyter-widgets/controls",
      "model_module_version": "1.5.0",
      "model_name": "FloatProgressModel",
      "state": {
       "bar_style": "success",
       "layout": "IPY_MODEL_865626aceb894fad929b9ebc7334ff7e",
       "max": 200,
       "style": "IPY_MODEL_7ba3c431a7b8418ab1501396488ddcbc",
       "value": 200
      }
     },
     "e1383ce2a0a64cc18a27dcb724cbdcd4": {
      "model_module": "@jupyter-widgets/controls",
      "model_module_version": "1.5.0",
      "model_name": "FloatProgressModel",
      "state": {
       "bar_style": "success",
       "layout": "IPY_MODEL_b11cf615f9d246f5a584662cfbedd25d",
       "max": 200,
       "style": "IPY_MODEL_18e5072ddaa1438ebcae908043da9dcb",
       "value": 200
      }
     },
     "e47bd8a7e27f4f00ad38399cab668a18": {
      "model_module": "@jupyter-widgets/base",
      "model_module_version": "1.2.0",
      "model_name": "LayoutModel",
      "state": {}
     },
     "e72724bc208142039dfde94383db3260": {
      "model_module": "@jupyter-widgets/base",
      "model_module_version": "1.2.0",
      "model_name": "LayoutModel",
      "state": {}
     },
     "e8aa0854b8ed41b6ae55b6947775a014": {
      "model_module": "@jupyter-widgets/base",
      "model_module_version": "1.2.0",
      "model_name": "LayoutModel",
      "state": {}
     },
     "e9174ce7f19f42ae8a78ac2e86d9f7ad": {
      "model_module": "@jupyter-widgets/base",
      "model_module_version": "1.2.0",
      "model_name": "LayoutModel",
      "state": {}
     },
     "eab456330f864d3faaca8ae6524a103d": {
      "model_module": "@jupyter-widgets/base",
      "model_module_version": "1.2.0",
      "model_name": "LayoutModel",
      "state": {}
     },
     "ec835fa2f12a420a8653a1496e52055d": {
      "model_module": "@jupyter-widgets/controls",
      "model_module_version": "1.5.0",
      "model_name": "DescriptionStyleModel",
      "state": {
       "description_width": ""
      }
     },
     "ed894398a5914a87ab7d611af75d4832": {
      "model_module": "@jupyter-widgets/base",
      "model_module_version": "1.2.0",
      "model_name": "LayoutModel",
      "state": {}
     },
     "ee009c9dd4834ace864b006deb748f3a": {
      "model_module": "@jupyter-widgets/base",
      "model_module_version": "1.2.0",
      "model_name": "LayoutModel",
      "state": {}
     },
     "eed0c8f09b8d4714ab46e21116077e75": {
      "model_module": "@jupyter-widgets/base",
      "model_module_version": "1.2.0",
      "model_name": "LayoutModel",
      "state": {}
     },
     "f2043a5e970f4cd6af5f5a48de66214c": {
      "model_module": "@jupyter-widgets/controls",
      "model_module_version": "1.5.0",
      "model_name": "FloatProgressModel",
      "state": {
       "layout": "IPY_MODEL_81ef27ee1c8b498a8dab771148de2cb3",
       "max": 300,
       "style": "IPY_MODEL_1cfd250424474657bcc5ef0968f07650",
       "value": 33.333333333333336
      }
     },
     "f4753667b602414b96db808373885ac6": {
      "model_module": "@jupyter-widgets/controls",
      "model_module_version": "1.5.0",
      "model_name": "HTMLModel",
      "state": {
       "layout": "IPY_MODEL_d1722f1c768244c8a441c4ba55a397b0",
       "style": "IPY_MODEL_2e2afe8686104a0e9a897fefc0296973",
       "value": " 300/300 [11:54&lt;00:00, 2.38s/ signals]"
      }
     },
     "f5889f3efd7b468fa2c2d4d0b7609f0f": {
      "model_module": "@jupyter-widgets/base",
      "model_module_version": "1.2.0",
      "model_name": "LayoutModel",
      "state": {}
     },
     "f69a086e7b6c4b58959b0935242b9f86": {
      "model_module": "@jupyter-widgets/base",
      "model_module_version": "1.2.0",
      "model_name": "LayoutModel",
      "state": {}
     },
     "f71a794204cb4764b22c45facfbe4b80": {
      "model_module": "@jupyter-widgets/controls",
      "model_module_version": "1.5.0",
      "model_name": "ProgressStyleModel",
      "state": {
       "description_width": ""
      }
     },
     "f7c5f8fa831540e88586d72c917e191e": {
      "model_module": "@jupyter-widgets/base",
      "model_module_version": "1.2.0",
      "model_name": "LayoutModel",
      "state": {}
     },
     "f8775295882b447782ad4e58f0a5f19e": {
      "model_module": "@jupyter-widgets/controls",
      "model_module_version": "1.5.0",
      "model_name": "ProgressStyleModel",
      "state": {
       "description_width": ""
      }
     },
     "f8a32ca23c6a473399208b6fa2aa0321": {
      "model_module": "@jupyter-widgets/controls",
      "model_module_version": "1.5.0",
      "model_name": "DescriptionStyleModel",
      "state": {
       "description_width": ""
      }
     },
     "f8bd0156874b4f888e8c7cb66d57213b": {
      "model_module": "@jupyter-widgets/base",
      "model_module_version": "1.2.0",
      "model_name": "LayoutModel",
      "state": {}
     },
     "f8be617309a548bea195c9e847ea3ba8": {
      "model_module": "@jupyter-widgets/base",
      "model_module_version": "1.2.0",
      "model_name": "LayoutModel",
      "state": {}
     },
     "f8c5ba50e2c74c8cbbb52625adc94c5e": {
      "model_module": "@jupyter-widgets/base",
      "model_module_version": "1.2.0",
      "model_name": "LayoutModel",
      "state": {}
     }
    },
    "version_major": 2,
    "version_minor": 0
   }
  }
 },
 "nbformat": 4,
 "nbformat_minor": 4
}
