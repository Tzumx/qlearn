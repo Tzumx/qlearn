{
 "cells": [
  {
   "cell_type": "code",
   "execution_count": 103,
   "metadata": {},
   "outputs": [
    {
     "data": {
      "text/html": [
       "<pre style=\"white-space:pre;overflow-x:auto;line-height:normal;font-family:Menlo,'DejaVu Sans Mono',consolas,'Courier New',monospace\"><span style=\"font-weight: bold\">(</span>c<span style=\"font-weight: bold\">)</span> <span style=\"color: #008000; font-weight: bold\">2017</span>, AppliedAlpha Infrastructure for Quantitative Research and Analysis, ver. master: \n",
       "<span style=\"color: #008000; font-weight: bold\">0.1449</span>\n",
       "</pre>\n"
      ],
      "text/plain": [
       "<rich.jupyter.JupyterRenderable at 0x7f6d11d13470>"
      ]
     },
     "metadata": {},
     "output_type": "display_data"
    }
   ],
   "source": [
    "import ira\n",
    "import inspect\n",
    "from dataclasses import dataclass\n",
    "from typing import Union, List\n",
    "from datetime import timedelta\n",
    "\n",
    "from sklearn.model_selection import GridSearchCV\n",
    "from sklearn.base import TransformerMixin, BaseEstimator\n",
    "from sklearn.model_selection import TimeSeriesSplit, GridSearchCV\n",
    "from sklearn.model_selection._search import BaseSearchCV\n",
    "from sklearn.pipeline import make_pipeline, Pipeline\n",
    "\n",
    "from qlearn.core.base import MarketDataComposer, MetaInfo\n",
    "from qlearn.core.pickers import SingleInstrumentPicker\n",
    "\n",
    "%alphalab dark\n",
    "from alpha.utils.data_helpers import FriendlyFxLoader"
   ]
  },
  {
   "cell_type": "code",
   "execution_count": 32,
   "metadata": {},
   "outputs": [],
   "source": [
    "data = FriendlyFxLoader('dukas @ 5Min').ohlcs(['EURUSD'])"
   ]
  },
  {
   "cell_type": "code",
   "execution_count": 107,
   "metadata": {},
   "outputs": [],
   "source": [
    "@dataclass\n",
    "class MarketInfo:\n",
    "    symbols: Union[List[str], None]\n",
    "    column: str\n",
    "    timezone: str = 'UTC'\n",
    "    session_start = timedelta(hours=0, minutes=0)\n",
    "    session_end = timedelta(hours=23, minutes=59, seconds=58)\n",
    "    tick_sizes: dict = None\n",
    "    tick_prices: dict = None"
   ]
  },
  {
   "cell_type": "code",
   "execution_count": 148,
   "metadata": {},
   "outputs": [],
   "source": [
    "def pre_close_time_delta(freq):\n",
    "    return _S1 if freq > _S1 else freq / 10\n",
    "\n",
    "def pre_close_time_shift(bars):\n",
    "    _tshift = pd.Timedelta(infer_series_frequency(bars[:100]))\n",
    "    return _tshift - pre_close_time_delta(_tshift)\n",
    "\n",
    "def predict(func):\n",
    "    def wrapped_predict(obj, xp, *args, **kwargs):\n",
    "        yh = func(obj, xp, *args, **kwargs)\n",
    "        if not hasattr(obj, 'exact_time') and obj.metadata().column == 'close':\n",
    "            yh = yh.shift(1, freq=pre_close_time_shift(xp))\n",
    "\n",
    "        return yh\n",
    "    return wrapped_predict\n",
    "\n",
    "\n",
    "def signal_generator(cls):\n",
    "    m = inspect.getmembers(cls, lambda x: (inspect.isfunction(x) or inspect.ismethod(x)) and x.__name__ == 'predict')\n",
    "    if m:\n",
    "        setattr(cls, m[0][0], predict(m[0][1]))\n",
    "    cls.__qlearn__ = '0.0.1'\n",
    "    cls.market_info_: MarketInfo = None\n",
    "    return cls"
   ]
  },
  {
   "cell_type": "code",
   "execution_count": 242,
   "metadata": {},
   "outputs": [],
   "source": [
    "class MidDayPrice(TransformerMixin):\n",
    "    def fit(self, x, y, **kwargs):\n",
    "        return self\n",
    "\n",
    "    def transform(self, x):\n",
    "        return x.assign(mid = .5*(x.high+x.low))\n",
    "    \n",
    "class Ema(TransformerMixin, BaseEstimator):\n",
    "    def __init__(self, period):\n",
    "        self.period = period\n",
    "        self.__qlearn__ = 1\n",
    "        \n",
    "    def fit(self, x, y, **kwargs):\n",
    "        return self\n",
    "\n",
    "    def transform(self, x):\n",
    "        return x.assign(**{f'MA{self.period}': apply_to_frame(ema, x.close, self.period)})\n",
    "\n",
    "@signal_generator\n",
    "class TesterSingle(BaseEstimator):\n",
    "    def __init__(self, period):\n",
    "        self.period = period\n",
    "\n",
    "    def fit(self, X, y, **fit_params):\n",
    "        self.market_info_ = fit_params['market_info_']\n",
    "        return self\n",
    "\n",
    "    def predict(self, X):\n",
    "        print(self._market_info)\n",
    "        price = X[self.market_info_.column]\n",
    "#         self.exact_time = 1\n",
    "        return srows(\n",
    "            pd.Series(+1, price[(price > price.shift(self.period))].index),\n",
    "            pd.Series(-1, price[(price < price.shift(self.period))].index))\n"
   ]
  },
  {
   "cell_type": "code",
   "execution_count": 243,
   "metadata": {},
   "outputs": [],
   "source": [
    "def scoring(est, x, y):\n",
    "    return 0\n",
    "\n",
    "predictor = GridSearchCV(\n",
    "    cv=TimeSeriesSplit(5),\n",
    "    estimator = make_pipeline(\n",
    "        MidDayPrice(), \n",
    "        make_pipeline(MidDayPrice(), Ema(15),  make_pipeline(Ema(6)), \n",
    "                      make_pipeline(Ema(11), TesterSingle(5)))\n",
    "    ),\n",
    "    scoring=scoring,\n",
    "    param_grid={\n",
    "        'pipeline__pipeline-2__testersingle__period': [5,10],\n",
    "    }, verbose=True\n",
    ")"
   ]
  },
  {
   "cell_type": "code",
   "execution_count": 191,
   "metadata": {},
   "outputs": [],
   "source": [
    "mdc = MarketDataComposer(predictor, SingleInstrumentPicker())"
   ]
  },
  {
   "cell_type": "code",
   "execution_count": null,
   "metadata": {},
   "outputs": [],
   "source": [
    "mdc.fit(data, None) "
   ]
  },
  {
   "cell_type": "code",
   "execution_count": null,
   "metadata": {},
   "outputs": [],
   "source": [
    "predictor.estimator.get_params()"
   ]
  },
  {
   "cell_type": "code",
   "execution_count": 246,
   "metadata": {},
   "outputs": [],
   "source": [
    "def collect_estimators(p, ex, step=None):\n",
    "    if isinstance(p, BaseEstimator) and hasattr(p, '__qlearn__'):\n",
    "        ex.append((step, p))\n",
    "        return ex\n",
    "    \n",
    "    if isinstance(p, Pipeline):\n",
    "        for sn, se in p.steps:\n",
    "            collect_estimators(se, ex, (step + '__' + sn) if step else sn)\n",
    "        return ex\n",
    "    \n",
    "    if isinstance(p, BaseSearchCV):\n",
    "        return collect_estimators(p.estimator, ex, step) \n",
    "    \n",
    "    if isinstance(p, MarketDataComposer):\n",
    "        return collect_estimators(p.predictor, ex, step) \n",
    "    \n",
    "    return ex "
   ]
  },
  {
   "cell_type": "code",
   "execution_count": 248,
   "metadata": {},
   "outputs": [
    {
     "data": {
      "text/plain": [
       "[('pipeline__ema', Ema(period=15)),\n",
       " ('pipeline__pipeline-1__ema', Ema(period=6)),\n",
       " ('pipeline__pipeline-2__ema', Ema(period=11)),\n",
       " ('pipeline__pipeline-2__testersingle', TesterSingle(period=5))]"
      ]
     },
     "execution_count": 248,
     "metadata": {},
     "output_type": "execute_result"
    }
   ],
   "source": [
    "elst = collect_estimators(predictor, list()) \n",
    "elst"
   ]
  },
  {
   "cell_type": "code",
   "execution_count": 213,
   "metadata": {},
   "outputs": [
    {
     "data": {
      "text/plain": [
       "{'pipeline__pipeline-2__testersingle__market_info_': 123}"
      ]
     },
     "execution_count": 213,
     "metadata": {},
     "output_type": "execute_result"
    }
   ],
   "source": [
    "{f'{elst[0][0]}__market_info_': 123}"
   ]
  },
  {
   "cell_type": "code",
   "execution_count": 220,
   "metadata": {},
   "outputs": [
    {
     "name": "stdout",
     "output_type": "stream",
     "text": [
      "Fitting 5 folds for each of 2 candidates, totalling 10 fits\n"
     ]
    },
    {
     "data": {
      "text/html": [
       "<pre style=\"white-space:pre;overflow-x:auto;line-height:normal;font-family:Menlo,'DejaVu Sans Mono',consolas,'Courier New',monospace\"><span style=\"font-weight: bold\">{</span><span style=\"color: #008000\">'market_info_'</span>: <span style=\"color: #008000; font-weight: bold\">123</span><span style=\"font-weight: bold\">}</span>\n",
       "</pre>\n"
      ],
      "text/plain": [
       "<rich.jupyter.JupyterRenderable at 0x7f6d10fb1eb8>"
      ]
     },
     "metadata": {},
     "output_type": "display_data"
    },
    {
     "data": {
      "text/html": [
       "<pre style=\"white-space:pre;overflow-x:auto;line-height:normal;font-family:Menlo,'DejaVu Sans Mono',consolas,'Courier New',monospace\"><span style=\"font-weight: bold\">{</span><span style=\"color: #008000\">'market_info_'</span>: <span style=\"color: #008000; font-weight: bold\">123</span><span style=\"font-weight: bold\">}</span>\n",
       "</pre>\n"
      ],
      "text/plain": [
       "<rich.jupyter.JupyterRenderable at 0x7f6d10fb1eb8>"
      ]
     },
     "metadata": {},
     "output_type": "display_data"
    },
    {
     "data": {
      "text/html": [
       "<pre style=\"white-space:pre;overflow-x:auto;line-height:normal;font-family:Menlo,'DejaVu Sans Mono',consolas,'Courier New',monospace\"><span style=\"font-weight: bold\">{</span><span style=\"color: #008000\">'market_info_'</span>: <span style=\"color: #008000; font-weight: bold\">123</span><span style=\"font-weight: bold\">}</span>\n",
       "</pre>\n"
      ],
      "text/plain": [
       "<rich.jupyter.JupyterRenderable at 0x7f6d10fb1c18>"
      ]
     },
     "metadata": {},
     "output_type": "display_data"
    },
    {
     "data": {
      "text/html": [
       "<pre style=\"white-space:pre;overflow-x:auto;line-height:normal;font-family:Menlo,'DejaVu Sans Mono',consolas,'Courier New',monospace\"><span style=\"font-weight: bold\">{</span><span style=\"color: #008000\">'market_info_'</span>: <span style=\"color: #008000; font-weight: bold\">123</span><span style=\"font-weight: bold\">}</span>\n",
       "</pre>\n"
      ],
      "text/plain": [
       "<rich.jupyter.JupyterRenderable at 0x7f6d10fb1630>"
      ]
     },
     "metadata": {},
     "output_type": "display_data"
    },
    {
     "data": {
      "text/html": [
       "<pre style=\"white-space:pre;overflow-x:auto;line-height:normal;font-family:Menlo,'DejaVu Sans Mono',consolas,'Courier New',monospace\"><span style=\"font-weight: bold\">{</span><span style=\"color: #008000\">'market_info_'</span>: <span style=\"color: #008000; font-weight: bold\">123</span><span style=\"font-weight: bold\">}</span>\n",
       "</pre>\n"
      ],
      "text/plain": [
       "<rich.jupyter.JupyterRenderable at 0x7f6d10fb1438>"
      ]
     },
     "metadata": {},
     "output_type": "display_data"
    },
    {
     "data": {
      "text/html": [
       "<pre style=\"white-space:pre;overflow-x:auto;line-height:normal;font-family:Menlo,'DejaVu Sans Mono',consolas,'Courier New',monospace\"><span style=\"font-weight: bold\">{</span><span style=\"color: #008000\">'market_info_'</span>: <span style=\"color: #008000; font-weight: bold\">123</span><span style=\"font-weight: bold\">}</span>\n",
       "</pre>\n"
      ],
      "text/plain": [
       "<rich.jupyter.JupyterRenderable at 0x7f6d10fb10b8>"
      ]
     },
     "metadata": {},
     "output_type": "display_data"
    },
    {
     "data": {
      "text/html": [
       "<pre style=\"white-space:pre;overflow-x:auto;line-height:normal;font-family:Menlo,'DejaVu Sans Mono',consolas,'Courier New',monospace\"><span style=\"font-weight: bold\">{</span><span style=\"color: #008000\">'market_info_'</span>: <span style=\"color: #008000; font-weight: bold\">123</span><span style=\"font-weight: bold\">}</span>\n",
       "</pre>\n"
      ],
      "text/plain": [
       "<rich.jupyter.JupyterRenderable at 0x7f6d10fb1048>"
      ]
     },
     "metadata": {},
     "output_type": "display_data"
    },
    {
     "data": {
      "text/html": [
       "<pre style=\"white-space:pre;overflow-x:auto;line-height:normal;font-family:Menlo,'DejaVu Sans Mono',consolas,'Courier New',monospace\"><span style=\"font-weight: bold\">{</span><span style=\"color: #008000\">'market_info_'</span>: <span style=\"color: #008000; font-weight: bold\">123</span><span style=\"font-weight: bold\">}</span>\n",
       "</pre>\n"
      ],
      "text/plain": [
       "<rich.jupyter.JupyterRenderable at 0x7f6d10fb1320>"
      ]
     },
     "metadata": {},
     "output_type": "display_data"
    },
    {
     "data": {
      "text/html": [
       "<pre style=\"white-space:pre;overflow-x:auto;line-height:normal;font-family:Menlo,'DejaVu Sans Mono',consolas,'Courier New',monospace\"><span style=\"font-weight: bold\">{</span><span style=\"color: #008000\">'market_info_'</span>: <span style=\"color: #008000; font-weight: bold\">123</span><span style=\"font-weight: bold\">}</span>\n",
       "</pre>\n"
      ],
      "text/plain": [
       "<rich.jupyter.JupyterRenderable at 0x7f6d10fb1908>"
      ]
     },
     "metadata": {},
     "output_type": "display_data"
    },
    {
     "data": {
      "text/html": [
       "<pre style=\"white-space:pre;overflow-x:auto;line-height:normal;font-family:Menlo,'DejaVu Sans Mono',consolas,'Courier New',monospace\"><span style=\"font-weight: bold\">{</span><span style=\"color: #008000\">'market_info_'</span>: <span style=\"color: #008000; font-weight: bold\">123</span><span style=\"font-weight: bold\">}</span>\n",
       "</pre>\n"
      ],
      "text/plain": [
       "<rich.jupyter.JupyterRenderable at 0x7f6d10fb15f8>"
      ]
     },
     "metadata": {},
     "output_type": "display_data"
    },
    {
     "data": {
      "text/html": [
       "<pre style=\"white-space:pre;overflow-x:auto;line-height:normal;font-family:Menlo,'DejaVu Sans Mono',consolas,'Courier New',monospace\"><span style=\"font-weight: bold\">{</span><span style=\"color: #008000\">'market_info_'</span>: <span style=\"color: #008000; font-weight: bold\">123</span><span style=\"font-weight: bold\">}</span>\n",
       "</pre>\n"
      ],
      "text/plain": [
       "<rich.jupyter.JupyterRenderable at 0x7f6d10fb1208>"
      ]
     },
     "metadata": {},
     "output_type": "display_data"
    },
    {
     "data": {
      "text/plain": [
       "GridSearchCV(cv=TimeSeriesSplit(gap=0, max_train_size=None, n_splits=5, test_size=None),\n",
       "             estimator=Pipeline(steps=[('middayprice',\n",
       "                                        <__main__.MidDayPrice object at 0x7f6d10f917f0>),\n",
       "                                       ('pipeline',\n",
       "                                        Pipeline(steps=[('middayprice',\n",
       "                                                         <__main__.MidDayPrice object at 0x7f6d10f91d68>),\n",
       "                                                        ('ema', Ema(period=15)),\n",
       "                                                        ('pipeline-1',\n",
       "                                                         Pipeline(steps=[('ema',\n",
       "                                                                          Ema(period=6))])),\n",
       "                                                        ('pipeline-2',\n",
       "                                                         Pipeline(steps=[('ema',\n",
       "                                                                          Ema(period=11)),\n",
       "                                                                         ('testersingle',\n",
       "                                                                          TesterSingle(period=5))]))]))]),\n",
       "             param_grid={'pipeline__pipeline-2__testersingle__period': [5, 10]},\n",
       "             scoring=<function scoring at 0x7f6d13bed2f0>, verbose=True)"
      ]
     },
     "execution_count": 220,
     "metadata": {},
     "output_type": "execute_result"
    }
   ],
   "source": [
    "predictor.fit(data['EURUSD'], pd.Series(0, data['EURUSD'].index), **{f'{elst[0][0]}__market_info_': 123})"
   ]
  },
  {
   "cell_type": "code",
   "execution_count": 233,
   "metadata": {},
   "outputs": [
    {
     "data": {
      "text/plain": [
       "123"
      ]
     },
     "execution_count": 233,
     "metadata": {},
     "output_type": "execute_result"
    }
   ],
   "source": [
    "predictor.best_estimator_.steps[-1][1].steps[-1][1].steps[-1][1].market_info_"
   ]
  },
  {
   "cell_type": "code",
   "execution_count": 251,
   "metadata": {},
   "outputs": [],
   "source": [
    "a = {'a': 1, 'b':2}"
   ]
  },
  {
   "cell_type": "code",
   "execution_count": 253,
   "metadata": {},
   "outputs": [
    {
     "data": {
      "text/plain": [
       "1"
      ]
     },
     "execution_count": 253,
     "metadata": {},
     "output_type": "execute_result"
    }
   ],
   "source": [
    "a.pop('a')"
   ]
  },
  {
   "cell_type": "code",
   "execution_count": 254,
   "metadata": {},
   "outputs": [
    {
     "data": {
      "text/plain": [
       "{'b': 2}"
      ]
     },
     "execution_count": 254,
     "metadata": {},
     "output_type": "execute_result"
    }
   ],
   "source": [
    "a"
   ]
  },
  {
   "cell_type": "code",
   "execution_count": 257,
   "metadata": {},
   "outputs": [],
   "source": [
    "d = data['EURUSD']"
   ]
  },
  {
   "cell_type": "code",
   "execution_count": 258,
   "metadata": {},
   "outputs": [],
   "source": [
    "dp = d.close.shift(1) - d.close"
   ]
  },
  {
   "cell_type": "code",
   "execution_count": 262,
   "metadata": {},
   "outputs": [
    {
     "data": {
      "text/plain": [
       "time\n",
       "2014-01-01 22:00:00    0.000000\n",
       "2014-01-01 22:05:00   -0.000255\n",
       "2014-01-01 22:10:00    0.000320\n",
       "2014-01-01 22:15:00   -0.000080\n",
       "2014-01-01 22:20:00   -0.000790\n",
       "                         ...   \n",
       "2020-11-26 23:35:00    0.000045\n",
       "2020-11-26 23:40:00   -0.000035\n",
       "2020-11-26 23:45:00   -0.000050\n",
       "2020-11-26 23:50:00   -0.000150\n",
       "2020-11-26 23:55:00    0.000090\n",
       "Name: close, Length: 515219, dtype: float64"
      ]
     },
     "execution_count": 262,
     "metadata": {},
     "output_type": "execute_result"
    }
   ],
   "source": [
    "dp.where(abs(dp) >= 0, 0)"
   ]
  },
  {
   "cell_type": "code",
   "execution_count": 269,
   "metadata": {},
   "outputs": [
    {
     "data": {
      "text/plain": [
       "array([ 50, 100, 150, 200, 250, 300, 350, 400, 450, 500])"
      ]
     },
     "execution_count": 269,
     "metadata": {},
     "output_type": "execute_result"
    }
   ],
   "source": [
    "50*np.arange(1,11)"
   ]
  },
  {
   "cell_type": "code",
   "execution_count": null,
   "metadata": {},
   "outputs": [],
   "source": []
  },
  {
   "cell_type": "code",
   "execution_count": null,
   "metadata": {},
   "outputs": [],
   "source": []
  }
 ],
 "metadata": {
  "kernelspec": {
   "display_name": "Python 3",
   "language": "python",
   "name": "python3"
  },
  "language_info": {
   "codemirror_mode": {
    "name": "ipython",
    "version": 3
   },
   "file_extension": ".py",
   "mimetype": "text/x-python",
   "name": "python",
   "nbconvert_exporter": "python",
   "pygments_lexer": "ipython3",
   "version": "3.6.9"
  }
 },
 "nbformat": 4,
 "nbformat_minor": 4
}
