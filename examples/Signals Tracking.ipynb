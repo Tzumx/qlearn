{
 "cells": [
  {
   "cell_type": "code",
   "execution_count": null,
   "metadata": {},
   "outputs": [],
   "source": [
    "import ira\n",
    "from sklearn.model_selection import TimeSeriesSplit, StratifiedKFold, GridSearchCV, GroupKFold\n",
    "from sklearn.base import TransformerMixin\n",
    "from sklearn.pipeline import make_pipeline\n",
    "\n",
    "%alphalab dark\n",
    "\n",
    "from alpha.utils.data_helpers import FriendlyFxLoader, make_forward_returns_matrix\n",
    "\n",
    "from qlearn.core.pickers import *\n",
    "from qlearn.core.forward_returns import ForwardReturns, ForwardReturnsDirection, ForwardReturns3Classes\n",
    "from qlearn.core.base import BasicMarketEstimator, MarketDataComposer\n",
    "from qlearn.core.utils import crossup, crossdown, permutate_params"
   ]
  },
  {
   "cell_type": "code",
   "execution_count": 2,
   "metadata": {},
   "outputs": [],
   "source": [
    "fxl = FriendlyFxLoader('dukas @ 5Min')\n",
    "data = fxl.ohlcs(['EURUSD', 'GBPUSD', 'USDCHF'])"
   ]
  },
  {
   "cell_type": "code",
   "execution_count": null,
   "metadata": {},
   "outputs": [],
   "source": [
    "with DataSource('kdb::dukas') as ds:\n",
    "    print(ds.series_list())"
   ]
  },
  {
   "cell_type": "code",
   "execution_count": 7,
   "metadata": {},
   "outputs": [],
   "source": [
    "def preprocess_save(symbol, new_name, start, end):\n",
    "    with DataSource('kdb::dukas') as ds:\n",
    "        data = ds.load_data(['SPYUSUSD'], '2017-02-16', '2021-05-17', timeframe='1m')\n",
    "        "
   ]
  },
  {
   "cell_type": "code",
   "execution_count": null,
   "metadata": {},
   "outputs": [],
   "source": [
    "def preprocess_save(symbol, new_name, start, end):"
   ]
  },
  {
   "cell_type": "code",
   "execution_count": 46,
   "metadata": {},
   "outputs": [],
   "source": [
    "d = data['SPYUSUSD']"
   ]
  },
  {
   "cell_type": "code",
   "execution_count": 81,
   "metadata": {},
   "outputs": [
    {
     "data": {
      "text/html": [
       "<div>\n",
       "<style scoped>\n",
       "    .dataframe tbody tr th:only-of-type {\n",
       "        vertical-align: middle;\n",
       "    }\n",
       "\n",
       "    .dataframe tbody tr th {\n",
       "        vertical-align: top;\n",
       "    }\n",
       "\n",
       "    .dataframe thead th {\n",
       "        text-align: right;\n",
       "    }\n",
       "</style>\n",
       "<table border=\"1\" class=\"dataframe\">\n",
       "  <thead>\n",
       "    <tr style=\"text-align: right;\">\n",
       "      <th></th>\n",
       "      <th>open</th>\n",
       "      <th>high</th>\n",
       "      <th>low</th>\n",
       "      <th>close</th>\n",
       "      <th>volume</th>\n",
       "    </tr>\n",
       "    <tr>\n",
       "      <th>time</th>\n",
       "      <th></th>\n",
       "      <th></th>\n",
       "      <th></th>\n",
       "      <th></th>\n",
       "      <th></th>\n",
       "    </tr>\n",
       "  </thead>\n",
       "  <tbody>\n",
       "    <tr>\n",
       "      <th>2021-04-21</th>\n",
       "      <td>411.52</td>\n",
       "      <td>416.265</td>\n",
       "      <td>411.34</td>\n",
       "      <td>416.12</td>\n",
       "      <td>58328</td>\n",
       "    </tr>\n",
       "  </tbody>\n",
       "</table>\n",
       "</div>"
      ],
      "text/plain": [
       "              open     high     low   close  volume\n",
       "time                                               \n",
       "2021-04-21  411.52  416.265  411.34  416.12   58328"
      ]
     },
     "execution_count": 81,
     "metadata": {},
     "output_type": "execute_result"
    }
   ],
   "source": [
    "ohlc_resample(d.tz_localize('UTC')['2021-04-21'].tz_convert('America/New_York').tz_localize(None), '1d')"
   ]
  },
  {
   "cell_type": "code",
   "execution_count": null,
   "metadata": {},
   "outputs": [],
   "source": [
    "ohlc_resample(d.tz_localize('UTC')['2021-04-21'], '1d', resample_tz='America/New_York')"
   ]
  },
  {
   "cell_type": "code",
   "execution_count": 52,
   "metadata": {},
   "outputs": [
    {
     "data": {
      "text/html": [
       "<div>\n",
       "<style scoped>\n",
       "    .dataframe tbody tr th:only-of-type {\n",
       "        vertical-align: middle;\n",
       "    }\n",
       "\n",
       "    .dataframe tbody tr th {\n",
       "        vertical-align: top;\n",
       "    }\n",
       "\n",
       "    .dataframe thead th {\n",
       "        text-align: right;\n",
       "    }\n",
       "</style>\n",
       "<table border=\"1\" class=\"dataframe\">\n",
       "  <thead>\n",
       "    <tr style=\"text-align: right;\">\n",
       "      <th></th>\n",
       "      <th>open</th>\n",
       "      <th>high</th>\n",
       "      <th>low</th>\n",
       "      <th>close</th>\n",
       "      <th>volume</th>\n",
       "    </tr>\n",
       "    <tr>\n",
       "      <th>time</th>\n",
       "      <th></th>\n",
       "      <th></th>\n",
       "      <th></th>\n",
       "      <th></th>\n",
       "      <th></th>\n",
       "    </tr>\n",
       "  </thead>\n",
       "  <tbody>\n",
       "    <tr>\n",
       "      <th>2021-04-21 00:00:00+00:00</th>\n",
       "      <td>411.52</td>\n",
       "      <td>416.265</td>\n",
       "      <td>411.34</td>\n",
       "      <td>416.12</td>\n",
       "      <td>58328</td>\n",
       "    </tr>\n",
       "  </tbody>\n",
       "</table>\n",
       "</div>"
      ],
      "text/plain": [
       "                             open     high     low   close  volume\n",
       "time                                                              \n",
       "2021-04-21 00:00:00+00:00  411.52  416.265  411.34  416.12   58328"
      ]
     },
     "execution_count": 52,
     "metadata": {},
     "output_type": "execute_result"
    }
   ],
   "source": [
    "ohlc_resample(d.tz_localize('EET')['2021-04-21'].tz_convert('UTC'), '1d')"
   ]
  },
  {
   "cell_type": "code",
   "execution_count": 48,
   "metadata": {},
   "outputs": [
    {
     "data": {
      "text/html": [
       "<div>\n",
       "<style scoped>\n",
       "    .dataframe tbody tr th:only-of-type {\n",
       "        vertical-align: middle;\n",
       "    }\n",
       "\n",
       "    .dataframe tbody tr th {\n",
       "        vertical-align: top;\n",
       "    }\n",
       "\n",
       "    .dataframe thead th {\n",
       "        text-align: right;\n",
       "    }\n",
       "</style>\n",
       "<table border=\"1\" class=\"dataframe\">\n",
       "  <thead>\n",
       "    <tr style=\"text-align: right;\">\n",
       "      <th></th>\n",
       "      <th>open</th>\n",
       "      <th>high</th>\n",
       "      <th>low</th>\n",
       "      <th>close</th>\n",
       "      <th>volume</th>\n",
       "    </tr>\n",
       "    <tr>\n",
       "      <th>time</th>\n",
       "      <th></th>\n",
       "      <th></th>\n",
       "      <th></th>\n",
       "      <th></th>\n",
       "      <th></th>\n",
       "    </tr>\n",
       "  </thead>\n",
       "  <tbody>\n",
       "    <tr>\n",
       "      <th>2021-04-20 21:00:00</th>\n",
       "      <td>411.520</td>\n",
       "      <td>416.265</td>\n",
       "      <td>411.340</td>\n",
       "      <td>416.120</td>\n",
       "      <td>58328</td>\n",
       "    </tr>\n",
       "    <tr>\n",
       "      <th>2021-04-21 21:00:00</th>\n",
       "      <td>415.885</td>\n",
       "      <td>416.775</td>\n",
       "      <td>411.135</td>\n",
       "      <td>412.295</td>\n",
       "      <td>103412</td>\n",
       "    </tr>\n",
       "  </tbody>\n",
       "</table>\n",
       "</div>"
      ],
      "text/plain": [
       "                        open     high      low    close  volume\n",
       "time                                                           \n",
       "2021-04-20 21:00:00  411.520  416.265  411.340  416.120   58328\n",
       "2021-04-21 21:00:00  415.885  416.775  411.135  412.295  103412"
      ]
     },
     "execution_count": 48,
     "metadata": {},
     "output_type": "execute_result"
    }
   ],
   "source": [
    "ohlc_resample(d, '1d', resample_tz='')['2021-04-20':'2021-04-21']"
   ]
  },
  {
   "cell_type": "code",
   "execution_count": 187,
   "metadata": {},
   "outputs": [],
   "source": [
    "class CrossingMovings(BasicMarketEstimator):\n",
    "    def __init__(self, fperiod, speriod, ma='sma'):\n",
    "        self.fperiod = fperiod\n",
    "        self.speriod = speriod\n",
    "        self.ma = ma\n",
    "\n",
    "    def fit(self, X, y, **fit_params):\n",
    "        return self\n",
    "\n",
    "    def predict(self, X):\n",
    "        meta = self.metadata()\n",
    "        f = smooth(X[meta.column], self.ma, self.fperiod)\n",
    "        s = smooth(X[meta.column], self.ma, self.speriod)\n",
    "        sigs = pd.Series(0, X.index)\n",
    "        sigs.loc[crossup(f, s)] = +1\n",
    "        sigs.loc[crossdown(f, s)] = -1\n",
    "        return sigs.astype(int)"
   ]
  },
  {
   "cell_type": "code",
   "execution_count": 188,
   "metadata": {},
   "outputs": [],
   "source": [
    "x1 = CrossingMovings(5, 25)\n",
    "s1 = x1.predict(data['GBPUSD'])"
   ]
  },
  {
   "cell_type": "code",
   "execution_count": 22,
   "metadata": {},
   "outputs": [],
   "source": [
    "g1 = GridSearchCV(\n",
    "    cv=TimeSeriesSplit(3),\n",
    "    estimator = x1.as_classifier(),\n",
    "    param_grid=permutate_params({ \n",
    "        'fperiod': np.arange(7, 50).tolist(), \n",
    "        'speriod': np.arange(7, 50).tolist(), \n",
    "    }, conditions=lambda fperiod, speriod: fperiod < speriod),\n",
    ")\n",
    "\n",
    "mds = MarketDataComposer(g1, \n",
    "                         SingleInstrumentPicker(tz='EET'), \n",
    "                         ForwardReturns3Classes(horizon=1, tick_size=1e-5, tick_tolerance=25), \n",
    "                         'close', '5Min', debug=False\n",
    "                        )"
   ]
  },
  {
   "cell_type": "code",
   "execution_count": 189,
   "metadata": {},
   "outputs": [],
   "source": [
    "b1 = mds.fit(data, None)"
   ]
  },
  {
   "cell_type": "code",
   "execution_count": 192,
   "metadata": {},
   "outputs": [
    {
     "data": {
      "text/plain": [
       "{'EURUSD': {'fperiod': 18, 'speriod': 49},\n",
       " 'GBPUSD': {'fperiod': 17, 'speriod': 49},\n",
       " 'USDCHF': {'fperiod': 19, 'speriod': 49}}"
      ]
     },
     "execution_count": 192,
     "metadata": {},
     "output_type": "execute_result"
    }
   ],
   "source": [
    "b1.best_params_"
   ]
  },
  {
   "cell_type": "code",
   "execution_count": 193,
   "metadata": {},
   "outputs": [
    {
     "data": {
      "text/plain": [
       "{'EURUSD': 0.707151951802739,\n",
       " 'GBPUSD': 0.5918037751085091,\n",
       " 'USDCHF': 0.748780380495405}"
      ]
     },
     "execution_count": 193,
     "metadata": {},
     "output_type": "execute_result"
    }
   ],
   "source": [
    "b1.best_score_"
   ]
  },
  {
   "cell_type": "code",
   "execution_count": 217,
   "metadata": {},
   "outputs": [],
   "source": [
    "signals = b1.predict(data).replace({0: np.nan}).EURUSD.dropna()\n",
    "# signals = b1.predict(data).EURUSD"
   ]
  },
  {
   "cell_type": "markdown",
   "metadata": {},
   "source": [
    "<hr/>"
   ]
  },
  {
   "cell_type": "code",
   "execution_count": 275,
   "metadata": {},
   "outputs": [],
   "source": [
    "class FixedTracker(Tracker):\n",
    "    def __init__(self, size):\n",
    "        self.size = size\n",
    "        \n",
    "    def track(self, instrument, time, signal, quote, position, equity):\n",
    "        return self.size * signal"
   ]
  },
  {
   "cell_type": "code",
   "execution_count": null,
   "metadata": {},
   "outputs": [],
   "source": [
    "backtest(b1, data, FixedTracker(size=10000))"
   ]
  },
  {
   "cell_type": "code",
   "execution_count": 256,
   "metadata": {},
   "outputs": [],
   "source": [
    "%run ../tracking/processors.py\n",
    "\n",
    "# class BasicTracker(Tracker):\n",
    "\n",
    "#     def track(self, instrument, signals, prices, execution_price_name='close'):\n",
    "#         print(f'--(N signals : {len(signals)})----------------------------------------')\n",
    "#         processor = GeneralSignalProcessor(instrument, prices, execution_price_name, True)\n",
    "#         positions = processor.process(self, signals)\n",
    "#         # TODO: .....\n",
    "#         print(positions.head())\n",
    "#         print('------------------------------------------')\n",
    "\n",
    "\n",
    "# class SimpleSignalTracker(BasicTracker):\n",
    "\n",
    "#     def __init__(self, fixed_size=1):\n",
    "#         self.fixed_size = fixed_size\n",
    "\n",
    "#     def track_signal(self, service: TradingService, signal_time, signal, signal_price, times, data):\n",
    "# #         print(type(signal_time), type(signal), type(times))\n",
    "# #         raise ValueError('!!!!!!!')\n",
    "#         service.trade(signal_time, self.fixed_size * signal)\n",
    "#         return signal_time"
   ]
  },
  {
   "cell_type": "code",
   "execution_count": 257,
   "metadata": {},
   "outputs": [
    {
     "name": "stdout",
     "output_type": "stream",
     "text": [
      "--(N signals : 13655)----------------------------------------\n",
      "                      EURUSD\n",
      "2014-01-02 02:59:59  10000.0\n",
      "2014-01-02 04:39:59 -10000.0\n",
      "2014-01-02 16:34:59  10000.0\n",
      "2014-01-02 19:54:59 -10000.0\n",
      "2014-01-02 22:04:59  10000.0\n",
      "------------------------------------------\n",
      "CPU times: user 5.26 s, sys: 0 ns, total: 5.26 s\n",
      "Wall time: 5.25 s\n"
     ]
    }
   ],
   "source": [
    "%%time\n",
    "t0 = SimpleSignalTracker(10000)\n",
    "t0.track('EURUSD', signals, data['EURUSD'])"
   ]
  },
  {
   "cell_type": "code",
   "execution_count": 233,
   "metadata": {},
   "outputs": [],
   "source": [
    "idx1 = data['EURUSD'].index\n",
    "idx2 = data['EURUSD'].index.to_numpy()"
   ]
  },
  {
   "cell_type": "code",
   "execution_count": 236,
   "metadata": {},
   "outputs": [
    {
     "data": {
      "text/plain": [
       "3740"
      ]
     },
     "execution_count": 236,
     "metadata": {},
     "output_type": "execute_result"
    }
   ],
   "source": [
    "idx1.get_loc(signals.index[101])"
   ]
  },
  {
   "cell_type": "code",
   "execution_count": 271,
   "metadata": {},
   "outputs": [
    {
     "name": "stdout",
     "output_type": "stream",
     "text": [
      "CPU times: user 6.7 s, sys: 0 ns, total: 6.7 s\n",
      "Wall time: 6.7 s\n"
     ]
    }
   ],
   "source": [
    "%%time\n",
    "s2 = []\n",
    "for t in signals.index:\n",
    "    s2.append(np.argwhere(idx2==t)[0][0])"
   ]
  },
  {
   "cell_type": "code",
   "execution_count": 267,
   "metadata": {},
   "outputs": [
    {
     "name": "stdout",
     "output_type": "stream",
     "text": [
      "CPU times: user 103 ms, sys: 18 µs, total: 103 ms\n",
      "Wall time: 102 ms\n"
     ]
    }
   ],
   "source": [
    "%%time\n",
    "s1 = []\n",
    "for t in signals.index:\n",
    "    s1.append(idx1.get_loc(t))"
   ]
  },
  {
   "cell_type": "code",
   "execution_count": 272,
   "metadata": {},
   "outputs": [
    {
     "data": {
      "text/plain": [
       "True"
      ]
     },
     "execution_count": 272,
     "metadata": {},
     "output_type": "execute_result"
    }
   ],
   "source": [
    "s1 == s2"
   ]
  },
  {
   "cell_type": "code",
   "execution_count": 270,
   "metadata": {},
   "outputs": [
    {
     "data": {
      "text/plain": [
       "3740"
      ]
     },
     "execution_count": 270,
     "metadata": {},
     "output_type": "execute_result"
    }
   ],
   "source": [
    "np.argwhere(idx2==signals.index.to_numpy()[101])[0][0]"
   ]
  },
  {
   "cell_type": "code",
   "execution_count": null,
   "metadata": {},
   "outputs": [],
   "source": []
  },
  {
   "cell_type": "code",
   "execution_count": null,
   "metadata": {},
   "outputs": [],
   "source": []
  },
  {
   "cell_type": "code",
   "execution_count": null,
   "metadata": {},
   "outputs": [],
   "source": [
    "b1.fitted_predictors_['EURUSD'].meta()"
   ]
  },
  {
   "cell_type": "code",
   "execution_count": null,
   "metadata": {},
   "outputs": [],
   "source": []
  },
  {
   "cell_type": "code",
   "execution_count": null,
   "metadata": {},
   "outputs": [],
   "source": []
  },
  {
   "cell_type": "code",
   "execution_count": null,
   "metadata": {},
   "outputs": [],
   "source": []
  }
 ],
 "metadata": {
  "kernelspec": {
   "display_name": "Python 3",
   "language": "python",
   "name": "python3"
  },
  "language_info": {
   "codemirror_mode": {
    "name": "ipython",
    "version": 3
   },
   "file_extension": ".py",
   "mimetype": "text/x-python",
   "name": "python",
   "nbconvert_exporter": "python",
   "pygments_lexer": "ipython3",
   "version": "3.6.5"
  }
 },
 "nbformat": 4,
 "nbformat_minor": 4
}
