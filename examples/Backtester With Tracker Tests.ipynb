{
 "cells": [
  {
   "cell_type": "code",
   "execution_count": 1,
   "metadata": {},
   "outputs": [
    {
     "name": "stdout",
     "output_type": "stream",
     "text": [
      "Reloaded ../../external/ira/experimental/c_simulator_core.pyx\n"
     ]
    },
    {
     "data": {
      "text/html": [
       "<pre style=\"white-space:pre;overflow-x:auto;line-height:normal;font-family:Menlo,'DejaVu Sans Mono',consolas,'Courier New',monospace\"><span style=\"font-weight: bold\">(</span>c<span style=\"font-weight: bold\">)</span> <span style=\"color: #008000; font-weight: bold\">2017</span>, AppliedAlpha Infrastructure for Quantitative Research and Analysis, ver. undefined\n",
       "</pre>\n"
      ],
      "text/plain": [
       "<rich.jupyter.JupyterRenderable at 0x7f74ac5f9240>"
      ]
     },
     "metadata": {},
     "output_type": "display_data"
    }
   ],
   "source": [
    "import sys; sys.path.insert(0, '../../external/')\n",
    "\n",
    "import ira\n",
    "%alphalab\n",
    "\n",
    "from alpha.utils.data_helpers import FriendlyFxLoader"
   ]
  },
  {
   "cell_type": "code",
   "execution_count": 2,
   "metadata": {},
   "outputs": [],
   "source": [
    "from ira.simulator.SignalTester import Tracker\n",
    "from ira.series.Indicators import ATR\n",
    "\n",
    "from qlearn.tracking.trackers import TakeStopTracker, PipelineTracker, TimeExpirationTracker, DispatchTracker"
   ]
  },
  {
   "cell_type": "code",
   "execution_count": 3,
   "metadata": {},
   "outputs": [],
   "source": [
    "fxl = FriendlyFxLoader('dukas @ 5Min')\n",
    "data = fxl.ohlc('EURUSD')['2020':]\n",
    "\n",
    "s = srows(\n",
    "    pd.Series(-1, data[data.close > data.close.shift(6)].index),\n",
    "    pd.Series(1, data[data.close < data.close.shift(6)].index)).sort_index().rename('EURUSD')"
   ]
  },
  {
   "cell_type": "code",
   "execution_count": 34,
   "metadata": {},
   "outputs": [],
   "source": [
    "fi = [data.index.get_loc(i, method='pad') for i in data.index + pd.Timedelta('5H')]"
   ]
  },
  {
   "cell_type": "code",
   "execution_count": 74,
   "metadata": {},
   "outputs": [],
   "source": [
    "prices = srows(data.open, data.close.shift(1, freq=pd.Timedelta('4Min59S')))"
   ]
  },
  {
   "cell_type": "code",
   "execution_count": null,
   "metadata": {},
   "outputs": [],
   "source": [
    "x = prices[:10]\n",
    "x"
   ]
  },
  {
   "cell_type": "code",
   "execution_count": null,
   "metadata": {},
   "outputs": [],
   "source": [
    "\n",
    "scols(x.reset_index(drop=True), x.asof(x.index + pd.Timedelta('15Min')).reset_index(drop=True))"
   ]
  },
  {
   "cell_type": "code",
   "execution_count": null,
   "metadata": {},
   "outputs": [],
   "source": [
    "xf = (x.reset_index(drop=True) - x.asof(x.index + pd.Timedelta('15Min')).reset_index(drop=True))\n",
    "xf.index = x.index\n",
    "xf"
   ]
  },
  {
   "cell_type": "code",
   "execution_count": null,
   "metadata": {},
   "outputs": [],
   "source": []
  },
  {
   "cell_type": "code",
   "execution_count": 4,
   "metadata": {},
   "outputs": [],
   "source": [
    "class VolatilityTracker(TakeStopTracker):\n",
    "    def __init__(self, stop_factor=1, take_factor=2, debug=False):\n",
    "        super().__init__(debug)\n",
    "        self.stp_f = stop_factor\n",
    "        self.tp_f = take_factor\n",
    "        \n",
    "    def initialize(self):\n",
    "        self.h = self.get_ohlc_series('5Min')\n",
    "        self.vol = ATR(24)\n",
    "        self.h.attach(self.vol)\n",
    "\n",
    "    def on_signal(self, signal_time, signal_qty, quote_time, bid, ask, bid_size, ask_size):\n",
    "        v = self.vol[0]\n",
    "        v = 0.0001 if np.isnan(v) else v\n",
    "        signal_qty = int(signal_qty * 1000)\n",
    "\n",
    "        if signal_qty != 0: #and np.sign(self._position.quantity)  np.sign(signal_qty) :\n",
    "            stop_dp, take_dp = v * self.stp_f, v * self.tp_f\n",
    "            self.stop_at(signal_time, self.h[0].low - stop_dp if signal_qty > 0 else self.h[0].high + stop_dp)\n",
    "            self.take_at(signal_time, self.h[0].high + take_dp if signal_qty > 0 else self.h[0].low - take_dp)\n",
    "            entry = ask if signal_qty > 0 else bid\n",
    "            self.debug(f'\\t[{quote_time} | {signal_time}] -> {self._position.quantity} / {self._instrument} {signal_qty} @ {entry:.5f} x {self.stop:.5f} + {self.take:.5f}')\n",
    "        return signal_qty"
   ]
  },
  {
   "cell_type": "code",
   "execution_count": 5,
   "metadata": {},
   "outputs": [
    {
     "data": {
      "application/vnd.jupyter.widget-view+json": {
       "model_id": "40d6feb7ff3047009f2c3349d1afb4ef",
       "version_major": 2,
       "version_minor": 0
      },
      "text/plain": [
       "HBox(children=(HTML(value='[Backtest]'), FloatProgress(value=0.0), HTML(value='')))"
      ]
     },
     "metadata": {},
     "output_type": "display_data"
    },
    {
     "name": "stderr",
     "output_type": "stream",
     "text": [
      "2021-01-27 16:04:45,171 - ira.simulator.SignalTester - WARNING - Can't find prices for signals at time [2020-11-26 23:59:00.001000]\n"
     ]
    }
   ],
   "source": [
    "t1 = VolatilityTracker(stop_factor=5, take_factor=2, debug=False)\n",
    "p = z_backtest(shift_signals(s, '4Min59S'), {'EURUSD': data}, 'forex', \n",
    "               spread=fxl.spread('EURUSD'), execution_logger=True, trackers=t1)"
   ]
  },
  {
   "cell_type": "code",
   "execution_count": 78,
   "metadata": {},
   "outputs": [
    {
     "data": {
      "text/html": [
       "\n",
       "\n",
       "\n",
       "\n",
       "\n",
       "<style>\n",
       ".report_table td, .report_table th {\n",
       "    text-align:left !important;\n",
       "}\n",
       "\n",
       ".flex-container {\n",
       "   display: flex;\n",
       "  align-items: flex-start;\n",
       "    }\n",
       "\n",
       "  .table_block {\n",
       "  width:30%;\n",
       "  }\n",
       "\n",
       "</style>\n",
       "\n",
       "\n",
       "\n",
       "<div class=\"flex-container\"><div class=\"\">\n",
       "<img src='data:image/png;base64,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'>\n",
       "</div>\n",
       "<div class=\"table_block\">\n",
       "<table class=\"report_table\" width=100%>\n",
       "<tr>\n",
       "<th>\n",
       "Statistic\n",
       "</th>\n",
       "<th>\n",
       "Model\n",
       "</th>\n",
       "</tr>\n",
       "<tr><td>Gain (USD):</td><td>-13.21</td></tr>\n",
       "<tr><td>CAGR (%):</td><td>-21.293</td></tr>\n",
       "<tr><td>Sharpe:</td><td>-5.232</td></tr>\n",
       "<tr><td>Sortino:</td><td>-5.137</td></tr>\n",
       "<tr><td>Calmar: </td><td>-81.084</td></tr>\n",
       "<tr><td>MaxDD (%):</td><td>3.142</td></tr>\n",
       "<tr><td>MaxDD On Init BP (%):</td><td>3.180</td></tr>\n",
       "<tr><td>MaxDD (USD):</td><td>31.798</td></tr>\n",
       "<tr><td>MaxDD days:</td><td>13 days</td></tr>\n",
       "<tr><td>MaxDD start:</td><td>2020-08-17</td></tr>\n",
       "<tr><td>MaxDD peak:</td><td>2020-08-21</td></tr>\n",
       "<tr><td>MaxDD recover:</td><td>2020-08-30</td></tr>\n",
       "<tr><td>Tail Ratio:</td><td>0.000</td></tr>\n",
       "<tr><td>Stability: </td><td>0.615</td></tr>\n",
       "<tr><td>Alpha:</td><td></td></tr>\n",
       "<tr><td>Beta:</td><td></td></tr>\n",
       "<tr><td>Ann.Volatility (%):</td><td>4.56</td></tr>\n",
       "<tr><td>VAR_95 (USD):</td><td>5.49</td></tr>\n",
       "<tr><td>Mean return (%)</td><td>-0.095</td></tr>\n",
       "<tr><td>Broker's Commissions:</td><td></td></tr>\n",
       "</table>\n",
       "</div>\n",
       "</div></div>\n"
      ],
      "text/plain": [
       "<IPython.core.display.HTML object>"
      ]
     },
     "metadata": {},
     "output_type": "display_data"
    },
    {
     "data": {
      "text/plain": [
       "<Figure size 648x576 with 0 Axes>"
      ]
     },
     "metadata": {},
     "output_type": "display_data"
    }
   ],
   "source": [
    "tearsheet(p, 1000)"
   ]
  },
  {
   "cell_type": "code",
   "execution_count": 7,
   "metadata": {},
   "outputs": [
    {
     "data": {
      "text/plain": [
       "Timedelta('0 days 00:00:28.917137')"
      ]
     },
     "execution_count": 7,
     "metadata": {},
     "output_type": "execute_result"
    }
   ],
   "source": [
    "p.simulation_time"
   ]
  },
  {
   "cell_type": "code",
   "execution_count": 8,
   "metadata": {},
   "outputs": [
    {
     "data": {
      "text/html": [
       "<pre style=\"white-space:pre;overflow-x:auto;line-height:normal;font-family:Menlo,'DejaVu Sans Mono',consolas,'Courier New',monospace\"><span style=\"font-weight: bold\">{</span>\n",
       "    <span style=\"color: #008000\">'EURUSD'</span>: <span style=\"font-weight: bold\">{</span>\n",
       "        <span style=\"color: #008000\">'takes'</span>: <span style=\"color: #008000; font-weight: bold\">228</span>,\n",
       "        <span style=\"color: #008000\">'stops'</span>: <span style=\"color: #008000; font-weight: bold\">23</span>,\n",
       "        <span style=\"color: #008000\">'average_time_to_take'</span>: Timedelta<span style=\"font-weight: bold\">(</span><span style=\"color: #008000\">'0 days 03:38:15.473684210'</span><span style=\"font-weight: bold\">)</span>,\n",
       "        <span style=\"color: #008000\">'average_time_to_stop'</span>: Timedelta<span style=\"font-weight: bold\">(</span><span style=\"color: #008000\">'0 days 02:11:40.130434782'</span><span style=\"font-weight: bold\">)</span>\n",
       "    <span style=\"font-weight: bold\">}</span>\n",
       "<span style=\"font-weight: bold\">}</span>\n",
       "</pre>\n"
      ],
      "text/plain": [
       "<rich.jupyter.JupyterRenderable at 0x7f74a9c88c50>"
      ]
     },
     "metadata": {},
     "output_type": "display_data"
    }
   ],
   "source": [
    "print(p.trackers_stat)"
   ]
  },
  {
   "cell_type": "markdown",
   "metadata": {},
   "source": [
    "# Test trackers\n",
    "<hr/>"
   ]
  },
  {
   "cell_type": "markdown",
   "metadata": {},
   "source": [
    "Trackers pipeline test"
   ]
  },
  {
   "cell_type": "code",
   "execution_count": 9,
   "metadata": {},
   "outputs": [],
   "source": [
    "class MyFixedPositionTracker(Tracker):\n",
    "    def __init__(self, size):\n",
    "        self.size = size\n",
    "        \n",
    "    def on_signal(self, signal_time, signal_qty, quote_time, bid, ask, bid_size, ask_size):\n",
    "        return signal_qty * self.size"
   ]
  },
  {
   "cell_type": "code",
   "execution_count": 10,
   "metadata": {},
   "outputs": [
    {
     "data": {
      "application/vnd.jupyter.widget-view+json": {
       "model_id": "27bec9dff80946488f3f92b6e023dad3",
       "version_major": 2,
       "version_minor": 0
      },
      "text/plain": [
       "HBox(children=(HTML(value='[Backtest]'), FloatProgress(value=0.0), HTML(value='')))"
      ]
     },
     "metadata": {},
     "output_type": "display_data"
    },
    {
     "name": "stdout",
     "output_type": "stream",
     "text": [
      " > EURUSD position 10000 is expired at 2020-08-17 05:20:00\n",
      " > EURUSD position -10000 is expired at 2020-08-21 15:20:00\n"
     ]
    }
   ],
   "source": [
    "s = pd.DataFrame.from_dict({\n",
    "    pd.Timestamp('2020-08-17 04:19:59'): {'EURUSD': +1},\n",
    "    pd.Timestamp('2020-08-21 14:19:59'): {'EURUSD': -1},\n",
    "    pd.Timestamp('2020-08-30 14:19:59'): {'EURUSD':  0},\n",
    "}, orient='index')\n",
    "\n",
    "p = z_backtest(s, {'EURUSD':data}, 'forex', spread=fxl.spread('EURUSD'), execution_logger=True, \n",
    "               trackers=PipelineTracker(\n",
    "                   TimeExpirationTracker('1h', True),\n",
    "                   MyFixedPositionTracker(10000))\n",
    "              )"
   ]
  },
  {
   "cell_type": "code",
   "execution_count": 11,
   "metadata": {},
   "outputs": [
    {
     "data": {
      "text/html": [
       "<div>\n",
       "<style scoped>\n",
       "    .dataframe tbody tr th:only-of-type {\n",
       "        vertical-align: middle;\n",
       "    }\n",
       "\n",
       "    .dataframe tbody tr th {\n",
       "        vertical-align: top;\n",
       "    }\n",
       "\n",
       "    .dataframe thead th {\n",
       "        text-align: right;\n",
       "    }\n",
       "</style>\n",
       "<table border=\"1\" class=\"dataframe\">\n",
       "  <thead>\n",
       "    <tr style=\"text-align: right;\">\n",
       "      <th></th>\n",
       "      <th>instrument</th>\n",
       "      <th>quantity</th>\n",
       "      <th>exec_price</th>\n",
       "      <th>comment</th>\n",
       "    </tr>\n",
       "  </thead>\n",
       "  <tbody>\n",
       "    <tr>\n",
       "      <th>2020-08-17 04:19:59</th>\n",
       "      <td>EURUSD</td>\n",
       "      <td>10000</td>\n",
       "      <td>1.185496</td>\n",
       "      <td></td>\n",
       "    </tr>\n",
       "    <tr>\n",
       "      <th>2020-08-17 05:20:00</th>\n",
       "      <td>EURUSD</td>\n",
       "      <td>-10000</td>\n",
       "      <td>1.185614</td>\n",
       "      <td>TimeExpirationTracker:: position 10000 is expired</td>\n",
       "    </tr>\n",
       "    <tr>\n",
       "      <th>2020-08-21 14:19:59</th>\n",
       "      <td>EURUSD</td>\n",
       "      <td>-10000</td>\n",
       "      <td>1.177144</td>\n",
       "      <td></td>\n",
       "    </tr>\n",
       "    <tr>\n",
       "      <th>2020-08-21 15:20:00</th>\n",
       "      <td>EURUSD</td>\n",
       "      <td>10000</td>\n",
       "      <td>1.177786</td>\n",
       "      <td>TimeExpirationTracker:: position -10000 is exp...</td>\n",
       "    </tr>\n",
       "  </tbody>\n",
       "</table>\n",
       "</div>"
      ],
      "text/plain": [
       "                    instrument  quantity  exec_price  \\\n",
       "2020-08-17 04:19:59     EURUSD     10000    1.185496   \n",
       "2020-08-17 05:20:00     EURUSD    -10000    1.185614   \n",
       "2020-08-21 14:19:59     EURUSD    -10000    1.177144   \n",
       "2020-08-21 15:20:00     EURUSD     10000    1.177786   \n",
       "\n",
       "                                                               comment  \n",
       "2020-08-17 04:19:59                                                     \n",
       "2020-08-17 05:20:00  TimeExpirationTracker:: position 10000 is expired  \n",
       "2020-08-21 14:19:59                                                     \n",
       "2020-08-21 15:20:00  TimeExpirationTracker:: position -10000 is exp...  "
      ]
     },
     "execution_count": 11,
     "metadata": {},
     "output_type": "execute_result"
    }
   ],
   "source": [
    "p.executions"
   ]
  },
  {
   "cell_type": "markdown",
   "metadata": {},
   "source": [
    "Trackers dispatching test"
   ]
  },
  {
   "cell_type": "code",
   "execution_count": 12,
   "metadata": {},
   "outputs": [],
   "source": [
    "class TrendFixedPositionTracker(TakeStopTracker):\n",
    "    \n",
    "    def __init__(self, size, tick_size):\n",
    "        super().__init__(True)\n",
    "        self.size = size\n",
    "        self.tick_size = tick_size\n",
    "        \n",
    "    def on_signal(self, signal_time, signal_qty, quote_time, bid, ask, bid_size, ask_size):\n",
    "        if signal_qty > 0:\n",
    "            self.stop_at(signal_time, (bid+ask) / 2 - 50 * self.tick_size)\n",
    "        elif signal_qty < 0:\n",
    "            self.stop_at(signal_time, (bid+ask) / 2 + 50 * self.tick_size)\n",
    "            \n",
    "        return signal_qty * self.size"
   ]
  },
  {
   "cell_type": "code",
   "execution_count": 24,
   "metadata": {},
   "outputs": [
    {
     "data": {
      "application/vnd.jupyter.widget-view+json": {
       "model_id": "fac2fdbe840843ce85592ed9f7c5a5be",
       "version_major": 2,
       "version_minor": 0
      },
      "text/plain": [
       "HBox(children=(HTML(value='[Backtest]'), FloatProgress(value=0.0), HTML(value='')))"
      ]
     },
     "metadata": {},
     "output_type": "display_data"
    },
    {
     "name": "stdout",
     "output_type": "stream",
     "text": [
      " [D]-> [2020-08-17 04:10:00] regime:trend tracker is activated\n",
      " -> [2020-08-17 07:34:00] stop long [EURUSD] at 1.18447\n",
      " -> [2020-08-21 14:24:00] stop short [EURUSD] at 1.17784\n",
      " [D]-> [2020-08-21 15:00:00] regime:mr flat position for EURUSD\n",
      " [D]-> [2020-08-21 15:00:00] regime:mr tracker is activated\n",
      " > EURUSD position 10000 is expired at 2020-08-21 19:20:00\n"
     ]
    }
   ],
   "source": [
    "s = pd.DataFrame.from_dict({\n",
    "    '2020-08-17 04:10:00': {'EURUSD': 'regime:trend'},\n",
    "    '2020-08-17 04:19:59': {'EURUSD': +1},\n",
    "    '2020-08-21 14:19:59': {'EURUSD': -1},\n",
    "    '2020-08-21 14:55:59': {'EURUSD': +1},          # this should be flat !\n",
    "    '2020-08-21 15:00:00': {'EURUSD': 'regime:mr'},\n",
    "    '2020-08-21 18:19:59': {'EURUSD':  1},\n",
    "    '2020-08-30 14:19:59': {'EURUSD':  0},\n",
    "}, orient='index')\n",
    "\n",
    "s.index = pd.DatetimeIndex(s.index)\n",
    "\n",
    "p = z_backtest(s, {'EURUSD':data}, 'forex', spread=fxl.spread('EURUSD'), execution_logger=True, \n",
    "               trackers=DispatchTracker(\n",
    "                   {\n",
    "                       'regime:trend': TrendFixedPositionTracker(10000, fxl.tick_size('EURUSD')),\n",
    "                       'regime:mr': PipelineTracker(\n",
    "                           TimeExpirationTracker('1h', True),\n",
    "                           MyFixedPositionTracker(10000)\n",
    "                       )\n",
    "                           \n",
    "                   }, 'regime:trend', flat_position_on_activate=True, debug=True)\n",
    "              )"
   ]
  },
  {
   "cell_type": "code",
   "execution_count": null,
   "metadata": {},
   "outputs": [],
   "source": [
    "p.executions"
   ]
  },
  {
   "cell_type": "code",
   "execution_count": null,
   "metadata": {},
   "outputs": [],
   "source": []
  },
  {
   "cell_type": "code",
   "execution_count": null,
   "metadata": {},
   "outputs": [],
   "source": []
  }
 ],
 "metadata": {
  "kernelspec": {
   "display_name": "Python 3",
   "language": "python",
   "name": "python3"
  },
  "language_info": {
   "codemirror_mode": {
    "name": "ipython",
    "version": 3
   },
   "file_extension": ".py",
   "mimetype": "text/x-python",
   "name": "python",
   "nbconvert_exporter": "python",
   "pygments_lexer": "ipython3",
   "version": "3.6.9"
  }
 },
 "nbformat": 4,
 "nbformat_minor": 4
}
