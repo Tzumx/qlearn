{
 "cells": [
  {
   "cell_type": "code",
   "execution_count": 1,
   "metadata": {},
   "outputs": [
    {
     "name": "stdout",
     "output_type": "stream",
     "text": [
      "Reloaded ../../external/ira/experimental/c_simulator_core.pyx\n"
     ]
    },
    {
     "data": {
      "text/html": [
       "<pre style=\"white-space:pre;overflow-x:auto;line-height:normal;font-family:Menlo,'DejaVu Sans Mono',consolas,'Courier New',monospace\"><span style=\"font-weight: bold\">(</span>c<span style=\"font-weight: bold\">)</span> <span style=\"color: #008000; font-weight: bold\">2017</span>, AppliedAlpha Infrastructure for Quantitative Research and Analysis, ver. undefined\n",
       "</pre>\n"
      ],
      "text/plain": [
       "<rich.jupyter.JupyterRenderable at 0x7f74ac5f9240>"
      ]
     },
     "metadata": {},
     "output_type": "display_data"
    }
   ],
   "source": [
    "import sys; sys.path.insert(0, '../../external/')\n",
    "\n",
    "import ira\n",
    "%alphalab\n",
    "\n",
    "from alpha.utils.data_helpers import FriendlyFxLoader"
   ]
  },
  {
   "cell_type": "code",
   "execution_count": 2,
   "metadata": {},
   "outputs": [],
   "source": [
    "from ira.simulator.SignalTester import Tracker\n",
    "from ira.series.Indicators import ATR\n",
    "\n",
    "from qlearn.tracking.trackers import TakeStopTracker, PipelineTracker, TimeExpirationTracker, DispatchTracker"
   ]
  },
  {
   "cell_type": "code",
   "execution_count": 3,
   "metadata": {},
   "outputs": [],
   "source": [
    "fxl = FriendlyFxLoader('dukas @ 5Min')\n",
    "data = fxl.ohlc('EURUSD')['2020':]\n",
    "\n",
    "s = srows(\n",
    "    pd.Series(-1, data[data.close > data.close.shift(6)].index),\n",
    "    pd.Series(1, data[data.close < data.close.shift(6)].index)).sort_index().rename('EURUSD')"
   ]
  },
  {
   "cell_type": "code",
   "execution_count": 34,
   "metadata": {},
   "outputs": [],
   "source": [
    "fi = [data.index.get_loc(i, method='pad') for i in data.index + pd.Timedelta('5H')]"
   ]
  },
  {
   "cell_type": "code",
   "execution_count": 74,
   "metadata": {},
   "outputs": [],
   "source": [
    "prices = srows(data.open, data.close.shift(1, freq=pd.Timedelta('4Min59S')))"
   ]
  },
  {
   "cell_type": "code",
   "execution_count": 75,
   "metadata": {},
   "outputs": [
    {
     "data": {
      "text/plain": [
       "time\n",
       "2020-01-01 22:00:00    1.121460\n",
       "2020-01-01 22:04:59    1.121380\n",
       "2020-01-01 22:05:00    1.121380\n",
       "2020-01-01 22:09:59    1.121430\n",
       "2020-01-01 22:10:00    1.121425\n",
       "2020-01-01 22:14:59    1.121395\n",
       "2020-01-01 22:15:00    1.121385\n",
       "2020-01-01 22:19:59    1.121485\n",
       "2020-01-01 22:20:00    1.121475\n",
       "2020-01-01 22:24:59    1.121550\n",
       "dtype: float64"
      ]
     },
     "execution_count": 75,
     "metadata": {},
     "output_type": "execute_result"
    }
   ],
   "source": [
    "x = prices[:10]\n",
    "x"
   ]
  },
  {
   "cell_type": "code",
   "execution_count": 76,
   "metadata": {},
   "outputs": [
    {
     "data": {
      "text/html": [
       "<div>\n",
       "<style scoped>\n",
       "    .dataframe tbody tr th:only-of-type {\n",
       "        vertical-align: middle;\n",
       "    }\n",
       "\n",
       "    .dataframe tbody tr th {\n",
       "        vertical-align: top;\n",
       "    }\n",
       "\n",
       "    .dataframe thead th {\n",
       "        text-align: right;\n",
       "    }\n",
       "</style>\n",
       "<table border=\"1\" class=\"dataframe\">\n",
       "  <thead>\n",
       "    <tr style=\"text-align: right;\">\n",
       "      <th></th>\n",
       "      <th>0</th>\n",
       "      <th>1</th>\n",
       "    </tr>\n",
       "  </thead>\n",
       "  <tbody>\n",
       "    <tr>\n",
       "      <th>0</th>\n",
       "      <td>1.121460</td>\n",
       "      <td>1.121385</td>\n",
       "    </tr>\n",
       "    <tr>\n",
       "      <th>1</th>\n",
       "      <td>1.121380</td>\n",
       "      <td>1.121485</td>\n",
       "    </tr>\n",
       "    <tr>\n",
       "      <th>2</th>\n",
       "      <td>1.121380</td>\n",
       "      <td>1.121475</td>\n",
       "    </tr>\n",
       "    <tr>\n",
       "      <th>3</th>\n",
       "      <td>1.121430</td>\n",
       "      <td>1.121550</td>\n",
       "    </tr>\n",
       "    <tr>\n",
       "      <th>4</th>\n",
       "      <td>1.121425</td>\n",
       "      <td>1.121550</td>\n",
       "    </tr>\n",
       "    <tr>\n",
       "      <th>5</th>\n",
       "      <td>1.121395</td>\n",
       "      <td>1.121550</td>\n",
       "    </tr>\n",
       "    <tr>\n",
       "      <th>6</th>\n",
       "      <td>1.121385</td>\n",
       "      <td>1.121550</td>\n",
       "    </tr>\n",
       "    <tr>\n",
       "      <th>7</th>\n",
       "      <td>1.121485</td>\n",
       "      <td>1.121550</td>\n",
       "    </tr>\n",
       "    <tr>\n",
       "      <th>8</th>\n",
       "      <td>1.121475</td>\n",
       "      <td>1.121550</td>\n",
       "    </tr>\n",
       "    <tr>\n",
       "      <th>9</th>\n",
       "      <td>1.121550</td>\n",
       "      <td>1.121550</td>\n",
       "    </tr>\n",
       "  </tbody>\n",
       "</table>\n",
       "</div>"
      ],
      "text/plain": [
       "          0         1\n",
       "0  1.121460  1.121385\n",
       "1  1.121380  1.121485\n",
       "2  1.121380  1.121475\n",
       "3  1.121430  1.121550\n",
       "4  1.121425  1.121550\n",
       "5  1.121395  1.121550\n",
       "6  1.121385  1.121550\n",
       "7  1.121485  1.121550\n",
       "8  1.121475  1.121550\n",
       "9  1.121550  1.121550"
      ]
     },
     "execution_count": 76,
     "metadata": {},
     "output_type": "execute_result"
    }
   ],
   "source": [
    "\n",
    "scols(x.reset_index(drop=True), x.asof(x.index + pd.Timedelta('15Min')).reset_index(drop=True))"
   ]
  },
  {
   "cell_type": "code",
   "execution_count": 77,
   "metadata": {},
   "outputs": [
    {
     "data": {
      "text/plain": [
       "time\n",
       "2020-01-01 22:00:00    0.000075\n",
       "2020-01-01 22:04:59   -0.000105\n",
       "2020-01-01 22:05:00   -0.000095\n",
       "2020-01-01 22:09:59   -0.000120\n",
       "2020-01-01 22:10:00   -0.000125\n",
       "2020-01-01 22:14:59   -0.000155\n",
       "2020-01-01 22:15:00   -0.000165\n",
       "2020-01-01 22:19:59   -0.000065\n",
       "2020-01-01 22:20:00   -0.000075\n",
       "2020-01-01 22:24:59    0.000000\n",
       "dtype: float64"
      ]
     },
     "execution_count": 77,
     "metadata": {},
     "output_type": "execute_result"
    }
   ],
   "source": [
    "xf = (x.reset_index(drop=True) - x.asof(x.index + pd.Timedelta('15Min')).reset_index(drop=True))\n",
    "xf.index = x.index\n",
    "xf"
   ]
  },
  {
   "cell_type": "code",
   "execution_count": null,
   "metadata": {},
   "outputs": [],
   "source": []
  },
  {
   "cell_type": "code",
   "execution_count": 4,
   "metadata": {},
   "outputs": [],
   "source": [
    "class VolatilityTracker(TakeStopTracker):\n",
    "    def __init__(self, stop_factor=1, take_factor=2, debug=False):\n",
    "        super().__init__(debug)\n",
    "        self.stp_f = stop_factor\n",
    "        self.tp_f = take_factor\n",
    "        \n",
    "    def initialize(self):\n",
    "        self.h = self.get_ohlc_series('5Min')\n",
    "        self.vol = ATR(24)\n",
    "        self.h.attach(self.vol)\n",
    "\n",
    "    def on_signal(self, signal_time, signal_qty, quote_time, bid, ask, bid_size, ask_size):\n",
    "        v = self.vol[0]\n",
    "        v = 0.0001 if np.isnan(v) else v\n",
    "        signal_qty = int(signal_qty * 1000)\n",
    "\n",
    "        if signal_qty != 0: #and np.sign(self._position.quantity)  np.sign(signal_qty) :\n",
    "            stop_dp, take_dp = v * self.stp_f, v * self.tp_f\n",
    "            self.stop_at(signal_time, self.h[0].low - stop_dp if signal_qty > 0 else self.h[0].high + stop_dp)\n",
    "            self.take_at(signal_time, self.h[0].high + take_dp if signal_qty > 0 else self.h[0].low - take_dp)\n",
    "            entry = ask if signal_qty > 0 else bid\n",
    "            self.debug(f'\\t[{quote_time} | {signal_time}] -> {self._position.quantity} / {self._instrument} {signal_qty} @ {entry:.5f} x {self.stop:.5f} + {self.take:.5f}')\n",
    "        return signal_qty"
   ]
  },
  {
   "cell_type": "code",
   "execution_count": 5,
   "metadata": {},
   "outputs": [
    {
     "data": {
      "application/vnd.jupyter.widget-view+json": {
       "model_id": "40d6feb7ff3047009f2c3349d1afb4ef",
       "version_major": 2,
       "version_minor": 0
      },
      "text/plain": [
       "HBox(children=(HTML(value='[Backtest]'), FloatProgress(value=0.0), HTML(value='')))"
      ]
     },
     "metadata": {},
     "output_type": "display_data"
    },
    {
     "name": "stderr",
     "output_type": "stream",
     "text": [
      "2021-01-27 16:04:45,171 - ira.simulator.SignalTester - WARNING - Can't find prices for signals at time [2020-11-26 23:59:00.001000]\n"
     ]
    }
   ],
   "source": [
    "t1 = VolatilityTracker(stop_factor=5, take_factor=2, debug=False)\n",
    "p = z_backtest(shift_signals(s, '4Min59S'), {'EURUSD': data}, 'forex', \n",
    "               spread=fxl.spread('EURUSD'), execution_logger=True, trackers=t1)"
   ]
  },
  {
   "cell_type": "code",
   "execution_count": 6,
   "metadata": {},
   "outputs": [
    {
     "data": {
      "text/html": [
       "\n",
       "\n",
       "\n",
       "\n",
       "\n",
       "<style>\n",
       ".report_table td, .report_table th {\n",
       "    text-align:left !important;\n",
       "}\n",
       "\n",
       ".flex-container {\n",
       "   display: flex;\n",
       "  align-items: flex-start;\n",
       "    }\n",
       "\n",
       "  .table_block {\n",
       "  width:30%;\n",
       "  }\n",
       "\n",
       "</style>\n",
       "\n",
       "\n",
       "\n",
       "<div class=\"flex-container\"><div class=\"\">\n",
       "<img src='data:image/png;base64,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'>\n",
       "</div>\n",
       "<div class=\"table_block\">\n",
       "<table class=\"report_table\" width=100%>\n",
       "<tr>\n",
       "<th>\n",
       "Statistic\n",
       "</th>\n",
       "<th>\n",
       "Model\n",
       "</th>\n",
       "</tr>\n",
       "<tr><td>Gain (USD):</td><td>-30.81</td></tr>\n",
       "<tr><td>CAGR (%):</td><td>-2.354</td></tr>\n",
       "<tr><td>Sharpe:</td><td>-0.280</td></tr>\n",
       "<tr><td>Sortino:</td><td>-0.413</td></tr>\n",
       "<tr><td>Calmar: </td><td>-0.240</td></tr>\n",
       "<tr><td>MaxDD (%):</td><td>10.161</td></tr>\n",
       "<tr><td>MaxDD On Init BP (%):</td><td>10.310</td></tr>\n",
       "<tr><td>MaxDD (USD):</td><td>103.100</td></tr>\n",
       "<tr><td>MaxDD days:</td><td>176 days</td></tr>\n",
       "<tr><td>MaxDD start:</td><td>2020-06-03</td></tr>\n",
       "<tr><td>MaxDD peak:</td><td>2020-08-28</td></tr>\n",
       "<tr><td>MaxDD recover:</td><td>2020-11-26</td></tr>\n",
       "<tr><td>Tail Ratio:</td><td>0.916</td></tr>\n",
       "<tr><td>Stability: </td><td>0.060</td></tr>\n",
       "<tr><td>Alpha:</td><td></td></tr>\n",
       "<tr><td>Beta:</td><td></td></tr>\n",
       "<tr><td>Ann.Volatility (%):</td><td>7.50</td></tr>\n",
       "<tr><td>VAR_95 (USD):</td><td>7.85</td></tr>\n",
       "<tr><td>Mean return (%)</td><td>-0.008</td></tr>\n",
       "<tr><td>Broker's Commissions:</td><td></td></tr>\n",
       "</table>\n",
       "</div>\n",
       "</div></div>\n"
      ],
      "text/plain": [
       "<IPython.core.display.HTML object>"
      ]
     },
     "metadata": {},
     "output_type": "display_data"
    },
    {
     "data": {
      "text/plain": [
       "<Figure size 648x576 with 0 Axes>"
      ]
     },
     "metadata": {},
     "output_type": "display_data"
    }
   ],
   "source": [
    "tearsheet(p, 1000)"
   ]
  },
  {
   "cell_type": "code",
   "execution_count": 7,
   "metadata": {},
   "outputs": [
    {
     "data": {
      "text/plain": [
       "Timedelta('0 days 00:00:28.917137')"
      ]
     },
     "execution_count": 7,
     "metadata": {},
     "output_type": "execute_result"
    }
   ],
   "source": [
    "p.simulation_time"
   ]
  },
  {
   "cell_type": "code",
   "execution_count": 8,
   "metadata": {},
   "outputs": [
    {
     "data": {
      "text/html": [
       "<pre style=\"white-space:pre;overflow-x:auto;line-height:normal;font-family:Menlo,'DejaVu Sans Mono',consolas,'Courier New',monospace\"><span style=\"font-weight: bold\">{</span>\n",
       "    <span style=\"color: #008000\">'EURUSD'</span>: <span style=\"font-weight: bold\">{</span>\n",
       "        <span style=\"color: #008000\">'takes'</span>: <span style=\"color: #008000; font-weight: bold\">228</span>,\n",
       "        <span style=\"color: #008000\">'stops'</span>: <span style=\"color: #008000; font-weight: bold\">23</span>,\n",
       "        <span style=\"color: #008000\">'average_time_to_take'</span>: Timedelta<span style=\"font-weight: bold\">(</span><span style=\"color: #008000\">'0 days 03:38:15.473684210'</span><span style=\"font-weight: bold\">)</span>,\n",
       "        <span style=\"color: #008000\">'average_time_to_stop'</span>: Timedelta<span style=\"font-weight: bold\">(</span><span style=\"color: #008000\">'0 days 02:11:40.130434782'</span><span style=\"font-weight: bold\">)</span>\n",
       "    <span style=\"font-weight: bold\">}</span>\n",
       "<span style=\"font-weight: bold\">}</span>\n",
       "</pre>\n"
      ],
      "text/plain": [
       "<rich.jupyter.JupyterRenderable at 0x7f74a9c88c50>"
      ]
     },
     "metadata": {},
     "output_type": "display_data"
    }
   ],
   "source": [
    "print(p.trackers_stat)"
   ]
  },
  {
   "cell_type": "markdown",
   "metadata": {},
   "source": [
    "# Test trackers\n",
    "<hr/>"
   ]
  },
  {
   "cell_type": "markdown",
   "metadata": {},
   "source": [
    "Trackers pipeline test"
   ]
  },
  {
   "cell_type": "code",
   "execution_count": 9,
   "metadata": {},
   "outputs": [],
   "source": [
    "class MyFixedPositionTracker(Tracker):\n",
    "    def __init__(self, size):\n",
    "        self.size = size\n",
    "        \n",
    "    def on_signal(self, signal_time, signal_qty, quote_time, bid, ask, bid_size, ask_size):\n",
    "        return signal_qty * self.size"
   ]
  },
  {
   "cell_type": "code",
   "execution_count": 10,
   "metadata": {},
   "outputs": [
    {
     "data": {
      "application/vnd.jupyter.widget-view+json": {
       "model_id": "27bec9dff80946488f3f92b6e023dad3",
       "version_major": 2,
       "version_minor": 0
      },
      "text/plain": [
       "HBox(children=(HTML(value='[Backtest]'), FloatProgress(value=0.0), HTML(value='')))"
      ]
     },
     "metadata": {},
     "output_type": "display_data"
    },
    {
     "name": "stdout",
     "output_type": "stream",
     "text": [
      " > EURUSD position 10000 is expired at 2020-08-17 05:20:00\n",
      " > EURUSD position -10000 is expired at 2020-08-21 15:20:00\n"
     ]
    }
   ],
   "source": [
    "s = pd.DataFrame.from_dict({\n",
    "    pd.Timestamp('2020-08-17 04:19:59'): {'EURUSD': +1},\n",
    "    pd.Timestamp('2020-08-21 14:19:59'): {'EURUSD': -1},\n",
    "    pd.Timestamp('2020-08-30 14:19:59'): {'EURUSD':  0},\n",
    "}, orient='index')\n",
    "\n",
    "p = z_backtest(s, {'EURUSD':data}, 'forex', spread=fxl.spread('EURUSD'), execution_logger=True, \n",
    "               trackers=PipelineTracker(\n",
    "                   TimeExpirationTracker('1h', True),\n",
    "                   MyFixedPositionTracker(10000))\n",
    "              )"
   ]
  },
  {
   "cell_type": "code",
   "execution_count": 11,
   "metadata": {},
   "outputs": [
    {
     "data": {
      "text/html": [
       "<div>\n",
       "<style scoped>\n",
       "    .dataframe tbody tr th:only-of-type {\n",
       "        vertical-align: middle;\n",
       "    }\n",
       "\n",
       "    .dataframe tbody tr th {\n",
       "        vertical-align: top;\n",
       "    }\n",
       "\n",
       "    .dataframe thead th {\n",
       "        text-align: right;\n",
       "    }\n",
       "</style>\n",
       "<table border=\"1\" class=\"dataframe\">\n",
       "  <thead>\n",
       "    <tr style=\"text-align: right;\">\n",
       "      <th></th>\n",
       "      <th>instrument</th>\n",
       "      <th>quantity</th>\n",
       "      <th>exec_price</th>\n",
       "      <th>comment</th>\n",
       "    </tr>\n",
       "  </thead>\n",
       "  <tbody>\n",
       "    <tr>\n",
       "      <th>2020-08-17 04:19:59</th>\n",
       "      <td>EURUSD</td>\n",
       "      <td>10000</td>\n",
       "      <td>1.185496</td>\n",
       "      <td></td>\n",
       "    </tr>\n",
       "    <tr>\n",
       "      <th>2020-08-17 05:20:00</th>\n",
       "      <td>EURUSD</td>\n",
       "      <td>-10000</td>\n",
       "      <td>1.185614</td>\n",
       "      <td>TimeExpirationTracker:: position 10000 is expired</td>\n",
       "    </tr>\n",
       "    <tr>\n",
       "      <th>2020-08-21 14:19:59</th>\n",
       "      <td>EURUSD</td>\n",
       "      <td>-10000</td>\n",
       "      <td>1.177144</td>\n",
       "      <td></td>\n",
       "    </tr>\n",
       "    <tr>\n",
       "      <th>2020-08-21 15:20:00</th>\n",
       "      <td>EURUSD</td>\n",
       "      <td>10000</td>\n",
       "      <td>1.177786</td>\n",
       "      <td>TimeExpirationTracker:: position -10000 is exp...</td>\n",
       "    </tr>\n",
       "  </tbody>\n",
       "</table>\n",
       "</div>"
      ],
      "text/plain": [
       "                    instrument  quantity  exec_price  \\\n",
       "2020-08-17 04:19:59     EURUSD     10000    1.185496   \n",
       "2020-08-17 05:20:00     EURUSD    -10000    1.185614   \n",
       "2020-08-21 14:19:59     EURUSD    -10000    1.177144   \n",
       "2020-08-21 15:20:00     EURUSD     10000    1.177786   \n",
       "\n",
       "                                                               comment  \n",
       "2020-08-17 04:19:59                                                     \n",
       "2020-08-17 05:20:00  TimeExpirationTracker:: position 10000 is expired  \n",
       "2020-08-21 14:19:59                                                     \n",
       "2020-08-21 15:20:00  TimeExpirationTracker:: position -10000 is exp...  "
      ]
     },
     "execution_count": 11,
     "metadata": {},
     "output_type": "execute_result"
    }
   ],
   "source": [
    "p.executions"
   ]
  },
  {
   "cell_type": "markdown",
   "metadata": {},
   "source": [
    "Trackers dispatching test"
   ]
  },
  {
   "cell_type": "code",
   "execution_count": 12,
   "metadata": {},
   "outputs": [],
   "source": [
    "class TrendFixedPositionTracker(TakeStopTracker):\n",
    "    \n",
    "    def __init__(self, size, tick_size):\n",
    "        super().__init__(True)\n",
    "        self.size = size\n",
    "        self.tick_size = tick_size\n",
    "        \n",
    "    def on_signal(self, signal_time, signal_qty, quote_time, bid, ask, bid_size, ask_size):\n",
    "        if signal_qty > 0:\n",
    "            self.stop_at(signal_time, (bid+ask) / 2 - 50 * self.tick_size)\n",
    "        elif signal_qty < 0:\n",
    "            self.stop_at(signal_time, (bid+ask) / 2 + 50 * self.tick_size)\n",
    "            \n",
    "        return signal_qty * self.size"
   ]
  },
  {
   "cell_type": "code",
   "execution_count": 24,
   "metadata": {},
   "outputs": [
    {
     "data": {
      "application/vnd.jupyter.widget-view+json": {
       "model_id": "fac2fdbe840843ce85592ed9f7c5a5be",
       "version_major": 2,
       "version_minor": 0
      },
      "text/plain": [
       "HBox(children=(HTML(value='[Backtest]'), FloatProgress(value=0.0), HTML(value='')))"
      ]
     },
     "metadata": {},
     "output_type": "display_data"
    },
    {
     "name": "stdout",
     "output_type": "stream",
     "text": [
      " [D]-> [2020-08-17 04:10:00] regime:trend tracker is activated\n",
      " -> [2020-08-17 07:34:00] stop long [EURUSD] at 1.18447\n",
      " -> [2020-08-21 14:24:00] stop short [EURUSD] at 1.17784\n",
      " [D]-> [2020-08-21 15:00:00] regime:mr flat position for EURUSD\n",
      " [D]-> [2020-08-21 15:00:00] regime:mr tracker is activated\n",
      " > EURUSD position 10000 is expired at 2020-08-21 19:20:00\n"
     ]
    }
   ],
   "source": [
    "s = pd.DataFrame.from_dict({\n",
    "    '2020-08-17 04:10:00': {'EURUSD': 'regime:trend'},\n",
    "    '2020-08-17 04:19:59': {'EURUSD': +1},\n",
    "    '2020-08-21 14:19:59': {'EURUSD': -1},\n",
    "    '2020-08-21 14:55:59': {'EURUSD': +1},          # this should be flat !\n",
    "    '2020-08-21 15:00:00': {'EURUSD': 'regime:mr'},\n",
    "    '2020-08-21 18:19:59': {'EURUSD':  1},\n",
    "    '2020-08-30 14:19:59': {'EURUSD':  0},\n",
    "}, orient='index')\n",
    "\n",
    "s.index = pd.DatetimeIndex(s.index)\n",
    "\n",
    "p = z_backtest(s, {'EURUSD':data}, 'forex', spread=fxl.spread('EURUSD'), execution_logger=True, \n",
    "               trackers=DispatchTracker(\n",
    "                   {\n",
    "                       'regime:trend': TrendFixedPositionTracker(10000, fxl.tick_size('EURUSD')),\n",
    "                       'regime:mr': PipelineTracker(\n",
    "                           TimeExpirationTracker('1h', True),\n",
    "                           MyFixedPositionTracker(10000)\n",
    "                       )\n",
    "                           \n",
    "                   }, 'regime:trend', flat_position_on_activate=True, debug=True)\n",
    "              )"
   ]
  },
  {
   "cell_type": "code",
   "execution_count": 21,
   "metadata": {},
   "outputs": [
    {
     "data": {
      "text/html": [
       "<div>\n",
       "<style scoped>\n",
       "    .dataframe tbody tr th:only-of-type {\n",
       "        vertical-align: middle;\n",
       "    }\n",
       "\n",
       "    .dataframe tbody tr th {\n",
       "        vertical-align: top;\n",
       "    }\n",
       "\n",
       "    .dataframe thead th {\n",
       "        text-align: right;\n",
       "    }\n",
       "</style>\n",
       "<table border=\"1\" class=\"dataframe\">\n",
       "  <thead>\n",
       "    <tr style=\"text-align: right;\">\n",
       "      <th></th>\n",
       "      <th>instrument</th>\n",
       "      <th>quantity</th>\n",
       "      <th>exec_price</th>\n",
       "      <th>comment</th>\n",
       "    </tr>\n",
       "  </thead>\n",
       "  <tbody>\n",
       "    <tr>\n",
       "      <th>2020-08-17 04:19:59</th>\n",
       "      <td>EURUSD</td>\n",
       "      <td>10000</td>\n",
       "      <td>1.185496</td>\n",
       "      <td></td>\n",
       "    </tr>\n",
       "    <tr>\n",
       "      <th>2020-08-17 07:34:00</th>\n",
       "      <td>EURUSD</td>\n",
       "      <td>-10000</td>\n",
       "      <td>1.184434</td>\n",
       "      <td>stop long at 1.1844658034830429</td>\n",
       "    </tr>\n",
       "    <tr>\n",
       "      <th>2020-08-21 14:19:59</th>\n",
       "      <td>EURUSD</td>\n",
       "      <td>-10000</td>\n",
       "      <td>1.177144</td>\n",
       "      <td></td>\n",
       "    </tr>\n",
       "    <tr>\n",
       "      <th>2020-08-21 14:24:00</th>\n",
       "      <td>EURUSD</td>\n",
       "      <td>10000</td>\n",
       "      <td>1.177876</td>\n",
       "      <td>stop short at 1.177844196516957</td>\n",
       "    </tr>\n",
       "    <tr>\n",
       "      <th>2020-08-21 14:55:59</th>\n",
       "      <td>EURUSD</td>\n",
       "      <td>10000</td>\n",
       "      <td>1.177966</td>\n",
       "      <td></td>\n",
       "    </tr>\n",
       "    <tr>\n",
       "      <th>2020-08-21 15:00:00</th>\n",
       "      <td>EURUSD</td>\n",
       "      <td>-10000</td>\n",
       "      <td>1.177959</td>\n",
       "      <td>&lt;regime:mr&gt; activated and flat position</td>\n",
       "    </tr>\n",
       "    <tr>\n",
       "      <th>2020-08-21 18:19:59</th>\n",
       "      <td>EURUSD</td>\n",
       "      <td>10000</td>\n",
       "      <td>1.178571</td>\n",
       "      <td></td>\n",
       "    </tr>\n",
       "    <tr>\n",
       "      <th>2020-08-21 19:20:00</th>\n",
       "      <td>EURUSD</td>\n",
       "      <td>-10000</td>\n",
       "      <td>1.179049</td>\n",
       "      <td>TimeExpirationTracker:: position 10000 is expired</td>\n",
       "    </tr>\n",
       "  </tbody>\n",
       "</table>\n",
       "</div>"
      ],
      "text/plain": [
       "                    instrument  quantity  exec_price  \\\n",
       "2020-08-17 04:19:59     EURUSD     10000    1.185496   \n",
       "2020-08-17 07:34:00     EURUSD    -10000    1.184434   \n",
       "2020-08-21 14:19:59     EURUSD    -10000    1.177144   \n",
       "2020-08-21 14:24:00     EURUSD     10000    1.177876   \n",
       "2020-08-21 14:55:59     EURUSD     10000    1.177966   \n",
       "2020-08-21 15:00:00     EURUSD    -10000    1.177959   \n",
       "2020-08-21 18:19:59     EURUSD     10000    1.178571   \n",
       "2020-08-21 19:20:00     EURUSD    -10000    1.179049   \n",
       "\n",
       "                                                               comment  \n",
       "2020-08-17 04:19:59                                                     \n",
       "2020-08-17 07:34:00                    stop long at 1.1844658034830429  \n",
       "2020-08-21 14:19:59                                                     \n",
       "2020-08-21 14:24:00                    stop short at 1.177844196516957  \n",
       "2020-08-21 14:55:59                                                     \n",
       "2020-08-21 15:00:00            <regime:mr> activated and flat position  \n",
       "2020-08-21 18:19:59                                                     \n",
       "2020-08-21 19:20:00  TimeExpirationTracker:: position 10000 is expired  "
      ]
     },
     "execution_count": 21,
     "metadata": {},
     "output_type": "execute_result"
    }
   ],
   "source": [
    "p.executions"
   ]
  },
  {
   "cell_type": "code",
   "execution_count": null,
   "metadata": {},
   "outputs": [],
   "source": []
  },
  {
   "cell_type": "code",
   "execution_count": null,
   "metadata": {},
   "outputs": [],
   "source": []
  }
 ],
 "metadata": {
  "kernelspec": {
   "display_name": "Python 3",
   "language": "python",
   "name": "python3"
  },
  "language_info": {
   "codemirror_mode": {
    "name": "ipython",
    "version": 3
   },
   "file_extension": ".py",
   "mimetype": "text/x-python",
   "name": "python",
   "nbconvert_exporter": "python",
   "pygments_lexer": "ipython3",
   "version": "3.6.9"
  }
 },
 "nbformat": 4,
 "nbformat_minor": 4
}
